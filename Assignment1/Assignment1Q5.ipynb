{
 "cells": [
  {
   "cell_type": "markdown",
   "metadata": {},
   "source": [
    "# Question 5\n",
    "- read all the words from Gutenberg & Web_text data\n",
    "- read all the words from Shakespeare & list words that are not there in the above packages\n",
    "- take top 50 words from shakespeare and web_text"
   ]
  },
  {
   "cell_type": "code",
   "execution_count": 1,
   "metadata": {
    "collapsed": false
   },
   "outputs": [],
   "source": [
    "import nltk  # importing nltk package"
   ]
  },
  {
   "cell_type": "code",
   "execution_count": 2,
   "metadata": {
    "collapsed": true
   },
   "outputs": [],
   "source": [
    "from nltk.corpus import webtext, gutenberg, stopwords  # importing webtext, gutenberg, stopwords"
   ]
  },
  {
   "cell_type": "code",
   "execution_count": 3,
   "metadata": {
    "collapsed": false
   },
   "outputs": [],
   "source": [
    "all_files = gutenberg.fileids() # reading all the files in the gutenberg package"
   ]
  },
  {
   "cell_type": "code",
   "execution_count": 4,
   "metadata": {
    "collapsed": false
   },
   "outputs": [],
   "source": [
    "wordsStop = map(str.lower, nltk.corpus.stopwords.words('english'))\n",
    "wordsStop = list(wordsStop)"
   ]
  },
  {
   "cell_type": "code",
   "execution_count": 5,
   "metadata": {
    "collapsed": false
   },
   "outputs": [],
   "source": [
    "import string\n",
    "wordsShakespeare = []\n",
    "for file in all_files : # iterating through all the files of gutenberg\n",
    "    if 'shakespeare-' in file : # filtering Shakespeare's files\n",
    "        wordsShakespeare.extend(gutenberg.words(file)) # reading words from each file\n",
    "wordsShakespeare = map(str.lower, wordsShakespeare)  # converting strings to lowercase\n",
    "####### dont need this #########\n",
    "#wordsShakespeare = list(set(wordsShakespeare) - set(wordsStop)) # removing stop words\n",
    "#wordsShakespeare = [''.join(ch for ch in word if ch not in string.punctuation) for word in wordsShakespeare] # removing punctuation\n",
    "#wordsShakespeare = [word for word in wordsShakespeare if word] # removing empty string\n",
    "################################\n",
    "wordsShakespeare = [word for word in wordsShakespeare if word.isalpha()] # removing numbers, empty string, punctuation\n",
    "wordsShakespeare = [word for word in list(wordsShakespeare) if word not in wordsStop] # removing stop words\n",
    "wordsShakespeare = list(wordsShakespeare)"
   ]
  },
  {
   "cell_type": "code",
   "execution_count": 6,
   "metadata": {
    "collapsed": false
   },
   "outputs": [
    {
     "name": "stdout",
     "output_type": "stream",
     "text": [
      "Top 50 words used in Shakespeare's books are -\n"
     ]
    },
    {
     "data": {
      "text/plain": [
       "[('haue', 448),\n",
       " ('ham', 337),\n",
       " ('thou', 312),\n",
       " ('shall', 300),\n",
       " ('lord', 293),\n",
       " ('come', 232),\n",
       " ('king', 231),\n",
       " ('enter', 230),\n",
       " ('good', 218),\n",
       " ('let', 217),\n",
       " ('thy', 202),\n",
       " ('caesar', 193),\n",
       " ('vs', 184),\n",
       " ('know', 176),\n",
       " ('thee', 174),\n",
       " ('would', 170),\n",
       " ('like', 162),\n",
       " ('brutus', 162),\n",
       " ('vpon', 162),\n",
       " ('bru', 153),\n",
       " ('well', 152),\n",
       " ('hath', 144),\n",
       " ('selfe', 143),\n",
       " ('man', 139),\n",
       " ('may', 138),\n",
       " ('macb', 137),\n",
       " ('yet', 136),\n",
       " ('heere', 135),\n",
       " ('must', 130),\n",
       " ('say', 130),\n",
       " ('tis', 129),\n",
       " ('th', 125),\n",
       " ('speake', 119),\n",
       " ('loue', 119),\n",
       " ('make', 119),\n",
       " ('giue', 118),\n",
       " ('see', 116),\n",
       " ('time', 115),\n",
       " ('night', 114),\n",
       " ('sir', 114),\n",
       " ('one', 112),\n",
       " ('st', 110),\n",
       " ('cassi', 107),\n",
       " ('ile', 106),\n",
       " ('doe', 103),\n",
       " ('go', 100),\n",
       " ('hamlet', 100),\n",
       " ('men', 96),\n",
       " ('hor', 95),\n",
       " ('vp', 94)]"
      ]
     },
     "execution_count": 6,
     "metadata": {},
     "output_type": "execute_result"
    }
   ],
   "source": [
    "from collections import Counter  # importing counter\n",
    "print(\"Top 50 words used in Shakespeare's books are -\")\n",
    "Counter(wordsShakespeare).most_common(50)   # displaying top 50 words used in all the 3 books"
   ]
  },
  {
   "cell_type": "code",
   "execution_count": 7,
   "metadata": {
    "collapsed": false
   },
   "outputs": [],
   "source": [
    "import string\n",
    "wordsWebtext = nltk.corpus.webtext.words()  # reading all the words from webtext package\n",
    "wordsWebtext = map(str.lower, wordsWebtext)  # converting strings to lowercase\n",
    "wordsWebtext = [word for word in wordsWebtext if word.isalpha()] # removing numbers, empty string, punctuation\n",
    "wordsWebtext = [word for word in list(wordsWebtext) if word not in wordsStop] # removing stop words\n",
    "wordsWebtext = list(wordsWebtext)"
   ]
  },
  {
   "cell_type": "code",
   "execution_count": 8,
   "metadata": {
    "collapsed": false
   },
   "outputs": [
    {
     "name": "stdout",
     "output_type": "stream",
     "text": [
      "Top 50 words used in WebText are -\n"
     ]
    },
    {
     "data": {
      "text/plain": [
       "[('girl', 2956),\n",
       " ('guy', 2751),\n",
       " ('like', 1696),\n",
       " ('man', 1075),\n",
       " ('know', 1025),\n",
       " ('woman', 998),\n",
       " ('yeah', 895),\n",
       " ('page', 887),\n",
       " ('firefox', 879),\n",
       " ('get', 869),\n",
       " ('new', 790),\n",
       " ('chick', 714),\n",
       " ('one', 700),\n",
       " ('oh', 682),\n",
       " ('open', 679),\n",
       " ('window', 670),\n",
       " ('good', 644),\n",
       " ('bookmarks', 598),\n",
       " ('teen', 587),\n",
       " ('well', 586),\n",
       " ('firebird', 583),\n",
       " ('cell', 577),\n",
       " ('right', 576),\n",
       " ('go', 564),\n",
       " ('work', 537),\n",
       " ('bar', 536),\n",
       " ('menu', 530),\n",
       " ('tab', 529),\n",
       " ('lady', 524),\n",
       " ('toolbar', 518),\n",
       " ('boy', 488),\n",
       " ('want', 485),\n",
       " ('think', 484),\n",
       " ('browser', 484),\n",
       " ('jack', 483),\n",
       " ('bookmark', 482),\n",
       " ('old', 475),\n",
       " ('really', 473),\n",
       " ('going', 460),\n",
       " ('download', 442),\n",
       " ('url', 440),\n",
       " ('back', 434),\n",
       " ('time', 432),\n",
       " ('black', 422),\n",
       " ('manager', 420),\n",
       " ('little', 419),\n",
       " ('got', 409),\n",
       " ('crash', 396),\n",
       " ('would', 392),\n",
       " ('button', 386)]"
      ]
     },
     "execution_count": 8,
     "metadata": {},
     "output_type": "execute_result"
    }
   ],
   "source": [
    "print(\"Top 50 words used in WebText are -\")\n",
    "Counter(wordsWebtext).most_common(50)   # displaying top 50 words used in all the 3 books"
   ]
  },
  {
   "cell_type": "code",
   "execution_count": 9,
   "metadata": {
    "collapsed": false
   },
   "outputs": [
    {
     "name": "stdout",
     "output_type": "stream",
     "text": [
      "Top 5 words used in Shakespeare but we dont use are -\n"
     ]
    },
    {
     "data": {
      "text/plain": [
       "[('haue', 448), ('brutus', 162), ('vpon', 162), ('bru', 153), ('hath', 144)]"
      ]
     },
     "execution_count": 9,
     "metadata": {},
     "output_type": "execute_result"
    }
   ],
   "source": [
    "# top 5 words Shakespeare used but we do not use now\n",
    "uniWordsWebText = set(wordsWebtext)\n",
    "shakespeareUsedButNotInUse = [word for word in wordsShakespeare if word not in uniWordsWebText] # removing words which we use now\n",
    "print(\"Top 5 words used in Shakespeare but we dont use are -\")\n",
    "Counter(shakespeareUsedButNotInUse).most_common(5)   # displaying top 50 words used in all the 3 books"
   ]
  },
  {
   "cell_type": "code",
   "execution_count": 10,
   "metadata": {
    "collapsed": false
   },
   "outputs": [
    {
     "name": "stdout",
     "output_type": "stream",
     "text": [
      "Top 5 words we use now days but Shakespeare did not use are -\n"
     ]
    },
    {
     "data": {
      "text/plain": [
       "[('girl', 2956), ('guy', 2751), ('yeah', 895), ('page', 887), ('firefox', 879)]"
      ]
     },
     "execution_count": 10,
     "metadata": {},
     "output_type": "execute_result"
    }
   ],
   "source": [
    "# top 5 words we use now days but Shakespeare did not use\n",
    "uniWordsShakespeare = set(wordsShakespeare)\n",
    "weUseButNotShakespeare = [word for word in wordsWebtext if word not in uniWordsShakespeare] # removing words which Shakespeare used\n",
    "print(\"Top 5 words we use now days but Shakespeare did not use are -\")\n",
    "Counter(weUseButNotShakespeare).most_common(5)   # displaying top 50 words used in all the 3 books"
   ]
  }
 ],
 "metadata": {
  "kernelspec": {
   "display_name": "Python [default]",
   "language": "python",
   "name": "python3"
  },
  "language_info": {
   "codemirror_mode": {
    "name": "ipython",
    "version": 3
   },
   "file_extension": ".py",
   "mimetype": "text/x-python",
   "name": "python",
   "nbconvert_exporter": "python",
   "pygments_lexer": "ipython3",
   "version": "3.5.2"
  }
 },
 "nbformat": 4,
 "nbformat_minor": 1
}
