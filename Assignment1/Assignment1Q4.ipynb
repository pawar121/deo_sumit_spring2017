{
 "cells": [
  {
   "cell_type": "markdown",
   "metadata": {},
   "source": [
    "# Question 4\n",
    "- read the files present in the nps_chat package\n",
    "- find how many posts are posted by user121\n",
    "- how many unique users are there in each age group range"
   ]
  },
  {
   "cell_type": "code",
   "execution_count": 1,
   "metadata": {
    "collapsed": true
   },
   "outputs": [],
   "source": [
    "import nltk  # importing nltk package"
   ]
  },
  {
   "cell_type": "code",
   "execution_count": 2,
   "metadata": {
    "collapsed": true
   },
   "outputs": [],
   "source": [
    "from nltk.corpus import nps_chat  # importing nps_chat"
   ]
  },
  {
   "cell_type": "code",
   "execution_count": 3,
   "metadata": {
    "collapsed": false
   },
   "outputs": [
    {
     "name": "stdout",
     "output_type": "stream",
     "text": [
      "['10-19-20s_706posts.xml', '10-19-30s_705posts.xml', '10-19-40s_686posts.xml', '10-19-adults_706posts.xml', '10-24-40s_706posts.xml', '10-26-teens_706posts.xml', '11-06-adults_706posts.xml', '11-08-20s_705posts.xml', '11-08-40s_706posts.xml', '11-08-adults_705posts.xml', '11-08-teens_706posts.xml', '11-09-20s_706posts.xml', '11-09-40s_706posts.xml', '11-09-adults_706posts.xml', '11-09-teens_706posts.xml']\n"
     ]
    }
   ],
   "source": [
    "all_files = nps_chat.fileids()\n",
    "print(all_files)  # printing all the files in the nps_chat package"
   ]
  },
  {
   "cell_type": "code",
   "execution_count": 4,
   "metadata": {
    "collapsed": false
   },
   "outputs": [
    {
     "name": "stdout",
     "output_type": "stream",
     "text": [
      "132 posts are posted by user U121\n"
     ]
    }
   ],
   "source": [
    "posts = nps_chat.xml_posts() # reading all the posts\n",
    "countForU121 = 0\n",
    "for post in posts :  # iterating through all the posts\n",
    "    if post.get('user').endswith('User121') :  # filtering the posts posted by U121\n",
    "        countForU121 = countForU121 + 1\n",
    "print(countForU121, 'posts are posted by user U121')"
   ]
  },
  {
   "cell_type": "code",
   "execution_count": 5,
   "metadata": {
    "collapsed": false
   },
   "outputs": [
    {
     "name": "stdout",
     "output_type": "stream",
     "text": [
      "126 users are in their 20s.\n",
      "44 users are in their 30s.\n",
      "50 users are in their 40s.\n"
     ]
    }
   ],
   "source": [
    "for file in all_files : # iterating through all the files\n",
    "    if '-20s_' in file :  # filteing files for users in their 20s\n",
    "        users20 = []\n",
    "        posts20 = nps_chat.xml_posts(file) # reading all the posts for users in their 20s\n",
    "        for post in posts20 :\n",
    "            users20.append((post.get('user')[9:])) # collecting usernames of users in their 20s\n",
    "    elif '-30s_' in file : # filteing files for users in their 30s\n",
    "        users30 = []\n",
    "        posts30 = nps_chat.xml_posts(file) # reading all the posts for users in their 30s\n",
    "        for post in posts30 :\n",
    "            users30.append((post.get('user')[9:])) # collecting usernames of users in their 30s\n",
    "    elif '-40s_' in file : # filteing files for users in their 40s\n",
    "        users40 = []\n",
    "        posts40 = nps_chat.xml_posts(file) # reading all the posts for users in their 40s\n",
    "        for post in posts40 :\n",
    "            users40.append((post.get('user')[9:])) # collecting usernames of users in their 40s\n",
    "print(len(set(users20)), 'users are in their 20s.')\n",
    "print(len(set(users30)), 'users are in their 30s.')\n",
    "print(len(set(users40)), 'users are in their 40s.')"
   ]
  }
 ],
 "metadata": {
  "anaconda-cloud": {},
  "kernelspec": {
   "display_name": "Python [default]",
   "language": "python",
   "name": "python3"
  },
  "language_info": {
   "codemirror_mode": {
    "name": "ipython",
    "version": 3
   },
   "file_extension": ".py",
   "mimetype": "text/x-python",
   "name": "python",
   "nbconvert_exporter": "python",
   "pygments_lexer": "ipython3",
   "version": "3.5.2"
  }
 },
 "nbformat": 4,
 "nbformat_minor": 1
}
