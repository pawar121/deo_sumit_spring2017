{
 "cells": [
  {
   "cell_type": "markdown",
   "metadata": {},
   "source": [
    "# question 6\n",
    "- find out the number of unique words spoken by each president"
   ]
  },
  {
   "cell_type": "code",
   "execution_count": 1,
   "metadata": {
    "collapsed": true
   },
   "outputs": [],
   "source": [
    "import nltk  # importing nltk package"
   ]
  },
  {
   "cell_type": "code",
   "execution_count": 2,
   "metadata": {
    "collapsed": true
   },
   "outputs": [],
   "source": [
    "from nltk.corpus import inaugural # importing inaugural"
   ]
  },
  {
   "cell_type": "code",
   "execution_count": 3,
   "metadata": {
    "collapsed": false
   },
   "outputs": [],
   "source": [
    "all_files = inaugural.fileids()  # reaading alll the files\n",
    "presidentList = []\n",
    "for files in all_files :  #iterating through all the files to get the president's list\n",
    "    presidentList.append(files[5:-4])\n",
    "uniquePresList = list(set(presidentList))  # removing duplicates"
   ]
  },
  {
   "cell_type": "code",
   "execution_count": 4,
   "metadata": {
    "collapsed": false
   },
   "outputs": [
    {
     "name": "stdout",
     "output_type": "stream",
     "text": [
      "President Unique Words\n",
      "Monroe 1781\n",
      "Hayes 832\n",
      "Harrison 2662\n",
      "Polk 1333\n",
      "Nixon 1037\n",
      "Reagan 1453\n",
      "Adams 1503\n",
      "Taylor 499\n",
      "Coolidge 1221\n",
      "Carter 529\n",
      "Hoover 1087\n",
      "McKinley 1682\n",
      "Buchanan 948\n",
      "Cleveland 1219\n",
      "Clinton 1138\n",
      "Truman 781\n",
      "Harding 1170\n",
      "Obama 938\n",
      "Pierce 1168\n",
      "Kennedy 570\n",
      "Jefferson 1261\n",
      "Eisenhower 1250\n",
      "Johnson 571\n",
      "Wilson 996\n",
      "Roosevelt 1704\n",
      "Garfield 1022\n",
      "VanBuren 1318\n",
      "Jackson 846\n",
      "Bush 1578\n",
      "Washington 663\n",
      "Taft 1439\n",
      "Madison 899\n",
      "Grant 855\n",
      "Lincoln 1261\n"
     ]
    }
   ],
   "source": [
    "presUniqueWordsDict = {}\n",
    "print(\"President\", \"Unique Words\")\n",
    "for president in uniquePresList : # iterating through the president's list\n",
    "    wordsList = []\n",
    "    for files in all_files :\n",
    "        if files[5:-4] == president : # matching the president's name with the substring of file name\n",
    "            wordsList.extend(nltk.corpus.inaugural.words(files)) # reading words from the file\n",
    "    print(president, len(set(wordsList)))  # printing number of unique words spoken in all the inaugural speeches"
   ]
  }
 ],
 "metadata": {
  "anaconda-cloud": {},
  "kernelspec": {
   "display_name": "Python [default]",
   "language": "python",
   "name": "python3"
  },
  "language_info": {
   "codemirror_mode": {
    "name": "ipython",
    "version": 3
   },
   "file_extension": ".py",
   "mimetype": "text/x-python",
   "name": "python",
   "nbconvert_exporter": "python",
   "pygments_lexer": "ipython3",
   "version": "3.5.2"
  }
 },
 "nbformat": 4,
 "nbformat_minor": 1
}
