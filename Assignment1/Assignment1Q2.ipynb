{
 "cells": [
  {
   "cell_type": "markdown",
   "metadata": {},
   "source": [
    "# Question 2\n",
    "- read content of 'melville-moby_dick.txt' file\n",
    "- turn all the characters from uppercase to lowercase\n",
    "- list all the characters with frequency in the descending order"
   ]
  },
  {
   "cell_type": "code",
   "execution_count": 1,
   "metadata": {
    "collapsed": true
   },
   "outputs": [],
   "source": [
    "import nltk  # importing nltk package"
   ]
  },
  {
   "cell_type": "code",
   "execution_count": 2,
   "metadata": {
    "collapsed": true
   },
   "outputs": [],
   "source": [
    "from nltk.corpus import gutenberg  # importing gutenberg"
   ]
  },
  {
   "cell_type": "code",
   "execution_count": 3,
   "metadata": {
    "collapsed": false
   },
   "outputs": [],
   "source": [
    "melMobyDick_chars = (gutenberg.raw('melville-moby_dick.txt')).lower() # reading all the words of 'melville-moby_dick.txt file"
   ]
  },
  {
   "cell_type": "code",
   "execution_count": 4,
   "metadata": {
    "collapsed": false
   },
   "outputs": [],
   "source": [
    "# not a very efficient way\n",
    "# Getting a set of unique charecters from the list\n",
    "charSet = sorted(set(melMobyDick_chars)) # removing duplicate words and sorting\n",
    "# creating frequency dictionary\n",
    "charCountFreq = {}\n",
    "# iterating through them, once per unique char\n",
    "for ch in charSet :\n",
    "    #print(word, ausPer_words.count(word))\n",
    "    charCountFreq[ch] = melMobyDick_chars.count(ch) / float(len(melMobyDick_chars))\n",
    "# sorting the dictionary as per values and saving in a list\n",
    "sortedCharCountFreq = sorted(charCountFreq, key=charCountFreq.get, reverse=True)"
   ]
  },
  {
   "cell_type": "code",
   "execution_count": 5,
   "metadata": {
    "collapsed": false
   },
   "outputs": [
    {
     "name": "stdout",
     "output_type": "stream",
     "text": [
      "Char  Frequency\n",
      "e 0.094\n",
      "t 0.071\n",
      "a 0.063\n",
      "o 0.056\n",
      "n 0.053\n",
      "i 0.053\n",
      "s 0.052\n",
      "h 0.051\n",
      "r 0.042\n",
      "l 0.034\n",
      "d 0.031\n",
      "u 0.021\n",
      "m 0.019\n",
      "c 0.018\n",
      "w 0.018\n",
      "f 0.017\n",
      "g 0.017\n",
      "p 0.014\n",
      "b 0.014\n",
      "y 0.014\n",
      "v 0.007\n",
      "k 0.006\n",
      "q 0.001\n",
      "j 0.001\n",
      "x 0.001\n",
      "z 0.001\n"
     ]
    }
   ],
   "source": [
    "import string\n",
    "alphaList = list(string.ascii_lowercase)\n",
    "#printing the 26 charecters and their frequencies in descending order\n",
    "print(\"Char \", \"Frequency\")\n",
    "for ch in sortedCharCountFreq:\n",
    "    if ch in alphaList:\n",
    "        print(ch, round(charCountFreq[ch], 3))"
   ]
  },
  {
   "cell_type": "code",
   "execution_count": 6,
   "metadata": {
    "collapsed": false
   },
   "outputs": [
    {
     "name": "stdout",
     "output_type": "stream",
     "text": [
      "Counter({' ': 198098, 'e': 117092, 't': 87996, 'a': 77916, 'o': 69326, 'n': 65617, 'i': 65434, 's': 64231, 'h': 62896, 'r': 52134, 'l': 42793, 'd': 38219, 'u': 26697, 'm': 23277, '\\r': 22924, '\\n': 22924, 'c': 22507, 'w': 22222, 'f': 20833, 'g': 20820, ',': 19229, 'p': 17255, 'b': 16877, 'y': 16872, 'v': 8598, 'k': 8059, '.': 7558, '-': 5984, ';': 4173, '\"': 3071, \"'\": 2922, '!': 1767, 'q': 1556, 'j': 1082, 'x': 1030, '?': 1004, 'z': 632, '(': 215, ')': 215, ':': 196, '1': 142, '0': 131, '2': 60, '8': 59, '5': 55, '7': 53, '3': 47, '*': 45, '4': 39, '6': 37, '9': 35, '_': 26, ']': 3, '[': 3, '$': 2, '&': 2})\n"
     ]
    }
   ],
   "source": [
    "# list all the charecters with the frequency\n",
    "from collections import Counter  # importing counter\n",
    "print(Counter(melMobyDick_chars))"
   ]
  },
  {
   "cell_type": "code",
   "execution_count": 7,
   "metadata": {
    "collapsed": false
   },
   "outputs": [
    {
     "data": {
      "text/plain": [
       "Counter({'a': 77916,\n",
       "         'b': 16877,\n",
       "         'c': 22507,\n",
       "         'd': 38219,\n",
       "         'e': 117092,\n",
       "         'f': 20833,\n",
       "         'g': 20820,\n",
       "         'h': 62896,\n",
       "         'i': 65434,\n",
       "         'j': 1082,\n",
       "         'k': 8059,\n",
       "         'l': 42793,\n",
       "         'm': 23277,\n",
       "         'n': 65617,\n",
       "         'o': 69326,\n",
       "         'p': 17255,\n",
       "         'q': 1556,\n",
       "         'r': 52134,\n",
       "         's': 64231,\n",
       "         't': 87996,\n",
       "         'u': 26697,\n",
       "         'v': 8598,\n",
       "         'w': 22222,\n",
       "         'x': 1030,\n",
       "         'y': 16872,\n",
       "         'z': 632})"
      ]
     },
     "execution_count": 7,
     "metadata": {},
     "output_type": "execute_result"
    }
   ],
   "source": [
    "# printing all the 26(a-z) charecters with their frequency in descending order\n",
    "Counter((char for char in melMobyDick_chars if char.isalpha()))"
   ]
  }
 ],
 "metadata": {
  "kernelspec": {
   "display_name": "Python [default]",
   "language": "python",
   "name": "python3"
  },
  "language_info": {
   "codemirror_mode": {
    "name": "ipython",
    "version": 3
   },
   "file_extension": ".py",
   "mimetype": "text/x-python",
   "name": "python",
   "nbconvert_exporter": "python",
   "pygments_lexer": "ipython3",
   "version": "3.5.2"
  }
 },
 "nbformat": 4,
 "nbformat_minor": 1
}
