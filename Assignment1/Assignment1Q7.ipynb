{
 "cells": [
  {
   "cell_type": "markdown",
   "metadata": {},
   "source": [
    "# Question 7\n",
    "- for each charecter, find all the names ending with that charecter\n",
    "- find the probability of name being of a male or a female for each charecter"
   ]
  },
  {
   "cell_type": "code",
   "execution_count": 1,
   "metadata": {
    "collapsed": true
   },
   "outputs": [],
   "source": [
    "import nltk  # importing nltk package"
   ]
  },
  {
   "cell_type": "code",
   "execution_count": 2,
   "metadata": {
    "collapsed": true
   },
   "outputs": [],
   "source": [
    "from nltk.corpus import names  # importing names"
   ]
  },
  {
   "cell_type": "code",
   "execution_count": 3,
   "metadata": {
    "collapsed": false
   },
   "outputs": [
    {
     "name": "stdout",
     "output_type": "stream",
     "text": [
      "['female.txt', 'male.txt']\n"
     ]
    }
   ],
   "source": [
    "all_files = names.fileids()\n",
    "print(all_files)  # printing all the files in the names package"
   ]
  },
  {
   "cell_type": "code",
   "execution_count": 4,
   "metadata": {
    "collapsed": true
   },
   "outputs": [],
   "source": [
    "# list for all the alphabates\n",
    "import string\n",
    "alphaList = list(string.ascii_lowercase)"
   ]
  },
  {
   "cell_type": "code",
   "execution_count": 5,
   "metadata": {
    "collapsed": false
   },
   "outputs": [],
   "source": [
    "maleNames = nltk.corpus.names.words('male.txt') # male names list\n",
    "femaleNames = nltk.corpus.names.words('female.txt') # female names list"
   ]
  },
  {
   "cell_type": "code",
   "execution_count": 6,
   "metadata": {
    "collapsed": false
   },
   "outputs": [
    {
     "name": "stdout",
     "output_type": "stream",
     "text": [
      "[a] male: 1.61%, female: 98.39%\n",
      "[b] male: 70.0%, female: 30.0%\n",
      "[c] male: 100.0%, female: 0.0%\n",
      "[d] male: 85.39%, female: 14.61%\n",
      "[e] male: 24.63%, female: 75.37%\n",
      "[f] male: 92.59%, female: 7.41%\n",
      "[g] male: 76.19%, female: 23.81%\n",
      "[h] male: 46.97%, female: 53.03%\n",
      "[i] male: 13.62%, female: 86.38%\n",
      "[j] male: 75.0%, female: 25.0%\n",
      "[k] male: 95.83%, female: 4.17%\n",
      "[l] male: 51.09%, female: 48.91%\n",
      "[m] male: 84.34%, female: 15.66%\n",
      "[n] male: 55.32%, female: 44.68%\n",
      "[o] male: 83.33%, female: 16.67%\n",
      "[p] male: 90.0%, female: 10.0%\n",
      "[q] male: NA, female: NA\n",
      "[r] male: 80.17%, female: 19.83%\n",
      "[s] male: 71.21%, female: 28.79%\n",
      "[t] male: 70.69%, female: 29.31%\n",
      "[u] male: 66.67%, female: 33.33%\n",
      "[v] male: 88.89%, female: 11.11%\n",
      "[w] male: 77.27%, female: 22.73%\n",
      "[x] male: 50.0%, female: 50.0%\n",
      "[y] male: 41.87%, female: 58.13%\n",
      "[z] male: 73.33%, female: 26.67%\n"
     ]
    }
   ],
   "source": [
    "for ch in alphaList : # iterating in the alphbatical list\n",
    "    maleCount = 0\n",
    "    femaleCount = 0\n",
    "    totalCount = 0\n",
    "    for name in maleNames :  # iterating in the maleNames\n",
    "        if ch == name[-1] :\n",
    "            maleCount = maleCount + 1\n",
    "            totalCount = totalCount + 1\n",
    "    for name in femaleNames : # iterating in the female names\n",
    "        if ch == name[-1] :\n",
    "            femaleCount = femaleCount + 1\n",
    "            totalCount = totalCount + 1\n",
    "    if totalCount != 0 : # checking if total count is o\n",
    "        print(\"[{}] male: {}%, female: {}%\".format(ch,round(100*maleCount/totalCount, 2), round(100*femaleCount/totalCount, 2)))\n",
    "    else :\n",
    "        print(\"[{}] male: {}, female: {}\".format(ch, 'NA', 'NA'))"
   ]
  }
 ],
 "metadata": {
  "anaconda-cloud": {},
  "kernelspec": {
   "display_name": "Python [default]",
   "language": "python",
   "name": "python3"
  },
  "language_info": {
   "codemirror_mode": {
    "name": "ipython",
    "version": 3
   },
   "file_extension": ".py",
   "mimetype": "text/x-python",
   "name": "python",
   "nbconvert_exporter": "python",
   "pygments_lexer": "ipython3",
   "version": "3.5.2"
  }
 },
 "nbformat": 4,
 "nbformat_minor": 1
}
