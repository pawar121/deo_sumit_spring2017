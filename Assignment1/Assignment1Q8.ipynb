{
 "cells": [
  {
   "cell_type": "markdown",
   "metadata": {},
   "source": [
    "# Question 8\n",
    "- look into all the words of nps_chat files\n",
    "- count the number of unusual words"
   ]
  },
  {
   "cell_type": "code",
   "execution_count": 1,
   "metadata": {
    "collapsed": false
   },
   "outputs": [],
   "source": [
    "import nltk  # importing nltk package"
   ]
  },
  {
   "cell_type": "code",
   "execution_count": 2,
   "metadata": {
    "collapsed": true
   },
   "outputs": [],
   "source": [
    "from nltk.corpus import nps_chat  # importing nps_chat\n",
    "from nltk.corpus import words  # importing words"
   ]
  },
  {
   "cell_type": "code",
   "execution_count": 3,
   "metadata": {
    "collapsed": false
   },
   "outputs": [
    {
     "name": "stdout",
     "output_type": "stream",
     "text": [
      "['10-19-20s_706posts.xml', '10-19-30s_705posts.xml', '10-19-40s_686posts.xml', '10-19-adults_706posts.xml', '10-24-40s_706posts.xml', '10-26-teens_706posts.xml', '11-06-adults_706posts.xml', '11-08-20s_705posts.xml', '11-08-40s_706posts.xml', '11-08-adults_705posts.xml', '11-08-teens_706posts.xml', '11-09-20s_706posts.xml', '11-09-40s_706posts.xml', '11-09-adults_706posts.xml', '11-09-teens_706posts.xml']\n"
     ]
    }
   ],
   "source": [
    "all_files = nps_chat.fileids()\n",
    "print(all_files)  # printing all the files in the nps_chat package"
   ]
  },
  {
   "cell_type": "code",
   "execution_count": 4,
   "metadata": {
    "collapsed": false
   },
   "outputs": [],
   "source": [
    "wordsStop = map(str.lower, nltk.corpus.stopwords.words('english')) # reading all the stop words\n",
    "wordsStop = list(wordsStop)"
   ]
  },
  {
   "cell_type": "code",
   "execution_count": 5,
   "metadata": {
    "collapsed": false
   },
   "outputs": [],
   "source": [
    "words = map(str.lower, nltk.corpus.words.words())  # reading all the usual words\n",
    "words = list(set(words) - set(wordsStop)) # remving stop words"
   ]
  },
  {
   "cell_type": "code",
   "execution_count": 6,
   "metadata": {
    "collapsed": true
   },
   "outputs": [],
   "source": [
    "postsList = []\n",
    "for file in all_files :  # iterating through all the files\n",
    "    postsList.extend(nps_chat.posts(file))\n",
    "wordsList = []\n",
    "for post in postsList :  # iterating through all the posts\n",
    "    wordsList.extend(post)\n",
    "uniqueWordList = map(str.lower, set(wordsList))  # removing duplicates\n",
    "uniqueWordList = list(uniqueWordList)"
   ]
  },
  {
   "cell_type": "code",
   "execution_count": 7,
   "metadata": {
    "collapsed": true
   },
   "outputs": [],
   "source": [
    "import string\n",
    "uniqueWordList = list(set(uniqueWordList) - set(wordsStop))\n",
    "#uniqueWordList = [word for word in uniqueWordList if word.isalpha()] # removing numbers, empty string, punctuation\n",
    "uniqueWordList = [''.join(ch for ch in word if ch not in string.punctuation) for word in uniqueWordList] # removing punctuation\n",
    "uniqueWordList = [word for word in uniqueWordList if word] # removing empty string\n",
    "uniqueWordList = [word for word in uniqueWordList if not all(num.isdigit() for num in word)] # removing all the numbers\n",
    "# removing all the usernames\n",
    "uniqueWordList = [word for word in uniqueWordList if not (all(num.isdigit() for num in word[1:]) and word[0] == 'u')]"
   ]
  },
  {
   "cell_type": "code",
   "execution_count": 8,
   "metadata": {
    "collapsed": false
   },
   "outputs": [
    {
     "name": "stdout",
     "output_type": "stream",
     "text": [
      "1536 unusual words people speak in chat.\n"
     ]
    }
   ],
   "source": [
    "# converting all the plurals to singular & all lemmatizing the verb\n",
    "from nltk.stem import WordNetLemmatizer\n",
    "from nltk.tokenize import word_tokenize\n",
    "\n",
    "wnl = WordNetLemmatizer()\n",
    "lemmatized_words = [wnl.lemmatize(token) for token in uniqueWordList] # convert all the words to sigular\n",
    "lemmatized_words = [wnl.lemmatize(token, 'v') for token in lemmatized_words] # lemmatize all the verbs\n",
    "unusualWords = list(set(lemmatized_words) - set(words)) # removing usual words\n",
    "print(len(unusualWords), \"unusual words people speak in chat.\")"
   ]
  },
  {
   "cell_type": "code",
   "execution_count": 9,
   "metadata": {
    "collapsed": false
   },
   "outputs": [
    {
     "name": "stdout",
     "output_type": "stream",
     "text": [
      "[]\n"
     ]
    }
   ],
   "source": [
    "# optional question\n",
    "# found a regex on google\n",
    "import re\n",
    "\n",
    "postsList = []\n",
    "for file in all_files :  # iterating through all the files\n",
    "    postsList.extend(nps_chat.posts(file))\n",
    "wordsList = []\n",
    "for post in postsList :  # iterating through all the posts\n",
    "    wordsList.extend(post)\n",
    "uniqueWordList = set(wordsList)  # removing duplicates\n",
    "uniqueWordList = list(uniqueWordList)\n",
    "emoji_pattern = re.compile(\"[\"\n",
    "        u\"\\U0001F600-\\U0001F64F\"  # emoticons\n",
    "        u\"\\U0001F300-\\U0001F5FF\"  # symbols & pictographs\n",
    "        u\"\\U0001F680-\\U0001F6FF\"  # transport & map symbols\n",
    "        u\"\\U0001F1E0-\\U0001F1FF\"  # flags (iOS)\n",
    "                           \"]+\", flags=re.UNICODE)\n",
    "\n",
    "emojis = [word for word in uniqueWordList if emoji_pattern.search(word)]\n",
    "print(list(emojis))"
   ]
  }
 ],
 "metadata": {
  "kernelspec": {
   "display_name": "Python [default]",
   "language": "python",
   "name": "python3"
  },
  "language_info": {
   "codemirror_mode": {
    "name": "ipython",
    "version": 3
   },
   "file_extension": ".py",
   "mimetype": "text/x-python",
   "name": "python",
   "nbconvert_exporter": "python",
   "pygments_lexer": "ipython3",
   "version": "3.5.2"
  }
 },
 "nbformat": 4,
 "nbformat_minor": 1
}
