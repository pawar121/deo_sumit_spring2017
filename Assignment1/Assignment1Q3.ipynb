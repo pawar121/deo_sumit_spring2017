{
 "cells": [
  {
   "cell_type": "markdown",
   "metadata": {},
   "source": [
    "# Question 3\n",
    "- check the files under Webtext package\n",
    "- read content of 'pirates.txt' file\n",
    "- count the number of lines for Jack Sparrow\n",
    "- count the number of lines for Will Turner\n",
    "- find  out who is the real leading man in the moview, looking intoabove two counts"
   ]
  },
  {
   "cell_type": "code",
   "execution_count": 1,
   "metadata": {
    "collapsed": true
   },
   "outputs": [],
   "source": [
    "import nltk  # importing nltk package"
   ]
  },
  {
   "cell_type": "code",
   "execution_count": 2,
   "metadata": {
    "collapsed": true
   },
   "outputs": [],
   "source": [
    "from nltk.corpus import webtext  # importing webtext"
   ]
  },
  {
   "cell_type": "code",
   "execution_count": 3,
   "metadata": {
    "collapsed": false
   },
   "outputs": [
    {
     "name": "stdout",
     "output_type": "stream",
     "text": [
      "['firefox.txt', 'grail.txt', 'overheard.txt', 'pirates.txt', 'singles.txt', 'wine.txt']\n"
     ]
    }
   ],
   "source": [
    "all_files = webtext.fileids()\n",
    "print(all_files)  # printing all the files in the webtext package"
   ]
  },
  {
   "cell_type": "code",
   "execution_count": 4,
   "metadata": {
    "collapsed": false
   },
   "outputs": [],
   "source": [
    "pirates_text = webtext.open('pirates.txt').read()\n",
    "pirates_senntsList = pirates_text.split('\\n')"
   ]
  },
  {
   "cell_type": "code",
   "execution_count": 5,
   "metadata": {
    "collapsed": true
   },
   "outputs": [],
   "source": [
    "# counting the number of dialogues for Jack & Will\n",
    "diagForWill = 0\n",
    "diagForJack = 0\n",
    "for sents in pirates_senntsList :\n",
    "    if sents.startswith('WILL TURNER:') :\n",
    "        diagForWill = diagForWill + 1\n",
    "    if sents.startswith('JACK SPARROW:') :\n",
    "        diagForJack = diagForJack + 1"
   ]
  },
  {
   "cell_type": "code",
   "execution_count": 6,
   "metadata": {
    "collapsed": false
   },
   "outputs": [
    {
     "name": "stdout",
     "output_type": "stream",
     "text": [
      "Jack Sparrow is the leading man in the movie, with number of dialogues 193\n"
     ]
    }
   ],
   "source": [
    "# checking whose number of dialogues are more\n",
    "if diagForWill > diagForJack :\n",
    "    print(\"Will Turner is the leading man in the movie, with number of dialogues\", diagForWill)\n",
    "elif diagForWill < diagForJack :\n",
    "    print(\"Jack Sparrow is the leading man in the movie, with number of dialogues\", diagForJack)\n",
    "else :\n",
    "    print(\"Jack & Will both have same number of lines.\")"
   ]
  }
 ],
 "metadata": {
  "anaconda-cloud": {},
  "kernelspec": {
   "display_name": "Python [default]",
   "language": "python",
   "name": "python3"
  },
  "language_info": {
   "codemirror_mode": {
    "name": "ipython",
    "version": 3
   },
   "file_extension": ".py",
   "mimetype": "text/x-python",
   "name": "python",
   "nbconvert_exporter": "python",
   "pygments_lexer": "ipython3",
   "version": "3.5.2"
  }
 },
 "nbformat": 4,
 "nbformat_minor": 1
}
