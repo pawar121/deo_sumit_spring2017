{
 "cells": [
  {
   "cell_type": "markdown",
   "metadata": {},
   "source": [
    "# Question 1\n",
    "- find out files in the Guternberg package\n",
    "- find out total number of words & unique number of words in 'austen-persuasion.txt'\n",
    "- calculate the frequency for each word\n",
    "- display top 10 mostly used words with frequency"
   ]
  },
  {
   "cell_type": "code",
   "execution_count": 1,
   "metadata": {
    "collapsed": true
   },
   "outputs": [],
   "source": [
    "import nltk  # importing nltk package"
   ]
  },
  {
   "cell_type": "code",
   "execution_count": 2,
   "metadata": {
    "collapsed": true
   },
   "outputs": [],
   "source": [
    "from nltk.corpus import gutenberg  # importing gutenberg"
   ]
  },
  {
   "cell_type": "code",
   "execution_count": 3,
   "metadata": {
    "collapsed": false
   },
   "outputs": [
    {
     "name": "stdout",
     "output_type": "stream",
     "text": [
      "['austen-emma.txt', 'austen-persuasion.txt', 'austen-sense.txt', 'bible-kjv.txt', 'blake-poems.txt', 'bryant-stories.txt', 'burgess-busterbrown.txt', 'carroll-alice.txt', 'chesterton-ball.txt', 'chesterton-brown.txt', 'chesterton-thursday.txt', 'edgeworth-parents.txt', 'melville-moby_dick.txt', 'milton-paradise.txt', 'shakespeare-caesar.txt', 'shakespeare-hamlet.txt', 'shakespeare-macbeth.txt', 'whitman-leaves.txt']\n"
     ]
    }
   ],
   "source": [
    "all_files = gutenberg.fileids()\n",
    "print(all_files)  # printing all the files in the gutenberg package"
   ]
  },
  {
   "cell_type": "code",
   "execution_count": 4,
   "metadata": {
    "collapsed": false
   },
   "outputs": [
    {
     "name": "stdout",
     "output_type": "stream",
     "text": [
      "Total number of words in 'austen-persuasion.txt' file are 98171\n"
     ]
    }
   ],
   "source": [
    "ausPer_words = gutenberg.words('austen-persuasion.txt') # reading all the words of 'austen-persuasion.txt' file\n",
    "print(\"Total number of words in 'austen-persuasion.txt' file are\", len(ausPer_words))"
   ]
  },
  {
   "cell_type": "code",
   "execution_count": null,
   "metadata": {
    "collapsed": false
   },
   "outputs": [
    {
     "name": "stdout",
     "output_type": "stream",
     "text": [
      "Total unique number of words in 'austen-persuasion.txt' file are 6132\n"
     ]
    }
   ],
   "source": [
    "print(\"Total unique number of words in 'austen-persuasion.txt' file are\", len(set(ausPer_words)))"
   ]
  },
  {
   "cell_type": "code",
   "execution_count": null,
   "metadata": {
    "collapsed": false
   },
   "outputs": [],
   "source": [
    "# not a very efficient way\n",
    "# Getting a set of unique words from the list\n",
    "wordsSet = sorted(set(ausPer_words)) # removing duplicate words and sorting\n",
    "# creating frequency dictionary\n",
    "wordsCountFreq = {}\n",
    "# iterating through them, once per unique word\n",
    "for word in wordsSet :\n",
    "    #print(word, ausPer_words.count(word))\n",
    "    wordsCountFreq[word] = ausPer_words.count(word) / float(len(ausPer_words))"
   ]
  },
  {
   "cell_type": "code",
   "execution_count": null,
   "metadata": {
    "collapsed": false
   },
   "outputs": [],
   "source": [
    "# finding the top 10  mostly used words\n",
    "top10Words = list(sorted(wordsCountFreq, key=wordsCountFreq.get, reverse=True)[:10])\n",
    "#printing the top 10 mostly used words and their frequency\n",
    "print(\"Word \", \"Frequency\")\n",
    "for word in top10Words:\n",
    "    print(word, round(wordsCountFreq[word], 3))"
   ]
  },
  {
   "cell_type": "code",
   "execution_count": null,
   "metadata": {
    "collapsed": false
   },
   "outputs": [],
   "source": [
    "from collections import Counter  # importing counter\n",
    "print(Counter(ausPer_words))"
   ]
  },
  {
   "cell_type": "code",
   "execution_count": null,
   "metadata": {
    "collapsed": false
   },
   "outputs": [],
   "source": [
    "# display top 10 mostly used words with frequency\n",
    "Counter(ausPer_words).most_common(10)"
   ]
  }
 ],
 "metadata": {
  "anaconda-cloud": {},
  "kernelspec": {
   "display_name": "Python [default]",
   "language": "python",
   "name": "python3"
  },
  "language_info": {
   "codemirror_mode": {
    "name": "ipython",
    "version": 3
   },
   "file_extension": ".py",
   "mimetype": "text/x-python",
   "name": "python",
   "nbconvert_exporter": "python",
   "pygments_lexer": "ipython3",
   "version": "3.5.2"
  }
 },
 "nbformat": 4,
 "nbformat_minor": 1
}
