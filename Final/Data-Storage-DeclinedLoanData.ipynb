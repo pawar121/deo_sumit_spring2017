{
 "cells": [
  {
   "cell_type": "code",
   "execution_count": 1,
   "metadata": {
    "collapsed": true
   },
   "outputs": [],
   "source": [
    "#improting all the required packages\n",
    "import csv\n",
    "import os\n",
    "import math\n",
    "import numpy as np\n",
    "import pandas as pd\n",
    "import warnings\n",
    "warnings.filterwarnings('ignore')"
   ]
  },
  {
   "cell_type": "code",
   "execution_count": 2,
   "metadata": {
    "collapsed": true
   },
   "outputs": [],
   "source": [
    "#function to check is directory exists\n",
    "def funCheckDir(filepath):\n",
    "    directory = os.path.dirname(filepath) # defining directory path\n",
    "    if not os.path.exists(directory): # checking if directory already exists\n",
    "        os.makedirs(directory) # making a directory\n",
    "        return False\n",
    "    else :\n",
    "        try:\n",
    "            os.remove(filepath)\n",
    "        except OSError:\n",
    "            pass\n",
    "        return True"
   ]
  },
  {
   "cell_type": "code",
   "execution_count": 3,
   "metadata": {
    "collapsed": true
   },
   "outputs": [],
   "source": [
    "#function to drop blank rows & rows with comments\n",
    "def funDropRows(df):\n",
    "    df.dropna(thresh = 2, inplace = True)\n",
    "    return df"
   ]
  },
  {
   "cell_type": "code",
   "execution_count": 4,
   "metadata": {
    "collapsed": true
   },
   "outputs": [],
   "source": [
    "def funDropColumns(df):\n",
    "    #columns to be selected\n",
    "    selected_colums = ['Amount Requested', 'Application Date', 'Loan Title', 'Risk_Score', 'Debt-To-Income Ratio', \n",
    "                       'State', 'Employment Length']\n",
    "    df = df[selected_colums]\n",
    "    return df"
   ]
  },
  {
   "cell_type": "code",
   "execution_count": 5,
   "metadata": {
    "collapsed": true
   },
   "outputs": [],
   "source": [
    "def funCleanData(df):\n",
    "    \n",
    "    #extracting number from emp_length and convertinng into int\n",
    "    df['Employment Length'] = df['Employment Length'].str.extract('(\\d+)')\n",
    "    df['Employment Length'] = df['Employment Length'].fillna(0).astype(int)\n",
    "    \n",
    "    #removing '%' from Debt-To-Income Ratio and converting into float\n",
    "    df['Debt-To-Income Ratio'] = df['Debt-To-Income Ratio'].apply(lambda x: float(x.rstrip(\"%\")))\n",
    "    \n",
    "    return df"
   ]
  },
  {
   "cell_type": "code",
   "execution_count": 6,
   "metadata": {
    "collapsed": true
   },
   "outputs": [],
   "source": [
    "def funDeriveColumns(df):\n",
    "    \n",
    "    #deriving issue_month and issue_year from the issue_d column\n",
    "    df['Application Month'] = df['Application Date'].dt.strftime('%b')\n",
    "    df['Application Year'] =  df['Application Date'].dt.year\n",
    "    df['quarter'] =  df['Application Date'].dt.quarter\n",
    "    df['period'] = df['Application Year'].map(str) + '_Q' +df['quarter'].map(str)\n",
    "    del df['quarter']\n",
    "    del df['Application Date']\n",
    "     \n",
    "    return df"
   ]
  },
  {
   "cell_type": "code",
   "execution_count": 7,
   "metadata": {
    "collapsed": true
   },
   "outputs": [],
   "source": [
    "def funFillMissingData(df):\n",
    "    #filling NaN with default\n",
    "    df['Loan Title'] = df['Loan Title'].fillna('Unknown')\n",
    "    \n",
    "    df['Risk_Score'] = df['Risk_Score'].fillna(111).astype(int)\n",
    "    df['Risk_Score'].replace(0, 111,inplace=True)\n",
    "    \n",
    "    return df"
   ]
  },
  {
   "cell_type": "code",
   "execution_count": 8,
   "metadata": {
    "collapsed": true
   },
   "outputs": [],
   "source": [
    "def funRenameColumns(df):\n",
    "    #renaming columns\n",
    "    columns = ['LoanAmt', 'Purpose', 'FICO', 'DTI', 'State', 'EmpLength', 'IssuedMonth', 'IssuedYear', 'Period']\n",
    "    df.columns = columns\n",
    "    \n",
    "    return df"
   ]
  },
  {
   "cell_type": "code",
   "execution_count": 9,
   "metadata": {
    "collapsed": true
   },
   "outputs": [],
   "source": [
    "#function to write the data in chunks\n",
    "def chunker(seq, size):\n",
    "    return (seq[pos:pos + size] for pos in range(0, len(seq), size))"
   ]
  },
  {
   "cell_type": "code",
   "execution_count": 10,
   "metadata": {
    "collapsed": true
   },
   "outputs": [],
   "source": [
    "#defining the file-directory\n",
    "fileDir = os.path.dirname(os.path.realpath('__file__'))"
   ]
  },
  {
   "cell_type": "code",
   "execution_count": 11,
   "metadata": {
    "collapsed": true
   },
   "outputs": [],
   "source": [
    "columns = ['IssuedYear',  'IssuedMonth', 'LoanAmt', 'EmpLength', 'Purpose', 'State', 'DTI', 'FICO']"
   ]
  },
  {
   "cell_type": "code",
   "execution_count": 12,
   "metadata": {
    "collapsed": false
   },
   "outputs": [
    {
     "name": "stdout",
     "output_type": "stream",
     "text": [
      "Working on file: RejectStatsA.csv....\n",
      "Working on file: RejectStatsB.csv....\n",
      "Working on file: RejectStatsD.csv....\n",
      "Working on file: RejectStats_2016Q1.csv....\n",
      "Working on file: RejectStats_2016Q2.csv....\n",
      "Working on file: RejectStats_2016Q3.csv....\n",
      "Working on file: RejectStats_2016Q4.csv....\n"
     ]
    }
   ],
   "source": [
    "#reading loan data stats\n",
    "for directory, subdirectory, filenames in  os.walk(fileDir + '/data/raw_data/declined_loan_data/'):\n",
    "    for filename in filenames:\n",
    "        print(\"Working on file: \" + filename + '....')\n",
    "        #reading data from CSV\n",
    "        df = pd.read_csv(os.path.join(directory, filename), skiprows=1, parse_dates=['Application Date'])\n",
    "        df = funDropRows(df)\n",
    "        df = funDropColumns(df)\n",
    "        df = funCleanData(df)\n",
    "        df = funFillMissingData(df)\n",
    "        df = funDeriveColumns(df)\n",
    "        df = funRenameColumns(df)\n",
    "        \n",
    "        files = df.Period.unique()\n",
    "        for file in files:\n",
    "            loanFilePath = fileDir+'/data/processed_data/declined_loan_data/'+file+'.csv'\n",
    "            funCheckDir(loanFilePath)\n",
    "            df_subset = df[df['Period'] == file]\n",
    "            withHeaders = True\n",
    "            for i in chunker(df_subset[columns],10000):\n",
    "                if(withHeaders):\n",
    "                    i.to_csv(loanFilePath, index=False, mode='a')\n",
    "                    withHeaders = False\n",
    "                else:\n",
    "                    i.to_csv(loanFilePath, index=False, mode='a', header = False)"
   ]
  }
 ],
 "metadata": {
  "kernelspec": {
   "display_name": "Python 3",
   "language": "python",
   "name": "python3"
  },
  "language_info": {
   "codemirror_mode": {
    "name": "ipython",
    "version": 3
   },
   "file_extension": ".py",
   "mimetype": "text/x-python",
   "name": "python",
   "nbconvert_exporter": "python",
   "pygments_lexer": "ipython3",
   "version": "3.6.0"
  }
 },
 "nbformat": 4,
 "nbformat_minor": 2
}
