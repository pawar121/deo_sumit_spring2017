{
 "cells": [
  {
   "cell_type": "code",
   "execution_count": 1,
   "metadata": {
    "collapsed": true
   },
   "outputs": [],
   "source": [
    "#improting all the required packages\n",
    "import csv\n",
    "import os\n",
    "import math\n",
    "import numpy as np\n",
    "import pandas as pd\n",
    "import warnings\n",
    "warnings.filterwarnings('ignore')"
   ]
  },
  {
   "cell_type": "code",
   "execution_count": 2,
   "metadata": {
    "collapsed": true
   },
   "outputs": [],
   "source": [
    "#function to check is directory exists\n",
    "def funCheckDir(filepath):\n",
    "    directory = os.path.dirname(filepath) # defining directory path\n",
    "    if not os.path.exists(directory): # checking if directory already exists\n",
    "        os.makedirs(directory) # making a directory\n",
    "        return False\n",
    "    else :\n",
    "        try:\n",
    "            os.remove(filepath)\n",
    "        except OSError:\n",
    "            pass\n",
    "        return True"
   ]
  },
  {
   "cell_type": "code",
   "execution_count": 3,
   "metadata": {
    "collapsed": true
   },
   "outputs": [],
   "source": [
    "#function to drop blank rows & rows with comments\n",
    "def funDropRows(df):\n",
    "    df.dropna(thresh = 2, inplace = True)\n",
    "    return df"
   ]
  },
  {
   "cell_type": "code",
   "execution_count": 4,
   "metadata": {
    "collapsed": true
   },
   "outputs": [],
   "source": [
    "def funDropColumns(df):\n",
    "    #columns to be selected\n",
    "    selected_colums = ['loan_amnt', 'term', 'int_rate', 'grade', 'sub_grade', 'emp_title', 'emp_length', 'home_ownership', \n",
    "                   'annual_inc', 'verification_status', 'issue_d', 'loan_status', 'purpose', 'addr_state', 'dti', \n",
    "                   'earliest_cr_line', 'fico_range_low', 'fico_range_high', 'inq_last_6mths', 'application_type']\n",
    "    df = df[selected_colums]\n",
    "    return df"
   ]
  },
  {
   "cell_type": "code",
   "execution_count": 5,
   "metadata": {
    "collapsed": true
   },
   "outputs": [],
   "source": [
    "def funCleanData(df):\n",
    "    #removing string 'months' from term and convertinng into int\n",
    "    df['term'] = (df['term'].str.extract('(\\d+)')).astype(int)\n",
    "    \n",
    "    #extracting number from emp_length and convertinng into int\n",
    "    df['emp_length'] = df['emp_length'].str.extract('(\\d+)')\n",
    "    df['emp_length'] = df['emp_length'].fillna(0).astype(int)\n",
    "    \n",
    "    #removing '%' from int_rate and converting into float\n",
    "    df['int_rate'] = df['int_rate'].apply(lambda x: float(x.rstrip(\"%\")))\n",
    "    \n",
    "    return df"
   ]
  },
  {
   "cell_type": "code",
   "execution_count": 6,
   "metadata": {
    "collapsed": true
   },
   "outputs": [],
   "source": [
    "def funDeriveColumns(df):\n",
    "    #deriving a column cr_line_history, to show how old is credit history\n",
    "    df['earliest_cr_line'] = df['earliest_cr_line'].fillna(df['issue_d'])\n",
    "    df['cr_line_history'] = df['issue_d'].dt.year - df['earliest_cr_line'].dt.year\n",
    "    del df['earliest_cr_line']\n",
    "    \n",
    "    #deriving issue_month and issue_year from the issue_d column\n",
    "    df['issue_month'] = df['issue_d'].dt.strftime('%b')\n",
    "    df['issue_year'] =  df['issue_d'].dt.year\n",
    "    df['quarter'] =  df['issue_d'].dt.quarter\n",
    "    df['period'] = df['issue_year'].map(str) + '_Q' +df['quarter'].map(str)\n",
    "    del df['quarter']\n",
    "    \n",
    "    del df['issue_d']\n",
    "    \n",
    "    df['fico_score'] = ((df[['fico_range_high', 'fico_range_low']].mean(axis=1)).round()).astype(int)\n",
    "    del df['fico_range_high']\n",
    "    del df['fico_range_low']\n",
    "    \n",
    "    #'good' loan_status\n",
    "    good_loan_status_indicators = ['Current','Fully Paid']\n",
    "    #creating a binary column for the bad Loan Status\n",
    "    df['loan_status_binary'] = np.where(df['loan_status'].isin(good_loan_status_indicators) , 'Good-Loan', 'Defaulted-Loan')\n",
    "    \n",
    "    return df"
   ]
  },
  {
   "cell_type": "code",
   "execution_count": 7,
   "metadata": {
    "collapsed": true
   },
   "outputs": [],
   "source": [
    "def funFillMissingData(df):\n",
    "    #filling NaN with default\n",
    "    df['home_ownership'] = df['home_ownership'].fillna('ANY')\n",
    "    df['emp_title'] = df['emp_title'].fillna('Unknown')\n",
    "    df['purpose'] = df['purpose'].fillna('other')\n",
    "    df['inq_last_6mths'] = (df['inq_last_6mths'].fillna(0)).astype(int)\n",
    "    df['loan_status'] = df['loan_status'].fillna('other')\n",
    "    \n",
    "    #assuming 'Verified' and 'Verified Source' means the same\n",
    "    df['verification_status'] = np.where(df['verification_status'] == 'Not Verified' , 'Not Verified', 'Verified')\n",
    "    \n",
    "    return df"
   ]
  },
  {
   "cell_type": "code",
   "execution_count": 8,
   "metadata": {
    "collapsed": true
   },
   "outputs": [],
   "source": [
    "def funRenameColumns(df):\n",
    "    #renaming columns\n",
    "    columns = ['LoanAmt', 'Term', 'IntRate', 'Grade', 'SubGrade', 'EmpTitle', 'EmpLength', 'HomeStatus', \n",
    "                   'AnnualInc', 'VerificationStatus', 'LoanStatus', 'Purpose', 'State', 'DTI', 'NoOfInqs', 'AppType',\n",
    "                   'CreditHistory', 'IssuedMonth', 'IssuedYear', 'Period', 'FICO', 'DefaultStatus']\n",
    "    df.columns = columns\n",
    "    \n",
    "    return df"
   ]
  },
  {
   "cell_type": "code",
   "execution_count": 9,
   "metadata": {
    "collapsed": true
   },
   "outputs": [],
   "source": [
    "#function to write the data in chunks\n",
    "def chunker(seq, size):\n",
    "    return (seq[pos:pos + size] for pos in range(0, len(seq), size))"
   ]
  },
  {
   "cell_type": "code",
   "execution_count": 10,
   "metadata": {
    "collapsed": true
   },
   "outputs": [],
   "source": [
    "#defining the file-directory\n",
    "fileDir = os.path.dirname(os.path.realpath('__file__'))"
   ]
  },
  {
   "cell_type": "code",
   "execution_count": 11,
   "metadata": {
    "collapsed": true
   },
   "outputs": [],
   "source": [
    "columns = ['IssuedYear',  'IssuedMonth', 'LoanAmt', 'Term', 'IntRate', 'Grade', 'SubGrade', 'EmpTitle', 'EmpLength', \n",
    "           'HomeStatus', 'AnnualInc', 'VerificationStatus', 'LoanStatus', 'Purpose', 'State', 'DTI', 'NoOfInqs', \n",
    "           'AppType', 'CreditHistory', 'FICO', 'DefaultStatus']"
   ]
  },
  {
   "cell_type": "code",
   "execution_count": 12,
   "metadata": {
    "collapsed": false
   },
   "outputs": [
    {
     "name": "stdout",
     "output_type": "stream",
     "text": [
      "Working on file: LoanStats3a_securev1.csv....\n",
      "Working on file: LoanStats3b_securev1.csv....\n",
      "Working on file: LoanStats3c_securev1.csv....\n",
      "Working on file: LoanStats3d_securev1.csv....\n",
      "Working on file: LoanStats_securev1_2016Q1.csv....\n",
      "Working on file: LoanStats_securev1_2016Q2.csv....\n",
      "Working on file: LoanStats_securev1_2016Q3.csv....\n",
      "Working on file: LoanStats_securev1_2016Q4.csv....\n"
     ]
    }
   ],
   "source": [
    "#reading loan data stats\n",
    "for directory, subdirectory, filenames in  os.walk(fileDir + '/data/raw_data/loan_data/'):\n",
    "    for filename in filenames:\n",
    "        print(\"Working on file: \" + filename + '....')\n",
    "        #reading data from CSV\n",
    "        df = pd.read_csv(os.path.join(directory, filename), skiprows=1, parse_dates=['earliest_cr_line', 'issue_d'])\n",
    "        df = funDropRows(df)\n",
    "        df = funDropColumns(df)\n",
    "        df = funCleanData(df)\n",
    "        df = funFillMissingData(df)\n",
    "        df = funDeriveColumns(df)\n",
    "        df = funRenameColumns(df)\n",
    "        \n",
    "        files = df.Period.unique()\n",
    "        for file in files:\n",
    "            loanFilePath = fileDir+'/data/processed_data/loan_data/'+file+'.csv'\n",
    "            funCheckDir(loanFilePath)\n",
    "            df_subset = df[df['Period'] == file]\n",
    "            withHeaders = True\n",
    "            for i in chunker(df_subset[columns],10000):\n",
    "                if(withHeaders):\n",
    "                    i.to_csv(loanFilePath, index=False, mode='a')\n",
    "                    withHeaders = False\n",
    "                else:\n",
    "                    i.to_csv(loanFilePath, index=False, mode='a', header = False)"
   ]
  }
 ],
 "metadata": {
  "kernelspec": {
   "display_name": "Python 3",
   "language": "python",
   "name": "python3"
  },
  "language_info": {
   "codemirror_mode": {
    "name": "ipython",
    "version": 3
   },
   "file_extension": ".py",
   "mimetype": "text/x-python",
   "name": "python",
   "nbconvert_exporter": "python",
   "pygments_lexer": "ipython3",
   "version": "3.6.0"
  }
 },
 "nbformat": 4,
 "nbformat_minor": 2
}
