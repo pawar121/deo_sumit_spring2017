{
 "cells": [
  {
   "cell_type": "code",
   "execution_count": 1,
   "metadata": {
    "collapsed": false
   },
   "outputs": [
    {
     "data": {
      "text/html": [
       "<script>requirejs.config({paths: { 'plotly': ['https://cdn.plot.ly/plotly-latest.min']},});if(!window.Plotly) {{require(['plotly'],function(plotly) {window.Plotly=plotly;});}}</script>"
      ],
      "text/vnd.plotly.v1+html": [
       "<script>requirejs.config({paths: { 'plotly': ['https://cdn.plot.ly/plotly-latest.min']},});if(!window.Plotly) {{require(['plotly'],function(plotly) {window.Plotly=plotly;});}}</script>"
      ]
     },
     "metadata": {},
     "output_type": "display_data"
    }
   ],
   "source": [
    "#improting all the required packages\n",
    "import os\n",
    "import pandas as pd\n",
    "import numpy as np\n",
    "import seaborn as sns\n",
    "import matplotlib as mpl\n",
    "import matplotlib.pyplot as plt\n",
    "np.random.seed(sum(map(ord, \"aesthetics\")))\n",
    "%matplotlib inline\n",
    "import plotly.plotly as py\n",
    "import plotly.graph_objs as go\n",
    "from plotly import tools\n",
    "from plotly.offline import download_plotlyjs, init_notebook_mode, plot, iplot\n",
    "init_notebook_mode(connected=True)\n",
    "import warnings\n",
    "warnings.filterwarnings('ignore')"
   ]
  },
  {
   "cell_type": "code",
   "execution_count": 2,
   "metadata": {
    "collapsed": true
   },
   "outputs": [],
   "source": [
    "#defining the file-directory\n",
    "fileDir = os.path.dirname(os.path.realpath('__file__'))"
   ]
  },
  {
   "cell_type": "code",
   "execution_count": 3,
   "metadata": {
    "collapsed": false
   },
   "outputs": [],
   "source": [
    "#defining the processed data-directory\n",
    "dataDir = fileDir.strip('analysis') + 'data\\\\processed_data\\\\'"
   ]
  },
  {
   "cell_type": "markdown",
   "metadata": {},
   "source": [
    "# Reading and consolidating the data"
   ]
  },
  {
   "cell_type": "code",
   "execution_count": 4,
   "metadata": {
    "collapsed": true
   },
   "outputs": [],
   "source": [
    "#defining data frame for the consolidated loan data\n",
    "dfLoanData = pd.DataFrame()"
   ]
  },
  {
   "cell_type": "code",
   "execution_count": 5,
   "metadata": {
    "collapsed": false
   },
   "outputs": [],
   "source": [
    "#reading loan data stats\n",
    "for directory, subdirectory, filenames in  os.walk(dataDir + 'loan_data\\\\'):\n",
    "    for filename in filenames:\n",
    "        df = pd.read_csv(os.path.join(directory, filename), encoding = 'ISO-8859-1')\n",
    "        dfLoanData =  pd.concat([df, dfLoanData], ignore_index=True)"
   ]
  },
  {
   "cell_type": "markdown",
   "metadata": {},
   "source": [
    "# Binning  data on FICO Scores"
   ]
  },
  {
   "cell_type": "code",
   "execution_count": 6,
   "metadata": {
    "collapsed": false
   },
   "outputs": [],
   "source": [
    "#defining bins\n",
    "bins = [301, 550, 649, 699, 749, 850]\n",
    "groupNames = ['Bad', 'Poor', 'Fair', 'Good', 'Excellent']"
   ]
  },
  {
   "cell_type": "code",
   "execution_count": 7,
   "metadata": {
    "collapsed": true
   },
   "outputs": [],
   "source": [
    "categories = pd.cut(pd.to_numeric(dfLoanData['FICO'], errors='coerce'), bins, labels=groupNames)\n",
    "dfLoanData['FICOCategory'] = pd.cut(pd.to_numeric(dfLoanData['FICO'], errors='coerce'), bins, labels=groupNames)"
   ]
  },
  {
   "cell_type": "markdown",
   "metadata": {},
   "source": [
    "# Binning  data on Loan amount"
   ]
  },
  {
   "cell_type": "code",
   "execution_count": 8,
   "metadata": {
    "collapsed": true
   },
   "outputs": [],
   "source": [
    "#creating bins based on quantiles and converting to category\n",
    "dfLoanData['LoanAmtCat'] = (pd.qcut(dfLoanData['LoanAmt'], 5)).astype(str)\n",
    "dfLoanData['LoanAmtCat'] = dfLoanData['LoanAmtCat'].map(lambda x: x.lstrip('(').rstrip(']').lstrip('['))"
   ]
  },
  {
   "cell_type": "markdown",
   "metadata": {},
   "source": [
    "# Binning  data on Annual Income"
   ]
  },
  {
   "cell_type": "code",
   "execution_count": 9,
   "metadata": {
    "collapsed": true
   },
   "outputs": [],
   "source": [
    "#creating bins based on quantiles and converting to category\n",
    "dfLoanData['AnnualIncCat'] = (pd.qcut(dfLoanData['AnnualInc'], 5)).astype(str)\n",
    "dfLoanData['AnnualIncCat'] = dfLoanData['AnnualIncCat'].map(lambda x: x.lstrip('(').rstrip(']').lstrip('['))"
   ]
  },
  {
   "cell_type": "code",
   "execution_count": 10,
   "metadata": {
    "collapsed": false
   },
   "outputs": [
    {
     "data": {
      "text/html": [
       "<div>\n",
       "<table border=\"1\" class=\"dataframe\">\n",
       "  <thead>\n",
       "    <tr style=\"text-align: right;\">\n",
       "      <th></th>\n",
       "      <th>IssuedYear</th>\n",
       "      <th>IssuedMonth</th>\n",
       "      <th>LoanAmt</th>\n",
       "      <th>Term</th>\n",
       "      <th>IntRate</th>\n",
       "      <th>Grade</th>\n",
       "      <th>SubGrade</th>\n",
       "      <th>EmpTitle</th>\n",
       "      <th>EmpLength</th>\n",
       "      <th>HomeStatus</th>\n",
       "      <th>...</th>\n",
       "      <th>State</th>\n",
       "      <th>DTI</th>\n",
       "      <th>NoOfInqs</th>\n",
       "      <th>AppType</th>\n",
       "      <th>CreditHistory</th>\n",
       "      <th>FICO</th>\n",
       "      <th>DefaultStatus</th>\n",
       "      <th>FICOCategory</th>\n",
       "      <th>LoanAmtCat</th>\n",
       "      <th>AnnualIncCat</th>\n",
       "    </tr>\n",
       "  </thead>\n",
       "  <tbody>\n",
       "    <tr>\n",
       "      <th>0</th>\n",
       "      <td>2016</td>\n",
       "      <td>Dec</td>\n",
       "      <td>5000.0</td>\n",
       "      <td>36</td>\n",
       "      <td>10.49</td>\n",
       "      <td>B</td>\n",
       "      <td>B2</td>\n",
       "      <td>driver</td>\n",
       "      <td>10</td>\n",
       "      <td>RENT</td>\n",
       "      <td>...</td>\n",
       "      <td>NV</td>\n",
       "      <td>11.01</td>\n",
       "      <td>1</td>\n",
       "      <td>INDIVIDUAL</td>\n",
       "      <td>26</td>\n",
       "      <td>667</td>\n",
       "      <td>Good-Loan</td>\n",
       "      <td>Fair</td>\n",
       "      <td>500, 7000</td>\n",
       "      <td>74500, 100000</td>\n",
       "    </tr>\n",
       "    <tr>\n",
       "      <th>1</th>\n",
       "      <td>2016</td>\n",
       "      <td>Dec</td>\n",
       "      <td>3600.0</td>\n",
       "      <td>36</td>\n",
       "      <td>11.39</td>\n",
       "      <td>B</td>\n",
       "      <td>B3</td>\n",
       "      <td>IT Specialist 6</td>\n",
       "      <td>10</td>\n",
       "      <td>RENT</td>\n",
       "      <td>...</td>\n",
       "      <td>WA</td>\n",
       "      <td>20.30</td>\n",
       "      <td>0</td>\n",
       "      <td>INDIVIDUAL</td>\n",
       "      <td>22</td>\n",
       "      <td>682</td>\n",
       "      <td>Good-Loan</td>\n",
       "      <td>Fair</td>\n",
       "      <td>500, 7000</td>\n",
       "      <td>74500, 100000</td>\n",
       "    </tr>\n",
       "    <tr>\n",
       "      <th>2</th>\n",
       "      <td>2016</td>\n",
       "      <td>Dec</td>\n",
       "      <td>7000.0</td>\n",
       "      <td>36</td>\n",
       "      <td>5.32</td>\n",
       "      <td>A</td>\n",
       "      <td>A1</td>\n",
       "      <td>Nurse</td>\n",
       "      <td>2</td>\n",
       "      <td>RENT</td>\n",
       "      <td>...</td>\n",
       "      <td>NY</td>\n",
       "      <td>12.80</td>\n",
       "      <td>0</td>\n",
       "      <td>INDIVIDUAL</td>\n",
       "      <td>24</td>\n",
       "      <td>707</td>\n",
       "      <td>Good-Loan</td>\n",
       "      <td>Good</td>\n",
       "      <td>500, 7000</td>\n",
       "      <td>74500, 100000</td>\n",
       "    </tr>\n",
       "    <tr>\n",
       "      <th>3</th>\n",
       "      <td>2016</td>\n",
       "      <td>Dec</td>\n",
       "      <td>19200.0</td>\n",
       "      <td>36</td>\n",
       "      <td>13.99</td>\n",
       "      <td>C</td>\n",
       "      <td>C3</td>\n",
       "      <td>Foreman</td>\n",
       "      <td>10</td>\n",
       "      <td>MORTGAGE</td>\n",
       "      <td>...</td>\n",
       "      <td>WI</td>\n",
       "      <td>16.98</td>\n",
       "      <td>0</td>\n",
       "      <td>INDIVIDUAL</td>\n",
       "      <td>13</td>\n",
       "      <td>742</td>\n",
       "      <td>Good-Loan</td>\n",
       "      <td>Good</td>\n",
       "      <td>15000, 22000</td>\n",
       "      <td>74500, 100000</td>\n",
       "    </tr>\n",
       "    <tr>\n",
       "      <th>4</th>\n",
       "      <td>2016</td>\n",
       "      <td>Dec</td>\n",
       "      <td>6000.0</td>\n",
       "      <td>36</td>\n",
       "      <td>7.49</td>\n",
       "      <td>A</td>\n",
       "      <td>A4</td>\n",
       "      <td>Empty Multi-level Distribution Supv</td>\n",
       "      <td>5</td>\n",
       "      <td>RENT</td>\n",
       "      <td>...</td>\n",
       "      <td>GA</td>\n",
       "      <td>20.06</td>\n",
       "      <td>0</td>\n",
       "      <td>INDIVIDUAL</td>\n",
       "      <td>13</td>\n",
       "      <td>707</td>\n",
       "      <td>Good-Loan</td>\n",
       "      <td>Good</td>\n",
       "      <td>500, 7000</td>\n",
       "      <td>57000, 74500</td>\n",
       "    </tr>\n",
       "  </tbody>\n",
       "</table>\n",
       "<p>5 rows × 24 columns</p>\n",
       "</div>"
      ],
      "text/plain": [
       "   IssuedYear IssuedMonth  LoanAmt  Term  IntRate Grade SubGrade  \\\n",
       "0        2016         Dec   5000.0    36    10.49     B       B2   \n",
       "1        2016         Dec   3600.0    36    11.39     B       B3   \n",
       "2        2016         Dec   7000.0    36     5.32     A       A1   \n",
       "3        2016         Dec  19200.0    36    13.99     C       C3   \n",
       "4        2016         Dec   6000.0    36     7.49     A       A4   \n",
       "\n",
       "                              EmpTitle  EmpLength HomeStatus      ...        \\\n",
       "0                               driver         10       RENT      ...         \n",
       "1                      IT Specialist 6         10       RENT      ...         \n",
       "2                                Nurse          2       RENT      ...         \n",
       "3                              Foreman         10   MORTGAGE      ...         \n",
       "4  Empty Multi-level Distribution Supv          5       RENT      ...         \n",
       "\n",
       "   State    DTI NoOfInqs     AppType CreditHistory  FICO  DefaultStatus  \\\n",
       "0     NV  11.01        1  INDIVIDUAL            26   667      Good-Loan   \n",
       "1     WA  20.30        0  INDIVIDUAL            22   682      Good-Loan   \n",
       "2     NY  12.80        0  INDIVIDUAL            24   707      Good-Loan   \n",
       "3     WI  16.98        0  INDIVIDUAL            13   742      Good-Loan   \n",
       "4     GA  20.06        0  INDIVIDUAL            13   707      Good-Loan   \n",
       "\n",
       "  FICOCategory    LoanAmtCat   AnnualIncCat  \n",
       "0         Fair     500, 7000  74500, 100000  \n",
       "1         Fair     500, 7000  74500, 100000  \n",
       "2         Good     500, 7000  74500, 100000  \n",
       "3         Good  15000, 22000  74500, 100000  \n",
       "4         Good     500, 7000   57000, 74500  \n",
       "\n",
       "[5 rows x 24 columns]"
      ]
     },
     "execution_count": 10,
     "metadata": {},
     "output_type": "execute_result"
    }
   ],
   "source": []
  }
 ],
 "metadata": {
  "kernelspec": {
   "display_name": "Python 3",
   "language": "python",
   "name": "python3"
  },
  "language_info": {
   "codemirror_mode": {
    "name": "ipython",
    "version": 3
   },
   "file_extension": ".py",
   "mimetype": "text/x-python",
   "name": "python",
   "nbconvert_exporter": "python",
   "pygments_lexer": "ipython3",
   "version": "3.6.0"
  }
 },
 "nbformat": 4,
 "nbformat_minor": 2
}
