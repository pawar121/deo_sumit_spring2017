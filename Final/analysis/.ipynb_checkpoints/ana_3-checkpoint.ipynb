{
 "cells": [
  {
   "cell_type": "code",
   "execution_count": 1,
   "metadata": {
    "collapsed": false
   },
   "outputs": [
    {
     "data": {
      "text/html": [
       "<script>requirejs.config({paths: { 'plotly': ['https://cdn.plot.ly/plotly-latest.min']},});if(!window.Plotly) {{require(['plotly'],function(plotly) {window.Plotly=plotly;});}}</script>"
      ],
      "text/vnd.plotly.v1+html": [
       "<script>requirejs.config({paths: { 'plotly': ['https://cdn.plot.ly/plotly-latest.min']},});if(!window.Plotly) {{require(['plotly'],function(plotly) {window.Plotly=plotly;});}}</script>"
      ]
     },
     "metadata": {},
     "output_type": "display_data"
    }
   ],
   "source": [
    "#improting all the required packages\n",
    "import os\n",
    "import pandas as pd\n",
    "import numpy as np\n",
    "import seaborn as sns\n",
    "import matplotlib as mpl\n",
    "import matplotlib.pyplot as plt\n",
    "np.random.seed(sum(map(ord, \"aesthetics\")))\n",
    "%matplotlib inline\n",
    "import plotly.plotly as py\n",
    "import plotly.graph_objs as go\n",
    "from plotly import tools\n",
    "from plotly.offline import download_plotlyjs, init_notebook_mode, plot, iplot\n",
    "init_notebook_mode(connected=True)\n",
    "import warnings\n",
    "warnings.filterwarnings('ignore')"
   ]
  },
  {
   "cell_type": "code",
   "execution_count": 2,
   "metadata": {
    "collapsed": true
   },
   "outputs": [],
   "source": [
    "#defining the file-directory\n",
    "fileDir = os.path.dirname(os.path.realpath('__file__'))"
   ]
  },
  {
   "cell_type": "code",
   "execution_count": 3,
   "metadata": {
    "collapsed": false
   },
   "outputs": [],
   "source": [
    "#defining the processed data-directory\n",
    "dataDir = fileDir.strip('analysis') + 'data\\\\processed_data\\\\'"
   ]
  },
  {
   "cell_type": "markdown",
   "metadata": {},
   "source": [
    "# Reading and consolidating the data"
   ]
  },
  {
   "cell_type": "code",
   "execution_count": 4,
   "metadata": {
    "collapsed": true
   },
   "outputs": [],
   "source": [
    "#defining data frame for the consolidated loan data\n",
    "dfLoanData = pd.DataFrame()"
   ]
  },
  {
   "cell_type": "code",
   "execution_count": 5,
   "metadata": {
    "collapsed": false
   },
   "outputs": [],
   "source": [
    "#reading loan data stats\n",
    "for directory, subdirectory, filenames in  os.walk(dataDir + 'loan_data\\\\'):\n",
    "    for filename in filenames:\n",
    "        df = pd.read_csv(os.path.join(directory, filename), encoding = 'ISO-8859-1')\n",
    "        dfLoanData =  pd.concat([df, dfLoanData], ignore_index=True)"
   ]
  },
  {
   "cell_type": "markdown",
   "metadata": {},
   "source": [
    "# Grade Vs Loan Performance"
   ]
  },
  {
   "cell_type": "code",
   "execution_count": 17,
   "metadata": {
    "collapsed": true
   },
   "outputs": [],
   "source": [
    "#count number of defaults and non defaults\n",
    "numberOfDefaults = len(dfLoanData[dfLoanData['DefaultStatus'] == 'Defaulted-Loan'])\n",
    "numberOfNonDefaults = len(dfLoanData[dfLoanData['DefaultStatus'] == 'Good-Loan'])"
   ]
  },
  {
   "cell_type": "code",
   "execution_count": 22,
   "metadata": {
    "collapsed": false
   },
   "outputs": [
    {
     "data": {
      "image/png": "[encoded data removed]",
      "text/plain": [
       "<matplotlib.figure.Figure at 0x206bfe767f0>"
      ]
     },
     "metadata": {},
     "output_type": "display_data"
    }
   ],
   "source": [
    "f, (ax1, ax2, ax3) = plt.subplots(1, 3, sharey=True, figsize=(9, 3))\n",
    "\n",
    "sns.barplot(x='Grade', y='LoanAmt', data=dfLoanData, \n",
    "            estimator=lambda x: len(x) / (numberOfNonDefaults + numberOfDefaults) * 100,\n",
    "            ax=ax1, order=sorted(dfLoanData['Grade'].unique()), palette='deep')\n",
    "sns.barplot(x='Grade', y='LoanAmt', data=dfLoanData[dfLoanData['DefaultStatus'] == 'Good-Loan'], \n",
    "            estimator=lambda x: len(x) / numberOfNonDefaults * 100,\n",
    "            ax=ax2, order=sorted(dfLoanData['Grade'].unique()), palette='deep')\n",
    "sns.barplot(x='Grade', y='LoanAmt', data=dfLoanData[dfLoanData['DefaultStatus'] == 'Defaulted-Loan'], \n",
    "            estimator=lambda x: len(x) / numberOfDefaults * 100,\n",
    "            ax=ax3, order=sorted(dfLoanData['Grade'].unique()), palette='deep')\n",
    "\n",
    "ax1.set_title('Overall')\n",
    "ax2.set_title('Timely Payments')\n",
    "ax3.set_title('Defaulted Loans')\n",
    "ax1.set_ylabel('Percentage')\n",
    "ax2.set_ylabel('')\n",
    "ax3.set_ylabel('')\n",
    "\n",
    "plt.tight_layout()\n",
    "plt.show()"
   ]
  },
  {
   "cell_type": "markdown",
   "metadata": {},
   "source": [
    "# Term Vs Loan Performance"
   ]
  },
  {
   "cell_type": "code",
   "execution_count": 24,
   "metadata": {
    "collapsed": false
   },
   "outputs": [
    {
     "data": {
      "image/png": "[encoded data removed]",
      "text/plain": [
       "<matplotlib.figure.Figure at 0x206c032add8>"
      ]
     },
     "metadata": {},
     "output_type": "display_data"
    }
   ],
   "source": [
    "f, (ax1, ax2, ax3) = plt.subplots(1, 3, sharey=True, figsize=(9, 3))\n",
    "\n",
    "sns.barplot(x='Term', y='LoanAmt', data=dfLoanData, \n",
    "            estimator=lambda x: len(x) / (numberOfNonDefaults + numberOfDefaults) * 100,\n",
    "            ax=ax1, order=sorted(dfLoanData['Term'].unique()), palette='deep')\n",
    "sns.barplot(x='Term', y='LoanAmt', data=dfLoanData[dfLoanData['DefaultStatus'] == 'Good-Loan'], \n",
    "            estimator=lambda x: len(x) / numberOfNonDefaults * 100,\n",
    "            ax=ax2, order=sorted(dfLoanData['Term'].unique()), palette='deep')\n",
    "sns.barplot(x='Term', y='LoanAmt', data=dfLoanData[dfLoanData['DefaultStatus'] == 'Defaulted-Loan'], \n",
    "            estimator=lambda x: len(x) / numberOfDefaults * 100,\n",
    "            ax=ax3, order=sorted(dfLoanData['Term'].unique()), palette='deep')\n",
    "\n",
    "ax1.set_title('Overall')\n",
    "ax2.set_title('Timely Payments')\n",
    "ax3.set_title('Defaulted Loans')\n",
    "ax1.set_ylabel('Percentage')\n",
    "ax2.set_ylabel('')\n",
    "ax3.set_ylabel('')\n",
    "\n",
    "plt.tight_layout()\n",
    "plt.show()"
   ]
  },
  {
   "cell_type": "markdown",
   "metadata": {},
   "source": [
    "# InterestRate Vs Loan Performance"
   ]
  },
  {
   "cell_type": "code",
   "execution_count": 28,
   "metadata": {
    "collapsed": false
   },
   "outputs": [
    {
     "data": {
      "image/png": "[encoded data removed]",
      "text/plain": [
       "<matplotlib.figure.Figure at 0x206b65821d0>"
      ]
     },
     "metadata": {},
     "output_type": "display_data"
    }
   ],
   "source": [
    "ax1 = sns.boxplot(x='DefaultStatus', y='IntRate', data=dfLoanData)\n",
    "ax1.set_ybound(lower=0)\n",
    "plt.show()"
   ]
  },
  {
   "cell_type": "markdown",
   "metadata": {},
   "source": [
    "# InterestRate & Grade Vs Loan Performance"
   ]
  },
  {
   "cell_type": "code",
   "execution_count": 29,
   "metadata": {
    "collapsed": false
   },
   "outputs": [
    {
     "data": {
      "image/png": "[encoded data removed]",
      "text/plain": [
       "<matplotlib.figure.Figure at 0x206c0374eb8>"
      ]
     },
     "metadata": {},
     "output_type": "display_data"
    }
   ],
   "source": [
    "ax1 = sns.boxplot(x='Grade', y='IntRate', data=dfLoanData, hue='DefaultStatus', \n",
    "                     order=sorted(dfLoanData['Grade'].unique()))\n",
    "ax1.set_ybound(lower=0)\n",
    "plt.show()"
   ]
  },
  {
   "cell_type": "markdown",
   "metadata": {},
   "source": [
    "# DTI Vs Loan Performance"
   ]
  },
  {
   "cell_type": "code",
   "execution_count": 30,
   "metadata": {
    "collapsed": false
   },
   "outputs": [
    {
     "data": {
      "image/png": "[encoded data removed]",
      "text/plain": [
       "<matplotlib.figure.Figure at 0x206c043e358>"
      ]
     },
     "metadata": {},
     "output_type": "display_data"
    }
   ],
   "source": [
    "ax1 = sns.boxplot(x='DefaultStatus', y='DTI', data=dfLoanData)\n",
    "ax1.set_ybound(lower=0, upper=50)\n",
    "plt.show()"
   ]
  },
  {
   "cell_type": "markdown",
   "metadata": {},
   "source": [
    "# Credit History Vs Loan Performance"
   ]
  },
  {
   "cell_type": "code",
   "execution_count": 32,
   "metadata": {
    "collapsed": false
   },
   "outputs": [
    {
     "data": {
      "image/png": "[encoded data removed]",
      "text/plain": [
       "<matplotlib.figure.Figure at 0x206c02f15c0>"
      ]
     },
     "metadata": {},
     "output_type": "display_data"
    }
   ],
   "source": [
    "ax1 = sns.boxplot(x='DefaultStatus', y='CreditHistory', data=dfLoanData)\n",
    "plt.show()"
   ]
  },
  {
   "cell_type": "markdown",
   "metadata": {},
   "source": [
    "# Summarize Good & Defaulted Loans"
   ]
  },
  {
   "cell_type": "code",
   "execution_count": 33,
   "metadata": {
    "collapsed": false
   },
   "outputs": [],
   "source": [
    "#divide data frame into two\n",
    "df1 = dfLoanData[dfLoanData['DefaultStatus'] == 'Good-Loan']\n",
    "df2 = dfLoanData[dfLoanData['DefaultStatus'] == 'Defaulted-Loan']"
   ]
  },
  {
   "cell_type": "code",
   "execution_count": 35,
   "metadata": {
    "collapsed": true
   },
   "outputs": [],
   "source": [
    "#Summary by state for Good loans\n",
    "#by year and counting the total amount of accepted loans and Interest Rate\n",
    "seriesCount = df1['LoanAmt'].groupby(df1['State']).count()\n",
    "\n",
    "#by year and Average of Interest Rate\n",
    "seriesInterest = df1['IntRate'].groupby(df1['State']).mean()\n",
    "\n",
    "#by year and Average of Loan Amount\n",
    "seriesLA = df1['LoanAmt'].groupby(df1['State']).mean()\n",
    "\n",
    "#by year and mode of term\n",
    "seriesTerm = df1['Term'].groupby(df1['State']).agg(lambda x: x.value_counts().index[0])\n",
    "\n",
    "#by year and mode of grade\n",
    "seriesGrade = df1['Grade'].groupby(df1['State']).agg(lambda x: x.value_counts().index[0])\n",
    "\n",
    "#by year and avg of emp_length\n",
    "seriesEL = df1['EmpLength'].groupby(df1['State']).mean()\n",
    "\n",
    "#combining seriesCount and seriesTotAmt into summary Metrix data frame\n",
    "columns=['State', 'Accepted Loans', 'Avg Interest Charged', 'Avg Loan Amount', 'Most Likely Term', 'Most Likely Grade', 'Avg EMP Length']\n",
    "dfSummary = pd.DataFrame({'State':seriesCount.index,'Accepted Loans': seriesCount,'Avg Interest Charged':seriesInterest, \n",
    "                          'Avg Loan Amount':seriesLA, 'Most Likely Term':seriesTerm, 'Most Likely Grade':seriesGrade, 'Avg EMP Length':seriesEL})"
   ]
  },
  {
   "cell_type": "code",
   "execution_count": 36,
   "metadata": {
    "collapsed": false
   },
   "outputs": [
    {
     "data": {
      "application/vnd.plotly.v1+json": {
       "data": [
        {
         "autocolorscale": false,
         "colorbar": {
          "title": "Number of loans"
         },
         "colorscale": [
          [
           0,
           "rgb(242,240,247)"
          ],
          [
           0.2,
           "rgb(218,218,235)"
          ],
          [
           0.4,
           "rgb(188,189,220)"
          ],
          [
           0.6,
           "rgb(158,154,200)"
          ],
          [
           0.8,
           "rgb(117,107,177)"
          ],
          [
           1,
           "rgb(84,39,143)"
          ]
         ],
         "locationmode": "USA-states",
         "locations": [
          "AK",
          "AL",
          "AR",
          "AZ",
          "CA",
          "CO",
          "CT",
          "DC",
          "DE",
          "FL",
          "GA",
          "HI",
          "IA",
          "ID",
          "IL",
          "IN",
          "KS",
          "KY",
          "LA",
          "MA",
          "MD",
          "ME",
          "MI",
          "MN",
          "MO",
          "MS",
          "MT",
          "NC",
          "ND",
          "NE",
          "NH",
          "NJ",
          "NM",
          "NV",
          "NY",
          "OH",
          "OK",
          "OR",
          "PA",
          "RI",
          "SC",
          "SD",
          "TN",
          "TX",
          "UT",
          "VA",
          "VT",
          "WA",
          "WI",
          "WV",
          "WY"
         ],
         "marker": {
          "line": {
           "color": "rgb(255,255,255)",
           "width": 2
          }
         },
         "text": [
          "AK<br>Avg Loan Amount ($ USD): 16881.6643159<br>Number of loans: 2836<br>Most Likely Term: 36<br>Most Likely Grade: B<br>Avg EMP Length: 6.04936530324",
          "AL<br>Avg Loan Amount ($ USD): 14393.5128904<br>Number of loans: 14313<br>Most Likely Term: 36<br>Most Likely Grade: B<br>Avg EMP Length: 6.14064137497",
          "AR<br>Avg Loan Amount ($ USD): 13918.5210702<br>Number of loans: 8709<br>Most Likely Term: 36<br>Most Likely Grade: B<br>Avg EMP Length: 5.96578252383",
          "AZ<br>Avg Loan Amount ($ USD): 14106.009186<br>Number of loans: 27433<br>Most Likely Term: 36<br>Most Likely Grade: B<br>Avg EMP Length: 5.45069806438",
          "CA<br>Avg Loan Amount ($ USD): 14760.5941352<br>Number of loans: 165804<br>Most Likely Term: 36<br>Most Likely Grade: B<br>Avg EMP Length: 5.77972787146",
          "CO<br>Avg Loan Amount ($ USD): 14836.9198017<br>Number of loans: 25013<br>Most Likely Term: 36<br>Most Likely Grade: B<br>Avg EMP Length: 5.38539959221",
          "CT<br>Avg Loan Amount ($ USD): 14970.9493326<br>Number of loans: 18355<br>Most Likely Term: 36<br>Most Likely Grade: B<br>Avg EMP Length: 6.01367474803",
          "DC<br>Avg Loan Amount ($ USD): 15348.7685126<br>Number of loans: 3106<br>Most Likely Term: 36<br>Most Likely Grade: B<br>Avg EMP Length: 4.60431423052",
          "DE<br>Avg Loan Amount ($ USD): 14396.6766467<br>Number of loans: 3340<br>Most Likely Term: 36<br>Most Likely Grade: B<br>Avg EMP Length: 5.9877245509",
          "FL<br>Avg Loan Amount ($ USD): 13897.4171594<br>Number of loans: 81693<br>Most Likely Term: 36<br>Most Likely Grade: B<br>Avg EMP Length: 5.51276119129",
          "GA<br>Avg Loan Amount ($ USD): 14882.3452619<br>Number of loans: 39066<br>Most Likely Term: 36<br>Most Likely Grade: B<br>Avg EMP Length: 5.80018430349",
          "HI<br>Avg Loan Amount ($ USD): 15194.9784854<br>Number of loans: 5810<br>Most Likely Term: 36<br>Most Likely Grade: B<br>Avg EMP Length: 6.39380378657",
          "IA<br>Avg Loan Amount ($ USD): 10529.1666667<br>Number of loans: 6<br>Most Likely Term: 36<br>Most Likely Grade: C<br>Avg EMP Length: 3.33333333333",
          "ID<br>Avg Loan Amount ($ USD): 14193.2937182<br>Number of loans: 1178<br>Most Likely Term: 36<br>Most Likely Grade: B<br>Avg EMP Length: 5.42699490662",
          "IL<br>Avg Loan Amount ($ USD): 15144.6978389<br>Number of loans: 47938<br>Most Likely Term: 36<br>Most Likely Grade: B<br>Avg EMP Length: 5.86636906004",
          "IN<br>Avg Loan Amount ($ USD): 14447.16326<br>Number of loans: 19080<br>Most Likely Term: 36<br>Most Likely Grade: C<br>Avg EMP Length: 6.06656184486",
          "KS<br>Avg Loan Amount ($ USD): 14568.3338124<br>Number of loans: 10437<br>Most Likely Term: 36<br>Most Likely Grade: B<br>Avg EMP Length: 6.01149755677",
          "KY<br>Avg Loan Amount ($ USD): 14103.9606791<br>Number of loans: 11368<br>Most Likely Term: 36<br>Most Likely Grade: C<br>Avg EMP Length: 6.07178043631",
          "LA<br>Avg Loan Amount ($ USD): 14590.0634676<br>Number of loans: 13629<br>Most Likely Term: 36<br>Most Likely Grade: B<br>Avg EMP Length: 5.82845403184",
          "MA<br>Avg Loan Amount ($ USD): 15492.5147167<br>Number of loans: 27180<br>Most Likely Term: 36<br>Most Likely Grade: B<br>Avg EMP Length: 5.76589403974",
          "MD<br>Avg Loan Amount ($ USD): 15472.9600742<br>Number of loans: 27501<br>Most Likely Term: 36<br>Most Likely Grade: B<br>Avg EMP Length: 5.97803716229",
          "ME<br>Avg Loan Amount ($ USD): 14710.8929532<br>Number of loans: 1859<br>Most Likely Term: 36<br>Most Likely Grade: B<br>Avg EMP Length: 5.77138246369",
          "MI<br>Avg Loan Amount ($ USD): 13991.9973352<br>Number of loans: 30771<br>Most Likely Term: 36<br>Most Likely Grade: B<br>Avg EMP Length: 5.94637808326",
          "MN<br>Avg Loan Amount ($ USD): 14230.2697422<br>Number of loans: 20983<br>Most Likely Term: 36<br>Most Likely Grade: B<br>Avg EMP Length: 5.81322975742",
          "MO<br>Avg Loan Amount ($ USD): 14311.0663849<br>Number of loans: 18694<br>Most Likely Term: 36<br>Most Likely Grade: B<br>Avg EMP Length: 5.95030491067",
          "MS<br>Avg Loan Amount ($ USD): 14530.6296421<br>Number of loans: 5924<br>Most Likely Term: 36<br>Most Likely Grade: C<br>Avg EMP Length: 6.13757596219",
          "MT<br>Avg Loan Amount ($ USD): 13651.889881<br>Number of loans: 3360<br>Most Likely Term: 36<br>Most Likely Grade: B<br>Avg EMP Length: 5.81041666667",
          "NC<br>Avg Loan Amount ($ USD): 14456.7810257<br>Number of loans: 32602<br>Most Likely Term: 36<br>Most Likely Grade: B<br>Avg EMP Length: 5.72851358812",
          "ND<br>Avg Loan Amount ($ USD): 15201.6573622<br>Number of loans: 1433<br>Most Likely Term: 36<br>Most Likely Grade: C<br>Avg EMP Length: 5.0900209351",
          "NE<br>Avg Loan Amount ($ USD): 13958.655754<br>Number of loans: 3024<br>Most Likely Term: 36<br>Most Likely Grade: C<br>Avg EMP Length: 5.68584656085",
          "NH<br>Avg Loan Amount ($ USD): 14723.2151942<br>Number of loans: 5897<br>Most Likely Term: 36<br>Most Likely Grade: B<br>Avg EMP Length: 6.02102764117",
          "NJ<br>Avg Loan Amount ($ USD): 15442.8310938<br>Number of loans: 43462<br>Most Likely Term: 36<br>Most Likely Grade: B<br>Avg EMP Length: 5.89487368276",
          "NM<br>Avg Loan Amount ($ USD): 14656.9719537<br>Number of loans: 6311<br>Most Likely Term: 36<br>Most Likely Grade: B<br>Avg EMP Length: 5.85358897164",
          "NV<br>Avg Loan Amount ($ USD): 13956.6037152<br>Number of loans: 16150<br>Most Likely Term: 36<br>Most Likely Grade: B<br>Avg EMP Length: 5.60594427245",
          "NY<br>Avg Loan Amount ($ USD): 14467.4519656<br>Number of loans: 96025<br>Most Likely Term: 36<br>Most Likely Grade: B<br>Avg EMP Length: 5.78675344962",
          "OH<br>Avg Loan Amount ($ USD): 14088.5875471<br>Number of loans: 39573<br>Most Likely Term: 36<br>Most Likely Grade: B<br>Avg EMP Length: 6.03742450661",
          "OK<br>Avg Loan Amount ($ USD): 14665.4047799<br>Number of loans: 10586<br>Most Likely Term: 36<br>Most Likely Grade: B<br>Avg EMP Length: 5.80776497261",
          "OR<br>Avg Loan Amount ($ USD): 13768.7876<br>Number of loans: 14129<br>Most Likely Term: 36<br>Most Likely Grade: B<br>Avg EMP Length: 5.53797154788",
          "PA<br>Avg Loan Amount ($ USD): 14394.0481764<br>Number of loans: 40580<br>Most Likely Term: 36<br>Most Likely Grade: B<br>Avg EMP Length: 5.93809758502",
          "RI<br>Avg Loan Amount ($ USD): 13937.7198068<br>Number of loans: 5175<br>Most Likely Term: 36<br>Most Likely Grade: B<br>Avg EMP Length: 6.21352657005",
          "SC<br>Avg Loan Amount ($ USD): 14618.7120437<br>Number of loans: 14655<br>Most Likely Term: 36<br>Most Likely Grade: B<br>Avg EMP Length: 5.77570794951",
          "SD<br>Avg Loan Amount ($ USD): 13713.1427964<br>Number of loans: 2353<br>Most Likely Term: 36<br>Most Likely Grade: B<br>Avg EMP Length: 5.89672758181",
          "TN<br>Avg Loan Amount ($ USD): 14685.6294137<br>Number of loans: 17842<br>Most Likely Term: 36<br>Most Likely Grade: B<br>Avg EMP Length: 5.88504651945",
          "TX<br>Avg Loan Amount ($ USD): 15401.1654909<br>Number of loans: 96676<br>Most Likely Term: 36<br>Most Likely Grade: B<br>Avg EMP Length: 5.67644503289",
          "UT<br>Avg Loan Amount ($ USD): 14598.7135559<br>Number of loans: 8026<br>Most Likely Term: 36<br>Most Likely Grade: B<br>Avg EMP Length: 5.73722900573",
          "VA<br>Avg Loan Amount ($ USD): 15679.2254571<br>Number of loans: 33523<br>Most Likely Term: 36<br>Most Likely Grade: B<br>Avg EMP Length: 5.85353339498",
          "VT<br>Avg Loan Amount ($ USD): 13783.6435644<br>Number of loans: 2525<br>Most Likely Term: 36<br>Most Likely Grade: B<br>Avg EMP Length: 6.12831683168",
          "WA<br>Avg Loan Amount ($ USD): 14906.1476722<br>Number of loans: 24981<br>Most Likely Term: 36<br>Most Likely Grade: B<br>Avg EMP Length: 5.7299147352",
          "WI<br>Avg Loan Amount ($ USD): 14154.3992236<br>Number of loans: 15713<br>Most Likely Term: 36<br>Most Likely Grade: B<br>Avg EMP Length: 6.08317953287",
          "WV<br>Avg Loan Amount ($ USD): 14476.8093174<br>Number of loans: 4615<br>Most Likely Term: 36<br>Most Likely Grade: B<br>Avg EMP Length: 6.00498374865",
          "WY<br>Avg Loan Amount ($ USD): 15197.5758143<br>Number of loans: 2671<br>Most Likely Term: 36<br>Most Likely Grade: B<br>Avg EMP Length: 5.95694496443"
         ],
         "type": "choropleth",
         "z": [
          "2836",
          "14313",
          "8709",
          "27433",
          "165804",
          "25013",
          "18355",
          "3106",
          "3340",
          "81693",
          "39066",
          "5810",
          "6",
          "1178",
          "47938",
          "19080",
          "10437",
          "11368",
          "13629",
          "27180",
          "27501",
          "1859",
          "30771",
          "20983",
          "18694",
          "5924",
          "3360",
          "32602",
          "1433",
          "3024",
          "5897",
          "43462",
          "6311",
          "16150",
          "96025",
          "39573",
          "10586",
          "14129",
          "40580",
          "5175",
          "14655",
          "2353",
          "17842",
          "96676",
          "8026",
          "33523",
          "2525",
          "24981",
          "15713",
          "4615",
          "2671"
         ]
        }
       ],
       "layout": {
        "geo": {
         "lakecolor": "rgb(255, 255, 255)",
         "projection": {
          "type": "albers usa"
         },
         "scope": "usa",
         "showlakes": true
        },
        "title": "Total number of good-loans by state <br> (Hover over state for other metrics)"
       }
      },
      "text/html": [
       "<div id=\"6d604d39-c3e7-4312-ba59-9cc81aeab5f5\" style=\"height: 525px; width: 100%;\" class=\"plotly-graph-div\"></div><script type=\"text/javascript\">require([\"plotly\"], function(Plotly) { window.PLOTLYENV=window.PLOTLYENV || {};window.PLOTLYENV.BASE_URL=\"https://plot.ly\";Plotly.newPlot(\"6d604d39-c3e7-4312-ba59-9cc81aeab5f5\", [{\"type\": \"choropleth\", \"colorscale\": [[0.0, \"rgb(242,240,247)\"], [0.2, \"rgb(218,218,235)\"], [0.4, \"rgb(188,189,220)\"], [0.6, \"rgb(158,154,200)\"], [0.8, \"rgb(117,107,177)\"], [1.0, \"rgb(84,39,143)\"]], \"autocolorscale\": false, \"locations\": [\"AK\", \"AL\", \"AR\", \"AZ\", \"CA\", \"CO\", \"CT\", \"DC\", \"DE\", \"FL\", \"GA\", \"HI\", \"IA\", \"ID\", \"IL\", \"IN\", \"KS\", \"KY\", \"LA\", \"MA\", \"MD\", \"ME\", \"MI\", \"MN\", \"MO\", \"MS\", \"MT\", \"NC\", \"ND\", \"NE\", \"NH\", \"NJ\", \"NM\", \"NV\", \"NY\", \"OH\", \"OK\", \"OR\", \"PA\", \"RI\", \"SC\", \"SD\", \"TN\", \"TX\", \"UT\", \"VA\", \"VT\", \"WA\", \"WI\", \"WV\", \"WY\"], \"z\": [\"2836\", \"14313\", \"8709\", \"27433\", \"165804\", \"25013\", \"18355\", \"3106\", \"3340\", \"81693\", \"39066\", \"5810\", \"6\", \"1178\", \"47938\", \"19080\", \"10437\", \"11368\", \"13629\", \"27180\", \"27501\", \"1859\", \"30771\", \"20983\", \"18694\", \"5924\", \"3360\", \"32602\", \"1433\", \"3024\", \"5897\", \"43462\", \"6311\", \"16150\", \"96025\", \"39573\", \"10586\", \"14129\", \"40580\", \"5175\", \"14655\", \"2353\", \"17842\", \"96676\", \"8026\", \"33523\", \"2525\", \"24981\", \"15713\", \"4615\", \"2671\"], \"locationmode\": \"USA-states\", \"text\": [\"AK<br>Avg Loan Amount ($ USD): 16881.6643159<br>Number of loans: 2836<br>Most Likely Term: 36<br>Most Likely Grade: B<br>Avg EMP Length: 6.04936530324\", \"AL<br>Avg Loan Amount ($ USD): 14393.5128904<br>Number of loans: 14313<br>Most Likely Term: 36<br>Most Likely Grade: B<br>Avg EMP Length: 6.14064137497\", \"AR<br>Avg Loan Amount ($ USD): 13918.5210702<br>Number of loans: 8709<br>Most Likely Term: 36<br>Most Likely Grade: B<br>Avg EMP Length: 5.96578252383\", \"AZ<br>Avg Loan Amount ($ USD): 14106.009186<br>Number of loans: 27433<br>Most Likely Term: 36<br>Most Likely Grade: B<br>Avg EMP Length: 5.45069806438\", \"CA<br>Avg Loan Amount ($ USD): 14760.5941352<br>Number of loans: 165804<br>Most Likely Term: 36<br>Most Likely Grade: B<br>Avg EMP Length: 5.77972787146\", \"CO<br>Avg Loan Amount ($ USD): 14836.9198017<br>Number of loans: 25013<br>Most Likely Term: 36<br>Most Likely Grade: B<br>Avg EMP Length: 5.38539959221\", \"CT<br>Avg Loan Amount ($ USD): 14970.9493326<br>Number of loans: 18355<br>Most Likely Term: 36<br>Most Likely Grade: B<br>Avg EMP Length: 6.01367474803\", \"DC<br>Avg Loan Amount ($ USD): 15348.7685126<br>Number of loans: 3106<br>Most Likely Term: 36<br>Most Likely Grade: B<br>Avg EMP Length: 4.60431423052\", \"DE<br>Avg Loan Amount ($ USD): 14396.6766467<br>Number of loans: 3340<br>Most Likely Term: 36<br>Most Likely Grade: B<br>Avg EMP Length: 5.9877245509\", \"FL<br>Avg Loan Amount ($ USD): 13897.4171594<br>Number of loans: 81693<br>Most Likely Term: 36<br>Most Likely Grade: B<br>Avg EMP Length: 5.51276119129\", \"GA<br>Avg Loan Amount ($ USD): 14882.3452619<br>Number of loans: 39066<br>Most Likely Term: 36<br>Most Likely Grade: B<br>Avg EMP Length: 5.80018430349\", \"HI<br>Avg Loan Amount ($ USD): 15194.9784854<br>Number of loans: 5810<br>Most Likely Term: 36<br>Most Likely Grade: B<br>Avg EMP Length: 6.39380378657\", \"IA<br>Avg Loan Amount ($ USD): 10529.1666667<br>Number of loans: 6<br>Most Likely Term: 36<br>Most Likely Grade: C<br>Avg EMP Length: 3.33333333333\", \"ID<br>Avg Loan Amount ($ USD): 14193.2937182<br>Number of loans: 1178<br>Most Likely Term: 36<br>Most Likely Grade: B<br>Avg EMP Length: 5.42699490662\", \"IL<br>Avg Loan Amount ($ USD): 15144.6978389<br>Number of loans: 47938<br>Most Likely Term: 36<br>Most Likely Grade: B<br>Avg EMP Length: 5.86636906004\", \"IN<br>Avg Loan Amount ($ USD): 14447.16326<br>Number of loans: 19080<br>Most Likely Term: 36<br>Most Likely Grade: C<br>Avg EMP Length: 6.06656184486\", \"KS<br>Avg Loan Amount ($ USD): 14568.3338124<br>Number of loans: 10437<br>Most Likely Term: 36<br>Most Likely Grade: B<br>Avg EMP Length: 6.01149755677\", \"KY<br>Avg Loan Amount ($ USD): 14103.9606791<br>Number of loans: 11368<br>Most Likely Term: 36<br>Most Likely Grade: C<br>Avg EMP Length: 6.07178043631\", \"LA<br>Avg Loan Amount ($ USD): 14590.0634676<br>Number of loans: 13629<br>Most Likely Term: 36<br>Most Likely Grade: B<br>Avg EMP Length: 5.82845403184\", \"MA<br>Avg Loan Amount ($ USD): 15492.5147167<br>Number of loans: 27180<br>Most Likely Term: 36<br>Most Likely Grade: B<br>Avg EMP Length: 5.76589403974\", \"MD<br>Avg Loan Amount ($ USD): 15472.9600742<br>Number of loans: 27501<br>Most Likely Term: 36<br>Most Likely Grade: B<br>Avg EMP Length: 5.97803716229\", \"ME<br>Avg Loan Amount ($ USD): 14710.8929532<br>Number of loans: 1859<br>Most Likely Term: 36<br>Most Likely Grade: B<br>Avg EMP Length: 5.77138246369\", \"MI<br>Avg Loan Amount ($ USD): 13991.9973352<br>Number of loans: 30771<br>Most Likely Term: 36<br>Most Likely Grade: B<br>Avg EMP Length: 5.94637808326\", \"MN<br>Avg Loan Amount ($ USD): 14230.2697422<br>Number of loans: 20983<br>Most Likely Term: 36<br>Most Likely Grade: B<br>Avg EMP Length: 5.81322975742\", \"MO<br>Avg Loan Amount ($ USD): 14311.0663849<br>Number of loans: 18694<br>Most Likely Term: 36<br>Most Likely Grade: B<br>Avg EMP Length: 5.95030491067\", \"MS<br>Avg Loan Amount ($ USD): 14530.6296421<br>Number of loans: 5924<br>Most Likely Term: 36<br>Most Likely Grade: C<br>Avg EMP Length: 6.13757596219\", \"MT<br>Avg Loan Amount ($ USD): 13651.889881<br>Number of loans: 3360<br>Most Likely Term: 36<br>Most Likely Grade: B<br>Avg EMP Length: 5.81041666667\", \"NC<br>Avg Loan Amount ($ USD): 14456.7810257<br>Number of loans: 32602<br>Most Likely Term: 36<br>Most Likely Grade: B<br>Avg EMP Length: 5.72851358812\", \"ND<br>Avg Loan Amount ($ USD): 15201.6573622<br>Number of loans: 1433<br>Most Likely Term: 36<br>Most Likely Grade: C<br>Avg EMP Length: 5.0900209351\", \"NE<br>Avg Loan Amount ($ USD): 13958.655754<br>Number of loans: 3024<br>Most Likely Term: 36<br>Most Likely Grade: C<br>Avg EMP Length: 5.68584656085\", \"NH<br>Avg Loan Amount ($ USD): 14723.2151942<br>Number of loans: 5897<br>Most Likely Term: 36<br>Most Likely Grade: B<br>Avg EMP Length: 6.02102764117\", \"NJ<br>Avg Loan Amount ($ USD): 15442.8310938<br>Number of loans: 43462<br>Most Likely Term: 36<br>Most Likely Grade: B<br>Avg EMP Length: 5.89487368276\", \"NM<br>Avg Loan Amount ($ USD): 14656.9719537<br>Number of loans: 6311<br>Most Likely Term: 36<br>Most Likely Grade: B<br>Avg EMP Length: 5.85358897164\", \"NV<br>Avg Loan Amount ($ USD): 13956.6037152<br>Number of loans: 16150<br>Most Likely Term: 36<br>Most Likely Grade: B<br>Avg EMP Length: 5.60594427245\", \"NY<br>Avg Loan Amount ($ USD): 14467.4519656<br>Number of loans: 96025<br>Most Likely Term: 36<br>Most Likely Grade: B<br>Avg EMP Length: 5.78675344962\", \"OH<br>Avg Loan Amount ($ USD): 14088.5875471<br>Number of loans: 39573<br>Most Likely Term: 36<br>Most Likely Grade: B<br>Avg EMP Length: 6.03742450661\", \"OK<br>Avg Loan Amount ($ USD): 14665.4047799<br>Number of loans: 10586<br>Most Likely Term: 36<br>Most Likely Grade: B<br>Avg EMP Length: 5.80776497261\", \"OR<br>Avg Loan Amount ($ USD): 13768.7876<br>Number of loans: 14129<br>Most Likely Term: 36<br>Most Likely Grade: B<br>Avg EMP Length: 5.53797154788\", \"PA<br>Avg Loan Amount ($ USD): 14394.0481764<br>Number of loans: 40580<br>Most Likely Term: 36<br>Most Likely Grade: B<br>Avg EMP Length: 5.93809758502\", \"RI<br>Avg Loan Amount ($ USD): 13937.7198068<br>Number of loans: 5175<br>Most Likely Term: 36<br>Most Likely Grade: B<br>Avg EMP Length: 6.21352657005\", \"SC<br>Avg Loan Amount ($ USD): 14618.7120437<br>Number of loans: 14655<br>Most Likely Term: 36<br>Most Likely Grade: B<br>Avg EMP Length: 5.77570794951\", \"SD<br>Avg Loan Amount ($ USD): 13713.1427964<br>Number of loans: 2353<br>Most Likely Term: 36<br>Most Likely Grade: B<br>Avg EMP Length: 5.89672758181\", \"TN<br>Avg Loan Amount ($ USD): 14685.6294137<br>Number of loans: 17842<br>Most Likely Term: 36<br>Most Likely Grade: B<br>Avg EMP Length: 5.88504651945\", \"TX<br>Avg Loan Amount ($ USD): 15401.1654909<br>Number of loans: 96676<br>Most Likely Term: 36<br>Most Likely Grade: B<br>Avg EMP Length: 5.67644503289\", \"UT<br>Avg Loan Amount ($ USD): 14598.7135559<br>Number of loans: 8026<br>Most Likely Term: 36<br>Most Likely Grade: B<br>Avg EMP Length: 5.73722900573\", \"VA<br>Avg Loan Amount ($ USD): 15679.2254571<br>Number of loans: 33523<br>Most Likely Term: 36<br>Most Likely Grade: B<br>Avg EMP Length: 5.85353339498\", \"VT<br>Avg Loan Amount ($ USD): 13783.6435644<br>Number of loans: 2525<br>Most Likely Term: 36<br>Most Likely Grade: B<br>Avg EMP Length: 6.12831683168\", \"WA<br>Avg Loan Amount ($ USD): 14906.1476722<br>Number of loans: 24981<br>Most Likely Term: 36<br>Most Likely Grade: B<br>Avg EMP Length: 5.7299147352\", \"WI<br>Avg Loan Amount ($ USD): 14154.3992236<br>Number of loans: 15713<br>Most Likely Term: 36<br>Most Likely Grade: B<br>Avg EMP Length: 6.08317953287\", \"WV<br>Avg Loan Amount ($ USD): 14476.8093174<br>Number of loans: 4615<br>Most Likely Term: 36<br>Most Likely Grade: B<br>Avg EMP Length: 6.00498374865\", \"WY<br>Avg Loan Amount ($ USD): 15197.5758143<br>Number of loans: 2671<br>Most Likely Term: 36<br>Most Likely Grade: B<br>Avg EMP Length: 5.95694496443\"], \"marker\": {\"line\": {\"color\": \"rgb(255,255,255)\", \"width\": 2}}, \"colorbar\": {\"title\": \"Number of loans\"}}], {\"title\": \"Total number of good-loans by state <br> (Hover over state for other metrics)\", \"geo\": {\"scope\": \"usa\", \"projection\": {\"type\": \"albers usa\"}, \"showlakes\": true, \"lakecolor\": \"rgb(255, 255, 255)\"}}, {\"showLink\": true, \"linkText\": \"Export to plot.ly\"})});</script>"
      ],
      "text/vnd.plotly.v1+html": [
       "<div id=\"6d604d39-c3e7-4312-ba59-9cc81aeab5f5\" style=\"height: 525px; width: 100%;\" class=\"plotly-graph-div\"></div><script type=\"text/javascript\">require([\"plotly\"], function(Plotly) { window.PLOTLYENV=window.PLOTLYENV || {};window.PLOTLYENV.BASE_URL=\"https://plot.ly\";Plotly.newPlot(\"6d604d39-c3e7-4312-ba59-9cc81aeab5f5\", [{\"type\": \"choropleth\", \"colorscale\": [[0.0, \"rgb(242,240,247)\"], [0.2, \"rgb(218,218,235)\"], [0.4, \"rgb(188,189,220)\"], [0.6, \"rgb(158,154,200)\"], [0.8, \"rgb(117,107,177)\"], [1.0, \"rgb(84,39,143)\"]], \"autocolorscale\": false, \"locations\": [\"AK\", \"AL\", \"AR\", \"AZ\", \"CA\", \"CO\", \"CT\", \"DC\", \"DE\", \"FL\", \"GA\", \"HI\", \"IA\", \"ID\", \"IL\", \"IN\", \"KS\", \"KY\", \"LA\", \"MA\", \"MD\", \"ME\", \"MI\", \"MN\", \"MO\", \"MS\", \"MT\", \"NC\", \"ND\", \"NE\", \"NH\", \"NJ\", \"NM\", \"NV\", \"NY\", \"OH\", \"OK\", \"OR\", \"PA\", \"RI\", \"SC\", \"SD\", \"TN\", \"TX\", \"UT\", \"VA\", \"VT\", \"WA\", \"WI\", \"WV\", \"WY\"], \"z\": [\"2836\", \"14313\", \"8709\", \"27433\", \"165804\", \"25013\", \"18355\", \"3106\", \"3340\", \"81693\", \"39066\", \"5810\", \"6\", \"1178\", \"47938\", \"19080\", \"10437\", \"11368\", \"13629\", \"27180\", \"27501\", \"1859\", \"30771\", \"20983\", \"18694\", \"5924\", \"3360\", \"32602\", \"1433\", \"3024\", \"5897\", \"43462\", \"6311\", \"16150\", \"96025\", \"39573\", \"10586\", \"14129\", \"40580\", \"5175\", \"14655\", \"2353\", \"17842\", \"96676\", \"8026\", \"33523\", \"2525\", \"24981\", \"15713\", \"4615\", \"2671\"], \"locationmode\": \"USA-states\", \"text\": [\"AK<br>Avg Loan Amount ($ USD): 16881.6643159<br>Number of loans: 2836<br>Most Likely Term: 36<br>Most Likely Grade: B<br>Avg EMP Length: 6.04936530324\", \"AL<br>Avg Loan Amount ($ USD): 14393.5128904<br>Number of loans: 14313<br>Most Likely Term: 36<br>Most Likely Grade: B<br>Avg EMP Length: 6.14064137497\", \"AR<br>Avg Loan Amount ($ USD): 13918.5210702<br>Number of loans: 8709<br>Most Likely Term: 36<br>Most Likely Grade: B<br>Avg EMP Length: 5.96578252383\", \"AZ<br>Avg Loan Amount ($ USD): 14106.009186<br>Number of loans: 27433<br>Most Likely Term: 36<br>Most Likely Grade: B<br>Avg EMP Length: 5.45069806438\", \"CA<br>Avg Loan Amount ($ USD): 14760.5941352<br>Number of loans: 165804<br>Most Likely Term: 36<br>Most Likely Grade: B<br>Avg EMP Length: 5.77972787146\", \"CO<br>Avg Loan Amount ($ USD): 14836.9198017<br>Number of loans: 25013<br>Most Likely Term: 36<br>Most Likely Grade: B<br>Avg EMP Length: 5.38539959221\", \"CT<br>Avg Loan Amount ($ USD): 14970.9493326<br>Number of loans: 18355<br>Most Likely Term: 36<br>Most Likely Grade: B<br>Avg EMP Length: 6.01367474803\", \"DC<br>Avg Loan Amount ($ USD): 15348.7685126<br>Number of loans: 3106<br>Most Likely Term: 36<br>Most Likely Grade: B<br>Avg EMP Length: 4.60431423052\", \"DE<br>Avg Loan Amount ($ USD): 14396.6766467<br>Number of loans: 3340<br>Most Likely Term: 36<br>Most Likely Grade: B<br>Avg EMP Length: 5.9877245509\", \"FL<br>Avg Loan Amount ($ USD): 13897.4171594<br>Number of loans: 81693<br>Most Likely Term: 36<br>Most Likely Grade: B<br>Avg EMP Length: 5.51276119129\", \"GA<br>Avg Loan Amount ($ USD): 14882.3452619<br>Number of loans: 39066<br>Most Likely Term: 36<br>Most Likely Grade: B<br>Avg EMP Length: 5.80018430349\", \"HI<br>Avg Loan Amount ($ USD): 15194.9784854<br>Number of loans: 5810<br>Most Likely Term: 36<br>Most Likely Grade: B<br>Avg EMP Length: 6.39380378657\", \"IA<br>Avg Loan Amount ($ USD): 10529.1666667<br>Number of loans: 6<br>Most Likely Term: 36<br>Most Likely Grade: C<br>Avg EMP Length: 3.33333333333\", \"ID<br>Avg Loan Amount ($ USD): 14193.2937182<br>Number of loans: 1178<br>Most Likely Term: 36<br>Most Likely Grade: B<br>Avg EMP Length: 5.42699490662\", \"IL<br>Avg Loan Amount ($ USD): 15144.6978389<br>Number of loans: 47938<br>Most Likely Term: 36<br>Most Likely Grade: B<br>Avg EMP Length: 5.86636906004\", \"IN<br>Avg Loan Amount ($ USD): 14447.16326<br>Number of loans: 19080<br>Most Likely Term: 36<br>Most Likely Grade: C<br>Avg EMP Length: 6.06656184486\", \"KS<br>Avg Loan Amount ($ USD): 14568.3338124<br>Number of loans: 10437<br>Most Likely Term: 36<br>Most Likely Grade: B<br>Avg EMP Length: 6.01149755677\", \"KY<br>Avg Loan Amount ($ USD): 14103.9606791<br>Number of loans: 11368<br>Most Likely Term: 36<br>Most Likely Grade: C<br>Avg EMP Length: 6.07178043631\", \"LA<br>Avg Loan Amount ($ USD): 14590.0634676<br>Number of loans: 13629<br>Most Likely Term: 36<br>Most Likely Grade: B<br>Avg EMP Length: 5.82845403184\", \"MA<br>Avg Loan Amount ($ USD): 15492.5147167<br>Number of loans: 27180<br>Most Likely Term: 36<br>Most Likely Grade: B<br>Avg EMP Length: 5.76589403974\", \"MD<br>Avg Loan Amount ($ USD): 15472.9600742<br>Number of loans: 27501<br>Most Likely Term: 36<br>Most Likely Grade: B<br>Avg EMP Length: 5.97803716229\", \"ME<br>Avg Loan Amount ($ USD): 14710.8929532<br>Number of loans: 1859<br>Most Likely Term: 36<br>Most Likely Grade: B<br>Avg EMP Length: 5.77138246369\", \"MI<br>Avg Loan Amount ($ USD): 13991.9973352<br>Number of loans: 30771<br>Most Likely Term: 36<br>Most Likely Grade: B<br>Avg EMP Length: 5.94637808326\", \"MN<br>Avg Loan Amount ($ USD): 14230.2697422<br>Number of loans: 20983<br>Most Likely Term: 36<br>Most Likely Grade: B<br>Avg EMP Length: 5.81322975742\", \"MO<br>Avg Loan Amount ($ USD): 14311.0663849<br>Number of loans: 18694<br>Most Likely Term: 36<br>Most Likely Grade: B<br>Avg EMP Length: 5.95030491067\", \"MS<br>Avg Loan Amount ($ USD): 14530.6296421<br>Number of loans: 5924<br>Most Likely Term: 36<br>Most Likely Grade: C<br>Avg EMP Length: 6.13757596219\", \"MT<br>Avg Loan Amount ($ USD): 13651.889881<br>Number of loans: 3360<br>Most Likely Term: 36<br>Most Likely Grade: B<br>Avg EMP Length: 5.81041666667\", \"NC<br>Avg Loan Amount ($ USD): 14456.7810257<br>Number of loans: 32602<br>Most Likely Term: 36<br>Most Likely Grade: B<br>Avg EMP Length: 5.72851358812\", \"ND<br>Avg Loan Amount ($ USD): 15201.6573622<br>Number of loans: 1433<br>Most Likely Term: 36<br>Most Likely Grade: C<br>Avg EMP Length: 5.0900209351\", \"NE<br>Avg Loan Amount ($ USD): 13958.655754<br>Number of loans: 3024<br>Most Likely Term: 36<br>Most Likely Grade: C<br>Avg EMP Length: 5.68584656085\", \"NH<br>Avg Loan Amount ($ USD): 14723.2151942<br>Number of loans: 5897<br>Most Likely Term: 36<br>Most Likely Grade: B<br>Avg EMP Length: 6.02102764117\", \"NJ<br>Avg Loan Amount ($ USD): 15442.8310938<br>Number of loans: 43462<br>Most Likely Term: 36<br>Most Likely Grade: B<br>Avg EMP Length: 5.89487368276\", \"NM<br>Avg Loan Amount ($ USD): 14656.9719537<br>Number of loans: 6311<br>Most Likely Term: 36<br>Most Likely Grade: B<br>Avg EMP Length: 5.85358897164\", \"NV<br>Avg Loan Amount ($ USD): 13956.6037152<br>Number of loans: 16150<br>Most Likely Term: 36<br>Most Likely Grade: B<br>Avg EMP Length: 5.60594427245\", \"NY<br>Avg Loan Amount ($ USD): 14467.4519656<br>Number of loans: 96025<br>Most Likely Term: 36<br>Most Likely Grade: B<br>Avg EMP Length: 5.78675344962\", \"OH<br>Avg Loan Amount ($ USD): 14088.5875471<br>Number of loans: 39573<br>Most Likely Term: 36<br>Most Likely Grade: B<br>Avg EMP Length: 6.03742450661\", \"OK<br>Avg Loan Amount ($ USD): 14665.4047799<br>Number of loans: 10586<br>Most Likely Term: 36<br>Most Likely Grade: B<br>Avg EMP Length: 5.80776497261\", \"OR<br>Avg Loan Amount ($ USD): 13768.7876<br>Number of loans: 14129<br>Most Likely Term: 36<br>Most Likely Grade: B<br>Avg EMP Length: 5.53797154788\", \"PA<br>Avg Loan Amount ($ USD): 14394.0481764<br>Number of loans: 40580<br>Most Likely Term: 36<br>Most Likely Grade: B<br>Avg EMP Length: 5.93809758502\", \"RI<br>Avg Loan Amount ($ USD): 13937.7198068<br>Number of loans: 5175<br>Most Likely Term: 36<br>Most Likely Grade: B<br>Avg EMP Length: 6.21352657005\", \"SC<br>Avg Loan Amount ($ USD): 14618.7120437<br>Number of loans: 14655<br>Most Likely Term: 36<br>Most Likely Grade: B<br>Avg EMP Length: 5.77570794951\", \"SD<br>Avg Loan Amount ($ USD): 13713.1427964<br>Number of loans: 2353<br>Most Likely Term: 36<br>Most Likely Grade: B<br>Avg EMP Length: 5.89672758181\", \"TN<br>Avg Loan Amount ($ USD): 14685.6294137<br>Number of loans: 17842<br>Most Likely Term: 36<br>Most Likely Grade: B<br>Avg EMP Length: 5.88504651945\", \"TX<br>Avg Loan Amount ($ USD): 15401.1654909<br>Number of loans: 96676<br>Most Likely Term: 36<br>Most Likely Grade: B<br>Avg EMP Length: 5.67644503289\", \"UT<br>Avg Loan Amount ($ USD): 14598.7135559<br>Number of loans: 8026<br>Most Likely Term: 36<br>Most Likely Grade: B<br>Avg EMP Length: 5.73722900573\", \"VA<br>Avg Loan Amount ($ USD): 15679.2254571<br>Number of loans: 33523<br>Most Likely Term: 36<br>Most Likely Grade: B<br>Avg EMP Length: 5.85353339498\", \"VT<br>Avg Loan Amount ($ USD): 13783.6435644<br>Number of loans: 2525<br>Most Likely Term: 36<br>Most Likely Grade: B<br>Avg EMP Length: 6.12831683168\", \"WA<br>Avg Loan Amount ($ USD): 14906.1476722<br>Number of loans: 24981<br>Most Likely Term: 36<br>Most Likely Grade: B<br>Avg EMP Length: 5.7299147352\", \"WI<br>Avg Loan Amount ($ USD): 14154.3992236<br>Number of loans: 15713<br>Most Likely Term: 36<br>Most Likely Grade: B<br>Avg EMP Length: 6.08317953287\", \"WV<br>Avg Loan Amount ($ USD): 14476.8093174<br>Number of loans: 4615<br>Most Likely Term: 36<br>Most Likely Grade: B<br>Avg EMP Length: 6.00498374865\", \"WY<br>Avg Loan Amount ($ USD): 15197.5758143<br>Number of loans: 2671<br>Most Likely Term: 36<br>Most Likely Grade: B<br>Avg EMP Length: 5.95694496443\"], \"marker\": {\"line\": {\"color\": \"rgb(255,255,255)\", \"width\": 2}}, \"colorbar\": {\"title\": \"Number of loans\"}}], {\"title\": \"Total number of good-loans by state <br> (Hover over state for other metrics)\", \"geo\": {\"scope\": \"usa\", \"projection\": {\"type\": \"albers usa\"}, \"showlakes\": true, \"lakecolor\": \"rgb(255, 255, 255)\"}}, {\"showLink\": true, \"linkText\": \"Export to plot.ly\"})});</script>"
      ]
     },
     "metadata": {},
     "output_type": "display_data"
    }
   ],
   "source": [
    "for col in dfSummary.columns:\n",
    "    dfSummary[col] = dfSummary[col].astype(str)\n",
    "\n",
    "scl = [[0.0, 'rgb(242,240,247)'],[0.2, 'rgb(218,218,235)'],[0.4, 'rgb(188,189,220)'],\\\n",
    "        [0.6, 'rgb(158,154,200)'],[0.8, 'rgb(117,107,177)'],[1.0, 'rgb(84,39,143)']]    \n",
    "\n",
    "dfSummary['text'] = dfSummary['State'] + '<br>' +\\\n",
    "    'Avg Loan Amount ($ USD): '+dfSummary['Avg Loan Amount']+'<br>'+\\\n",
    "    'Number of loans: '+dfSummary['Accepted Loans']+'<br>'+\\\n",
    "    'Most Likely Term: '+dfSummary['Most Likely Term']+'<br>'+\\\n",
    "    'Most Likely Grade: '+dfSummary['Most Likely Grade']+'<br>'+\\\n",
    "    'Avg EMP Length: '+dfSummary['Avg EMP Length']\n",
    "\n",
    "data = [ dict(\n",
    "    type='choropleth',\n",
    "    colorscale = scl,\n",
    "    autocolorscale = False,\n",
    "    locations = dfSummary['State'],\n",
    "    z = dfSummary['Accepted Loans'], \n",
    "    locationmode = 'USA-states',\n",
    "    text = dfSummary['text'],\n",
    "    marker = dict(\n",
    "        line = dict (\n",
    "            color = 'rgb(255,255,255)',\n",
    "            width = 2\n",
    "        ) ),\n",
    "    colorbar = dict(\n",
    "        title = \"Number of loans\")\n",
    "    ) ]\n",
    "\n",
    "layout = dict(\n",
    "    title = 'Total number of good-loans by state <br> (Hover over state for other metrics)',\n",
    "    geo = dict(\n",
    "        scope='usa',\n",
    "        projection=dict( type='albers usa' ),\n",
    "        showlakes = True,\n",
    "        lakecolor = 'rgb(255, 255, 255)'),\n",
    "         )\n",
    "\n",
    "fig = dict( data=data, layout=layout )\n",
    "iplot( fig, filename='d3-cloropleth-map')"
   ]
  },
  {
   "cell_type": "code",
   "execution_count": 37,
   "metadata": {
    "collapsed": true
   },
   "outputs": [],
   "source": [
    "#Summary by state for defaulted loans\n",
    "#by year and counting the total amount of accepted loans and Interest Rate\n",
    "seriesCount = df2['LoanAmt'].groupby(df2['State']).count()\n",
    "\n",
    "#by year and Average of Interest Rate\n",
    "seriesInterest = df2['IntRate'].groupby(df2['State']).mean()\n",
    "\n",
    "#by year and Average of Loan Amount\n",
    "seriesLA = df2['LoanAmt'].groupby(df2['State']).mean()\n",
    "\n",
    "#by year and mode of term\n",
    "seriesTerm = df2['Term'].groupby(df2['State']).agg(lambda x: x.value_counts().index[0])\n",
    "\n",
    "#by year and mode of grade\n",
    "seriesGrade = df2['Grade'].groupby(df2['State']).agg(lambda x: x.value_counts().index[0])\n",
    "\n",
    "#by year and avg of emp_length\n",
    "seriesEL = df2['EmpLength'].groupby(df2['State']).mean()\n",
    "\n",
    "#combining seriesCount and seriesTotAmt into summary Metrix data frame\n",
    "columns=['State', 'Accepted Loans', 'Avg Interest Charged', 'Avg Loan Amount', 'Most Likely Term', 'Most Likely Grade', 'Avg EMP Length']\n",
    "dfSummary = pd.DataFrame({'State':seriesCount.index,'Accepted Loans': seriesCount,'Avg Interest Charged':seriesInterest, \n",
    "                          'Avg Loan Amount':seriesLA, 'Most Likely Term':seriesTerm, 'Most Likely Grade':seriesGrade, 'Avg EMP Length':seriesEL})"
   ]
  },
  {
   "cell_type": "code",
   "execution_count": 38,
   "metadata": {
    "collapsed": false
   },
   "outputs": [
    {
     "data": {
      "application/vnd.plotly.v1+json": {
       "data": [
        {
         "autocolorscale": true,
         "colorbar": {
          "title": "Number of loans"
         },
         "colorscale": [
          [
           0,
           "rgb(242,240,247)"
          ],
          [
           0.2,
           "rgb(218,218,235)"
          ],
          [
           0.4,
           "rgb(188,189,220)"
          ],
          [
           0.6,
           "rgb(158,154,200)"
          ],
          [
           0.8,
           "rgb(117,107,177)"
          ],
          [
           1,
           "rgb(84,39,143)"
          ]
         ],
         "locationmode": "USA-states",
         "locations": [
          "AK",
          "AL",
          "AR",
          "AZ",
          "CA",
          "CO",
          "CT",
          "DC",
          "DE",
          "FL",
          "GA",
          "HI",
          "IA",
          "ID",
          "IL",
          "IN",
          "KS",
          "KY",
          "LA",
          "MA",
          "MD",
          "ME",
          "MI",
          "MN",
          "MO",
          "MS",
          "MT",
          "NC",
          "ND",
          "NE",
          "NH",
          "NJ",
          "NM",
          "NV",
          "NY",
          "OH",
          "OK",
          "OR",
          "PA",
          "RI",
          "SC",
          "SD",
          "TN",
          "TX",
          "UT",
          "VA",
          "VT",
          "WA",
          "WI",
          "WV",
          "WY"
         ],
         "marker": {
          "line": {
           "color": "rgb(255,255,255)",
           "width": 2
          }
         },
         "text": [
          "AK<br>Avg Loan Amount ($ USD): 17022.0666667<br>Number of loans: 375<br>Most Likely Term: 36<br>Most Likely Grade: C<br>Avg EMP Length: 5.82133333333",
          "AL<br>Avg Loan Amount ($ USD): 15115.9121622<br>Number of loans: 2220<br>Most Likely Term: 36<br>Most Likely Grade: C<br>Avg EMP Length: 5.96171171171",
          "AR<br>Avg Loan Amount ($ USD): 14302.8633491<br>Number of loans: 1266<br>Most Likely Term: 36<br>Most Likely Grade: C<br>Avg EMP Length: 5.49605055292",
          "AZ<br>Avg Loan Amount ($ USD): 15156.4661436<br>Number of loans: 3441<br>Most Likely Term: 36<br>Most Likely Grade: C<br>Avg EMP Length: 5.197907585",
          "CA<br>Avg Loan Amount ($ USD): 15315.1230855<br>Number of loans: 21611<br>Most Likely Term: 36<br>Most Likely Grade: C<br>Avg EMP Length: 5.59969459997",
          "CO<br>Avg Loan Amount ($ USD): 14978.0381944<br>Number of loans: 2592<br>Most Likely Term: 36<br>Most Likely Grade: C<br>Avg EMP Length: 4.72145061728",
          "CT<br>Avg Loan Amount ($ USD): 15745.0659564<br>Number of loans: 1971<br>Most Likely Term: 36<br>Most Likely Grade: C<br>Avg EMP Length: 5.81481481481",
          "DC<br>Avg Loan Amount ($ USD): 15933.5964912<br>Number of loans: 285<br>Most Likely Term: 36<br>Most Likely Grade: C<br>Avg EMP Length: 5.01052631579",
          "DE<br>Avg Loan Amount ($ USD): 15136.820331<br>Number of loans: 423<br>Most Likely Term: 36<br>Most Likely Grade: C<br>Avg EMP Length: 5.91252955083",
          "FL<br>Avg Loan Amount ($ USD): 14381.6104784<br>Number of loans: 10975<br>Most Likely Term: 36<br>Most Likely Grade: C<br>Avg EMP Length: 5.09102505695",
          "GA<br>Avg Loan Amount ($ USD): 15658.5974113<br>Number of loans: 4481<br>Most Likely Term: 36<br>Most Likely Grade: C<br>Avg EMP Length: 5.57241687123",
          "HI<br>Avg Loan Amount ($ USD): 16828.5301669<br>Number of loans: 779<br>Most Likely Term: 36<br>Most Likely Grade: C<br>Avg EMP Length: 6.20795892169",
          "IA<br>Avg Loan Amount ($ USD): 6362.5<br>Number of loans: 8<br>Most Likely Term: 36<br>Most Likely Grade: D<br>Avg EMP Length: 3.75",
          "ID<br>Avg Loan Amount ($ USD): 14201.2711864<br>Number of loans: 59<br>Most Likely Term: 36<br>Most Likely Grade: C<br>Avg EMP Length: 4.61016949153",
          "IL<br>Avg Loan Amount ($ USD): 15469.5374952<br>Number of loans: 5254<br>Most Likely Term: 36<br>Most Likely Grade: C<br>Avg EMP Length: 5.67967263038",
          "IN<br>Avg Loan Amount ($ USD): 15110.521317<br>Number of loans: 2369<br>Most Likely Term: 36<br>Most Likely Grade: C<br>Avg EMP Length: 5.6213592233",
          "KS<br>Avg Loan Amount ($ USD): 14914.0018921<br>Number of loans: 1057<br>Most Likely Term: 36<br>Most Likely Grade: C<br>Avg EMP Length: 5.71050141911",
          "KY<br>Avg Loan Amount ($ USD): 14888.9303483<br>Number of loans: 1407<br>Most Likely Term: 36<br>Most Likely Grade: C<br>Avg EMP Length: 5.82018479033",
          "LA<br>Avg Loan Amount ($ USD): 15640.2520576<br>Number of loans: 1944<br>Most Likely Term: 36<br>Most Likely Grade: C<br>Avg EMP Length: 5.49279835391",
          "MA<br>Avg Loan Amount ($ USD): 16158.9549938<br>Number of loans: 3244<br>Most Likely Term: 36<br>Most Likely Grade: C<br>Avg EMP Length: 5.63286066584",
          "MD<br>Avg Loan Amount ($ USD): 16085.1998335<br>Number of loans: 3603<br>Most Likely Term: 36<br>Most Likely Grade: C<br>Avg EMP Length: 5.79322786567",
          "ME<br>Avg Loan Amount ($ USD): 15933.0<br>Number of loans: 75<br>Most Likely Term: 36<br>Most Likely Grade: C<br>Avg EMP Length: 4.29333333333",
          "MI<br>Avg Loan Amount ($ USD): 14899.365017<br>Number of loans: 3819<br>Most Likely Term: 36<br>Most Likely Grade: C<br>Avg EMP Length: 5.67033254779",
          "MN<br>Avg Loan Amount ($ USD): 15001.71156<br>Number of loans: 2673<br>Most Likely Term: 36<br>Most Likely Grade: C<br>Avg EMP Length: 5.57949869061",
          "MO<br>Avg Loan Amount ($ USD): 14748.5395538<br>Number of loans: 2465<br>Most Likely Term: 36<br>Most Likely Grade: C<br>Avg EMP Length: 5.59229208925",
          "MS<br>Avg Loan Amount ($ USD): 15536.5485564<br>Number of loans: 762<br>Most Likely Term: 36<br>Most Likely Grade: C<br>Avg EMP Length: 5.4593175853",
          "MT<br>Avg Loan Amount ($ USD): 15218.6657682<br>Number of loans: 371<br>Most Likely Term: 36<br>Most Likely Grade: C<br>Avg EMP Length: 5.27223719677",
          "NC<br>Avg Loan Amount ($ USD): 15379.8852534<br>Number of loans: 4401<br>Most Likely Term: 36<br>Most Likely Grade: C<br>Avg EMP Length: 5.61849579641",
          "ND<br>Avg Loan Amount ($ USD): 16230.6701031<br>Number of loans: 97<br>Most Likely Term: 36<br>Most Likely Grade: C<br>Avg EMP Length: 4.39175257732",
          "NE<br>Avg Loan Amount ($ USD): 14413.1529851<br>Number of loans: 268<br>Most Likely Term: 36<br>Most Likely Grade: C<br>Avg EMP Length: 4.78731343284",
          "NH<br>Avg Loan Amount ($ USD): 15008.9574899<br>Number of loans: 494<br>Most Likely Term: 36<br>Most Likely Grade: C<br>Avg EMP Length: 5.73886639676",
          "NJ<br>Avg Loan Amount ($ USD): 16028.0859856<br>Number of loans: 5687<br>Most Likely Term: 36<br>Most Likely Grade: C<br>Avg EMP Length: 5.78072797609",
          "NM<br>Avg Loan Amount ($ USD): 15702.2925764<br>Number of loans: 916<br>Most Likely Term: 36<br>Most Likely Grade: C<br>Avg EMP Length: 5.47816593886",
          "NV<br>Avg Loan Amount ($ USD): 14145.5469703<br>Number of loans: 2459<br>Most Likely Term: 36<br>Most Likely Grade: C<br>Avg EMP Length: 5.13338755592",
          "NY<br>Avg Loan Amount ($ USD): 15190.1890338<br>Number of loans: 13569<br>Most Likely Term: 36<br>Most Likely Grade: C<br>Avg EMP Length: 5.74537548825",
          "OH<br>Avg Loan Amount ($ USD): 14593.86121<br>Number of loans: 5058<br>Most Likely Term: 36<br>Most Likely Grade: C<br>Avg EMP Length: 5.75820482404",
          "OK<br>Avg Loan Amount ($ USD): 15200.4003844<br>Number of loans: 1561<br>Most Likely Term: 36<br>Most Likely Grade: C<br>Avg EMP Length: 5.41704035874",
          "OR<br>Avg Loan Amount ($ USD): 13455.1603905<br>Number of loans: 1434<br>Most Likely Term: 36<br>Most Likely Grade: C<br>Avg EMP Length: 5.11436541144",
          "PA<br>Avg Loan Amount ($ USD): 15362.9915334<br>Number of loans: 5315<br>Most Likely Term: 36<br>Most Likely Grade: C<br>Avg EMP Length: 5.63198494826",
          "RI<br>Avg Loan Amount ($ USD): 14341.375<br>Number of loans: 600<br>Most Likely Term: 36<br>Most Likely Grade: C<br>Avg EMP Length: 5.915",
          "SC<br>Avg Loan Amount ($ USD): 15551.1848341<br>Number of loans: 1477<br>Most Likely Term: 36<br>Most Likely Grade: C<br>Avg EMP Length: 5.34664861205",
          "SD<br>Avg Loan Amount ($ USD): 15150.9530792<br>Number of loans: 341<br>Most Likely Term: 36<br>Most Likely Grade: C<br>Avg EMP Length: 5.4926686217",
          "TN<br>Avg Loan Amount ($ USD): 14509.5448663<br>Number of loans: 2318<br>Most Likely Term: 36<br>Most Likely Grade: C<br>Avg EMP Length: 5.51898188093",
          "TX<br>Avg Loan Amount ($ USD): 16378.3285503<br>Number of loans: 11499<br>Most Likely Term: 36<br>Most Likely Grade: C<br>Avg EMP Length: 5.31115749196",
          "UT<br>Avg Loan Amount ($ USD): 15989.3236715<br>Number of loans: 1035<br>Most Likely Term: 36<br>Most Likely Grade: C<br>Avg EMP Length: 5.53719806763",
          "VA<br>Avg Loan Amount ($ USD): 16184.206062<br>Number of loans: 4421<br>Most Likely Term: 36<br>Most Likely Grade: C<br>Avg EMP Length: 5.71047274372",
          "VT<br>Avg Loan Amount ($ USD): 14132.0093458<br>Number of loans: 214<br>Most Likely Term: 36<br>Most Likely Grade: C<br>Avg EMP Length: 5.71495327103",
          "WA<br>Avg Loan Amount ($ USD): 15359.2377495<br>Number of loans: 2755<br>Most Likely Term: 36<br>Most Likely Grade: C<br>Avg EMP Length: 5.48602540835",
          "WI<br>Avg Loan Amount ($ USD): 14384.6642468<br>Number of loans: 1653<br>Most Likely Term: 36<br>Most Likely Grade: C<br>Avg EMP Length: 5.61887477314",
          "WV<br>Avg Loan Amount ($ USD): 15789.8336414<br>Number of loans: 541<br>Most Likely Term: 36<br>Most Likely Grade: C<br>Avg EMP Length: 5.70609981516",
          "WY<br>Avg Loan Amount ($ USD): 16451.0273973<br>Number of loans: 292<br>Most Likely Term: 36<br>Most Likely Grade: C<br>Avg EMP Length: 5.31849315068"
         ],
         "type": "choropleth",
         "z": [
          "375",
          "2220",
          "1266",
          "3441",
          "21611",
          "2592",
          "1971",
          "285",
          "423",
          "10975",
          "4481",
          "779",
          "8",
          "59",
          "5254",
          "2369",
          "1057",
          "1407",
          "1944",
          "3244",
          "3603",
          "75",
          "3819",
          "2673",
          "2465",
          "762",
          "371",
          "4401",
          "97",
          "268",
          "494",
          "5687",
          "916",
          "2459",
          "13569",
          "5058",
          "1561",
          "1434",
          "5315",
          "600",
          "1477",
          "341",
          "2318",
          "11499",
          "1035",
          "4421",
          "214",
          "2755",
          "1653",
          "541",
          "292"
         ]
        }
       ],
       "layout": {
        "geo": {
         "lakecolor": "rgb(255, 255, 255)",
         "projection": {
          "type": "albers usa"
         },
         "scope": "usa",
         "showlakes": true
        },
        "title": "Total number of defaulted loans by state <br> (Hover over state for other metrics)"
       }
      },
      "text/html": [
       "<div id=\"bb4ff3c5-3964-49a8-9391-47e5f79f39a9\" style=\"height: 525px; width: 100%;\" class=\"plotly-graph-div\"></div><script type=\"text/javascript\">require([\"plotly\"], function(Plotly) { window.PLOTLYENV=window.PLOTLYENV || {};window.PLOTLYENV.BASE_URL=\"https://plot.ly\";Plotly.newPlot(\"bb4ff3c5-3964-49a8-9391-47e5f79f39a9\", [{\"type\": \"choropleth\", \"colorscale\": [[0.0, \"rgb(242,240,247)\"], [0.2, \"rgb(218,218,235)\"], [0.4, \"rgb(188,189,220)\"], [0.6, \"rgb(158,154,200)\"], [0.8, \"rgb(117,107,177)\"], [1.0, \"rgb(84,39,143)\"]], \"autocolorscale\": true, \"locations\": [\"AK\", \"AL\", \"AR\", \"AZ\", \"CA\", \"CO\", \"CT\", \"DC\", \"DE\", \"FL\", \"GA\", \"HI\", \"IA\", \"ID\", \"IL\", \"IN\", \"KS\", \"KY\", \"LA\", \"MA\", \"MD\", \"ME\", \"MI\", \"MN\", \"MO\", \"MS\", \"MT\", \"NC\", \"ND\", \"NE\", \"NH\", \"NJ\", \"NM\", \"NV\", \"NY\", \"OH\", \"OK\", \"OR\", \"PA\", \"RI\", \"SC\", \"SD\", \"TN\", \"TX\", \"UT\", \"VA\", \"VT\", \"WA\", \"WI\", \"WV\", \"WY\"], \"z\": [\"375\", \"2220\", \"1266\", \"3441\", \"21611\", \"2592\", \"1971\", \"285\", \"423\", \"10975\", \"4481\", \"779\", \"8\", \"59\", \"5254\", \"2369\", \"1057\", \"1407\", \"1944\", \"3244\", \"3603\", \"75\", \"3819\", \"2673\", \"2465\", \"762\", \"371\", \"4401\", \"97\", \"268\", \"494\", \"5687\", \"916\", \"2459\", \"13569\", \"5058\", \"1561\", \"1434\", \"5315\", \"600\", \"1477\", \"341\", \"2318\", \"11499\", \"1035\", \"4421\", \"214\", \"2755\", \"1653\", \"541\", \"292\"], \"locationmode\": \"USA-states\", \"text\": [\"AK<br>Avg Loan Amount ($ USD): 17022.0666667<br>Number of loans: 375<br>Most Likely Term: 36<br>Most Likely Grade: C<br>Avg EMP Length: 5.82133333333\", \"AL<br>Avg Loan Amount ($ USD): 15115.9121622<br>Number of loans: 2220<br>Most Likely Term: 36<br>Most Likely Grade: C<br>Avg EMP Length: 5.96171171171\", \"AR<br>Avg Loan Amount ($ USD): 14302.8633491<br>Number of loans: 1266<br>Most Likely Term: 36<br>Most Likely Grade: C<br>Avg EMP Length: 5.49605055292\", \"AZ<br>Avg Loan Amount ($ USD): 15156.4661436<br>Number of loans: 3441<br>Most Likely Term: 36<br>Most Likely Grade: C<br>Avg EMP Length: 5.197907585\", \"CA<br>Avg Loan Amount ($ USD): 15315.1230855<br>Number of loans: 21611<br>Most Likely Term: 36<br>Most Likely Grade: C<br>Avg EMP Length: 5.59969459997\", \"CO<br>Avg Loan Amount ($ USD): 14978.0381944<br>Number of loans: 2592<br>Most Likely Term: 36<br>Most Likely Grade: C<br>Avg EMP Length: 4.72145061728\", \"CT<br>Avg Loan Amount ($ USD): 15745.0659564<br>Number of loans: 1971<br>Most Likely Term: 36<br>Most Likely Grade: C<br>Avg EMP Length: 5.81481481481\", \"DC<br>Avg Loan Amount ($ USD): 15933.5964912<br>Number of loans: 285<br>Most Likely Term: 36<br>Most Likely Grade: C<br>Avg EMP Length: 5.01052631579\", \"DE<br>Avg Loan Amount ($ USD): 15136.820331<br>Number of loans: 423<br>Most Likely Term: 36<br>Most Likely Grade: C<br>Avg EMP Length: 5.91252955083\", \"FL<br>Avg Loan Amount ($ USD): 14381.6104784<br>Number of loans: 10975<br>Most Likely Term: 36<br>Most Likely Grade: C<br>Avg EMP Length: 5.09102505695\", \"GA<br>Avg Loan Amount ($ USD): 15658.5974113<br>Number of loans: 4481<br>Most Likely Term: 36<br>Most Likely Grade: C<br>Avg EMP Length: 5.57241687123\", \"HI<br>Avg Loan Amount ($ USD): 16828.5301669<br>Number of loans: 779<br>Most Likely Term: 36<br>Most Likely Grade: C<br>Avg EMP Length: 6.20795892169\", \"IA<br>Avg Loan Amount ($ USD): 6362.5<br>Number of loans: 8<br>Most Likely Term: 36<br>Most Likely Grade: D<br>Avg EMP Length: 3.75\", \"ID<br>Avg Loan Amount ($ USD): 14201.2711864<br>Number of loans: 59<br>Most Likely Term: 36<br>Most Likely Grade: C<br>Avg EMP Length: 4.61016949153\", \"IL<br>Avg Loan Amount ($ USD): 15469.5374952<br>Number of loans: 5254<br>Most Likely Term: 36<br>Most Likely Grade: C<br>Avg EMP Length: 5.67967263038\", \"IN<br>Avg Loan Amount ($ USD): 15110.521317<br>Number of loans: 2369<br>Most Likely Term: 36<br>Most Likely Grade: C<br>Avg EMP Length: 5.6213592233\", \"KS<br>Avg Loan Amount ($ USD): 14914.0018921<br>Number of loans: 1057<br>Most Likely Term: 36<br>Most Likely Grade: C<br>Avg EMP Length: 5.71050141911\", \"KY<br>Avg Loan Amount ($ USD): 14888.9303483<br>Number of loans: 1407<br>Most Likely Term: 36<br>Most Likely Grade: C<br>Avg EMP Length: 5.82018479033\", \"LA<br>Avg Loan Amount ($ USD): 15640.2520576<br>Number of loans: 1944<br>Most Likely Term: 36<br>Most Likely Grade: C<br>Avg EMP Length: 5.49279835391\", \"MA<br>Avg Loan Amount ($ USD): 16158.9549938<br>Number of loans: 3244<br>Most Likely Term: 36<br>Most Likely Grade: C<br>Avg EMP Length: 5.63286066584\", \"MD<br>Avg Loan Amount ($ USD): 16085.1998335<br>Number of loans: 3603<br>Most Likely Term: 36<br>Most Likely Grade: C<br>Avg EMP Length: 5.79322786567\", \"ME<br>Avg Loan Amount ($ USD): 15933.0<br>Number of loans: 75<br>Most Likely Term: 36<br>Most Likely Grade: C<br>Avg EMP Length: 4.29333333333\", \"MI<br>Avg Loan Amount ($ USD): 14899.365017<br>Number of loans: 3819<br>Most Likely Term: 36<br>Most Likely Grade: C<br>Avg EMP Length: 5.67033254779\", \"MN<br>Avg Loan Amount ($ USD): 15001.71156<br>Number of loans: 2673<br>Most Likely Term: 36<br>Most Likely Grade: C<br>Avg EMP Length: 5.57949869061\", \"MO<br>Avg Loan Amount ($ USD): 14748.5395538<br>Number of loans: 2465<br>Most Likely Term: 36<br>Most Likely Grade: C<br>Avg EMP Length: 5.59229208925\", \"MS<br>Avg Loan Amount ($ USD): 15536.5485564<br>Number of loans: 762<br>Most Likely Term: 36<br>Most Likely Grade: C<br>Avg EMP Length: 5.4593175853\", \"MT<br>Avg Loan Amount ($ USD): 15218.6657682<br>Number of loans: 371<br>Most Likely Term: 36<br>Most Likely Grade: C<br>Avg EMP Length: 5.27223719677\", \"NC<br>Avg Loan Amount ($ USD): 15379.8852534<br>Number of loans: 4401<br>Most Likely Term: 36<br>Most Likely Grade: C<br>Avg EMP Length: 5.61849579641\", \"ND<br>Avg Loan Amount ($ USD): 16230.6701031<br>Number of loans: 97<br>Most Likely Term: 36<br>Most Likely Grade: C<br>Avg EMP Length: 4.39175257732\", \"NE<br>Avg Loan Amount ($ USD): 14413.1529851<br>Number of loans: 268<br>Most Likely Term: 36<br>Most Likely Grade: C<br>Avg EMP Length: 4.78731343284\", \"NH<br>Avg Loan Amount ($ USD): 15008.9574899<br>Number of loans: 494<br>Most Likely Term: 36<br>Most Likely Grade: C<br>Avg EMP Length: 5.73886639676\", \"NJ<br>Avg Loan Amount ($ USD): 16028.0859856<br>Number of loans: 5687<br>Most Likely Term: 36<br>Most Likely Grade: C<br>Avg EMP Length: 5.78072797609\", \"NM<br>Avg Loan Amount ($ USD): 15702.2925764<br>Number of loans: 916<br>Most Likely Term: 36<br>Most Likely Grade: C<br>Avg EMP Length: 5.47816593886\", \"NV<br>Avg Loan Amount ($ USD): 14145.5469703<br>Number of loans: 2459<br>Most Likely Term: 36<br>Most Likely Grade: C<br>Avg EMP Length: 5.13338755592\", \"NY<br>Avg Loan Amount ($ USD): 15190.1890338<br>Number of loans: 13569<br>Most Likely Term: 36<br>Most Likely Grade: C<br>Avg EMP Length: 5.74537548825\", \"OH<br>Avg Loan Amount ($ USD): 14593.86121<br>Number of loans: 5058<br>Most Likely Term: 36<br>Most Likely Grade: C<br>Avg EMP Length: 5.75820482404\", \"OK<br>Avg Loan Amount ($ USD): 15200.4003844<br>Number of loans: 1561<br>Most Likely Term: 36<br>Most Likely Grade: C<br>Avg EMP Length: 5.41704035874\", \"OR<br>Avg Loan Amount ($ USD): 13455.1603905<br>Number of loans: 1434<br>Most Likely Term: 36<br>Most Likely Grade: C<br>Avg EMP Length: 5.11436541144\", \"PA<br>Avg Loan Amount ($ USD): 15362.9915334<br>Number of loans: 5315<br>Most Likely Term: 36<br>Most Likely Grade: C<br>Avg EMP Length: 5.63198494826\", \"RI<br>Avg Loan Amount ($ USD): 14341.375<br>Number of loans: 600<br>Most Likely Term: 36<br>Most Likely Grade: C<br>Avg EMP Length: 5.915\", \"SC<br>Avg Loan Amount ($ USD): 15551.1848341<br>Number of loans: 1477<br>Most Likely Term: 36<br>Most Likely Grade: C<br>Avg EMP Length: 5.34664861205\", \"SD<br>Avg Loan Amount ($ USD): 15150.9530792<br>Number of loans: 341<br>Most Likely Term: 36<br>Most Likely Grade: C<br>Avg EMP Length: 5.4926686217\", \"TN<br>Avg Loan Amount ($ USD): 14509.5448663<br>Number of loans: 2318<br>Most Likely Term: 36<br>Most Likely Grade: C<br>Avg EMP Length: 5.51898188093\", \"TX<br>Avg Loan Amount ($ USD): 16378.3285503<br>Number of loans: 11499<br>Most Likely Term: 36<br>Most Likely Grade: C<br>Avg EMP Length: 5.31115749196\", \"UT<br>Avg Loan Amount ($ USD): 15989.3236715<br>Number of loans: 1035<br>Most Likely Term: 36<br>Most Likely Grade: C<br>Avg EMP Length: 5.53719806763\", \"VA<br>Avg Loan Amount ($ USD): 16184.206062<br>Number of loans: 4421<br>Most Likely Term: 36<br>Most Likely Grade: C<br>Avg EMP Length: 5.71047274372\", \"VT<br>Avg Loan Amount ($ USD): 14132.0093458<br>Number of loans: 214<br>Most Likely Term: 36<br>Most Likely Grade: C<br>Avg EMP Length: 5.71495327103\", \"WA<br>Avg Loan Amount ($ USD): 15359.2377495<br>Number of loans: 2755<br>Most Likely Term: 36<br>Most Likely Grade: C<br>Avg EMP Length: 5.48602540835\", \"WI<br>Avg Loan Amount ($ USD): 14384.6642468<br>Number of loans: 1653<br>Most Likely Term: 36<br>Most Likely Grade: C<br>Avg EMP Length: 5.61887477314\", \"WV<br>Avg Loan Amount ($ USD): 15789.8336414<br>Number of loans: 541<br>Most Likely Term: 36<br>Most Likely Grade: C<br>Avg EMP Length: 5.70609981516\", \"WY<br>Avg Loan Amount ($ USD): 16451.0273973<br>Number of loans: 292<br>Most Likely Term: 36<br>Most Likely Grade: C<br>Avg EMP Length: 5.31849315068\"], \"marker\": {\"line\": {\"color\": \"rgb(255,255,255)\", \"width\": 2}}, \"colorbar\": {\"title\": \"Number of loans\"}}], {\"title\": \"Total number of defaulted loans by state <br> (Hover over state for other metrics)\", \"geo\": {\"scope\": \"usa\", \"projection\": {\"type\": \"albers usa\"}, \"showlakes\": true, \"lakecolor\": \"rgb(255, 255, 255)\"}}, {\"showLink\": true, \"linkText\": \"Export to plot.ly\"})});</script>"
      ],
      "text/vnd.plotly.v1+html": [
       "<div id=\"bb4ff3c5-3964-49a8-9391-47e5f79f39a9\" style=\"height: 525px; width: 100%;\" class=\"plotly-graph-div\"></div><script type=\"text/javascript\">require([\"plotly\"], function(Plotly) { window.PLOTLYENV=window.PLOTLYENV || {};window.PLOTLYENV.BASE_URL=\"https://plot.ly\";Plotly.newPlot(\"bb4ff3c5-3964-49a8-9391-47e5f79f39a9\", [{\"type\": \"choropleth\", \"colorscale\": [[0.0, \"rgb(242,240,247)\"], [0.2, \"rgb(218,218,235)\"], [0.4, \"rgb(188,189,220)\"], [0.6, \"rgb(158,154,200)\"], [0.8, \"rgb(117,107,177)\"], [1.0, \"rgb(84,39,143)\"]], \"autocolorscale\": true, \"locations\": [\"AK\", \"AL\", \"AR\", \"AZ\", \"CA\", \"CO\", \"CT\", \"DC\", \"DE\", \"FL\", \"GA\", \"HI\", \"IA\", \"ID\", \"IL\", \"IN\", \"KS\", \"KY\", \"LA\", \"MA\", \"MD\", \"ME\", \"MI\", \"MN\", \"MO\", \"MS\", \"MT\", \"NC\", \"ND\", \"NE\", \"NH\", \"NJ\", \"NM\", \"NV\", \"NY\", \"OH\", \"OK\", \"OR\", \"PA\", \"RI\", \"SC\", \"SD\", \"TN\", \"TX\", \"UT\", \"VA\", \"VT\", \"WA\", \"WI\", \"WV\", \"WY\"], \"z\": [\"375\", \"2220\", \"1266\", \"3441\", \"21611\", \"2592\", \"1971\", \"285\", \"423\", \"10975\", \"4481\", \"779\", \"8\", \"59\", \"5254\", \"2369\", \"1057\", \"1407\", \"1944\", \"3244\", \"3603\", \"75\", \"3819\", \"2673\", \"2465\", \"762\", \"371\", \"4401\", \"97\", \"268\", \"494\", \"5687\", \"916\", \"2459\", \"13569\", \"5058\", \"1561\", \"1434\", \"5315\", \"600\", \"1477\", \"341\", \"2318\", \"11499\", \"1035\", \"4421\", \"214\", \"2755\", \"1653\", \"541\", \"292\"], \"locationmode\": \"USA-states\", \"text\": [\"AK<br>Avg Loan Amount ($ USD): 17022.0666667<br>Number of loans: 375<br>Most Likely Term: 36<br>Most Likely Grade: C<br>Avg EMP Length: 5.82133333333\", \"AL<br>Avg Loan Amount ($ USD): 15115.9121622<br>Number of loans: 2220<br>Most Likely Term: 36<br>Most Likely Grade: C<br>Avg EMP Length: 5.96171171171\", \"AR<br>Avg Loan Amount ($ USD): 14302.8633491<br>Number of loans: 1266<br>Most Likely Term: 36<br>Most Likely Grade: C<br>Avg EMP Length: 5.49605055292\", \"AZ<br>Avg Loan Amount ($ USD): 15156.4661436<br>Number of loans: 3441<br>Most Likely Term: 36<br>Most Likely Grade: C<br>Avg EMP Length: 5.197907585\", \"CA<br>Avg Loan Amount ($ USD): 15315.1230855<br>Number of loans: 21611<br>Most Likely Term: 36<br>Most Likely Grade: C<br>Avg EMP Length: 5.59969459997\", \"CO<br>Avg Loan Amount ($ USD): 14978.0381944<br>Number of loans: 2592<br>Most Likely Term: 36<br>Most Likely Grade: C<br>Avg EMP Length: 4.72145061728\", \"CT<br>Avg Loan Amount ($ USD): 15745.0659564<br>Number of loans: 1971<br>Most Likely Term: 36<br>Most Likely Grade: C<br>Avg EMP Length: 5.81481481481\", \"DC<br>Avg Loan Amount ($ USD): 15933.5964912<br>Number of loans: 285<br>Most Likely Term: 36<br>Most Likely Grade: C<br>Avg EMP Length: 5.01052631579\", \"DE<br>Avg Loan Amount ($ USD): 15136.820331<br>Number of loans: 423<br>Most Likely Term: 36<br>Most Likely Grade: C<br>Avg EMP Length: 5.91252955083\", \"FL<br>Avg Loan Amount ($ USD): 14381.6104784<br>Number of loans: 10975<br>Most Likely Term: 36<br>Most Likely Grade: C<br>Avg EMP Length: 5.09102505695\", \"GA<br>Avg Loan Amount ($ USD): 15658.5974113<br>Number of loans: 4481<br>Most Likely Term: 36<br>Most Likely Grade: C<br>Avg EMP Length: 5.57241687123\", \"HI<br>Avg Loan Amount ($ USD): 16828.5301669<br>Number of loans: 779<br>Most Likely Term: 36<br>Most Likely Grade: C<br>Avg EMP Length: 6.20795892169\", \"IA<br>Avg Loan Amount ($ USD): 6362.5<br>Number of loans: 8<br>Most Likely Term: 36<br>Most Likely Grade: D<br>Avg EMP Length: 3.75\", \"ID<br>Avg Loan Amount ($ USD): 14201.2711864<br>Number of loans: 59<br>Most Likely Term: 36<br>Most Likely Grade: C<br>Avg EMP Length: 4.61016949153\", \"IL<br>Avg Loan Amount ($ USD): 15469.5374952<br>Number of loans: 5254<br>Most Likely Term: 36<br>Most Likely Grade: C<br>Avg EMP Length: 5.67967263038\", \"IN<br>Avg Loan Amount ($ USD): 15110.521317<br>Number of loans: 2369<br>Most Likely Term: 36<br>Most Likely Grade: C<br>Avg EMP Length: 5.6213592233\", \"KS<br>Avg Loan Amount ($ USD): 14914.0018921<br>Number of loans: 1057<br>Most Likely Term: 36<br>Most Likely Grade: C<br>Avg EMP Length: 5.71050141911\", \"KY<br>Avg Loan Amount ($ USD): 14888.9303483<br>Number of loans: 1407<br>Most Likely Term: 36<br>Most Likely Grade: C<br>Avg EMP Length: 5.82018479033\", \"LA<br>Avg Loan Amount ($ USD): 15640.2520576<br>Number of loans: 1944<br>Most Likely Term: 36<br>Most Likely Grade: C<br>Avg EMP Length: 5.49279835391\", \"MA<br>Avg Loan Amount ($ USD): 16158.9549938<br>Number of loans: 3244<br>Most Likely Term: 36<br>Most Likely Grade: C<br>Avg EMP Length: 5.63286066584\", \"MD<br>Avg Loan Amount ($ USD): 16085.1998335<br>Number of loans: 3603<br>Most Likely Term: 36<br>Most Likely Grade: C<br>Avg EMP Length: 5.79322786567\", \"ME<br>Avg Loan Amount ($ USD): 15933.0<br>Number of loans: 75<br>Most Likely Term: 36<br>Most Likely Grade: C<br>Avg EMP Length: 4.29333333333\", \"MI<br>Avg Loan Amount ($ USD): 14899.365017<br>Number of loans: 3819<br>Most Likely Term: 36<br>Most Likely Grade: C<br>Avg EMP Length: 5.67033254779\", \"MN<br>Avg Loan Amount ($ USD): 15001.71156<br>Number of loans: 2673<br>Most Likely Term: 36<br>Most Likely Grade: C<br>Avg EMP Length: 5.57949869061\", \"MO<br>Avg Loan Amount ($ USD): 14748.5395538<br>Number of loans: 2465<br>Most Likely Term: 36<br>Most Likely Grade: C<br>Avg EMP Length: 5.59229208925\", \"MS<br>Avg Loan Amount ($ USD): 15536.5485564<br>Number of loans: 762<br>Most Likely Term: 36<br>Most Likely Grade: C<br>Avg EMP Length: 5.4593175853\", \"MT<br>Avg Loan Amount ($ USD): 15218.6657682<br>Number of loans: 371<br>Most Likely Term: 36<br>Most Likely Grade: C<br>Avg EMP Length: 5.27223719677\", \"NC<br>Avg Loan Amount ($ USD): 15379.8852534<br>Number of loans: 4401<br>Most Likely Term: 36<br>Most Likely Grade: C<br>Avg EMP Length: 5.61849579641\", \"ND<br>Avg Loan Amount ($ USD): 16230.6701031<br>Number of loans: 97<br>Most Likely Term: 36<br>Most Likely Grade: C<br>Avg EMP Length: 4.39175257732\", \"NE<br>Avg Loan Amount ($ USD): 14413.1529851<br>Number of loans: 268<br>Most Likely Term: 36<br>Most Likely Grade: C<br>Avg EMP Length: 4.78731343284\", \"NH<br>Avg Loan Amount ($ USD): 15008.9574899<br>Number of loans: 494<br>Most Likely Term: 36<br>Most Likely Grade: C<br>Avg EMP Length: 5.73886639676\", \"NJ<br>Avg Loan Amount ($ USD): 16028.0859856<br>Number of loans: 5687<br>Most Likely Term: 36<br>Most Likely Grade: C<br>Avg EMP Length: 5.78072797609\", \"NM<br>Avg Loan Amount ($ USD): 15702.2925764<br>Number of loans: 916<br>Most Likely Term: 36<br>Most Likely Grade: C<br>Avg EMP Length: 5.47816593886\", \"NV<br>Avg Loan Amount ($ USD): 14145.5469703<br>Number of loans: 2459<br>Most Likely Term: 36<br>Most Likely Grade: C<br>Avg EMP Length: 5.13338755592\", \"NY<br>Avg Loan Amount ($ USD): 15190.1890338<br>Number of loans: 13569<br>Most Likely Term: 36<br>Most Likely Grade: C<br>Avg EMP Length: 5.74537548825\", \"OH<br>Avg Loan Amount ($ USD): 14593.86121<br>Number of loans: 5058<br>Most Likely Term: 36<br>Most Likely Grade: C<br>Avg EMP Length: 5.75820482404\", \"OK<br>Avg Loan Amount ($ USD): 15200.4003844<br>Number of loans: 1561<br>Most Likely Term: 36<br>Most Likely Grade: C<br>Avg EMP Length: 5.41704035874\", \"OR<br>Avg Loan Amount ($ USD): 13455.1603905<br>Number of loans: 1434<br>Most Likely Term: 36<br>Most Likely Grade: C<br>Avg EMP Length: 5.11436541144\", \"PA<br>Avg Loan Amount ($ USD): 15362.9915334<br>Number of loans: 5315<br>Most Likely Term: 36<br>Most Likely Grade: C<br>Avg EMP Length: 5.63198494826\", \"RI<br>Avg Loan Amount ($ USD): 14341.375<br>Number of loans: 600<br>Most Likely Term: 36<br>Most Likely Grade: C<br>Avg EMP Length: 5.915\", \"SC<br>Avg Loan Amount ($ USD): 15551.1848341<br>Number of loans: 1477<br>Most Likely Term: 36<br>Most Likely Grade: C<br>Avg EMP Length: 5.34664861205\", \"SD<br>Avg Loan Amount ($ USD): 15150.9530792<br>Number of loans: 341<br>Most Likely Term: 36<br>Most Likely Grade: C<br>Avg EMP Length: 5.4926686217\", \"TN<br>Avg Loan Amount ($ USD): 14509.5448663<br>Number of loans: 2318<br>Most Likely Term: 36<br>Most Likely Grade: C<br>Avg EMP Length: 5.51898188093\", \"TX<br>Avg Loan Amount ($ USD): 16378.3285503<br>Number of loans: 11499<br>Most Likely Term: 36<br>Most Likely Grade: C<br>Avg EMP Length: 5.31115749196\", \"UT<br>Avg Loan Amount ($ USD): 15989.3236715<br>Number of loans: 1035<br>Most Likely Term: 36<br>Most Likely Grade: C<br>Avg EMP Length: 5.53719806763\", \"VA<br>Avg Loan Amount ($ USD): 16184.206062<br>Number of loans: 4421<br>Most Likely Term: 36<br>Most Likely Grade: C<br>Avg EMP Length: 5.71047274372\", \"VT<br>Avg Loan Amount ($ USD): 14132.0093458<br>Number of loans: 214<br>Most Likely Term: 36<br>Most Likely Grade: C<br>Avg EMP Length: 5.71495327103\", \"WA<br>Avg Loan Amount ($ USD): 15359.2377495<br>Number of loans: 2755<br>Most Likely Term: 36<br>Most Likely Grade: C<br>Avg EMP Length: 5.48602540835\", \"WI<br>Avg Loan Amount ($ USD): 14384.6642468<br>Number of loans: 1653<br>Most Likely Term: 36<br>Most Likely Grade: C<br>Avg EMP Length: 5.61887477314\", \"WV<br>Avg Loan Amount ($ USD): 15789.8336414<br>Number of loans: 541<br>Most Likely Term: 36<br>Most Likely Grade: C<br>Avg EMP Length: 5.70609981516\", \"WY<br>Avg Loan Amount ($ USD): 16451.0273973<br>Number of loans: 292<br>Most Likely Term: 36<br>Most Likely Grade: C<br>Avg EMP Length: 5.31849315068\"], \"marker\": {\"line\": {\"color\": \"rgb(255,255,255)\", \"width\": 2}}, \"colorbar\": {\"title\": \"Number of loans\"}}], {\"title\": \"Total number of defaulted loans by state <br> (Hover over state for other metrics)\", \"geo\": {\"scope\": \"usa\", \"projection\": {\"type\": \"albers usa\"}, \"showlakes\": true, \"lakecolor\": \"rgb(255, 255, 255)\"}}, {\"showLink\": true, \"linkText\": \"Export to plot.ly\"})});</script>"
      ]
     },
     "metadata": {},
     "output_type": "display_data"
    }
   ],
   "source": [
    "# from the tutorial, leaving in just for now\n",
    "for col in dfSummary.columns:\n",
    "    dfSummary[col] = dfSummary[col].astype(str)\n",
    "\n",
    "    scl = [[0.0, 'rgb(242,240,247)'],[0.2, 'rgb(218,218,235)'],[0.4, 'rgb(188,189,220)'],\\\n",
    "            [0.6, 'rgb(158,154,200)'],[0.8, 'rgb(117,107,177)'],[1.0, 'rgb(84,39,143)']]\n",
    "\n",
    "dfSummary['text'] = dfSummary['State'] + '<br>' +\\\n",
    "    'Avg Loan Amount ($ USD): '+dfSummary['Avg Loan Amount']+'<br>'+\\\n",
    "    'Number of loans: '+dfSummary['Accepted Loans']+'<br>'+\\\n",
    "    'Most Likely Term: '+dfSummary['Most Likely Term']+'<br>'+\\\n",
    "    'Most Likely Grade: '+dfSummary['Most Likely Grade']+'<br>'+\\\n",
    "    'Avg EMP Length: '+dfSummary['Avg EMP Length']\n",
    "\n",
    "data = [ dict(\n",
    "        type='choropleth',\n",
    "        colorscale = scl,\n",
    "        autocolorscale = True,\n",
    "        locations = dfSummary['State'],\n",
    "        z = dfSummary['Accepted Loans'], #.astype(int),\n",
    "        locationmode = 'USA-states',\n",
    "        text = dfSummary['text'],\n",
    "        marker = dict(\n",
    "            line = dict (\n",
    "                color = 'rgb(255,255,255)',\n",
    "                width = 2\n",
    "            ) ),\n",
    "        colorbar = dict(\n",
    "            title = \"Number of loans\")\n",
    "        ) ]\n",
    "\n",
    "layout = dict(\n",
    "        title = 'Total number of defaulted loans by state <br> (Hover over state for other metrics)',\n",
    "        geo = dict(\n",
    "            scope='usa',\n",
    "            projection=dict( type='albers usa' ),\n",
    "            showlakes = True,\n",
    "            lakecolor = 'rgb(255, 255, 255)'),\n",
    "             )\n",
    "    \n",
    "fig = dict( data=data, layout=layout )\n",
    "iplot( fig, filename='d3-cloropleth-map' )"
   ]
  }
 ],
 "metadata": {
  "kernelspec": {
   "display_name": "Python 3",
   "language": "python",
   "name": "python3"
  },
  "language_info": {
   "codemirror_mode": {
    "name": "ipython",
    "version": 3
   },
   "file_extension": ".py",
   "mimetype": "text/x-python",
   "name": "python",
   "nbconvert_exporter": "python",
   "pygments_lexer": "ipython3",
   "version": "3.6.0"
  }
 },
 "nbformat": 4,
 "nbformat_minor": 2
}
