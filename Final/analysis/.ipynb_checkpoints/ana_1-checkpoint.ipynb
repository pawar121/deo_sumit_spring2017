{
 "cells": [
  {
   "cell_type": "code",
   "execution_count": 2,
   "metadata": {
    "collapsed": false
   },
   "outputs": [
    {
     "data": {
      "text/html": [
       "<script>requirejs.config({paths: { 'plotly': ['https://cdn.plot.ly/plotly-latest.min']},});if(!window.Plotly) {{require(['plotly'],function(plotly) {window.Plotly=plotly;});}}</script>"
      ],
      "text/vnd.plotly.v1+html": [
       "<script>requirejs.config({paths: { 'plotly': ['https://cdn.plot.ly/plotly-latest.min']},});if(!window.Plotly) {{require(['plotly'],function(plotly) {window.Plotly=plotly;});}}</script>"
      ]
     },
     "metadata": {},
     "output_type": "display_data"
    }
   ],
   "source": [
    "#improting all the required packages\n",
    "import os\n",
    "import pandas as pd\n",
    "import numpy as np\n",
    "import seaborn as sns\n",
    "import matplotlib as mpl\n",
    "import matplotlib.pyplot as plt\n",
    "np.random.seed(sum(map(ord, \"aesthetics\")))\n",
    "%matplotlib inline\n",
    "import plotly.plotly as py\n",
    "import plotly.graph_objs as go\n",
    "from plotly import tools\n",
    "from plotly.offline import download_plotlyjs, init_notebook_mode, plot, iplot\n",
    "init_notebook_mode(connected=True)\n",
    "import warnings\n",
    "warnings.filterwarnings('ignore')"
   ]
  },
  {
   "cell_type": "code",
   "execution_count": 8,
   "metadata": {
    "collapsed": true
   },
   "outputs": [],
   "source": [
    "#defining the file-directory\n",
    "fileDir = os.path.dirname(os.path.realpath('__file__'))"
   ]
  },
  {
   "cell_type": "code",
   "execution_count": 13,
   "metadata": {
    "collapsed": false
   },
   "outputs": [],
   "source": [
    "#defining the processed data-directory\n",
    "dataDir = fileDir.strip('analysis') + 'data\\\\processed_data\\\\'"
   ]
  },
  {
   "cell_type": "markdown",
   "metadata": {},
   "source": [
    "# Reading and consolidating the data"
   ]
  },
  {
   "cell_type": "code",
   "execution_count": 15,
   "metadata": {
    "collapsed": true
   },
   "outputs": [],
   "source": [
    "#defining data frame for the consolidated loan data\n",
    "dfLoanData = pd.DataFrame()"
   ]
  },
  {
   "cell_type": "code",
   "execution_count": 17,
   "metadata": {
    "collapsed": false
   },
   "outputs": [],
   "source": [
    "#reading loan data stats\n",
    "for directory, subdirectory, filenames in  os.walk(dataDir + 'loan_data\\\\'):\n",
    "    for filename in filenames:\n",
    "        df = pd.read_csv(os.path.join(directory, filename), encoding = 'ISO-8859-1')\n",
    "        dfLoanData =  pd.concat([df, dfLoanData], ignore_index=True)"
   ]
  },
  {
   "cell_type": "code",
   "execution_count": 25,
   "metadata": {
    "collapsed": false
   },
   "outputs": [],
   "source": [
    "#defining data frame for the consolidated Declined loan data\n",
    "dfDecLoanData = pd.DataFrame()"
   ]
  },
  {
   "cell_type": "code",
   "execution_count": 26,
   "metadata": {
    "collapsed": false
   },
   "outputs": [],
   "source": [
    "#reading Declined loan data stats\n",
    "for directory, subdirectory, filenames in  os.walk(dataDir + 'declined_loan_data\\\\'):\n",
    "    for filename in filenames:\n",
    "        df = pd.read_csv(os.path.join(directory, filename), encoding = 'ISO-8859-1')\n",
    "        dfDecLoanData =  pd.concat([df, dfLoanData], ignore_index=True)"
   ]
  },
  {
   "cell_type": "markdown",
   "metadata": {},
   "source": [
    "# Summarizing data by Sate"
   ]
  },
  {
   "cell_type": "code",
   "execution_count": 27,
   "metadata": {
    "collapsed": true
   },
   "outputs": [],
   "source": [
    "#group the acceptd loans by state\n",
    "\n",
    "#by year and counting the total amount of accepted loans and Interest Rate\n",
    "seriesCount = dfLoanData['LoanAmt'].groupby(dfLoanData['State']).count()\n",
    "\n",
    "#by year and Average of Interest Rate\n",
    "seriesInterest = dfLoanData['IntRate'].groupby(dfLoanData['State']).mean()\n",
    "\n",
    "#by year and Average of Loan Amount\n",
    "seriesLA = dfLoanData['LoanAmt'].groupby(dfLoanData['State']).mean()\n",
    "\n",
    "#by year and mode of term\n",
    "seriesTerm = dfLoanData['Term'].groupby(dfLoanData['State']).agg(lambda x: x.value_counts().index[0])\n",
    "\n",
    "#by year and mode of grade\n",
    "seriesGrade = dfLoanData['Grade'].groupby(dfLoanData['State']).agg(lambda x: x.value_counts().index[0])\n",
    "\n",
    "#by year and avg of emp_length\n",
    "seriesEL = dfLoanData['EmpLength'].groupby(dfLoanData['State']).mean()\n",
    "\n",
    "#combining seriesCount and seriesTotAmt into summary Metrix data frame\n",
    "columns=['State', 'Accepted Loans', 'Avg Interest Charged', 'Avg Loan Amount', 'Most Likely Term', 'Most Likely Grade', 'Avg EMP Length']\n",
    "dfSummary = pd.DataFrame({'State':seriesCount.index,'Accepted Loans': seriesCount,'Avg Interest Charged':seriesInterest, \n",
    "                          'Avg Loan Amount':seriesLA, 'Most Likely Term':seriesTerm, 'Most Likely Grade':seriesGrade, 'Avg EMP Length':seriesEL})\n"
   ]
  },
  {
   "cell_type": "code",
   "execution_count": 29,
   "metadata": {
    "collapsed": false
   },
   "outputs": [
    {
     "data": {
      "application/vnd.plotly.v1+json": {
       "data": [
        {
         "autocolorscale": false,
         "colorbar": {
          "title": "Number of loans"
         },
         "colorscale": [
          [
           0,
           "rgb(242,240,247)"
          ],
          [
           0.2,
           "rgb(218,218,235)"
          ],
          [
           0.4,
           "rgb(188,189,220)"
          ],
          [
           0.6,
           "rgb(158,154,200)"
          ],
          [
           0.8,
           "rgb(117,107,177)"
          ],
          [
           1,
           "rgb(84,39,143)"
          ]
         ],
         "locationmode": "USA-states",
         "locations": [
          "AK",
          "AL",
          "AR",
          "AZ",
          "CA",
          "CO",
          "CT",
          "DC",
          "DE",
          "FL",
          "GA",
          "HI",
          "IA",
          "ID",
          "IL",
          "IN",
          "KS",
          "KY",
          "LA",
          "MA",
          "MD",
          "ME",
          "MI",
          "MN",
          "MO",
          "MS",
          "MT",
          "NC",
          "ND",
          "NE",
          "NH",
          "NJ",
          "NM",
          "NV",
          "NY",
          "OH",
          "OK",
          "OR",
          "PA",
          "RI",
          "SC",
          "SD",
          "TN",
          "TX",
          "UT",
          "VA",
          "VT",
          "WA",
          "WI",
          "WV",
          "WY"
         ],
         "marker": {
          "line": {
           "color": "rgb(255,255,255)",
           "width": 2
          }
         },
         "text": [
          "AK<br>Avg Loan Amount ($ USD): 16891.3114499<br>Number of loans: 3214<br>Most Likely Term: 36<br>Most Likely Grade: C<br>Avg EMP Length: 6.02084629745",
          "AL<br>Avg Loan Amount ($ USD): 14485.5951662<br>Number of loans: 16550<br>Most Likely Term: 36<br>Most Likely Grade: C<br>Avg EMP Length: 6.11438066465",
          "AR<br>Avg Loan Amount ($ USD): 13962.2245041<br>Number of loans: 9982<br>Most Likely Term: 36<br>Most Likely Grade: C<br>Avg EMP Length: 5.90402724905",
          "AZ<br>Avg Loan Amount ($ USD): 14218.2822662<br>Number of loans: 30907<br>Most Likely Term: 36<br>Most Likely Grade: B<br>Avg EMP Length: 5.41974310027",
          "CA<br>Avg Loan Amount ($ USD): 14820.6785122<br>Number of loans: 187609<br>Most Likely Term: 36<br>Most Likely Grade: B<br>Avg EMP Length: 5.75759691699",
          "CO<br>Avg Loan Amount ($ USD): 14837.3386368<br>Number of loans: 27655<br>Most Likely Term: 36<br>Most Likely Grade: B<br>Avg EMP Length: 5.31954438619",
          "CT<br>Avg Loan Amount ($ USD): 15036.904411<br>Number of loans: 20358<br>Most Likely Term: 36<br>Most Likely Grade: B<br>Avg EMP Length: 5.99145299145",
          "DC<br>Avg Loan Amount ($ USD): 15388.6484099<br>Number of loans: 3396<br>Most Likely Term: 36<br>Most Likely Grade: B<br>Avg EMP Length: 4.6351590106",
          "DE<br>Avg Loan Amount ($ USD): 14472.6307406<br>Number of loans: 3767<br>Most Likely Term: 36<br>Most Likely Grade: C<br>Avg EMP Length: 5.9784974781",
          "FL<br>Avg Loan Amount ($ USD): 13947.1373162<br>Number of loans: 92815<br>Most Likely Term: 36<br>Most Likely Grade: B<br>Avg EMP Length: 5.45985023972",
          "GA<br>Avg Loan Amount ($ USD): 14953.7043829<br>Number of loans: 43624<br>Most Likely Term: 36<br>Most Likely Grade: C<br>Avg EMP Length: 5.7726022373",
          "HI<br>Avg Loan Amount ($ USD): 15386.3808801<br>Number of loans: 6590<br>Most Likely Term: 36<br>Most Likely Grade: C<br>Avg EMP Length: 6.37101669196",
          "IA<br>Avg Loan Amount ($ USD): 9243.42105263<br>Number of loans: 19<br>Most Likely Term: 36<br>Most Likely Grade: D<br>Avg EMP Length: 3.47368421053",
          "ID<br>Avg Loan Amount ($ USD): 14149.8189863<br>Number of loans: 1243<br>Most Likely Term: 36<br>Most Likely Grade: C<br>Avg EMP Length: 5.37409493162",
          "IL<br>Avg Loan Amount ($ USD): 15173.5242175<br>Number of loans: 53226<br>Most Likely Term: 36<br>Most Likely Grade: B<br>Avg EMP Length: 5.84682298125",
          "IN<br>Avg Loan Amount ($ USD): 14514.2898733<br>Number of loans: 21468<br>Most Likely Term: 36<br>Most Likely Grade: C<br>Avg EMP Length: 6.015418297",
          "KS<br>Avg Loan Amount ($ USD): 14590.4402816<br>Number of loans: 11504<br>Most Likely Term: 36<br>Most Likely Grade: B<br>Avg EMP Length: 5.98157162726",
          "KY<br>Avg Loan Amount ($ USD): 14186.9015957<br>Number of loans: 12784<br>Most Likely Term: 36<br>Most Likely Grade: C<br>Avg EMP Length: 6.04364831039",
          "LA<br>Avg Loan Amount ($ USD): 14710.6895446<br>Number of loans: 15590<br>Most Likely Term: 36<br>Most Likely Grade: B<br>Avg EMP Length: 5.78466966004",
          "MA<br>Avg Loan Amount ($ USD): 15542.4086945<br>Number of loans: 30502<br>Most Likely Term: 36<br>Most Likely Grade: B<br>Avg EMP Length: 5.74555766835",
          "MD<br>Avg Loan Amount ($ USD): 15533.1956033<br>Number of loans: 31160<br>Most Likely Term: 36<br>Most Likely Grade: C<br>Avg EMP Length: 5.95314505777",
          "ME<br>Avg Loan Amount ($ USD): 14740.1781105<br>Number of loans: 1937<br>Most Likely Term: 36<br>Most Likely Grade: B<br>Avg EMP Length: 5.70831182241",
          "MI<br>Avg Loan Amount ($ USD): 14089.6931789<br>Number of loans: 34613<br>Most Likely Term: 36<br>Most Likely Grade: B<br>Avg EMP Length: 5.91514748794",
          "MN<br>Avg Loan Amount ($ USD): 14315.2047154<br>Number of loans: 23667<br>Most Likely Term: 36<br>Most Likely Grade: B<br>Avg EMP Length: 5.78615794144",
          "MO<br>Avg Loan Amount ($ USD): 14348.8536654<br>Number of loans: 21198<br>Most Likely Term: 36<br>Most Likely Grade: C<br>Avg EMP Length: 5.90574582508",
          "MS<br>Avg Loan Amount ($ USD): 14642.309417<br>Number of loans: 6690<br>Most Likely Term: 36<br>Most Likely Grade: C<br>Avg EMP Length: 6.05874439462",
          "MT<br>Avg Loan Amount ($ USD): 13806.7117238<br>Number of loans: 3736<br>Most Likely Term: 36<br>Most Likely Grade: B<br>Avg EMP Length: 5.75615631692",
          "NC<br>Avg Loan Amount ($ USD): 14554.5742729<br>Number of loans: 37066<br>Most Likely Term: 36<br>Most Likely Grade: C<br>Avg EMP Length: 5.71291749852",
          "ND<br>Avg Loan Amount ($ USD): 15266.8954248<br>Number of loans: 1530<br>Most Likely Term: 36<br>Most Likely Grade: C<br>Avg EMP Length: 5.04575163399",
          "NE<br>Avg Loan Amount ($ USD): 13977.9376136<br>Number of loans: 3302<br>Most Likely Term: 36<br>Most Likely Grade: C<br>Avg EMP Length: 5.60720775288",
          "NH<br>Avg Loan Amount ($ USD): 14738.1190439<br>Number of loans: 6401<br>Most Likely Term: 36<br>Most Likely Grade: B<br>Avg EMP Length: 5.99500078113",
          "NJ<br>Avg Loan Amount ($ USD): 15500.6637078<br>Number of loans: 49231<br>Most Likely Term: 36<br>Most Likely Grade: B<br>Avg EMP Length: 5.87755682395",
          "NM<br>Avg Loan Amount ($ USD): 14781.7575967<br>Number of loans: 7240<br>Most Likely Term: 36<br>Most Likely Grade: B<br>Avg EMP Length: 5.80552486188",
          "NV<br>Avg Loan Amount ($ USD): 13978.0803715<br>Number of loans: 18626<br>Most Likely Term: 36<br>Most Likely Grade: B<br>Avg EMP Length: 5.54182325781",
          "NY<br>Avg Loan Amount ($ USD): 14548.9583903<br>Number of loans: 109782<br>Most Likely Term: 36<br>Most Likely Grade: B<br>Avg EMP Length: 5.77743163724",
          "OH<br>Avg Loan Amount ($ USD): 14142.1584981<br>Number of loans: 44663<br>Most Likely Term: 36<br>Most Likely Grade: B<br>Avg EMP Length: 6.00528401585",
          "OK<br>Avg Loan Amount ($ USD): 14731.7607604<br>Number of loans: 12151<br>Most Likely Term: 36<br>Most Likely Grade: C<br>Avg EMP Length: 5.75631635256",
          "OR<br>Avg Loan Amount ($ USD): 13735.4748603<br>Number of loans: 15573<br>Most Likely Term: 36<br>Most Likely Grade: B<br>Avg EMP Length: 5.49778462724",
          "PA<br>Avg Loan Amount ($ USD): 14502.4082744<br>Number of loans: 45925<br>Most Likely Term: 36<br>Most Likely Grade: C<br>Avg EMP Length: 5.90192705498",
          "RI<br>Avg Loan Amount ($ USD): 13978.8032191<br>Number of loans: 5778<br>Most Likely Term: 36<br>Most Likely Grade: B<br>Avg EMP Length: 6.18137763932",
          "SC<br>Avg Loan Amount ($ USD): 14698.690078<br>Number of loans: 16146<br>Most Likely Term: 36<br>Most Likely Grade: C<br>Avg EMP Length: 5.73436145175",
          "SD<br>Avg Loan Amount ($ USD): 13890.1371895<br>Number of loans: 2697<br>Most Likely Term: 36<br>Most Likely Grade: C<br>Avg EMP Length: 5.84167593623",
          "TN<br>Avg Loan Amount ($ USD): 14658.1982853<br>Number of loans: 20178<br>Most Likely Term: 36<br>Most Likely Grade: C<br>Avg EMP Length: 5.84071761324",
          "TX<br>Avg Loan Amount ($ USD): 15501.5239762<br>Number of loans: 108253<br>Most Likely Term: 36<br>Most Likely Grade: B<br>Avg EMP Length: 5.63626874082",
          "UT<br>Avg Loan Amount ($ USD): 14745.8172706<br>Number of loans: 9079<br>Most Likely Term: 36<br>Most Likely Grade: C<br>Avg EMP Length: 5.71098138562",
          "VA<br>Avg Loan Amount ($ USD): 15727.752197<br>Number of loans: 38006<br>Most Likely Term: 36<br>Most Likely Grade: B<br>Avg EMP Length: 5.83378940167",
          "VT<br>Avg Loan Amount ($ USD): 13801.7687819<br>Number of loans: 2742<br>Most Likely Term: 36<br>Most Likely Grade: B<br>Avg EMP Length: 6.09919766594",
          "WA<br>Avg Loan Amount ($ USD): 14944.5736713<br>Number of loans: 27772<br>Most Likely Term: 36<br>Most Likely Grade: C<br>Avg EMP Length: 5.70452254069",
          "WI<br>Avg Loan Amount ($ USD): 14166.1249066<br>Number of loans: 17397<br>Most Likely Term: 36<br>Most Likely Grade: B<br>Avg EMP Length: 6.03431626142",
          "WV<br>Avg Loan Amount ($ USD): 14614.5801009<br>Number of loans: 5156<br>Most Likely Term: 36<br>Most Likely Grade: C<br>Avg EMP Length: 5.97362296354",
          "WY<br>Avg Loan Amount ($ USD): 15317.5126476<br>Number of loans: 2965<br>Most Likely Term: 36<br>Most Likely Grade: B<br>Avg EMP Length: 5.89173693086"
         ],
         "type": "choropleth",
         "z": [
          "3214",
          "16550",
          "9982",
          "30907",
          "187609",
          "27655",
          "20358",
          "3396",
          "3767",
          "92815",
          "43624",
          "6590",
          "19",
          "1243",
          "53226",
          "21468",
          "11504",
          "12784",
          "15590",
          "30502",
          "31160",
          "1937",
          "34613",
          "23667",
          "21198",
          "6690",
          "3736",
          "37066",
          "1530",
          "3302",
          "6401",
          "49231",
          "7240",
          "18626",
          "109782",
          "44663",
          "12151",
          "15573",
          "45925",
          "5778",
          "16146",
          "2697",
          "20178",
          "108253",
          "9079",
          "38006",
          "2742",
          "27772",
          "17397",
          "5156",
          "2965"
         ]
        }
       ],
       "layout": {
        "geo": {
         "lakecolor": "rgb(255, 255, 255)",
         "projection": {
          "type": "albers usa"
         },
         "scope": "usa",
         "showlakes": true
        },
        "title": "Total number of accepted-loans by state <br> (Hover over state for other metrics)"
       }
      },
      "text/html": [
       "<div id=\"6248a69f-0601-4f8d-990d-ba28f9a666d9\" style=\"height: 525px; width: 100%;\" class=\"plotly-graph-div\"></div><script type=\"text/javascript\">require([\"plotly\"], function(Plotly) { window.PLOTLYENV=window.PLOTLYENV || {};window.PLOTLYENV.BASE_URL=\"https://plot.ly\";Plotly.newPlot(\"6248a69f-0601-4f8d-990d-ba28f9a666d9\", [{\"type\": \"choropleth\", \"colorscale\": [[0.0, \"rgb(242,240,247)\"], [0.2, \"rgb(218,218,235)\"], [0.4, \"rgb(188,189,220)\"], [0.6, \"rgb(158,154,200)\"], [0.8, \"rgb(117,107,177)\"], [1.0, \"rgb(84,39,143)\"]], \"autocolorscale\": false, \"locations\": [\"AK\", \"AL\", \"AR\", \"AZ\", \"CA\", \"CO\", \"CT\", \"DC\", \"DE\", \"FL\", \"GA\", \"HI\", \"IA\", \"ID\", \"IL\", \"IN\", \"KS\", \"KY\", \"LA\", \"MA\", \"MD\", \"ME\", \"MI\", \"MN\", \"MO\", \"MS\", \"MT\", \"NC\", \"ND\", \"NE\", \"NH\", \"NJ\", \"NM\", \"NV\", \"NY\", \"OH\", \"OK\", \"OR\", \"PA\", \"RI\", \"SC\", \"SD\", \"TN\", \"TX\", \"UT\", \"VA\", \"VT\", \"WA\", \"WI\", \"WV\", \"WY\"], \"z\": [\"3214\", \"16550\", \"9982\", \"30907\", \"187609\", \"27655\", \"20358\", \"3396\", \"3767\", \"92815\", \"43624\", \"6590\", \"19\", \"1243\", \"53226\", \"21468\", \"11504\", \"12784\", \"15590\", \"30502\", \"31160\", \"1937\", \"34613\", \"23667\", \"21198\", \"6690\", \"3736\", \"37066\", \"1530\", \"3302\", \"6401\", \"49231\", \"7240\", \"18626\", \"109782\", \"44663\", \"12151\", \"15573\", \"45925\", \"5778\", \"16146\", \"2697\", \"20178\", \"108253\", \"9079\", \"38006\", \"2742\", \"27772\", \"17397\", \"5156\", \"2965\"], \"locationmode\": \"USA-states\", \"text\": [\"AK<br>Avg Loan Amount ($ USD): 16891.3114499<br>Number of loans: 3214<br>Most Likely Term: 36<br>Most Likely Grade: C<br>Avg EMP Length: 6.02084629745\", \"AL<br>Avg Loan Amount ($ USD): 14485.5951662<br>Number of loans: 16550<br>Most Likely Term: 36<br>Most Likely Grade: C<br>Avg EMP Length: 6.11438066465\", \"AR<br>Avg Loan Amount ($ USD): 13962.2245041<br>Number of loans: 9982<br>Most Likely Term: 36<br>Most Likely Grade: C<br>Avg EMP Length: 5.90402724905\", \"AZ<br>Avg Loan Amount ($ USD): 14218.2822662<br>Number of loans: 30907<br>Most Likely Term: 36<br>Most Likely Grade: B<br>Avg EMP Length: 5.41974310027\", \"CA<br>Avg Loan Amount ($ USD): 14820.6785122<br>Number of loans: 187609<br>Most Likely Term: 36<br>Most Likely Grade: B<br>Avg EMP Length: 5.75759691699\", \"CO<br>Avg Loan Amount ($ USD): 14837.3386368<br>Number of loans: 27655<br>Most Likely Term: 36<br>Most Likely Grade: B<br>Avg EMP Length: 5.31954438619\", \"CT<br>Avg Loan Amount ($ USD): 15036.904411<br>Number of loans: 20358<br>Most Likely Term: 36<br>Most Likely Grade: B<br>Avg EMP Length: 5.99145299145\", \"DC<br>Avg Loan Amount ($ USD): 15388.6484099<br>Number of loans: 3396<br>Most Likely Term: 36<br>Most Likely Grade: B<br>Avg EMP Length: 4.6351590106\", \"DE<br>Avg Loan Amount ($ USD): 14472.6307406<br>Number of loans: 3767<br>Most Likely Term: 36<br>Most Likely Grade: C<br>Avg EMP Length: 5.9784974781\", \"FL<br>Avg Loan Amount ($ USD): 13947.1373162<br>Number of loans: 92815<br>Most Likely Term: 36<br>Most Likely Grade: B<br>Avg EMP Length: 5.45985023972\", \"GA<br>Avg Loan Amount ($ USD): 14953.7043829<br>Number of loans: 43624<br>Most Likely Term: 36<br>Most Likely Grade: C<br>Avg EMP Length: 5.7726022373\", \"HI<br>Avg Loan Amount ($ USD): 15386.3808801<br>Number of loans: 6590<br>Most Likely Term: 36<br>Most Likely Grade: C<br>Avg EMP Length: 6.37101669196\", \"IA<br>Avg Loan Amount ($ USD): 9243.42105263<br>Number of loans: 19<br>Most Likely Term: 36<br>Most Likely Grade: D<br>Avg EMP Length: 3.47368421053\", \"ID<br>Avg Loan Amount ($ USD): 14149.8189863<br>Number of loans: 1243<br>Most Likely Term: 36<br>Most Likely Grade: C<br>Avg EMP Length: 5.37409493162\", \"IL<br>Avg Loan Amount ($ USD): 15173.5242175<br>Number of loans: 53226<br>Most Likely Term: 36<br>Most Likely Grade: B<br>Avg EMP Length: 5.84682298125\", \"IN<br>Avg Loan Amount ($ USD): 14514.2898733<br>Number of loans: 21468<br>Most Likely Term: 36<br>Most Likely Grade: C<br>Avg EMP Length: 6.015418297\", \"KS<br>Avg Loan Amount ($ USD): 14590.4402816<br>Number of loans: 11504<br>Most Likely Term: 36<br>Most Likely Grade: B<br>Avg EMP Length: 5.98157162726\", \"KY<br>Avg Loan Amount ($ USD): 14186.9015957<br>Number of loans: 12784<br>Most Likely Term: 36<br>Most Likely Grade: C<br>Avg EMP Length: 6.04364831039\", \"LA<br>Avg Loan Amount ($ USD): 14710.6895446<br>Number of loans: 15590<br>Most Likely Term: 36<br>Most Likely Grade: B<br>Avg EMP Length: 5.78466966004\", \"MA<br>Avg Loan Amount ($ USD): 15542.4086945<br>Number of loans: 30502<br>Most Likely Term: 36<br>Most Likely Grade: B<br>Avg EMP Length: 5.74555766835\", \"MD<br>Avg Loan Amount ($ USD): 15533.1956033<br>Number of loans: 31160<br>Most Likely Term: 36<br>Most Likely Grade: C<br>Avg EMP Length: 5.95314505777\", \"ME<br>Avg Loan Amount ($ USD): 14740.1781105<br>Number of loans: 1937<br>Most Likely Term: 36<br>Most Likely Grade: B<br>Avg EMP Length: 5.70831182241\", \"MI<br>Avg Loan Amount ($ USD): 14089.6931789<br>Number of loans: 34613<br>Most Likely Term: 36<br>Most Likely Grade: B<br>Avg EMP Length: 5.91514748794\", \"MN<br>Avg Loan Amount ($ USD): 14315.2047154<br>Number of loans: 23667<br>Most Likely Term: 36<br>Most Likely Grade: B<br>Avg EMP Length: 5.78615794144\", \"MO<br>Avg Loan Amount ($ USD): 14348.8536654<br>Number of loans: 21198<br>Most Likely Term: 36<br>Most Likely Grade: C<br>Avg EMP Length: 5.90574582508\", \"MS<br>Avg Loan Amount ($ USD): 14642.309417<br>Number of loans: 6690<br>Most Likely Term: 36<br>Most Likely Grade: C<br>Avg EMP Length: 6.05874439462\", \"MT<br>Avg Loan Amount ($ USD): 13806.7117238<br>Number of loans: 3736<br>Most Likely Term: 36<br>Most Likely Grade: B<br>Avg EMP Length: 5.75615631692\", \"NC<br>Avg Loan Amount ($ USD): 14554.5742729<br>Number of loans: 37066<br>Most Likely Term: 36<br>Most Likely Grade: C<br>Avg EMP Length: 5.71291749852\", \"ND<br>Avg Loan Amount ($ USD): 15266.8954248<br>Number of loans: 1530<br>Most Likely Term: 36<br>Most Likely Grade: C<br>Avg EMP Length: 5.04575163399\", \"NE<br>Avg Loan Amount ($ USD): 13977.9376136<br>Number of loans: 3302<br>Most Likely Term: 36<br>Most Likely Grade: C<br>Avg EMP Length: 5.60720775288\", \"NH<br>Avg Loan Amount ($ USD): 14738.1190439<br>Number of loans: 6401<br>Most Likely Term: 36<br>Most Likely Grade: B<br>Avg EMP Length: 5.99500078113\", \"NJ<br>Avg Loan Amount ($ USD): 15500.6637078<br>Number of loans: 49231<br>Most Likely Term: 36<br>Most Likely Grade: B<br>Avg EMP Length: 5.87755682395\", \"NM<br>Avg Loan Amount ($ USD): 14781.7575967<br>Number of loans: 7240<br>Most Likely Term: 36<br>Most Likely Grade: B<br>Avg EMP Length: 5.80552486188\", \"NV<br>Avg Loan Amount ($ USD): 13978.0803715<br>Number of loans: 18626<br>Most Likely Term: 36<br>Most Likely Grade: B<br>Avg EMP Length: 5.54182325781\", \"NY<br>Avg Loan Amount ($ USD): 14548.9583903<br>Number of loans: 109782<br>Most Likely Term: 36<br>Most Likely Grade: B<br>Avg EMP Length: 5.77743163724\", \"OH<br>Avg Loan Amount ($ USD): 14142.1584981<br>Number of loans: 44663<br>Most Likely Term: 36<br>Most Likely Grade: B<br>Avg EMP Length: 6.00528401585\", \"OK<br>Avg Loan Amount ($ USD): 14731.7607604<br>Number of loans: 12151<br>Most Likely Term: 36<br>Most Likely Grade: C<br>Avg EMP Length: 5.75631635256\", \"OR<br>Avg Loan Amount ($ USD): 13735.4748603<br>Number of loans: 15573<br>Most Likely Term: 36<br>Most Likely Grade: B<br>Avg EMP Length: 5.49778462724\", \"PA<br>Avg Loan Amount ($ USD): 14502.4082744<br>Number of loans: 45925<br>Most Likely Term: 36<br>Most Likely Grade: C<br>Avg EMP Length: 5.90192705498\", \"RI<br>Avg Loan Amount ($ USD): 13978.8032191<br>Number of loans: 5778<br>Most Likely Term: 36<br>Most Likely Grade: B<br>Avg EMP Length: 6.18137763932\", \"SC<br>Avg Loan Amount ($ USD): 14698.690078<br>Number of loans: 16146<br>Most Likely Term: 36<br>Most Likely Grade: C<br>Avg EMP Length: 5.73436145175\", \"SD<br>Avg Loan Amount ($ USD): 13890.1371895<br>Number of loans: 2697<br>Most Likely Term: 36<br>Most Likely Grade: C<br>Avg EMP Length: 5.84167593623\", \"TN<br>Avg Loan Amount ($ USD): 14658.1982853<br>Number of loans: 20178<br>Most Likely Term: 36<br>Most Likely Grade: C<br>Avg EMP Length: 5.84071761324\", \"TX<br>Avg Loan Amount ($ USD): 15501.5239762<br>Number of loans: 108253<br>Most Likely Term: 36<br>Most Likely Grade: B<br>Avg EMP Length: 5.63626874082\", \"UT<br>Avg Loan Amount ($ USD): 14745.8172706<br>Number of loans: 9079<br>Most Likely Term: 36<br>Most Likely Grade: C<br>Avg EMP Length: 5.71098138562\", \"VA<br>Avg Loan Amount ($ USD): 15727.752197<br>Number of loans: 38006<br>Most Likely Term: 36<br>Most Likely Grade: B<br>Avg EMP Length: 5.83378940167\", \"VT<br>Avg Loan Amount ($ USD): 13801.7687819<br>Number of loans: 2742<br>Most Likely Term: 36<br>Most Likely Grade: B<br>Avg EMP Length: 6.09919766594\", \"WA<br>Avg Loan Amount ($ USD): 14944.5736713<br>Number of loans: 27772<br>Most Likely Term: 36<br>Most Likely Grade: C<br>Avg EMP Length: 5.70452254069\", \"WI<br>Avg Loan Amount ($ USD): 14166.1249066<br>Number of loans: 17397<br>Most Likely Term: 36<br>Most Likely Grade: B<br>Avg EMP Length: 6.03431626142\", \"WV<br>Avg Loan Amount ($ USD): 14614.5801009<br>Number of loans: 5156<br>Most Likely Term: 36<br>Most Likely Grade: C<br>Avg EMP Length: 5.97362296354\", \"WY<br>Avg Loan Amount ($ USD): 15317.5126476<br>Number of loans: 2965<br>Most Likely Term: 36<br>Most Likely Grade: B<br>Avg EMP Length: 5.89173693086\"], \"marker\": {\"line\": {\"color\": \"rgb(255,255,255)\", \"width\": 2}}, \"colorbar\": {\"title\": \"Number of loans\"}}], {\"title\": \"Total number of accepted-loans by state <br> (Hover over state for other metrics)\", \"geo\": {\"scope\": \"usa\", \"projection\": {\"type\": \"albers usa\"}, \"showlakes\": true, \"lakecolor\": \"rgb(255, 255, 255)\"}}, {\"showLink\": true, \"linkText\": \"Export to plot.ly\"})});</script>"
      ],
      "text/vnd.plotly.v1+html": [
       "<div id=\"6248a69f-0601-4f8d-990d-ba28f9a666d9\" style=\"height: 525px; width: 100%;\" class=\"plotly-graph-div\"></div><script type=\"text/javascript\">require([\"plotly\"], function(Plotly) { window.PLOTLYENV=window.PLOTLYENV || {};window.PLOTLYENV.BASE_URL=\"https://plot.ly\";Plotly.newPlot(\"6248a69f-0601-4f8d-990d-ba28f9a666d9\", [{\"type\": \"choropleth\", \"colorscale\": [[0.0, \"rgb(242,240,247)\"], [0.2, \"rgb(218,218,235)\"], [0.4, \"rgb(188,189,220)\"], [0.6, \"rgb(158,154,200)\"], [0.8, \"rgb(117,107,177)\"], [1.0, \"rgb(84,39,143)\"]], \"autocolorscale\": false, \"locations\": [\"AK\", \"AL\", \"AR\", \"AZ\", \"CA\", \"CO\", \"CT\", \"DC\", \"DE\", \"FL\", \"GA\", \"HI\", \"IA\", \"ID\", \"IL\", \"IN\", \"KS\", \"KY\", \"LA\", \"MA\", \"MD\", \"ME\", \"MI\", \"MN\", \"MO\", \"MS\", \"MT\", \"NC\", \"ND\", \"NE\", \"NH\", \"NJ\", \"NM\", \"NV\", \"NY\", \"OH\", \"OK\", \"OR\", \"PA\", \"RI\", \"SC\", \"SD\", \"TN\", \"TX\", \"UT\", \"VA\", \"VT\", \"WA\", \"WI\", \"WV\", \"WY\"], \"z\": [\"3214\", \"16550\", \"9982\", \"30907\", \"187609\", \"27655\", \"20358\", \"3396\", \"3767\", \"92815\", \"43624\", \"6590\", \"19\", \"1243\", \"53226\", \"21468\", \"11504\", \"12784\", \"15590\", \"30502\", \"31160\", \"1937\", \"34613\", \"23667\", \"21198\", \"6690\", \"3736\", \"37066\", \"1530\", \"3302\", \"6401\", \"49231\", \"7240\", \"18626\", \"109782\", \"44663\", \"12151\", \"15573\", \"45925\", \"5778\", \"16146\", \"2697\", \"20178\", \"108253\", \"9079\", \"38006\", \"2742\", \"27772\", \"17397\", \"5156\", \"2965\"], \"locationmode\": \"USA-states\", \"text\": [\"AK<br>Avg Loan Amount ($ USD): 16891.3114499<br>Number of loans: 3214<br>Most Likely Term: 36<br>Most Likely Grade: C<br>Avg EMP Length: 6.02084629745\", \"AL<br>Avg Loan Amount ($ USD): 14485.5951662<br>Number of loans: 16550<br>Most Likely Term: 36<br>Most Likely Grade: C<br>Avg EMP Length: 6.11438066465\", \"AR<br>Avg Loan Amount ($ USD): 13962.2245041<br>Number of loans: 9982<br>Most Likely Term: 36<br>Most Likely Grade: C<br>Avg EMP Length: 5.90402724905\", \"AZ<br>Avg Loan Amount ($ USD): 14218.2822662<br>Number of loans: 30907<br>Most Likely Term: 36<br>Most Likely Grade: B<br>Avg EMP Length: 5.41974310027\", \"CA<br>Avg Loan Amount ($ USD): 14820.6785122<br>Number of loans: 187609<br>Most Likely Term: 36<br>Most Likely Grade: B<br>Avg EMP Length: 5.75759691699\", \"CO<br>Avg Loan Amount ($ USD): 14837.3386368<br>Number of loans: 27655<br>Most Likely Term: 36<br>Most Likely Grade: B<br>Avg EMP Length: 5.31954438619\", \"CT<br>Avg Loan Amount ($ USD): 15036.904411<br>Number of loans: 20358<br>Most Likely Term: 36<br>Most Likely Grade: B<br>Avg EMP Length: 5.99145299145\", \"DC<br>Avg Loan Amount ($ USD): 15388.6484099<br>Number of loans: 3396<br>Most Likely Term: 36<br>Most Likely Grade: B<br>Avg EMP Length: 4.6351590106\", \"DE<br>Avg Loan Amount ($ USD): 14472.6307406<br>Number of loans: 3767<br>Most Likely Term: 36<br>Most Likely Grade: C<br>Avg EMP Length: 5.9784974781\", \"FL<br>Avg Loan Amount ($ USD): 13947.1373162<br>Number of loans: 92815<br>Most Likely Term: 36<br>Most Likely Grade: B<br>Avg EMP Length: 5.45985023972\", \"GA<br>Avg Loan Amount ($ USD): 14953.7043829<br>Number of loans: 43624<br>Most Likely Term: 36<br>Most Likely Grade: C<br>Avg EMP Length: 5.7726022373\", \"HI<br>Avg Loan Amount ($ USD): 15386.3808801<br>Number of loans: 6590<br>Most Likely Term: 36<br>Most Likely Grade: C<br>Avg EMP Length: 6.37101669196\", \"IA<br>Avg Loan Amount ($ USD): 9243.42105263<br>Number of loans: 19<br>Most Likely Term: 36<br>Most Likely Grade: D<br>Avg EMP Length: 3.47368421053\", \"ID<br>Avg Loan Amount ($ USD): 14149.8189863<br>Number of loans: 1243<br>Most Likely Term: 36<br>Most Likely Grade: C<br>Avg EMP Length: 5.37409493162\", \"IL<br>Avg Loan Amount ($ USD): 15173.5242175<br>Number of loans: 53226<br>Most Likely Term: 36<br>Most Likely Grade: B<br>Avg EMP Length: 5.84682298125\", \"IN<br>Avg Loan Amount ($ USD): 14514.2898733<br>Number of loans: 21468<br>Most Likely Term: 36<br>Most Likely Grade: C<br>Avg EMP Length: 6.015418297\", \"KS<br>Avg Loan Amount ($ USD): 14590.4402816<br>Number of loans: 11504<br>Most Likely Term: 36<br>Most Likely Grade: B<br>Avg EMP Length: 5.98157162726\", \"KY<br>Avg Loan Amount ($ USD): 14186.9015957<br>Number of loans: 12784<br>Most Likely Term: 36<br>Most Likely Grade: C<br>Avg EMP Length: 6.04364831039\", \"LA<br>Avg Loan Amount ($ USD): 14710.6895446<br>Number of loans: 15590<br>Most Likely Term: 36<br>Most Likely Grade: B<br>Avg EMP Length: 5.78466966004\", \"MA<br>Avg Loan Amount ($ USD): 15542.4086945<br>Number of loans: 30502<br>Most Likely Term: 36<br>Most Likely Grade: B<br>Avg EMP Length: 5.74555766835\", \"MD<br>Avg Loan Amount ($ USD): 15533.1956033<br>Number of loans: 31160<br>Most Likely Term: 36<br>Most Likely Grade: C<br>Avg EMP Length: 5.95314505777\", \"ME<br>Avg Loan Amount ($ USD): 14740.1781105<br>Number of loans: 1937<br>Most Likely Term: 36<br>Most Likely Grade: B<br>Avg EMP Length: 5.70831182241\", \"MI<br>Avg Loan Amount ($ USD): 14089.6931789<br>Number of loans: 34613<br>Most Likely Term: 36<br>Most Likely Grade: B<br>Avg EMP Length: 5.91514748794\", \"MN<br>Avg Loan Amount ($ USD): 14315.2047154<br>Number of loans: 23667<br>Most Likely Term: 36<br>Most Likely Grade: B<br>Avg EMP Length: 5.78615794144\", \"MO<br>Avg Loan Amount ($ USD): 14348.8536654<br>Number of loans: 21198<br>Most Likely Term: 36<br>Most Likely Grade: C<br>Avg EMP Length: 5.90574582508\", \"MS<br>Avg Loan Amount ($ USD): 14642.309417<br>Number of loans: 6690<br>Most Likely Term: 36<br>Most Likely Grade: C<br>Avg EMP Length: 6.05874439462\", \"MT<br>Avg Loan Amount ($ USD): 13806.7117238<br>Number of loans: 3736<br>Most Likely Term: 36<br>Most Likely Grade: B<br>Avg EMP Length: 5.75615631692\", \"NC<br>Avg Loan Amount ($ USD): 14554.5742729<br>Number of loans: 37066<br>Most Likely Term: 36<br>Most Likely Grade: C<br>Avg EMP Length: 5.71291749852\", \"ND<br>Avg Loan Amount ($ USD): 15266.8954248<br>Number of loans: 1530<br>Most Likely Term: 36<br>Most Likely Grade: C<br>Avg EMP Length: 5.04575163399\", \"NE<br>Avg Loan Amount ($ USD): 13977.9376136<br>Number of loans: 3302<br>Most Likely Term: 36<br>Most Likely Grade: C<br>Avg EMP Length: 5.60720775288\", \"NH<br>Avg Loan Amount ($ USD): 14738.1190439<br>Number of loans: 6401<br>Most Likely Term: 36<br>Most Likely Grade: B<br>Avg EMP Length: 5.99500078113\", \"NJ<br>Avg Loan Amount ($ USD): 15500.6637078<br>Number of loans: 49231<br>Most Likely Term: 36<br>Most Likely Grade: B<br>Avg EMP Length: 5.87755682395\", \"NM<br>Avg Loan Amount ($ USD): 14781.7575967<br>Number of loans: 7240<br>Most Likely Term: 36<br>Most Likely Grade: B<br>Avg EMP Length: 5.80552486188\", \"NV<br>Avg Loan Amount ($ USD): 13978.0803715<br>Number of loans: 18626<br>Most Likely Term: 36<br>Most Likely Grade: B<br>Avg EMP Length: 5.54182325781\", \"NY<br>Avg Loan Amount ($ USD): 14548.9583903<br>Number of loans: 109782<br>Most Likely Term: 36<br>Most Likely Grade: B<br>Avg EMP Length: 5.77743163724\", \"OH<br>Avg Loan Amount ($ USD): 14142.1584981<br>Number of loans: 44663<br>Most Likely Term: 36<br>Most Likely Grade: B<br>Avg EMP Length: 6.00528401585\", \"OK<br>Avg Loan Amount ($ USD): 14731.7607604<br>Number of loans: 12151<br>Most Likely Term: 36<br>Most Likely Grade: C<br>Avg EMP Length: 5.75631635256\", \"OR<br>Avg Loan Amount ($ USD): 13735.4748603<br>Number of loans: 15573<br>Most Likely Term: 36<br>Most Likely Grade: B<br>Avg EMP Length: 5.49778462724\", \"PA<br>Avg Loan Amount ($ USD): 14502.4082744<br>Number of loans: 45925<br>Most Likely Term: 36<br>Most Likely Grade: C<br>Avg EMP Length: 5.90192705498\", \"RI<br>Avg Loan Amount ($ USD): 13978.8032191<br>Number of loans: 5778<br>Most Likely Term: 36<br>Most Likely Grade: B<br>Avg EMP Length: 6.18137763932\", \"SC<br>Avg Loan Amount ($ USD): 14698.690078<br>Number of loans: 16146<br>Most Likely Term: 36<br>Most Likely Grade: C<br>Avg EMP Length: 5.73436145175\", \"SD<br>Avg Loan Amount ($ USD): 13890.1371895<br>Number of loans: 2697<br>Most Likely Term: 36<br>Most Likely Grade: C<br>Avg EMP Length: 5.84167593623\", \"TN<br>Avg Loan Amount ($ USD): 14658.1982853<br>Number of loans: 20178<br>Most Likely Term: 36<br>Most Likely Grade: C<br>Avg EMP Length: 5.84071761324\", \"TX<br>Avg Loan Amount ($ USD): 15501.5239762<br>Number of loans: 108253<br>Most Likely Term: 36<br>Most Likely Grade: B<br>Avg EMP Length: 5.63626874082\", \"UT<br>Avg Loan Amount ($ USD): 14745.8172706<br>Number of loans: 9079<br>Most Likely Term: 36<br>Most Likely Grade: C<br>Avg EMP Length: 5.71098138562\", \"VA<br>Avg Loan Amount ($ USD): 15727.752197<br>Number of loans: 38006<br>Most Likely Term: 36<br>Most Likely Grade: B<br>Avg EMP Length: 5.83378940167\", \"VT<br>Avg Loan Amount ($ USD): 13801.7687819<br>Number of loans: 2742<br>Most Likely Term: 36<br>Most Likely Grade: B<br>Avg EMP Length: 6.09919766594\", \"WA<br>Avg Loan Amount ($ USD): 14944.5736713<br>Number of loans: 27772<br>Most Likely Term: 36<br>Most Likely Grade: C<br>Avg EMP Length: 5.70452254069\", \"WI<br>Avg Loan Amount ($ USD): 14166.1249066<br>Number of loans: 17397<br>Most Likely Term: 36<br>Most Likely Grade: B<br>Avg EMP Length: 6.03431626142\", \"WV<br>Avg Loan Amount ($ USD): 14614.5801009<br>Number of loans: 5156<br>Most Likely Term: 36<br>Most Likely Grade: C<br>Avg EMP Length: 5.97362296354\", \"WY<br>Avg Loan Amount ($ USD): 15317.5126476<br>Number of loans: 2965<br>Most Likely Term: 36<br>Most Likely Grade: B<br>Avg EMP Length: 5.89173693086\"], \"marker\": {\"line\": {\"color\": \"rgb(255,255,255)\", \"width\": 2}}, \"colorbar\": {\"title\": \"Number of loans\"}}], {\"title\": \"Total number of accepted-loans by state <br> (Hover over state for other metrics)\", \"geo\": {\"scope\": \"usa\", \"projection\": {\"type\": \"albers usa\"}, \"showlakes\": true, \"lakecolor\": \"rgb(255, 255, 255)\"}}, {\"showLink\": true, \"linkText\": \"Export to plot.ly\"})});</script>"
      ]
     },
     "metadata": {},
     "output_type": "display_data"
    }
   ],
   "source": [
    "for col in dfSummary.columns:\n",
    "    dfSummary[col] = dfSummary[col].astype(str)\n",
    "\n",
    "scl = [[0.0, 'rgb(242,240,247)'],[0.2, 'rgb(218,218,235)'],[0.4, 'rgb(188,189,220)'],\\\n",
    "        [0.6, 'rgb(158,154,200)'],[0.8, 'rgb(117,107,177)'],[1.0, 'rgb(84,39,143)']]    \n",
    "\n",
    "dfSummary['text'] = dfSummary['State'] + '<br>' +\\\n",
    "    'Avg Loan Amount ($ USD): '+dfSummary['Avg Loan Amount']+'<br>'+\\\n",
    "    'Number of loans: '+dfSummary['Accepted Loans']+'<br>'+\\\n",
    "    'Most Likely Term: '+dfSummary['Most Likely Term']+'<br>'+\\\n",
    "    'Most Likely Grade: '+dfSummary['Most Likely Grade']+'<br>'+\\\n",
    "    'Avg EMP Length: '+dfSummary['Avg EMP Length']\n",
    "\n",
    "data = [ dict(\n",
    "    type='choropleth',\n",
    "    colorscale = scl,\n",
    "    autocolorscale = False,\n",
    "    locations = dfSummary['State'],\n",
    "    z = dfSummary['Accepted Loans'], \n",
    "    locationmode = 'USA-states',\n",
    "    text = dfSummary['text'],\n",
    "    marker = dict(\n",
    "        line = dict (\n",
    "            color = 'rgb(255,255,255)',\n",
    "            width = 2\n",
    "        ) ),\n",
    "    colorbar = dict(\n",
    "        title = \"Number of loans\")\n",
    "    ) ]\n",
    "\n",
    "layout = dict(\n",
    "    title = 'Total number of accepted-loans by state <br> (Hover over state for other metrics)',\n",
    "    geo = dict(\n",
    "        scope='usa',\n",
    "        projection=dict( type='albers usa' ),\n",
    "        showlakes = True,\n",
    "        lakecolor = 'rgb(255, 255, 255)'),\n",
    "         )\n",
    "\n",
    "fig = dict( data=data, layout=layout )\n",
    "iplot( fig, filename='d3-cloropleth-map')"
   ]
  },
  {
   "cell_type": "code",
   "execution_count": 30,
   "metadata": {
    "collapsed": true
   },
   "outputs": [],
   "source": [
    "#group declined loans by State\n",
    "\n",
    "#by Statewise and counting the total number of rejected loans\n",
    "seriesCount = dfDecLoanData['LoanAmt'].groupby(dfDecLoanData['State']).count()\n",
    "\n",
    "#by RiskCategories and counting the total of loan-amount\n",
    "seriesTotAmt = dfDecLoanData['LoanAmt'].groupby(dfDecLoanData['State']).mean()\n",
    "\n",
    "#combining seriesCount and seriesTotAmt into summary Metrix data frame\n",
    "columns=['State', 'Rejected Loans', 'Avg Amount Requested']\n",
    "dfSummary = pd.DataFrame({'State':seriesCount.index,'Rejected Loans': seriesCount,'Avg Amount Requested':seriesTotAmt})"
   ]
  },
  {
   "cell_type": "code",
   "execution_count": 31,
   "metadata": {
    "collapsed": false
   },
   "outputs": [
    {
     "data": {
      "application/vnd.plotly.v1+json": {
       "data": [
        {
         "autocolorscale": false,
         "colorbar": {
          "title": "Number of loans"
         },
         "colorscale": [
          [
           0,
           "rgb(242,240,247)"
          ],
          [
           0.2,
           "rgb(218,218,235)"
          ],
          [
           0.4,
           "rgb(188,189,220)"
          ],
          [
           0.6,
           "rgb(158,154,200)"
          ],
          [
           0.8,
           "rgb(117,107,177)"
          ],
          [
           1,
           "rgb(84,39,143)"
          ]
         ],
         "locationmode": "USA-states",
         "locations": [
          "AK",
          "AL",
          "AR",
          "AZ",
          "CA",
          "CO",
          "CT",
          "DC",
          "DE",
          "FL",
          "GA",
          "HI",
          "IA",
          "ID",
          "IL",
          "IN",
          "KS",
          "KY",
          "LA",
          "MA",
          "MD",
          "ME",
          "MI",
          "MN",
          "MO",
          "MS",
          "MT",
          "NC",
          "ND",
          "NE",
          "NH",
          "NJ",
          "NM",
          "NV",
          "NY",
          "OH",
          "OK",
          "OR",
          "PA",
          "RI",
          "SC",
          "SD",
          "TN",
          "TX",
          "UT",
          "VA",
          "VT",
          "WA",
          "WI",
          "WV",
          "WY"
         ],
         "marker": {
          "line": {
           "color": "rgb(255,255,255)",
           "width": 2
          }
         },
         "text": [
          "AK<br>Avg Loan Amount ($ USD): 16219.0673201<br>Number of rejected loans: 6224",
          "AL<br>Avg Loan Amount ($ USD): 12886.3758617<br>Number of rejected loans: 42066",
          "AR<br>Avg Loan Amount ($ USD): 13186.1364646<br>Number of rejected loans: 24761",
          "AZ<br>Avg Loan Amount ($ USD): 13519.8492565<br>Number of rejected loans: 61064",
          "CA<br>Avg Loan Amount ($ USD): 14229.8362016<br>Number of rejected loans: 354979",
          "CO<br>Avg Loan Amount ($ USD): 14300.0645796<br>Number of rejected loans: 51874",
          "CT<br>Avg Loan Amount ($ USD): 14443.3427487<br>Number of rejected loans: 36111",
          "DC<br>Avg Loan Amount ($ USD): 13993.6942778<br>Number of rejected loans: 6169",
          "DE<br>Avg Loan Amount ($ USD): 13239.1410444<br>Number of rejected loans: 8196",
          "FL<br>Avg Loan Amount ($ USD): 13535.0874779<br>Number of rejected loans: 205469",
          "GA<br>Avg Loan Amount ($ USD): 13702.0752469<br>Number of rejected loans: 99446",
          "HI<br>Avg Loan Amount ($ USD): 14824.6197526<br>Number of rejected loans: 14793",
          "IA<br>Avg Loan Amount ($ USD): 9243.42105263<br>Number of rejected loans: 19",
          "ID<br>Avg Loan Amount ($ USD): 13102.4790441<br>Number of rejected loans: 5607",
          "IL<br>Avg Loan Amount ($ USD): 14133.6460429<br>Number of rejected loans: 104168",
          "IN<br>Avg Loan Amount ($ USD): 13335.6737198<br>Number of rejected loans: 48158",
          "KS<br>Avg Loan Amount ($ USD): 13555.2338287<br>Number of rejected loans: 22880",
          "KY<br>Avg Loan Amount ($ USD): 12994.1649933<br>Number of rejected loans: 30377",
          "LA<br>Avg Loan Amount ($ USD): 13397.8795037<br>Number of rejected loans: 36831",
          "MA<br>Avg Loan Amount ($ USD): 14555.1191956<br>Number of rejected loans: 57133",
          "MD<br>Avg Loan Amount ($ USD): 14123.7131927<br>Number of rejected loans: 61822",
          "ME<br>Avg Loan Amount ($ USD): 13770.5564263<br>Number of rejected loans: 6380",
          "MI<br>Avg Loan Amount ($ USD): 13216.9960936<br>Number of rejected loans: 72702",
          "MN<br>Avg Loan Amount ($ USD): 13864.0559614<br>Number of rejected loans: 42297",
          "MO<br>Avg Loan Amount ($ USD): 13182.2110793<br>Number of rejected loans: 46068",
          "MS<br>Avg Loan Amount ($ USD): 12519.2813581<br>Number of rejected loans: 21972",
          "MT<br>Avg Loan Amount ($ USD): 13815.3451622<br>Number of rejected loans: 7214",
          "NC<br>Avg Loan Amount ($ USD): 13349.0910384<br>Number of rejected loans: 80834",
          "ND<br>Avg Loan Amount ($ USD): 14811.3594786<br>Number of rejected loans: 4373",
          "NE<br>Avg Loan Amount ($ USD): 13335.3009027<br>Number of rejected loans: 9970",
          "NH<br>Avg Loan Amount ($ USD): 14170.7312125<br>Number of rejected loans: 12322",
          "NJ<br>Avg Loan Amount ($ USD): 14768.0657623<br>Number of rejected loans: 92804",
          "NM<br>Avg Loan Amount ($ USD): 13736.171875<br>Number of rejected loans: 15680",
          "NV<br>Avg Loan Amount ($ USD): 13579.6571636<br>Number of rejected loans: 35848",
          "NY<br>Avg Loan Amount ($ USD): 14089.5666368<br>Number of rejected loans: 208751",
          "OH<br>Avg Loan Amount ($ USD): 12930.0928867<br>Number of rejected loans: 96031",
          "OK<br>Avg Loan Amount ($ USD): 13539.1917798<br>Number of rejected loans: 27907",
          "OR<br>Avg Loan Amount ($ USD): 13313.4757482<br>Number of rejected loans: 29503",
          "PA<br>Avg Loan Amount ($ USD): 13517.6702157<br>Number of rejected loans: 98243",
          "RI<br>Avg Loan Amount ($ USD): 13029.1306648<br>Number of rejected loans: 11342",
          "SC<br>Avg Loan Amount ($ USD): 13204.3857522<br>Number of rejected loans: 39178",
          "SD<br>Avg Loan Amount ($ USD): 13475.2893519<br>Number of rejected loans: 5616",
          "TN<br>Avg Loan Amount ($ USD): 12955.1109784<br>Number of rejected loans: 50235",
          "TX<br>Avg Loan Amount ($ USD): 14042.6729819<br>Number of rejected loans: 237467",
          "UT<br>Avg Loan Amount ($ USD): 14300.1277659<br>Number of rejected loans: 17806",
          "VA<br>Avg Loan Amount ($ USD): 14229.2971567<br>Number of rejected loans: 76145",
          "VT<br>Avg Loan Amount ($ USD): 13583.0831409<br>Number of rejected loans: 5196",
          "WA<br>Avg Loan Amount ($ USD): 14151.9534019<br>Number of rejected loans: 52191",
          "WI<br>Avg Loan Amount ($ USD): 13132.8773099<br>Number of rejected loans: 34958",
          "WV<br>Avg Loan Amount ($ USD): 15114.2041091<br>Number of rejected loans: 5208",
          "WY<br>Avg Loan Amount ($ USD): 14629.7663971<br>Number of rejected loans: 5565"
         ],
         "type": "choropleth",
         "z": [
          "6224",
          "42066",
          "24761",
          "61064",
          "354979",
          "51874",
          "36111",
          "6169",
          "8196",
          "205469",
          "99446",
          "14793",
          "19",
          "5607",
          "104168",
          "48158",
          "22880",
          "30377",
          "36831",
          "57133",
          "61822",
          "6380",
          "72702",
          "42297",
          "46068",
          "21972",
          "7214",
          "80834",
          "4373",
          "9970",
          "12322",
          "92804",
          "15680",
          "35848",
          "208751",
          "96031",
          "27907",
          "29503",
          "98243",
          "11342",
          "39178",
          "5616",
          "50235",
          "237467",
          "17806",
          "76145",
          "5196",
          "52191",
          "34958",
          "5208",
          "5565"
         ]
        }
       ],
       "layout": {
        "geo": {
         "lakecolor": "rgb(255, 255, 255)",
         "projection": {
          "type": "albers usa"
         },
         "scope": "usa",
         "showlakes": true
        },
        "title": "Total number of rejected loans by state <br> (Hover over state for other metrics)"
       }
      },
      "text/html": [
       "<div id=\"3a533531-5577-425f-ab6f-8f6ec3623f03\" style=\"height: 525px; width: 100%;\" class=\"plotly-graph-div\"></div><script type=\"text/javascript\">require([\"plotly\"], function(Plotly) { window.PLOTLYENV=window.PLOTLYENV || {};window.PLOTLYENV.BASE_URL=\"https://plot.ly\";Plotly.newPlot(\"3a533531-5577-425f-ab6f-8f6ec3623f03\", [{\"type\": \"choropleth\", \"colorscale\": [[0.0, \"rgb(242,240,247)\"], [0.2, \"rgb(218,218,235)\"], [0.4, \"rgb(188,189,220)\"], [0.6, \"rgb(158,154,200)\"], [0.8, \"rgb(117,107,177)\"], [1.0, \"rgb(84,39,143)\"]], \"autocolorscale\": false, \"locations\": [\"AK\", \"AL\", \"AR\", \"AZ\", \"CA\", \"CO\", \"CT\", \"DC\", \"DE\", \"FL\", \"GA\", \"HI\", \"IA\", \"ID\", \"IL\", \"IN\", \"KS\", \"KY\", \"LA\", \"MA\", \"MD\", \"ME\", \"MI\", \"MN\", \"MO\", \"MS\", \"MT\", \"NC\", \"ND\", \"NE\", \"NH\", \"NJ\", \"NM\", \"NV\", \"NY\", \"OH\", \"OK\", \"OR\", \"PA\", \"RI\", \"SC\", \"SD\", \"TN\", \"TX\", \"UT\", \"VA\", \"VT\", \"WA\", \"WI\", \"WV\", \"WY\"], \"z\": [\"6224\", \"42066\", \"24761\", \"61064\", \"354979\", \"51874\", \"36111\", \"6169\", \"8196\", \"205469\", \"99446\", \"14793\", \"19\", \"5607\", \"104168\", \"48158\", \"22880\", \"30377\", \"36831\", \"57133\", \"61822\", \"6380\", \"72702\", \"42297\", \"46068\", \"21972\", \"7214\", \"80834\", \"4373\", \"9970\", \"12322\", \"92804\", \"15680\", \"35848\", \"208751\", \"96031\", \"27907\", \"29503\", \"98243\", \"11342\", \"39178\", \"5616\", \"50235\", \"237467\", \"17806\", \"76145\", \"5196\", \"52191\", \"34958\", \"5208\", \"5565\"], \"locationmode\": \"USA-states\", \"text\": [\"AK<br>Avg Loan Amount ($ USD): 16219.0673201<br>Number of rejected loans: 6224\", \"AL<br>Avg Loan Amount ($ USD): 12886.3758617<br>Number of rejected loans: 42066\", \"AR<br>Avg Loan Amount ($ USD): 13186.1364646<br>Number of rejected loans: 24761\", \"AZ<br>Avg Loan Amount ($ USD): 13519.8492565<br>Number of rejected loans: 61064\", \"CA<br>Avg Loan Amount ($ USD): 14229.8362016<br>Number of rejected loans: 354979\", \"CO<br>Avg Loan Amount ($ USD): 14300.0645796<br>Number of rejected loans: 51874\", \"CT<br>Avg Loan Amount ($ USD): 14443.3427487<br>Number of rejected loans: 36111\", \"DC<br>Avg Loan Amount ($ USD): 13993.6942778<br>Number of rejected loans: 6169\", \"DE<br>Avg Loan Amount ($ USD): 13239.1410444<br>Number of rejected loans: 8196\", \"FL<br>Avg Loan Amount ($ USD): 13535.0874779<br>Number of rejected loans: 205469\", \"GA<br>Avg Loan Amount ($ USD): 13702.0752469<br>Number of rejected loans: 99446\", \"HI<br>Avg Loan Amount ($ USD): 14824.6197526<br>Number of rejected loans: 14793\", \"IA<br>Avg Loan Amount ($ USD): 9243.42105263<br>Number of rejected loans: 19\", \"ID<br>Avg Loan Amount ($ USD): 13102.4790441<br>Number of rejected loans: 5607\", \"IL<br>Avg Loan Amount ($ USD): 14133.6460429<br>Number of rejected loans: 104168\", \"IN<br>Avg Loan Amount ($ USD): 13335.6737198<br>Number of rejected loans: 48158\", \"KS<br>Avg Loan Amount ($ USD): 13555.2338287<br>Number of rejected loans: 22880\", \"KY<br>Avg Loan Amount ($ USD): 12994.1649933<br>Number of rejected loans: 30377\", \"LA<br>Avg Loan Amount ($ USD): 13397.8795037<br>Number of rejected loans: 36831\", \"MA<br>Avg Loan Amount ($ USD): 14555.1191956<br>Number of rejected loans: 57133\", \"MD<br>Avg Loan Amount ($ USD): 14123.7131927<br>Number of rejected loans: 61822\", \"ME<br>Avg Loan Amount ($ USD): 13770.5564263<br>Number of rejected loans: 6380\", \"MI<br>Avg Loan Amount ($ USD): 13216.9960936<br>Number of rejected loans: 72702\", \"MN<br>Avg Loan Amount ($ USD): 13864.0559614<br>Number of rejected loans: 42297\", \"MO<br>Avg Loan Amount ($ USD): 13182.2110793<br>Number of rejected loans: 46068\", \"MS<br>Avg Loan Amount ($ USD): 12519.2813581<br>Number of rejected loans: 21972\", \"MT<br>Avg Loan Amount ($ USD): 13815.3451622<br>Number of rejected loans: 7214\", \"NC<br>Avg Loan Amount ($ USD): 13349.0910384<br>Number of rejected loans: 80834\", \"ND<br>Avg Loan Amount ($ USD): 14811.3594786<br>Number of rejected loans: 4373\", \"NE<br>Avg Loan Amount ($ USD): 13335.3009027<br>Number of rejected loans: 9970\", \"NH<br>Avg Loan Amount ($ USD): 14170.7312125<br>Number of rejected loans: 12322\", \"NJ<br>Avg Loan Amount ($ USD): 14768.0657623<br>Number of rejected loans: 92804\", \"NM<br>Avg Loan Amount ($ USD): 13736.171875<br>Number of rejected loans: 15680\", \"NV<br>Avg Loan Amount ($ USD): 13579.6571636<br>Number of rejected loans: 35848\", \"NY<br>Avg Loan Amount ($ USD): 14089.5666368<br>Number of rejected loans: 208751\", \"OH<br>Avg Loan Amount ($ USD): 12930.0928867<br>Number of rejected loans: 96031\", \"OK<br>Avg Loan Amount ($ USD): 13539.1917798<br>Number of rejected loans: 27907\", \"OR<br>Avg Loan Amount ($ USD): 13313.4757482<br>Number of rejected loans: 29503\", \"PA<br>Avg Loan Amount ($ USD): 13517.6702157<br>Number of rejected loans: 98243\", \"RI<br>Avg Loan Amount ($ USD): 13029.1306648<br>Number of rejected loans: 11342\", \"SC<br>Avg Loan Amount ($ USD): 13204.3857522<br>Number of rejected loans: 39178\", \"SD<br>Avg Loan Amount ($ USD): 13475.2893519<br>Number of rejected loans: 5616\", \"TN<br>Avg Loan Amount ($ USD): 12955.1109784<br>Number of rejected loans: 50235\", \"TX<br>Avg Loan Amount ($ USD): 14042.6729819<br>Number of rejected loans: 237467\", \"UT<br>Avg Loan Amount ($ USD): 14300.1277659<br>Number of rejected loans: 17806\", \"VA<br>Avg Loan Amount ($ USD): 14229.2971567<br>Number of rejected loans: 76145\", \"VT<br>Avg Loan Amount ($ USD): 13583.0831409<br>Number of rejected loans: 5196\", \"WA<br>Avg Loan Amount ($ USD): 14151.9534019<br>Number of rejected loans: 52191\", \"WI<br>Avg Loan Amount ($ USD): 13132.8773099<br>Number of rejected loans: 34958\", \"WV<br>Avg Loan Amount ($ USD): 15114.2041091<br>Number of rejected loans: 5208\", \"WY<br>Avg Loan Amount ($ USD): 14629.7663971<br>Number of rejected loans: 5565\"], \"marker\": {\"line\": {\"color\": \"rgb(255,255,255)\", \"width\": 2}}, \"colorbar\": {\"title\": \"Number of loans\"}}], {\"title\": \"Total number of rejected loans by state <br> (Hover over state for other metrics)\", \"geo\": {\"scope\": \"usa\", \"projection\": {\"type\": \"albers usa\"}, \"showlakes\": true, \"lakecolor\": \"rgb(255, 255, 255)\"}}, {\"showLink\": true, \"linkText\": \"Export to plot.ly\"})});</script>"
      ],
      "text/vnd.plotly.v1+html": [
       "<div id=\"3a533531-5577-425f-ab6f-8f6ec3623f03\" style=\"height: 525px; width: 100%;\" class=\"plotly-graph-div\"></div><script type=\"text/javascript\">require([\"plotly\"], function(Plotly) { window.PLOTLYENV=window.PLOTLYENV || {};window.PLOTLYENV.BASE_URL=\"https://plot.ly\";Plotly.newPlot(\"3a533531-5577-425f-ab6f-8f6ec3623f03\", [{\"type\": \"choropleth\", \"colorscale\": [[0.0, \"rgb(242,240,247)\"], [0.2, \"rgb(218,218,235)\"], [0.4, \"rgb(188,189,220)\"], [0.6, \"rgb(158,154,200)\"], [0.8, \"rgb(117,107,177)\"], [1.0, \"rgb(84,39,143)\"]], \"autocolorscale\": false, \"locations\": [\"AK\", \"AL\", \"AR\", \"AZ\", \"CA\", \"CO\", \"CT\", \"DC\", \"DE\", \"FL\", \"GA\", \"HI\", \"IA\", \"ID\", \"IL\", \"IN\", \"KS\", \"KY\", \"LA\", \"MA\", \"MD\", \"ME\", \"MI\", \"MN\", \"MO\", \"MS\", \"MT\", \"NC\", \"ND\", \"NE\", \"NH\", \"NJ\", \"NM\", \"NV\", \"NY\", \"OH\", \"OK\", \"OR\", \"PA\", \"RI\", \"SC\", \"SD\", \"TN\", \"TX\", \"UT\", \"VA\", \"VT\", \"WA\", \"WI\", \"WV\", \"WY\"], \"z\": [\"6224\", \"42066\", \"24761\", \"61064\", \"354979\", \"51874\", \"36111\", \"6169\", \"8196\", \"205469\", \"99446\", \"14793\", \"19\", \"5607\", \"104168\", \"48158\", \"22880\", \"30377\", \"36831\", \"57133\", \"61822\", \"6380\", \"72702\", \"42297\", \"46068\", \"21972\", \"7214\", \"80834\", \"4373\", \"9970\", \"12322\", \"92804\", \"15680\", \"35848\", \"208751\", \"96031\", \"27907\", \"29503\", \"98243\", \"11342\", \"39178\", \"5616\", \"50235\", \"237467\", \"17806\", \"76145\", \"5196\", \"52191\", \"34958\", \"5208\", \"5565\"], \"locationmode\": \"USA-states\", \"text\": [\"AK<br>Avg Loan Amount ($ USD): 16219.0673201<br>Number of rejected loans: 6224\", \"AL<br>Avg Loan Amount ($ USD): 12886.3758617<br>Number of rejected loans: 42066\", \"AR<br>Avg Loan Amount ($ USD): 13186.1364646<br>Number of rejected loans: 24761\", \"AZ<br>Avg Loan Amount ($ USD): 13519.8492565<br>Number of rejected loans: 61064\", \"CA<br>Avg Loan Amount ($ USD): 14229.8362016<br>Number of rejected loans: 354979\", \"CO<br>Avg Loan Amount ($ USD): 14300.0645796<br>Number of rejected loans: 51874\", \"CT<br>Avg Loan Amount ($ USD): 14443.3427487<br>Number of rejected loans: 36111\", \"DC<br>Avg Loan Amount ($ USD): 13993.6942778<br>Number of rejected loans: 6169\", \"DE<br>Avg Loan Amount ($ USD): 13239.1410444<br>Number of rejected loans: 8196\", \"FL<br>Avg Loan Amount ($ USD): 13535.0874779<br>Number of rejected loans: 205469\", \"GA<br>Avg Loan Amount ($ USD): 13702.0752469<br>Number of rejected loans: 99446\", \"HI<br>Avg Loan Amount ($ USD): 14824.6197526<br>Number of rejected loans: 14793\", \"IA<br>Avg Loan Amount ($ USD): 9243.42105263<br>Number of rejected loans: 19\", \"ID<br>Avg Loan Amount ($ USD): 13102.4790441<br>Number of rejected loans: 5607\", \"IL<br>Avg Loan Amount ($ USD): 14133.6460429<br>Number of rejected loans: 104168\", \"IN<br>Avg Loan Amount ($ USD): 13335.6737198<br>Number of rejected loans: 48158\", \"KS<br>Avg Loan Amount ($ USD): 13555.2338287<br>Number of rejected loans: 22880\", \"KY<br>Avg Loan Amount ($ USD): 12994.1649933<br>Number of rejected loans: 30377\", \"LA<br>Avg Loan Amount ($ USD): 13397.8795037<br>Number of rejected loans: 36831\", \"MA<br>Avg Loan Amount ($ USD): 14555.1191956<br>Number of rejected loans: 57133\", \"MD<br>Avg Loan Amount ($ USD): 14123.7131927<br>Number of rejected loans: 61822\", \"ME<br>Avg Loan Amount ($ USD): 13770.5564263<br>Number of rejected loans: 6380\", \"MI<br>Avg Loan Amount ($ USD): 13216.9960936<br>Number of rejected loans: 72702\", \"MN<br>Avg Loan Amount ($ USD): 13864.0559614<br>Number of rejected loans: 42297\", \"MO<br>Avg Loan Amount ($ USD): 13182.2110793<br>Number of rejected loans: 46068\", \"MS<br>Avg Loan Amount ($ USD): 12519.2813581<br>Number of rejected loans: 21972\", \"MT<br>Avg Loan Amount ($ USD): 13815.3451622<br>Number of rejected loans: 7214\", \"NC<br>Avg Loan Amount ($ USD): 13349.0910384<br>Number of rejected loans: 80834\", \"ND<br>Avg Loan Amount ($ USD): 14811.3594786<br>Number of rejected loans: 4373\", \"NE<br>Avg Loan Amount ($ USD): 13335.3009027<br>Number of rejected loans: 9970\", \"NH<br>Avg Loan Amount ($ USD): 14170.7312125<br>Number of rejected loans: 12322\", \"NJ<br>Avg Loan Amount ($ USD): 14768.0657623<br>Number of rejected loans: 92804\", \"NM<br>Avg Loan Amount ($ USD): 13736.171875<br>Number of rejected loans: 15680\", \"NV<br>Avg Loan Amount ($ USD): 13579.6571636<br>Number of rejected loans: 35848\", \"NY<br>Avg Loan Amount ($ USD): 14089.5666368<br>Number of rejected loans: 208751\", \"OH<br>Avg Loan Amount ($ USD): 12930.0928867<br>Number of rejected loans: 96031\", \"OK<br>Avg Loan Amount ($ USD): 13539.1917798<br>Number of rejected loans: 27907\", \"OR<br>Avg Loan Amount ($ USD): 13313.4757482<br>Number of rejected loans: 29503\", \"PA<br>Avg Loan Amount ($ USD): 13517.6702157<br>Number of rejected loans: 98243\", \"RI<br>Avg Loan Amount ($ USD): 13029.1306648<br>Number of rejected loans: 11342\", \"SC<br>Avg Loan Amount ($ USD): 13204.3857522<br>Number of rejected loans: 39178\", \"SD<br>Avg Loan Amount ($ USD): 13475.2893519<br>Number of rejected loans: 5616\", \"TN<br>Avg Loan Amount ($ USD): 12955.1109784<br>Number of rejected loans: 50235\", \"TX<br>Avg Loan Amount ($ USD): 14042.6729819<br>Number of rejected loans: 237467\", \"UT<br>Avg Loan Amount ($ USD): 14300.1277659<br>Number of rejected loans: 17806\", \"VA<br>Avg Loan Amount ($ USD): 14229.2971567<br>Number of rejected loans: 76145\", \"VT<br>Avg Loan Amount ($ USD): 13583.0831409<br>Number of rejected loans: 5196\", \"WA<br>Avg Loan Amount ($ USD): 14151.9534019<br>Number of rejected loans: 52191\", \"WI<br>Avg Loan Amount ($ USD): 13132.8773099<br>Number of rejected loans: 34958\", \"WV<br>Avg Loan Amount ($ USD): 15114.2041091<br>Number of rejected loans: 5208\", \"WY<br>Avg Loan Amount ($ USD): 14629.7663971<br>Number of rejected loans: 5565\"], \"marker\": {\"line\": {\"color\": \"rgb(255,255,255)\", \"width\": 2}}, \"colorbar\": {\"title\": \"Number of loans\"}}], {\"title\": \"Total number of rejected loans by state <br> (Hover over state for other metrics)\", \"geo\": {\"scope\": \"usa\", \"projection\": {\"type\": \"albers usa\"}, \"showlakes\": true, \"lakecolor\": \"rgb(255, 255, 255)\"}}, {\"showLink\": true, \"linkText\": \"Export to plot.ly\"})});</script>"
      ]
     },
     "metadata": {},
     "output_type": "display_data"
    }
   ],
   "source": [
    "#Summary Chart for State Wise Declined Data Analysis\n",
    "for col in dfSummary.columns:\n",
    "    dfSummary[col] = dfSummary[col].astype(str)\n",
    "\n",
    "scl = [[0.0, 'rgb(242,240,247)'],[0.2, 'rgb(218,218,235)'],[0.4, 'rgb(188,189,220)'],\\\n",
    "        [0.6, 'rgb(158,154,200)'],[0.8, 'rgb(117,107,177)'],[1.0, 'rgb(84,39,143)']]    \n",
    "\n",
    "dfSummary['text'] = dfSummary['State'] + '<br>' +\\\n",
    "    'Avg Loan Amount ($ USD): '+dfSummary['Avg Amount Requested']+'<br>'+\\\n",
    "    'Number of rejected loans: '+dfSummary['Rejected Loans']\n",
    "\n",
    "data = [ dict(\n",
    "    type='choropleth',\n",
    "    colorscale = scl,\n",
    "    autocolorscale = False,\n",
    "    locations = dfSummary['State'],\n",
    "    z = dfSummary['Rejected Loans'], \n",
    "    locationmode = 'USA-states',\n",
    "    text = dfSummary['text'],\n",
    "    marker = dict(\n",
    "        line = dict (\n",
    "            color = 'rgb(255,255,255)',\n",
    "            width = 2\n",
    "        ) ),\n",
    "    colorbar = dict(\n",
    "        title = \"Number of loans\")\n",
    "    ) ]\n",
    "\n",
    "layout = dict(\n",
    "    title = 'Total number of rejected loans by state <br> (Hover over state for other metrics)',\n",
    "    geo = dict(\n",
    "        scope='usa',\n",
    "        projection=dict( type='albers usa' ),\n",
    "        showlakes = True,\n",
    "        lakecolor = 'rgb(255, 255, 255)'),\n",
    "         )\n",
    "\n",
    "fig = dict( data=data, layout=layout )\n",
    "iplot( fig, filename='d3-cloropleth-map')"
   ]
  },
  {
   "cell_type": "code",
   "execution_count": null,
   "metadata": {
    "collapsed": true
   },
   "outputs": [],
   "source": [
    "# from the tutorial, leaving in just for now\n",
    "for col in df_plot.columns:\n",
    "    df_plot[col] = df_plot[col].astype(str)\n",
    "\n",
    "    scl = [[0.0, 'rgb(242,240,247)'],[0.2, 'rgb(218,218,235)'],[0.4, 'rgb(188,189,220)'],\\\n",
    "            [0.6, 'rgb(158,154,200)'],[0.8, 'rgb(117,107,177)'],[1.0, 'rgb(84,39,143)']]\n",
    "\n",
    "dfSummary['text'] = dfSummary['State'] + '<br>' +\\\n",
    "    'Avg Loan Amount ($ USD): '+dfSummary['Avg Amount Requested']+'<br>'+\\\n",
    "    'Number of rejected loans: '+dfSummary['Rejected Loans']\n",
    "\n",
    "data = [ dict(\n",
    "        type='choropleth',\n",
    "        colorscale = scl,\n",
    "        autocolorscale = True,\n",
    "        locations = df_plot['code'],\n",
    "        z = df_plot['Default_Rate'], #.astype(int),\n",
    "        locationmode = 'USA-states',\n",
    "        text = df_plot['text'],\n",
    "        marker = dict(\n",
    "            line = dict (\n",
    "                color = 'rgb(255,255,255)',\n",
    "                width = 2\n",
    "            ) ),\n",
    "        colorbar = dict(\n",
    "            title = \"%\")\n",
    "        ) ]\n",
    "\n",
    "layout = dict(\n",
    "        title = 'Lending Club Portfolio<br> Default Rate By State <br> (Hover over state for other metrics)',\n",
    "        geo = dict(\n",
    "            scope='usa',\n",
    "            projection=dict( type='albers usa' ),\n",
    "            showlakes = True,\n",
    "            lakecolor = 'rgb(255, 255, 255)'),\n",
    "             )\n",
    "    \n",
    "fig = dict( data=data, layout=layout )\n",
    "iplot( fig, filename='d3-cloropleth-map' )"
   ]
  }
 ],
 "metadata": {
  "kernelspec": {
   "display_name": "Python 3",
   "language": "python",
   "name": "python3"
  },
  "language_info": {
   "codemirror_mode": {
    "name": "ipython",
    "version": 3
   },
   "file_extension": ".py",
   "mimetype": "text/x-python",
   "name": "python",
   "nbconvert_exporter": "python",
   "pygments_lexer": "ipython3",
   "version": "3.6.0"
  }
 },
 "nbformat": 4,
 "nbformat_minor": 2
}
