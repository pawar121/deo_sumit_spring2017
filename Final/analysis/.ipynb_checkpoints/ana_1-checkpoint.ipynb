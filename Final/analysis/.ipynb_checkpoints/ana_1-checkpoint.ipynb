{
 "cells": [
  {
   "cell_type": "code",
   "execution_count": 1,
   "metadata": {
    "collapsed": false
   },
   "outputs": [
    {
     "data": {
      "text/html": [
       "<script>requirejs.config({paths: { 'plotly': ['https://cdn.plot.ly/plotly-latest.min']},});if(!window.Plotly) {{require(['plotly'],function(plotly) {window.Plotly=plotly;});}}</script>"
      ],
      "text/vnd.plotly.v1+html": [
       "<script>requirejs.config({paths: { 'plotly': ['https://cdn.plot.ly/plotly-latest.min']},});if(!window.Plotly) {{require(['plotly'],function(plotly) {window.Plotly=plotly;});}}</script>"
      ]
     },
     "metadata": {},
     "output_type": "display_data"
    }
   ],
   "source": [
    "#improting all the required packages\n",
    "import os\n",
    "import pandas as pd\n",
    "import numpy as np\n",
    "import seaborn as sns\n",
    "import matplotlib as mpl\n",
    "import matplotlib.pyplot as plt\n",
    "np.random.seed(sum(map(ord, \"aesthetics\")))\n",
    "%matplotlib inline\n",
    "import plotly.plotly as py\n",
    "import plotly.graph_objs as go\n",
    "from plotly import tools\n",
    "from plotly.offline import download_plotlyjs, init_notebook_mode, plot, iplot\n",
    "init_notebook_mode(connected=True)\n",
    "import warnings\n",
    "warnings.filterwarnings('ignore')"
   ]
  },
  {
   "cell_type": "code",
   "execution_count": 2,
   "metadata": {
    "collapsed": true
   },
   "outputs": [],
   "source": [
    "#defining the file-directory\n",
    "fileDir = os.path.dirname(os.path.realpath('__file__'))"
   ]
  },
  {
   "cell_type": "code",
   "execution_count": 3,
   "metadata": {
    "collapsed": false
   },
   "outputs": [],
   "source": [
    "#defining the processed data-directory\n",
    "dataDir = fileDir.strip('analysis') + 'data\\\\processed_data\\\\'"
   ]
  },
  {
   "cell_type": "markdown",
   "metadata": {},
   "source": [
    "# Reading and consolidating the data"
   ]
  },
  {
   "cell_type": "code",
   "execution_count": 22,
   "metadata": {
    "collapsed": true
   },
   "outputs": [],
   "source": [
    "#defining data frame for the consolidated loan data\n",
    "dfLoanData = pd.DataFrame()"
   ]
  },
  {
   "cell_type": "code",
   "execution_count": 23,
   "metadata": {
    "collapsed": false
   },
   "outputs": [],
   "source": [
    "#reading loan data stats\n",
    "for directory, subdirectory, filenames in  os.walk(dataDir + 'loan_data\\\\'):\n",
    "    for filename in filenames:\n",
    "        df = pd.read_csv(os.path.join(directory, filename), encoding = 'ISO-8859-1')\n",
    "        dfLoanData =  pd.concat([df, dfLoanData], ignore_index=True)"
   ]
  },
  {
   "cell_type": "code",
   "execution_count": 26,
   "metadata": {
    "collapsed": false
   },
   "outputs": [],
   "source": [
    "#defining data frame for the consolidated Declined loan data\n",
    "dfDecLoanData = pd.DataFrame()"
   ]
  },
  {
   "cell_type": "code",
   "execution_count": 27,
   "metadata": {
    "collapsed": false
   },
   "outputs": [],
   "source": [
    "#reading Declined loan data stats\n",
    "for directory, subdirectory, filenames in  os.walk(dataDir + 'declined_loan_data\\\\'):\n",
    "    for filename in filenames:\n",
    "        df = pd.read_csv(os.path.join(directory, filename), encoding = 'ISO-8859-1')\n",
    "        dfDecLoanData =  pd.concat([df, dfDecLoanData], ignore_index=True)"
   ]
  },
  {
   "cell_type": "markdown",
   "metadata": {},
   "source": [
    "# Summarizing data by Sate"
   ]
  },
  {
   "cell_type": "code",
   "execution_count": 8,
   "metadata": {
    "collapsed": true
   },
   "outputs": [],
   "source": [
    "#group the acceptd loans by state\n",
    "\n",
    "#by year and counting the total amount of accepted loans and Interest Rate\n",
    "seriesCount = dfLoanData['LoanAmt'].groupby(dfLoanData['State']).count()\n",
    "\n",
    "#by year and Average of Interest Rate\n",
    "seriesInterest = dfLoanData['IntRate'].groupby(dfLoanData['State']).mean()\n",
    "\n",
    "#by year and Average of Loan Amount\n",
    "seriesLA = dfLoanData['LoanAmt'].groupby(dfLoanData['State']).mean()\n",
    "\n",
    "#by year and mode of term\n",
    "seriesTerm = dfLoanData['Term'].groupby(dfLoanData['State']).agg(lambda x: x.value_counts().index[0])\n",
    "\n",
    "#by year and mode of grade\n",
    "seriesGrade = dfLoanData['Grade'].groupby(dfLoanData['State']).agg(lambda x: x.value_counts().index[0])\n",
    "\n",
    "#by year and avg of emp_length\n",
    "seriesEL = dfLoanData['EmpLength'].groupby(dfLoanData['State']).mean()\n",
    "\n",
    "#combining seriesCount and seriesTotAmt into summary Metrix data frame\n",
    "columns=['State', 'Accepted Loans', 'Avg Interest Charged', 'Avg Loan Amount', 'Most Likely Term', 'Most Likely Grade', 'Avg EMP Length']\n",
    "dfSummary = pd.DataFrame({'State':seriesCount.index,'Accepted Loans': seriesCount,'Avg Interest Charged':seriesInterest, \n",
    "                          'Avg Loan Amount':seriesLA, 'Most Likely Term':seriesTerm, 'Most Likely Grade':seriesGrade, 'Avg EMP Length':seriesEL})\n"
   ]
  },
  {
   "cell_type": "code",
   "execution_count": 9,
   "metadata": {
    "collapsed": false
   },
   "outputs": [
    {
     "data": {
      "application/vnd.plotly.v1+json": {
       "data": [
        {
         "autocolorscale": false,
         "colorbar": {
          "title": "Number of loans"
         },
         "colorscale": [
          [
           0,
           "rgb(242,240,247)"
          ],
          [
           0.2,
           "rgb(218,218,235)"
          ],
          [
           0.4,
           "rgb(188,189,220)"
          ],
          [
           0.6,
           "rgb(158,154,200)"
          ],
          [
           0.8,
           "rgb(117,107,177)"
          ],
          [
           1,
           "rgb(84,39,143)"
          ]
         ],
         "locationmode": "USA-states",
         "locations": [
          "AK",
          "AL",
          "AR",
          "AZ",
          "CA",
          "CO",
          "CT",
          "DC",
          "DE",
          "FL",
          "GA",
          "HI",
          "IA",
          "ID",
          "IL",
          "IN",
          "KS",
          "KY",
          "LA",
          "MA",
          "MD",
          "ME",
          "MI",
          "MN",
          "MO",
          "MS",
          "MT",
          "NC",
          "ND",
          "NE",
          "NH",
          "NJ",
          "NM",
          "NV",
          "NY",
          "OH",
          "OK",
          "OR",
          "PA",
          "RI",
          "SC",
          "SD",
          "TN",
          "TX",
          "UT",
          "VA",
          "VT",
          "WA",
          "WI",
          "WV",
          "WY"
         ],
         "marker": {
          "line": {
           "color": "rgb(255,255,255)",
           "width": 2
          }
         },
         "text": [
          "AK<br>Avg Loan Amount ($ USD): 16898.0613516<br>Number of loans: 3211<br>Most Likely Term: 36<br>Most Likely Grade: C<br>Avg EMP Length: 6.02273435067",
          "AL<br>Avg Loan Amount ($ USD): 14490.5144257<br>Number of loans: 16533<br>Most Likely Term: 36<br>Most Likely Grade: C<br>Avg EMP Length: 6.11661525434",
          "AR<br>Avg Loan Amount ($ USD): 13967.3007519<br>Number of loans: 9975<br>Most Likely Term: 36<br>Most Likely Grade: C<br>Avg EMP Length: 5.90616541353",
          "AZ<br>Avg Loan Amount ($ USD): 14223.085768<br>Number of loans: 30874<br>Most Likely Term: 36<br>Most Likely Grade: B<br>Avg EMP Length: 5.42252380644",
          "CA<br>Avg Loan Amount ($ USD): 14824.5373903<br>Number of loans: 187415<br>Most Likely Term: 36<br>Most Likely Grade: B<br>Avg EMP Length: 5.75896806552",
          "CO<br>Avg Loan Amount ($ USD): 14850.170259<br>Number of loans: 27605<br>Most Likely Term: 36<br>Most Likely Grade: B<br>Avg EMP Length: 5.32305741713",
          "CT<br>Avg Loan Amount ($ USD): 15046.0149562<br>Number of loans: 20326<br>Most Likely Term: 36<br>Most Likely Grade: B<br>Avg EMP Length: 5.99439141986",
          "DC<br>Avg Loan Amount ($ USD): 15397.9209673<br>Number of loans: 3391<br>Most Likely Term: 36<br>Most Likely Grade: B<br>Avg EMP Length: 4.63845473312",
          "DE<br>Avg Loan Amount ($ USD): 14479.8764284<br>Number of loans: 3763<br>Most Likely Term: 36<br>Most Likely Grade: C<br>Avg EMP Length: 5.97927185756",
          "FL<br>Avg Loan Amount ($ USD): 13954.7618919<br>Number of loans: 92668<br>Most Likely Term: 36<br>Most Likely Grade: B<br>Avg EMP Length: 5.4628134847",
          "GA<br>Avg Loan Amount ($ USD): 14962.2218523<br>Number of loans: 43547<br>Most Likely Term: 36<br>Most Likely Grade: C<br>Avg EMP Length: 5.77674696305",
          "HI<br>Avg Loan Amount ($ USD): 15388.1089695<br>Number of loans: 6589<br>Most Likely Term: 36<br>Most Likely Grade: C<br>Avg EMP Length: 6.37183184095",
          "IA<br>Avg Loan Amount ($ USD): 8148.21428571<br>Number of loans: 14<br>Most Likely Term: 36<br>Most Likely Grade: D<br>Avg EMP Length: 3.57142857143",
          "ID<br>Avg Loan Amount ($ USD): 14193.6742118<br>Number of loans: 1237<br>Most Likely Term: 36<br>Most Likely Grade: C<br>Avg EMP Length: 5.38803556993",
          "IL<br>Avg Loan Amount ($ USD): 15176.7836329<br>Number of loans: 53192<br>Most Likely Term: 36<br>Most Likely Grade: B<br>Avg EMP Length: 5.84792825989",
          "IN<br>Avg Loan Amount ($ USD): 14520.4298569<br>Number of loans: 21449<br>Most Likely Term: 36<br>Most Likely Grade: C<br>Avg EMP Length: 6.01739008812",
          "KS<br>Avg Loan Amount ($ USD): 14600.1218027<br>Number of loans: 11494<br>Most Likely Term: 36<br>Most Likely Grade: B<br>Avg EMP Length: 5.98381764399",
          "KY<br>Avg Loan Amount ($ USD): 14190.4148728<br>Number of loans: 12775<br>Most Likely Term: 36<br>Most Likely Grade: C<br>Avg EMP Length: 6.0440704501",
          "LA<br>Avg Loan Amount ($ USD): 14721.1600205<br>Number of loans: 15573<br>Most Likely Term: 36<br>Most Likely Grade: B<br>Avg EMP Length: 5.78655365055",
          "MA<br>Avg Loan Amount ($ USD): 15563.5748094<br>Number of loans: 30424<br>Most Likely Term: 36<br>Most Likely Grade: B<br>Avg EMP Length: 5.75170917697",
          "MD<br>Avg Loan Amount ($ USD): 15543.8802083<br>Number of loans: 31104<br>Most Likely Term: 36<br>Most Likely Grade: C<br>Avg EMP Length: 5.95662937243",
          "ME<br>Avg Loan Amount ($ USD): 14758.2859359<br>Number of loans: 1934<br>Most Likely Term: 36<br>Most Likely Grade: B<br>Avg EMP Length: 5.71406411582",
          "MI<br>Avg Loan Amount ($ USD): 14092.1776525<br>Number of loans: 34590<br>Most Likely Term: 36<br>Most Likely Grade: B<br>Avg EMP Length: 5.91590054929",
          "MN<br>Avg Loan Amount ($ USD): 14317.4384934<br>Number of loans: 23656<br>Most Likely Term: 36<br>Most Likely Grade: B<br>Avg EMP Length: 5.78681941157",
          "MO<br>Avg Loan Amount ($ USD): 14362.0315232<br>Number of loans: 21159<br>Most Likely Term: 36<br>Most Likely Grade: C<br>Avg EMP Length: 5.90859681459",
          "MS<br>Avg Loan Amount ($ USD): 14645.2737063<br>Number of loans: 6686<br>Most Likely Term: 36<br>Most Likely Grade: C<br>Avg EMP Length: 6.06027520191",
          "MT<br>Avg Loan Amount ($ USD): 13807.6856071<br>Number of loans: 3731<br>Most Likely Term: 36<br>Most Likely Grade: B<br>Avg EMP Length: 5.75690163495",
          "NC<br>Avg Loan Amount ($ USD): 14566.5716293<br>Number of loans: 37003<br>Most Likely Term: 36<br>Most Likely Grade: C<br>Avg EMP Length: 5.71542847877",
          "ND<br>Avg Loan Amount ($ USD): 15266.8954248<br>Number of loans: 1530<br>Most Likely Term: 36<br>Most Likely Grade: C<br>Avg EMP Length: 5.04575163399",
          "NE<br>Avg Loan Amount ($ USD): 13995.6561361<br>Number of loans: 3292<br>Most Likely Term: 36<br>Most Likely Grade: C<br>Avg EMP Length: 5.61269744836",
          "NH<br>Avg Loan Amount ($ USD): 14745.3019872<br>Number of loans: 6391<br>Most Likely Term: 36<br>Most Likely Grade: B<br>Avg EMP Length: 5.99921764982",
          "NJ<br>Avg Loan Amount ($ USD): 15510.5505707<br>Number of loans: 49149<br>Most Likely Term: 36<br>Most Likely Grade: B<br>Avg EMP Length: 5.88166595455",
          "NM<br>Avg Loan Amount ($ USD): 14789.4631244<br>Number of loans: 7227<br>Most Likely Term: 36<br>Most Likely Grade: B<br>Avg EMP Length: 5.80600525806",
          "NV<br>Avg Loan Amount ($ USD): 13981.5707453<br>Number of loans: 18609<br>Most Likely Term: 36<br>Most Likely Grade: B<br>Avg EMP Length: 5.54350045677",
          "NY<br>Avg Loan Amount ($ USD): 14556.9351424<br>Number of loans: 109594<br>Most Likely Term: 36<br>Most Likely Grade: B<br>Avg EMP Length: 5.78163038123",
          "OH<br>Avg Loan Amount ($ USD): 14145.8498577<br>Number of loans: 44631<br>Most Likely Term: 36<br>Most Likely Grade: B<br>Avg EMP Length: 6.00578073536",
          "OK<br>Avg Loan Amount ($ USD): 14734.1565819<br>Number of loans: 12147<br>Most Likely Term: 36<br>Most Likely Grade: C<br>Avg EMP Length: 5.75755330534",
          "OR<br>Avg Loan Amount ($ USD): 13739.8894815<br>Number of loans: 15563<br>Most Likely Term: 36<br>Most Likely Grade: B<br>Avg EMP Length: 5.4989397931",
          "PA<br>Avg Loan Amount ($ USD): 14506.2593964<br>Number of loans: 45895<br>Most Likely Term: 36<br>Most Likely Grade: C<br>Avg EMP Length: 5.90264734721",
          "RI<br>Avg Loan Amount ($ USD): 13979.6580087<br>Number of loans: 5775<br>Most Likely Term: 36<br>Most Likely Grade: B<br>Avg EMP Length: 6.18251082251",
          "SC<br>Avg Loan Amount ($ USD): 14704.0865981<br>Number of loans: 16132<br>Most Likely Term: 36<br>Most Likely Grade: C<br>Avg EMP Length: 5.73642449789",
          "SD<br>Avg Loan Amount ($ USD): 13895.1373422<br>Number of loans: 2694<br>Most Likely Term: 36<br>Most Likely Grade: C<br>Avg EMP Length: 5.84558277654",
          "TN<br>Avg Loan Amount ($ USD): 14665.3831845<br>Number of loans: 20160<br>Most Likely Term: 36<br>Most Likely Grade: C<br>Avg EMP Length: 5.84295634921",
          "TX<br>Avg Loan Amount ($ USD): 15505.0379015<br>Number of loans: 108175<br>Most Likely Term: 36<br>Most Likely Grade: B<br>Avg EMP Length: 5.63761497573",
          "UT<br>Avg Loan Amount ($ USD): 14757.5571129<br>Number of loans: 9061<br>Most Likely Term: 36<br>Most Likely Grade: C<br>Avg EMP Length: 5.71438031122",
          "VA<br>Avg Loan Amount ($ USD): 15738.0626713<br>Number of loans: 37944<br>Most Likely Term: 36<br>Most Likely Grade: B<br>Avg EMP Length: 5.83686485347",
          "VT<br>Avg Loan Amount ($ USD): 13810.8616283<br>Number of loans: 2739<br>Most Likely Term: 36<br>Most Likely Grade: B<br>Avg EMP Length: 6.09602044542",
          "WA<br>Avg Loan Amount ($ USD): 14951.1528339<br>Number of loans: 27736<br>Most Likely Term: 36<br>Most Likely Grade: C<br>Avg EMP Length: 5.70568935679",
          "WI<br>Avg Loan Amount ($ USD): 14176.3172291<br>Number of loans: 17366<br>Most Likely Term: 36<br>Most Likely Grade: B<br>Avg EMP Length: 6.03898422204",
          "WV<br>Avg Loan Amount ($ USD): 14614.5801009<br>Number of loans: 5156<br>Most Likely Term: 36<br>Most Likely Grade: C<br>Avg EMP Length: 5.97362296354",
          "WY<br>Avg Loan Amount ($ USD): 15321.1019237<br>Number of loans: 2963<br>Most Likely Term: 36<br>Most Likely Grade: B<br>Avg EMP Length: 5.89402632467"
         ],
         "type": "choropleth",
         "z": [
          "3211",
          "16533",
          "9975",
          "30874",
          "187415",
          "27605",
          "20326",
          "3391",
          "3763",
          "92668",
          "43547",
          "6589",
          "14",
          "1237",
          "53192",
          "21449",
          "11494",
          "12775",
          "15573",
          "30424",
          "31104",
          "1934",
          "34590",
          "23656",
          "21159",
          "6686",
          "3731",
          "37003",
          "1530",
          "3292",
          "6391",
          "49149",
          "7227",
          "18609",
          "109594",
          "44631",
          "12147",
          "15563",
          "45895",
          "5775",
          "16132",
          "2694",
          "20160",
          "108175",
          "9061",
          "37944",
          "2739",
          "27736",
          "17366",
          "5156",
          "2963"
         ]
        }
       ],
       "layout": {
        "geo": {
         "lakecolor": "rgb(255, 255, 255)",
         "projection": {
          "type": "albers usa"
         },
         "scope": "usa",
         "showlakes": true
        },
        "title": "Total number of accepted-loans by state <br> (Hover over state for other metrics)"
       }
      },
      "text/html": [
       "<div id=\"6978b741-c245-4112-a926-79a6bd6ad3e7\" style=\"height: 525px; width: 100%;\" class=\"plotly-graph-div\"></div><script type=\"text/javascript\">require([\"plotly\"], function(Plotly) { window.PLOTLYENV=window.PLOTLYENV || {};window.PLOTLYENV.BASE_URL=\"https://plot.ly\";Plotly.newPlot(\"6978b741-c245-4112-a926-79a6bd6ad3e7\", [{\"type\": \"choropleth\", \"colorscale\": [[0.0, \"rgb(242,240,247)\"], [0.2, \"rgb(218,218,235)\"], [0.4, \"rgb(188,189,220)\"], [0.6, \"rgb(158,154,200)\"], [0.8, \"rgb(117,107,177)\"], [1.0, \"rgb(84,39,143)\"]], \"autocolorscale\": false, \"locations\": [\"AK\", \"AL\", \"AR\", \"AZ\", \"CA\", \"CO\", \"CT\", \"DC\", \"DE\", \"FL\", \"GA\", \"HI\", \"IA\", \"ID\", \"IL\", \"IN\", \"KS\", \"KY\", \"LA\", \"MA\", \"MD\", \"ME\", \"MI\", \"MN\", \"MO\", \"MS\", \"MT\", \"NC\", \"ND\", \"NE\", \"NH\", \"NJ\", \"NM\", \"NV\", \"NY\", \"OH\", \"OK\", \"OR\", \"PA\", \"RI\", \"SC\", \"SD\", \"TN\", \"TX\", \"UT\", \"VA\", \"VT\", \"WA\", \"WI\", \"WV\", \"WY\"], \"z\": [\"3211\", \"16533\", \"9975\", \"30874\", \"187415\", \"27605\", \"20326\", \"3391\", \"3763\", \"92668\", \"43547\", \"6589\", \"14\", \"1237\", \"53192\", \"21449\", \"11494\", \"12775\", \"15573\", \"30424\", \"31104\", \"1934\", \"34590\", \"23656\", \"21159\", \"6686\", \"3731\", \"37003\", \"1530\", \"3292\", \"6391\", \"49149\", \"7227\", \"18609\", \"109594\", \"44631\", \"12147\", \"15563\", \"45895\", \"5775\", \"16132\", \"2694\", \"20160\", \"108175\", \"9061\", \"37944\", \"2739\", \"27736\", \"17366\", \"5156\", \"2963\"], \"locationmode\": \"USA-states\", \"text\": [\"AK<br>Avg Loan Amount ($ USD): 16898.0613516<br>Number of loans: 3211<br>Most Likely Term: 36<br>Most Likely Grade: C<br>Avg EMP Length: 6.02273435067\", \"AL<br>Avg Loan Amount ($ USD): 14490.5144257<br>Number of loans: 16533<br>Most Likely Term: 36<br>Most Likely Grade: C<br>Avg EMP Length: 6.11661525434\", \"AR<br>Avg Loan Amount ($ USD): 13967.3007519<br>Number of loans: 9975<br>Most Likely Term: 36<br>Most Likely Grade: C<br>Avg EMP Length: 5.90616541353\", \"AZ<br>Avg Loan Amount ($ USD): 14223.085768<br>Number of loans: 30874<br>Most Likely Term: 36<br>Most Likely Grade: B<br>Avg EMP Length: 5.42252380644\", \"CA<br>Avg Loan Amount ($ USD): 14824.5373903<br>Number of loans: 187415<br>Most Likely Term: 36<br>Most Likely Grade: B<br>Avg EMP Length: 5.75896806552\", \"CO<br>Avg Loan Amount ($ USD): 14850.170259<br>Number of loans: 27605<br>Most Likely Term: 36<br>Most Likely Grade: B<br>Avg EMP Length: 5.32305741713\", \"CT<br>Avg Loan Amount ($ USD): 15046.0149562<br>Number of loans: 20326<br>Most Likely Term: 36<br>Most Likely Grade: B<br>Avg EMP Length: 5.99439141986\", \"DC<br>Avg Loan Amount ($ USD): 15397.9209673<br>Number of loans: 3391<br>Most Likely Term: 36<br>Most Likely Grade: B<br>Avg EMP Length: 4.63845473312\", \"DE<br>Avg Loan Amount ($ USD): 14479.8764284<br>Number of loans: 3763<br>Most Likely Term: 36<br>Most Likely Grade: C<br>Avg EMP Length: 5.97927185756\", \"FL<br>Avg Loan Amount ($ USD): 13954.7618919<br>Number of loans: 92668<br>Most Likely Term: 36<br>Most Likely Grade: B<br>Avg EMP Length: 5.4628134847\", \"GA<br>Avg Loan Amount ($ USD): 14962.2218523<br>Number of loans: 43547<br>Most Likely Term: 36<br>Most Likely Grade: C<br>Avg EMP Length: 5.77674696305\", \"HI<br>Avg Loan Amount ($ USD): 15388.1089695<br>Number of loans: 6589<br>Most Likely Term: 36<br>Most Likely Grade: C<br>Avg EMP Length: 6.37183184095\", \"IA<br>Avg Loan Amount ($ USD): 8148.21428571<br>Number of loans: 14<br>Most Likely Term: 36<br>Most Likely Grade: D<br>Avg EMP Length: 3.57142857143\", \"ID<br>Avg Loan Amount ($ USD): 14193.6742118<br>Number of loans: 1237<br>Most Likely Term: 36<br>Most Likely Grade: C<br>Avg EMP Length: 5.38803556993\", \"IL<br>Avg Loan Amount ($ USD): 15176.7836329<br>Number of loans: 53192<br>Most Likely Term: 36<br>Most Likely Grade: B<br>Avg EMP Length: 5.84792825989\", \"IN<br>Avg Loan Amount ($ USD): 14520.4298569<br>Number of loans: 21449<br>Most Likely Term: 36<br>Most Likely Grade: C<br>Avg EMP Length: 6.01739008812\", \"KS<br>Avg Loan Amount ($ USD): 14600.1218027<br>Number of loans: 11494<br>Most Likely Term: 36<br>Most Likely Grade: B<br>Avg EMP Length: 5.98381764399\", \"KY<br>Avg Loan Amount ($ USD): 14190.4148728<br>Number of loans: 12775<br>Most Likely Term: 36<br>Most Likely Grade: C<br>Avg EMP Length: 6.0440704501\", \"LA<br>Avg Loan Amount ($ USD): 14721.1600205<br>Number of loans: 15573<br>Most Likely Term: 36<br>Most Likely Grade: B<br>Avg EMP Length: 5.78655365055\", \"MA<br>Avg Loan Amount ($ USD): 15563.5748094<br>Number of loans: 30424<br>Most Likely Term: 36<br>Most Likely Grade: B<br>Avg EMP Length: 5.75170917697\", \"MD<br>Avg Loan Amount ($ USD): 15543.8802083<br>Number of loans: 31104<br>Most Likely Term: 36<br>Most Likely Grade: C<br>Avg EMP Length: 5.95662937243\", \"ME<br>Avg Loan Amount ($ USD): 14758.2859359<br>Number of loans: 1934<br>Most Likely Term: 36<br>Most Likely Grade: B<br>Avg EMP Length: 5.71406411582\", \"MI<br>Avg Loan Amount ($ USD): 14092.1776525<br>Number of loans: 34590<br>Most Likely Term: 36<br>Most Likely Grade: B<br>Avg EMP Length: 5.91590054929\", \"MN<br>Avg Loan Amount ($ USD): 14317.4384934<br>Number of loans: 23656<br>Most Likely Term: 36<br>Most Likely Grade: B<br>Avg EMP Length: 5.78681941157\", \"MO<br>Avg Loan Amount ($ USD): 14362.0315232<br>Number of loans: 21159<br>Most Likely Term: 36<br>Most Likely Grade: C<br>Avg EMP Length: 5.90859681459\", \"MS<br>Avg Loan Amount ($ USD): 14645.2737063<br>Number of loans: 6686<br>Most Likely Term: 36<br>Most Likely Grade: C<br>Avg EMP Length: 6.06027520191\", \"MT<br>Avg Loan Amount ($ USD): 13807.6856071<br>Number of loans: 3731<br>Most Likely Term: 36<br>Most Likely Grade: B<br>Avg EMP Length: 5.75690163495\", \"NC<br>Avg Loan Amount ($ USD): 14566.5716293<br>Number of loans: 37003<br>Most Likely Term: 36<br>Most Likely Grade: C<br>Avg EMP Length: 5.71542847877\", \"ND<br>Avg Loan Amount ($ USD): 15266.8954248<br>Number of loans: 1530<br>Most Likely Term: 36<br>Most Likely Grade: C<br>Avg EMP Length: 5.04575163399\", \"NE<br>Avg Loan Amount ($ USD): 13995.6561361<br>Number of loans: 3292<br>Most Likely Term: 36<br>Most Likely Grade: C<br>Avg EMP Length: 5.61269744836\", \"NH<br>Avg Loan Amount ($ USD): 14745.3019872<br>Number of loans: 6391<br>Most Likely Term: 36<br>Most Likely Grade: B<br>Avg EMP Length: 5.99921764982\", \"NJ<br>Avg Loan Amount ($ USD): 15510.5505707<br>Number of loans: 49149<br>Most Likely Term: 36<br>Most Likely Grade: B<br>Avg EMP Length: 5.88166595455\", \"NM<br>Avg Loan Amount ($ USD): 14789.4631244<br>Number of loans: 7227<br>Most Likely Term: 36<br>Most Likely Grade: B<br>Avg EMP Length: 5.80600525806\", \"NV<br>Avg Loan Amount ($ USD): 13981.5707453<br>Number of loans: 18609<br>Most Likely Term: 36<br>Most Likely Grade: B<br>Avg EMP Length: 5.54350045677\", \"NY<br>Avg Loan Amount ($ USD): 14556.9351424<br>Number of loans: 109594<br>Most Likely Term: 36<br>Most Likely Grade: B<br>Avg EMP Length: 5.78163038123\", \"OH<br>Avg Loan Amount ($ USD): 14145.8498577<br>Number of loans: 44631<br>Most Likely Term: 36<br>Most Likely Grade: B<br>Avg EMP Length: 6.00578073536\", \"OK<br>Avg Loan Amount ($ USD): 14734.1565819<br>Number of loans: 12147<br>Most Likely Term: 36<br>Most Likely Grade: C<br>Avg EMP Length: 5.75755330534\", \"OR<br>Avg Loan Amount ($ USD): 13739.8894815<br>Number of loans: 15563<br>Most Likely Term: 36<br>Most Likely Grade: B<br>Avg EMP Length: 5.4989397931\", \"PA<br>Avg Loan Amount ($ USD): 14506.2593964<br>Number of loans: 45895<br>Most Likely Term: 36<br>Most Likely Grade: C<br>Avg EMP Length: 5.90264734721\", \"RI<br>Avg Loan Amount ($ USD): 13979.6580087<br>Number of loans: 5775<br>Most Likely Term: 36<br>Most Likely Grade: B<br>Avg EMP Length: 6.18251082251\", \"SC<br>Avg Loan Amount ($ USD): 14704.0865981<br>Number of loans: 16132<br>Most Likely Term: 36<br>Most Likely Grade: C<br>Avg EMP Length: 5.73642449789\", \"SD<br>Avg Loan Amount ($ USD): 13895.1373422<br>Number of loans: 2694<br>Most Likely Term: 36<br>Most Likely Grade: C<br>Avg EMP Length: 5.84558277654\", \"TN<br>Avg Loan Amount ($ USD): 14665.3831845<br>Number of loans: 20160<br>Most Likely Term: 36<br>Most Likely Grade: C<br>Avg EMP Length: 5.84295634921\", \"TX<br>Avg Loan Amount ($ USD): 15505.0379015<br>Number of loans: 108175<br>Most Likely Term: 36<br>Most Likely Grade: B<br>Avg EMP Length: 5.63761497573\", \"UT<br>Avg Loan Amount ($ USD): 14757.5571129<br>Number of loans: 9061<br>Most Likely Term: 36<br>Most Likely Grade: C<br>Avg EMP Length: 5.71438031122\", \"VA<br>Avg Loan Amount ($ USD): 15738.0626713<br>Number of loans: 37944<br>Most Likely Term: 36<br>Most Likely Grade: B<br>Avg EMP Length: 5.83686485347\", \"VT<br>Avg Loan Amount ($ USD): 13810.8616283<br>Number of loans: 2739<br>Most Likely Term: 36<br>Most Likely Grade: B<br>Avg EMP Length: 6.09602044542\", \"WA<br>Avg Loan Amount ($ USD): 14951.1528339<br>Number of loans: 27736<br>Most Likely Term: 36<br>Most Likely Grade: C<br>Avg EMP Length: 5.70568935679\", \"WI<br>Avg Loan Amount ($ USD): 14176.3172291<br>Number of loans: 17366<br>Most Likely Term: 36<br>Most Likely Grade: B<br>Avg EMP Length: 6.03898422204\", \"WV<br>Avg Loan Amount ($ USD): 14614.5801009<br>Number of loans: 5156<br>Most Likely Term: 36<br>Most Likely Grade: C<br>Avg EMP Length: 5.97362296354\", \"WY<br>Avg Loan Amount ($ USD): 15321.1019237<br>Number of loans: 2963<br>Most Likely Term: 36<br>Most Likely Grade: B<br>Avg EMP Length: 5.89402632467\"], \"marker\": {\"line\": {\"color\": \"rgb(255,255,255)\", \"width\": 2}}, \"colorbar\": {\"title\": \"Number of loans\"}}], {\"title\": \"Total number of accepted-loans by state <br> (Hover over state for other metrics)\", \"geo\": {\"scope\": \"usa\", \"projection\": {\"type\": \"albers usa\"}, \"showlakes\": true, \"lakecolor\": \"rgb(255, 255, 255)\"}}, {\"showLink\": true, \"linkText\": \"Export to plot.ly\"})});</script>"
      ],
      "text/vnd.plotly.v1+html": [
       "<div id=\"6978b741-c245-4112-a926-79a6bd6ad3e7\" style=\"height: 525px; width: 100%;\" class=\"plotly-graph-div\"></div><script type=\"text/javascript\">require([\"plotly\"], function(Plotly) { window.PLOTLYENV=window.PLOTLYENV || {};window.PLOTLYENV.BASE_URL=\"https://plot.ly\";Plotly.newPlot(\"6978b741-c245-4112-a926-79a6bd6ad3e7\", [{\"type\": \"choropleth\", \"colorscale\": [[0.0, \"rgb(242,240,247)\"], [0.2, \"rgb(218,218,235)\"], [0.4, \"rgb(188,189,220)\"], [0.6, \"rgb(158,154,200)\"], [0.8, \"rgb(117,107,177)\"], [1.0, \"rgb(84,39,143)\"]], \"autocolorscale\": false, \"locations\": [\"AK\", \"AL\", \"AR\", \"AZ\", \"CA\", \"CO\", \"CT\", \"DC\", \"DE\", \"FL\", \"GA\", \"HI\", \"IA\", \"ID\", \"IL\", \"IN\", \"KS\", \"KY\", \"LA\", \"MA\", \"MD\", \"ME\", \"MI\", \"MN\", \"MO\", \"MS\", \"MT\", \"NC\", \"ND\", \"NE\", \"NH\", \"NJ\", \"NM\", \"NV\", \"NY\", \"OH\", \"OK\", \"OR\", \"PA\", \"RI\", \"SC\", \"SD\", \"TN\", \"TX\", \"UT\", \"VA\", \"VT\", \"WA\", \"WI\", \"WV\", \"WY\"], \"z\": [\"3211\", \"16533\", \"9975\", \"30874\", \"187415\", \"27605\", \"20326\", \"3391\", \"3763\", \"92668\", \"43547\", \"6589\", \"14\", \"1237\", \"53192\", \"21449\", \"11494\", \"12775\", \"15573\", \"30424\", \"31104\", \"1934\", \"34590\", \"23656\", \"21159\", \"6686\", \"3731\", \"37003\", \"1530\", \"3292\", \"6391\", \"49149\", \"7227\", \"18609\", \"109594\", \"44631\", \"12147\", \"15563\", \"45895\", \"5775\", \"16132\", \"2694\", \"20160\", \"108175\", \"9061\", \"37944\", \"2739\", \"27736\", \"17366\", \"5156\", \"2963\"], \"locationmode\": \"USA-states\", \"text\": [\"AK<br>Avg Loan Amount ($ USD): 16898.0613516<br>Number of loans: 3211<br>Most Likely Term: 36<br>Most Likely Grade: C<br>Avg EMP Length: 6.02273435067\", \"AL<br>Avg Loan Amount ($ USD): 14490.5144257<br>Number of loans: 16533<br>Most Likely Term: 36<br>Most Likely Grade: C<br>Avg EMP Length: 6.11661525434\", \"AR<br>Avg Loan Amount ($ USD): 13967.3007519<br>Number of loans: 9975<br>Most Likely Term: 36<br>Most Likely Grade: C<br>Avg EMP Length: 5.90616541353\", \"AZ<br>Avg Loan Amount ($ USD): 14223.085768<br>Number of loans: 30874<br>Most Likely Term: 36<br>Most Likely Grade: B<br>Avg EMP Length: 5.42252380644\", \"CA<br>Avg Loan Amount ($ USD): 14824.5373903<br>Number of loans: 187415<br>Most Likely Term: 36<br>Most Likely Grade: B<br>Avg EMP Length: 5.75896806552\", \"CO<br>Avg Loan Amount ($ USD): 14850.170259<br>Number of loans: 27605<br>Most Likely Term: 36<br>Most Likely Grade: B<br>Avg EMP Length: 5.32305741713\", \"CT<br>Avg Loan Amount ($ USD): 15046.0149562<br>Number of loans: 20326<br>Most Likely Term: 36<br>Most Likely Grade: B<br>Avg EMP Length: 5.99439141986\", \"DC<br>Avg Loan Amount ($ USD): 15397.9209673<br>Number of loans: 3391<br>Most Likely Term: 36<br>Most Likely Grade: B<br>Avg EMP Length: 4.63845473312\", \"DE<br>Avg Loan Amount ($ USD): 14479.8764284<br>Number of loans: 3763<br>Most Likely Term: 36<br>Most Likely Grade: C<br>Avg EMP Length: 5.97927185756\", \"FL<br>Avg Loan Amount ($ USD): 13954.7618919<br>Number of loans: 92668<br>Most Likely Term: 36<br>Most Likely Grade: B<br>Avg EMP Length: 5.4628134847\", \"GA<br>Avg Loan Amount ($ USD): 14962.2218523<br>Number of loans: 43547<br>Most Likely Term: 36<br>Most Likely Grade: C<br>Avg EMP Length: 5.77674696305\", \"HI<br>Avg Loan Amount ($ USD): 15388.1089695<br>Number of loans: 6589<br>Most Likely Term: 36<br>Most Likely Grade: C<br>Avg EMP Length: 6.37183184095\", \"IA<br>Avg Loan Amount ($ USD): 8148.21428571<br>Number of loans: 14<br>Most Likely Term: 36<br>Most Likely Grade: D<br>Avg EMP Length: 3.57142857143\", \"ID<br>Avg Loan Amount ($ USD): 14193.6742118<br>Number of loans: 1237<br>Most Likely Term: 36<br>Most Likely Grade: C<br>Avg EMP Length: 5.38803556993\", \"IL<br>Avg Loan Amount ($ USD): 15176.7836329<br>Number of loans: 53192<br>Most Likely Term: 36<br>Most Likely Grade: B<br>Avg EMP Length: 5.84792825989\", \"IN<br>Avg Loan Amount ($ USD): 14520.4298569<br>Number of loans: 21449<br>Most Likely Term: 36<br>Most Likely Grade: C<br>Avg EMP Length: 6.01739008812\", \"KS<br>Avg Loan Amount ($ USD): 14600.1218027<br>Number of loans: 11494<br>Most Likely Term: 36<br>Most Likely Grade: B<br>Avg EMP Length: 5.98381764399\", \"KY<br>Avg Loan Amount ($ USD): 14190.4148728<br>Number of loans: 12775<br>Most Likely Term: 36<br>Most Likely Grade: C<br>Avg EMP Length: 6.0440704501\", \"LA<br>Avg Loan Amount ($ USD): 14721.1600205<br>Number of loans: 15573<br>Most Likely Term: 36<br>Most Likely Grade: B<br>Avg EMP Length: 5.78655365055\", \"MA<br>Avg Loan Amount ($ USD): 15563.5748094<br>Number of loans: 30424<br>Most Likely Term: 36<br>Most Likely Grade: B<br>Avg EMP Length: 5.75170917697\", \"MD<br>Avg Loan Amount ($ USD): 15543.8802083<br>Number of loans: 31104<br>Most Likely Term: 36<br>Most Likely Grade: C<br>Avg EMP Length: 5.95662937243\", \"ME<br>Avg Loan Amount ($ USD): 14758.2859359<br>Number of loans: 1934<br>Most Likely Term: 36<br>Most Likely Grade: B<br>Avg EMP Length: 5.71406411582\", \"MI<br>Avg Loan Amount ($ USD): 14092.1776525<br>Number of loans: 34590<br>Most Likely Term: 36<br>Most Likely Grade: B<br>Avg EMP Length: 5.91590054929\", \"MN<br>Avg Loan Amount ($ USD): 14317.4384934<br>Number of loans: 23656<br>Most Likely Term: 36<br>Most Likely Grade: B<br>Avg EMP Length: 5.78681941157\", \"MO<br>Avg Loan Amount ($ USD): 14362.0315232<br>Number of loans: 21159<br>Most Likely Term: 36<br>Most Likely Grade: C<br>Avg EMP Length: 5.90859681459\", \"MS<br>Avg Loan Amount ($ USD): 14645.2737063<br>Number of loans: 6686<br>Most Likely Term: 36<br>Most Likely Grade: C<br>Avg EMP Length: 6.06027520191\", \"MT<br>Avg Loan Amount ($ USD): 13807.6856071<br>Number of loans: 3731<br>Most Likely Term: 36<br>Most Likely Grade: B<br>Avg EMP Length: 5.75690163495\", \"NC<br>Avg Loan Amount ($ USD): 14566.5716293<br>Number of loans: 37003<br>Most Likely Term: 36<br>Most Likely Grade: C<br>Avg EMP Length: 5.71542847877\", \"ND<br>Avg Loan Amount ($ USD): 15266.8954248<br>Number of loans: 1530<br>Most Likely Term: 36<br>Most Likely Grade: C<br>Avg EMP Length: 5.04575163399\", \"NE<br>Avg Loan Amount ($ USD): 13995.6561361<br>Number of loans: 3292<br>Most Likely Term: 36<br>Most Likely Grade: C<br>Avg EMP Length: 5.61269744836\", \"NH<br>Avg Loan Amount ($ USD): 14745.3019872<br>Number of loans: 6391<br>Most Likely Term: 36<br>Most Likely Grade: B<br>Avg EMP Length: 5.99921764982\", \"NJ<br>Avg Loan Amount ($ USD): 15510.5505707<br>Number of loans: 49149<br>Most Likely Term: 36<br>Most Likely Grade: B<br>Avg EMP Length: 5.88166595455\", \"NM<br>Avg Loan Amount ($ USD): 14789.4631244<br>Number of loans: 7227<br>Most Likely Term: 36<br>Most Likely Grade: B<br>Avg EMP Length: 5.80600525806\", \"NV<br>Avg Loan Amount ($ USD): 13981.5707453<br>Number of loans: 18609<br>Most Likely Term: 36<br>Most Likely Grade: B<br>Avg EMP Length: 5.54350045677\", \"NY<br>Avg Loan Amount ($ USD): 14556.9351424<br>Number of loans: 109594<br>Most Likely Term: 36<br>Most Likely Grade: B<br>Avg EMP Length: 5.78163038123\", \"OH<br>Avg Loan Amount ($ USD): 14145.8498577<br>Number of loans: 44631<br>Most Likely Term: 36<br>Most Likely Grade: B<br>Avg EMP Length: 6.00578073536\", \"OK<br>Avg Loan Amount ($ USD): 14734.1565819<br>Number of loans: 12147<br>Most Likely Term: 36<br>Most Likely Grade: C<br>Avg EMP Length: 5.75755330534\", \"OR<br>Avg Loan Amount ($ USD): 13739.8894815<br>Number of loans: 15563<br>Most Likely Term: 36<br>Most Likely Grade: B<br>Avg EMP Length: 5.4989397931\", \"PA<br>Avg Loan Amount ($ USD): 14506.2593964<br>Number of loans: 45895<br>Most Likely Term: 36<br>Most Likely Grade: C<br>Avg EMP Length: 5.90264734721\", \"RI<br>Avg Loan Amount ($ USD): 13979.6580087<br>Number of loans: 5775<br>Most Likely Term: 36<br>Most Likely Grade: B<br>Avg EMP Length: 6.18251082251\", \"SC<br>Avg Loan Amount ($ USD): 14704.0865981<br>Number of loans: 16132<br>Most Likely Term: 36<br>Most Likely Grade: C<br>Avg EMP Length: 5.73642449789\", \"SD<br>Avg Loan Amount ($ USD): 13895.1373422<br>Number of loans: 2694<br>Most Likely Term: 36<br>Most Likely Grade: C<br>Avg EMP Length: 5.84558277654\", \"TN<br>Avg Loan Amount ($ USD): 14665.3831845<br>Number of loans: 20160<br>Most Likely Term: 36<br>Most Likely Grade: C<br>Avg EMP Length: 5.84295634921\", \"TX<br>Avg Loan Amount ($ USD): 15505.0379015<br>Number of loans: 108175<br>Most Likely Term: 36<br>Most Likely Grade: B<br>Avg EMP Length: 5.63761497573\", \"UT<br>Avg Loan Amount ($ USD): 14757.5571129<br>Number of loans: 9061<br>Most Likely Term: 36<br>Most Likely Grade: C<br>Avg EMP Length: 5.71438031122\", \"VA<br>Avg Loan Amount ($ USD): 15738.0626713<br>Number of loans: 37944<br>Most Likely Term: 36<br>Most Likely Grade: B<br>Avg EMP Length: 5.83686485347\", \"VT<br>Avg Loan Amount ($ USD): 13810.8616283<br>Number of loans: 2739<br>Most Likely Term: 36<br>Most Likely Grade: B<br>Avg EMP Length: 6.09602044542\", \"WA<br>Avg Loan Amount ($ USD): 14951.1528339<br>Number of loans: 27736<br>Most Likely Term: 36<br>Most Likely Grade: C<br>Avg EMP Length: 5.70568935679\", \"WI<br>Avg Loan Amount ($ USD): 14176.3172291<br>Number of loans: 17366<br>Most Likely Term: 36<br>Most Likely Grade: B<br>Avg EMP Length: 6.03898422204\", \"WV<br>Avg Loan Amount ($ USD): 14614.5801009<br>Number of loans: 5156<br>Most Likely Term: 36<br>Most Likely Grade: C<br>Avg EMP Length: 5.97362296354\", \"WY<br>Avg Loan Amount ($ USD): 15321.1019237<br>Number of loans: 2963<br>Most Likely Term: 36<br>Most Likely Grade: B<br>Avg EMP Length: 5.89402632467\"], \"marker\": {\"line\": {\"color\": \"rgb(255,255,255)\", \"width\": 2}}, \"colorbar\": {\"title\": \"Number of loans\"}}], {\"title\": \"Total number of accepted-loans by state <br> (Hover over state for other metrics)\", \"geo\": {\"scope\": \"usa\", \"projection\": {\"type\": \"albers usa\"}, \"showlakes\": true, \"lakecolor\": \"rgb(255, 255, 255)\"}}, {\"showLink\": true, \"linkText\": \"Export to plot.ly\"})});</script>"
      ]
     },
     "metadata": {},
     "output_type": "display_data"
    }
   ],
   "source": [
    "for col in dfSummary.columns:\n",
    "    dfSummary[col] = dfSummary[col].astype(str)\n",
    "\n",
    "scl = [[0.0, 'rgb(242,240,247)'],[0.2, 'rgb(218,218,235)'],[0.4, 'rgb(188,189,220)'],\\\n",
    "        [0.6, 'rgb(158,154,200)'],[0.8, 'rgb(117,107,177)'],[1.0, 'rgb(84,39,143)']]    \n",
    "\n",
    "dfSummary['text'] = dfSummary['State'] + '<br>' +\\\n",
    "    'Avg Loan Amount ($ USD): '+dfSummary['Avg Loan Amount']+'<br>'+\\\n",
    "    'Number of loans: '+dfSummary['Accepted Loans']+'<br>'+\\\n",
    "    'Most Likely Term: '+dfSummary['Most Likely Term']+'<br>'+\\\n",
    "    'Most Likely Grade: '+dfSummary['Most Likely Grade']+'<br>'+\\\n",
    "    'Avg EMP Length: '+dfSummary['Avg EMP Length']\n",
    "\n",
    "data = [ dict(\n",
    "    type='choropleth',\n",
    "    colorscale = scl,\n",
    "    autocolorscale = False,\n",
    "    locations = dfSummary['State'],\n",
    "    z = dfSummary['Accepted Loans'], \n",
    "    locationmode = 'USA-states',\n",
    "    text = dfSummary['text'],\n",
    "    marker = dict(\n",
    "        line = dict (\n",
    "            color = 'rgb(255,255,255)',\n",
    "            width = 2\n",
    "        ) ),\n",
    "    colorbar = dict(\n",
    "        title = \"Number of loans\")\n",
    "    ) ]\n",
    "\n",
    "layout = dict(\n",
    "    title = 'Total number of accepted-loans by state <br> (Hover over state for other metrics)',\n",
    "    geo = dict(\n",
    "        scope='usa',\n",
    "        projection=dict( type='albers usa' ),\n",
    "        showlakes = True,\n",
    "        lakecolor = 'rgb(255, 255, 255)'),\n",
    "         )\n",
    "\n",
    "fig = dict( data=data, layout=layout )\n",
    "iplot( fig, filename='d3-cloropleth-map')"
   ]
  },
  {
   "cell_type": "code",
   "execution_count": 10,
   "metadata": {
    "collapsed": true
   },
   "outputs": [],
   "source": [
    "#group declined loans by State\n",
    "\n",
    "#by Statewise and counting the total number of rejected loans\n",
    "seriesCount = dfDecLoanData['LoanAmt'].groupby(dfDecLoanData['State']).count()\n",
    "\n",
    "#by RiskCategories and counting the total of loan-amount\n",
    "seriesTotAmt = dfDecLoanData['LoanAmt'].groupby(dfDecLoanData['State']).mean()\n",
    "\n",
    "#combining seriesCount and seriesTotAmt into summary Metrix data frame\n",
    "columns=['State', 'Rejected Loans', 'Avg Amount Requested']\n",
    "dfSummary = pd.DataFrame({'State':seriesCount.index,'Rejected Loans': seriesCount,'Avg Amount Requested':seriesTotAmt})"
   ]
  },
  {
   "cell_type": "code",
   "execution_count": 11,
   "metadata": {
    "collapsed": false
   },
   "outputs": [
    {
     "data": {
      "application/vnd.plotly.v1+json": {
       "data": [
        {
         "autocolorscale": true,
         "colorbar": {
          "title": "Number of loans"
         },
         "colorscale": [
          [
           0,
           "rgb(242,240,247)"
          ],
          [
           0.2,
           "rgb(218,218,235)"
          ],
          [
           0.4,
           "rgb(188,189,220)"
          ],
          [
           0.6,
           "rgb(158,154,200)"
          ],
          [
           0.8,
           "rgb(117,107,177)"
          ],
          [
           1,
           "rgb(84,39,143)"
          ]
         ],
         "locationmode": "USA-states",
         "locations": [
          "AK",
          "AL",
          "AR",
          "AZ",
          "CA",
          "CO",
          "CT",
          "DC",
          "DE",
          "FL",
          "GA",
          "HI",
          "IA",
          "ID",
          "IL",
          "IN",
          "KS",
          "KY",
          "LA",
          "MA",
          "MD",
          "ME",
          "MI",
          "MN",
          "MO",
          "MS",
          "MT",
          "NC",
          "ND",
          "NE",
          "NH",
          "NJ",
          "NM",
          "NV",
          "NY",
          "OH",
          "OK",
          "OR",
          "PA",
          "RI",
          "SC",
          "SD",
          "TN",
          "TX",
          "UT",
          "VA",
          "VT",
          "WA",
          "WI",
          "WV",
          "WY"
         ],
         "marker": {
          "line": {
           "color": "rgb(255,255,255)",
           "width": 2
          }
         },
         "text": [
          "AK<br>Avg Loan Amount ($ USD): 15890.8030839<br>Number of rejected loans: 26006",
          "AL<br>Avg Loan Amount ($ USD): 12101.0442683<br>Number of rejected loans: 200662",
          "AR<br>Avg Loan Amount ($ USD): 12908.2299369<br>Number of rejected loans: 118476",
          "AZ<br>Avg Loan Amount ($ USD): 13392.3143757<br>Number of rejected loans: 228349",
          "CA<br>Avg Loan Amount ($ USD): 14031.4728388<br>Number of rejected loans: 1357999",
          "CO<br>Avg Loan Amount ($ USD): 14347.345679<br>Number of rejected loans: 188827",
          "CT<br>Avg Loan Amount ($ USD): 13830.3817027<br>Number of rejected loans: 138414",
          "DC<br>Avg Loan Amount ($ USD): 12258.8655696<br>Number of rejected loans: 22377",
          "DE<br>Avg Loan Amount ($ USD): 12753.7787338<br>Number of rejected loans: 36787",
          "FL<br>Avg Loan Amount ($ USD): 13632.8702686<br>Number of rejected loans: 848734",
          "GA<br>Avg Loan Amount ($ USD): 12969.3322354<br>Number of rejected loans: 415387",
          "HI<br>Avg Loan Amount ($ USD): 15573.9649015<br>Number of rejected loans: 65545",
          "IA<br>Avg Loan Amount ($ USD): 8467.6369863<br>Number of rejected loans: 146",
          "ID<br>Avg Loan Amount ($ USD): 13262.6696593<br>Number of rejected loans: 14146",
          "IL<br>Avg Loan Amount ($ USD): 13765.9540812<br>Number of rejected loans: 406951",
          "IN<br>Avg Loan Amount ($ USD): 12832.7426878<br>Number of rejected loans: 194025",
          "KS<br>Avg Loan Amount ($ USD): 13193.8284752<br>Number of rejected loans: 92902",
          "KY<br>Avg Loan Amount ($ USD): 12588.3541674<br>Number of rejected loans: 143627",
          "LA<br>Avg Loan Amount ($ USD): 12688.4399982<br>Number of rejected loans: 173248",
          "MA<br>Avg Loan Amount ($ USD): 13508.3958794<br>Number of rejected loans: 228248",
          "MD<br>Avg Loan Amount ($ USD): 13019.6829288<br>Number of rejected loans: 233413",
          "ME<br>Avg Loan Amount ($ USD): 14133.6281355<br>Number of rejected loans: 19335",
          "MI<br>Avg Loan Amount ($ USD): 13099.9519772<br>Number of rejected loans: 299675",
          "MN<br>Avg Loan Amount ($ USD): 13723.1719032<br>Number of rejected loans: 143511",
          "MO<br>Avg Loan Amount ($ USD): 12566.6749894<br>Number of rejected loans: 196907",
          "MS<br>Avg Loan Amount ($ USD): 12191.8771632<br>Number of rejected loans: 93034",
          "MT<br>Avg Loan Amount ($ USD): 14726.3158296<br>Number of rejected loans: 28494",
          "NC<br>Avg Loan Amount ($ USD): 12663.8410701<br>Number of rejected loans: 346193",
          "ND<br>Avg Loan Amount ($ USD): 14744.3035459<br>Number of rejected loans: 12578",
          "NE<br>Avg Loan Amount ($ USD): 13386.1995166<br>Number of rejected loans: 30619",
          "NH<br>Avg Loan Amount ($ USD): 14261.0737332<br>Number of rejected loans: 47088",
          "NJ<br>Avg Loan Amount ($ USD): 14394.0129693<br>Number of rejected loans: 348729",
          "NM<br>Avg Loan Amount ($ USD): 13330.7748337<br>Number of rejected loans: 66283",
          "NV<br>Avg Loan Amount ($ USD): 13370.5753052<br>Number of rejected loans: 134751",
          "NY<br>Avg Loan Amount ($ USD): 13748.2380302<br>Number of rejected loans: 852543",
          "OH<br>Avg Loan Amount ($ USD): 12405.0067254<br>Number of rejected loans: 402379",
          "OK<br>Avg Loan Amount ($ USD): 13283.5885201<br>Number of rejected loans: 123921",
          "OR<br>Avg Loan Amount ($ USD): 13625.7045622<br>Number of rejected loans: 110642",
          "PA<br>Avg Loan Amount ($ USD): 13130.5951769<br>Number of rejected loans: 422871",
          "RI<br>Avg Loan Amount ($ USD): 12388.0727494<br>Number of rejected loans: 45210",
          "SC<br>Avg Loan Amount ($ USD): 12448.5373493<br>Number of rejected loans: 181412",
          "SD<br>Avg Loan Amount ($ USD): 13995.387872<br>Number of rejected loans: 23384",
          "TN<br>Avg Loan Amount ($ USD): 12207.4268377<br>Number of rejected loans: 219922",
          "TX<br>Avg Loan Amount ($ USD): 13364.2154292<br>Number of rejected loans: 980237",
          "UT<br>Avg Loan Amount ($ USD): 14482.2763151<br>Number of rejected loans: 71687",
          "VA<br>Avg Loan Amount ($ USD): 13145.2683687<br>Number of rejected loans: 309082",
          "VT<br>Avg Loan Amount ($ USD): 13997.9778735<br>Number of rejected loans: 21829",
          "WA<br>Avg Loan Amount ($ USD): 14096.5025398<br>Number of rejected loans: 197734",
          "WI<br>Avg Loan Amount ($ USD): 12643.3213325<br>Number of rejected loans: 147399",
          "WV<br>Avg Loan Amount ($ USD): 13522.3657722<br>Number of rejected loans: 46473",
          "WY<br>Avg Loan Amount ($ USD): 14998.3422283<br>Number of rejected loans: 21173"
         ],
         "type": "choropleth",
         "z": [
          "26006",
          "200662",
          "118476",
          "228349",
          "1357999",
          "188827",
          "138414",
          "22377",
          "36787",
          "848734",
          "415387",
          "65545",
          "146",
          "14146",
          "406951",
          "194025",
          "92902",
          "143627",
          "173248",
          "228248",
          "233413",
          "19335",
          "299675",
          "143511",
          "196907",
          "93034",
          "28494",
          "346193",
          "12578",
          "30619",
          "47088",
          "348729",
          "66283",
          "134751",
          "852543",
          "402379",
          "123921",
          "110642",
          "422871",
          "45210",
          "181412",
          "23384",
          "219922",
          "980237",
          "71687",
          "309082",
          "21829",
          "197734",
          "147399",
          "46473",
          "21173"
         ]
        }
       ],
       "layout": {
        "geo": {
         "lakecolor": "rgb(255, 255, 255)",
         "projection": {
          "type": "albers usa"
         },
         "scope": "usa",
         "showlakes": true
        },
        "title": "Total number of rejected loans by state <br> (Hover over state for other metrics)"
       }
      },
      "text/html": [
       "<div id=\"c518da83-55f0-4c91-9b86-357c57f326f0\" style=\"height: 525px; width: 100%;\" class=\"plotly-graph-div\"></div><script type=\"text/javascript\">require([\"plotly\"], function(Plotly) { window.PLOTLYENV=window.PLOTLYENV || {};window.PLOTLYENV.BASE_URL=\"https://plot.ly\";Plotly.newPlot(\"c518da83-55f0-4c91-9b86-357c57f326f0\", [{\"type\": \"choropleth\", \"colorscale\": [[0.0, \"rgb(242,240,247)\"], [0.2, \"rgb(218,218,235)\"], [0.4, \"rgb(188,189,220)\"], [0.6, \"rgb(158,154,200)\"], [0.8, \"rgb(117,107,177)\"], [1.0, \"rgb(84,39,143)\"]], \"autocolorscale\": true, \"locations\": [\"AK\", \"AL\", \"AR\", \"AZ\", \"CA\", \"CO\", \"CT\", \"DC\", \"DE\", \"FL\", \"GA\", \"HI\", \"IA\", \"ID\", \"IL\", \"IN\", \"KS\", \"KY\", \"LA\", \"MA\", \"MD\", \"ME\", \"MI\", \"MN\", \"MO\", \"MS\", \"MT\", \"NC\", \"ND\", \"NE\", \"NH\", \"NJ\", \"NM\", \"NV\", \"NY\", \"OH\", \"OK\", \"OR\", \"PA\", \"RI\", \"SC\", \"SD\", \"TN\", \"TX\", \"UT\", \"VA\", \"VT\", \"WA\", \"WI\", \"WV\", \"WY\"], \"z\": [\"26006\", \"200662\", \"118476\", \"228349\", \"1357999\", \"188827\", \"138414\", \"22377\", \"36787\", \"848734\", \"415387\", \"65545\", \"146\", \"14146\", \"406951\", \"194025\", \"92902\", \"143627\", \"173248\", \"228248\", \"233413\", \"19335\", \"299675\", \"143511\", \"196907\", \"93034\", \"28494\", \"346193\", \"12578\", \"30619\", \"47088\", \"348729\", \"66283\", \"134751\", \"852543\", \"402379\", \"123921\", \"110642\", \"422871\", \"45210\", \"181412\", \"23384\", \"219922\", \"980237\", \"71687\", \"309082\", \"21829\", \"197734\", \"147399\", \"46473\", \"21173\"], \"locationmode\": \"USA-states\", \"text\": [\"AK<br>Avg Loan Amount ($ USD): 15890.8030839<br>Number of rejected loans: 26006\", \"AL<br>Avg Loan Amount ($ USD): 12101.0442683<br>Number of rejected loans: 200662\", \"AR<br>Avg Loan Amount ($ USD): 12908.2299369<br>Number of rejected loans: 118476\", \"AZ<br>Avg Loan Amount ($ USD): 13392.3143757<br>Number of rejected loans: 228349\", \"CA<br>Avg Loan Amount ($ USD): 14031.4728388<br>Number of rejected loans: 1357999\", \"CO<br>Avg Loan Amount ($ USD): 14347.345679<br>Number of rejected loans: 188827\", \"CT<br>Avg Loan Amount ($ USD): 13830.3817027<br>Number of rejected loans: 138414\", \"DC<br>Avg Loan Amount ($ USD): 12258.8655696<br>Number of rejected loans: 22377\", \"DE<br>Avg Loan Amount ($ USD): 12753.7787338<br>Number of rejected loans: 36787\", \"FL<br>Avg Loan Amount ($ USD): 13632.8702686<br>Number of rejected loans: 848734\", \"GA<br>Avg Loan Amount ($ USD): 12969.3322354<br>Number of rejected loans: 415387\", \"HI<br>Avg Loan Amount ($ USD): 15573.9649015<br>Number of rejected loans: 65545\", \"IA<br>Avg Loan Amount ($ USD): 8467.6369863<br>Number of rejected loans: 146\", \"ID<br>Avg Loan Amount ($ USD): 13262.6696593<br>Number of rejected loans: 14146\", \"IL<br>Avg Loan Amount ($ USD): 13765.9540812<br>Number of rejected loans: 406951\", \"IN<br>Avg Loan Amount ($ USD): 12832.7426878<br>Number of rejected loans: 194025\", \"KS<br>Avg Loan Amount ($ USD): 13193.8284752<br>Number of rejected loans: 92902\", \"KY<br>Avg Loan Amount ($ USD): 12588.3541674<br>Number of rejected loans: 143627\", \"LA<br>Avg Loan Amount ($ USD): 12688.4399982<br>Number of rejected loans: 173248\", \"MA<br>Avg Loan Amount ($ USD): 13508.3958794<br>Number of rejected loans: 228248\", \"MD<br>Avg Loan Amount ($ USD): 13019.6829288<br>Number of rejected loans: 233413\", \"ME<br>Avg Loan Amount ($ USD): 14133.6281355<br>Number of rejected loans: 19335\", \"MI<br>Avg Loan Amount ($ USD): 13099.9519772<br>Number of rejected loans: 299675\", \"MN<br>Avg Loan Amount ($ USD): 13723.1719032<br>Number of rejected loans: 143511\", \"MO<br>Avg Loan Amount ($ USD): 12566.6749894<br>Number of rejected loans: 196907\", \"MS<br>Avg Loan Amount ($ USD): 12191.8771632<br>Number of rejected loans: 93034\", \"MT<br>Avg Loan Amount ($ USD): 14726.3158296<br>Number of rejected loans: 28494\", \"NC<br>Avg Loan Amount ($ USD): 12663.8410701<br>Number of rejected loans: 346193\", \"ND<br>Avg Loan Amount ($ USD): 14744.3035459<br>Number of rejected loans: 12578\", \"NE<br>Avg Loan Amount ($ USD): 13386.1995166<br>Number of rejected loans: 30619\", \"NH<br>Avg Loan Amount ($ USD): 14261.0737332<br>Number of rejected loans: 47088\", \"NJ<br>Avg Loan Amount ($ USD): 14394.0129693<br>Number of rejected loans: 348729\", \"NM<br>Avg Loan Amount ($ USD): 13330.7748337<br>Number of rejected loans: 66283\", \"NV<br>Avg Loan Amount ($ USD): 13370.5753052<br>Number of rejected loans: 134751\", \"NY<br>Avg Loan Amount ($ USD): 13748.2380302<br>Number of rejected loans: 852543\", \"OH<br>Avg Loan Amount ($ USD): 12405.0067254<br>Number of rejected loans: 402379\", \"OK<br>Avg Loan Amount ($ USD): 13283.5885201<br>Number of rejected loans: 123921\", \"OR<br>Avg Loan Amount ($ USD): 13625.7045622<br>Number of rejected loans: 110642\", \"PA<br>Avg Loan Amount ($ USD): 13130.5951769<br>Number of rejected loans: 422871\", \"RI<br>Avg Loan Amount ($ USD): 12388.0727494<br>Number of rejected loans: 45210\", \"SC<br>Avg Loan Amount ($ USD): 12448.5373493<br>Number of rejected loans: 181412\", \"SD<br>Avg Loan Amount ($ USD): 13995.387872<br>Number of rejected loans: 23384\", \"TN<br>Avg Loan Amount ($ USD): 12207.4268377<br>Number of rejected loans: 219922\", \"TX<br>Avg Loan Amount ($ USD): 13364.2154292<br>Number of rejected loans: 980237\", \"UT<br>Avg Loan Amount ($ USD): 14482.2763151<br>Number of rejected loans: 71687\", \"VA<br>Avg Loan Amount ($ USD): 13145.2683687<br>Number of rejected loans: 309082\", \"VT<br>Avg Loan Amount ($ USD): 13997.9778735<br>Number of rejected loans: 21829\", \"WA<br>Avg Loan Amount ($ USD): 14096.5025398<br>Number of rejected loans: 197734\", \"WI<br>Avg Loan Amount ($ USD): 12643.3213325<br>Number of rejected loans: 147399\", \"WV<br>Avg Loan Amount ($ USD): 13522.3657722<br>Number of rejected loans: 46473\", \"WY<br>Avg Loan Amount ($ USD): 14998.3422283<br>Number of rejected loans: 21173\"], \"marker\": {\"line\": {\"color\": \"rgb(255,255,255)\", \"width\": 2}}, \"colorbar\": {\"title\": \"Number of loans\"}}], {\"title\": \"Total number of rejected loans by state <br> (Hover over state for other metrics)\", \"geo\": {\"scope\": \"usa\", \"projection\": {\"type\": \"albers usa\"}, \"showlakes\": true, \"lakecolor\": \"rgb(255, 255, 255)\"}}, {\"showLink\": true, \"linkText\": \"Export to plot.ly\"})});</script>"
      ],
      "text/vnd.plotly.v1+html": [
       "<div id=\"c518da83-55f0-4c91-9b86-357c57f326f0\" style=\"height: 525px; width: 100%;\" class=\"plotly-graph-div\"></div><script type=\"text/javascript\">require([\"plotly\"], function(Plotly) { window.PLOTLYENV=window.PLOTLYENV || {};window.PLOTLYENV.BASE_URL=\"https://plot.ly\";Plotly.newPlot(\"c518da83-55f0-4c91-9b86-357c57f326f0\", [{\"type\": \"choropleth\", \"colorscale\": [[0.0, \"rgb(242,240,247)\"], [0.2, \"rgb(218,218,235)\"], [0.4, \"rgb(188,189,220)\"], [0.6, \"rgb(158,154,200)\"], [0.8, \"rgb(117,107,177)\"], [1.0, \"rgb(84,39,143)\"]], \"autocolorscale\": true, \"locations\": [\"AK\", \"AL\", \"AR\", \"AZ\", \"CA\", \"CO\", \"CT\", \"DC\", \"DE\", \"FL\", \"GA\", \"HI\", \"IA\", \"ID\", \"IL\", \"IN\", \"KS\", \"KY\", \"LA\", \"MA\", \"MD\", \"ME\", \"MI\", \"MN\", \"MO\", \"MS\", \"MT\", \"NC\", \"ND\", \"NE\", \"NH\", \"NJ\", \"NM\", \"NV\", \"NY\", \"OH\", \"OK\", \"OR\", \"PA\", \"RI\", \"SC\", \"SD\", \"TN\", \"TX\", \"UT\", \"VA\", \"VT\", \"WA\", \"WI\", \"WV\", \"WY\"], \"z\": [\"26006\", \"200662\", \"118476\", \"228349\", \"1357999\", \"188827\", \"138414\", \"22377\", \"36787\", \"848734\", \"415387\", \"65545\", \"146\", \"14146\", \"406951\", \"194025\", \"92902\", \"143627\", \"173248\", \"228248\", \"233413\", \"19335\", \"299675\", \"143511\", \"196907\", \"93034\", \"28494\", \"346193\", \"12578\", \"30619\", \"47088\", \"348729\", \"66283\", \"134751\", \"852543\", \"402379\", \"123921\", \"110642\", \"422871\", \"45210\", \"181412\", \"23384\", \"219922\", \"980237\", \"71687\", \"309082\", \"21829\", \"197734\", \"147399\", \"46473\", \"21173\"], \"locationmode\": \"USA-states\", \"text\": [\"AK<br>Avg Loan Amount ($ USD): 15890.8030839<br>Number of rejected loans: 26006\", \"AL<br>Avg Loan Amount ($ USD): 12101.0442683<br>Number of rejected loans: 200662\", \"AR<br>Avg Loan Amount ($ USD): 12908.2299369<br>Number of rejected loans: 118476\", \"AZ<br>Avg Loan Amount ($ USD): 13392.3143757<br>Number of rejected loans: 228349\", \"CA<br>Avg Loan Amount ($ USD): 14031.4728388<br>Number of rejected loans: 1357999\", \"CO<br>Avg Loan Amount ($ USD): 14347.345679<br>Number of rejected loans: 188827\", \"CT<br>Avg Loan Amount ($ USD): 13830.3817027<br>Number of rejected loans: 138414\", \"DC<br>Avg Loan Amount ($ USD): 12258.8655696<br>Number of rejected loans: 22377\", \"DE<br>Avg Loan Amount ($ USD): 12753.7787338<br>Number of rejected loans: 36787\", \"FL<br>Avg Loan Amount ($ USD): 13632.8702686<br>Number of rejected loans: 848734\", \"GA<br>Avg Loan Amount ($ USD): 12969.3322354<br>Number of rejected loans: 415387\", \"HI<br>Avg Loan Amount ($ USD): 15573.9649015<br>Number of rejected loans: 65545\", \"IA<br>Avg Loan Amount ($ USD): 8467.6369863<br>Number of rejected loans: 146\", \"ID<br>Avg Loan Amount ($ USD): 13262.6696593<br>Number of rejected loans: 14146\", \"IL<br>Avg Loan Amount ($ USD): 13765.9540812<br>Number of rejected loans: 406951\", \"IN<br>Avg Loan Amount ($ USD): 12832.7426878<br>Number of rejected loans: 194025\", \"KS<br>Avg Loan Amount ($ USD): 13193.8284752<br>Number of rejected loans: 92902\", \"KY<br>Avg Loan Amount ($ USD): 12588.3541674<br>Number of rejected loans: 143627\", \"LA<br>Avg Loan Amount ($ USD): 12688.4399982<br>Number of rejected loans: 173248\", \"MA<br>Avg Loan Amount ($ USD): 13508.3958794<br>Number of rejected loans: 228248\", \"MD<br>Avg Loan Amount ($ USD): 13019.6829288<br>Number of rejected loans: 233413\", \"ME<br>Avg Loan Amount ($ USD): 14133.6281355<br>Number of rejected loans: 19335\", \"MI<br>Avg Loan Amount ($ USD): 13099.9519772<br>Number of rejected loans: 299675\", \"MN<br>Avg Loan Amount ($ USD): 13723.1719032<br>Number of rejected loans: 143511\", \"MO<br>Avg Loan Amount ($ USD): 12566.6749894<br>Number of rejected loans: 196907\", \"MS<br>Avg Loan Amount ($ USD): 12191.8771632<br>Number of rejected loans: 93034\", \"MT<br>Avg Loan Amount ($ USD): 14726.3158296<br>Number of rejected loans: 28494\", \"NC<br>Avg Loan Amount ($ USD): 12663.8410701<br>Number of rejected loans: 346193\", \"ND<br>Avg Loan Amount ($ USD): 14744.3035459<br>Number of rejected loans: 12578\", \"NE<br>Avg Loan Amount ($ USD): 13386.1995166<br>Number of rejected loans: 30619\", \"NH<br>Avg Loan Amount ($ USD): 14261.0737332<br>Number of rejected loans: 47088\", \"NJ<br>Avg Loan Amount ($ USD): 14394.0129693<br>Number of rejected loans: 348729\", \"NM<br>Avg Loan Amount ($ USD): 13330.7748337<br>Number of rejected loans: 66283\", \"NV<br>Avg Loan Amount ($ USD): 13370.5753052<br>Number of rejected loans: 134751\", \"NY<br>Avg Loan Amount ($ USD): 13748.2380302<br>Number of rejected loans: 852543\", \"OH<br>Avg Loan Amount ($ USD): 12405.0067254<br>Number of rejected loans: 402379\", \"OK<br>Avg Loan Amount ($ USD): 13283.5885201<br>Number of rejected loans: 123921\", \"OR<br>Avg Loan Amount ($ USD): 13625.7045622<br>Number of rejected loans: 110642\", \"PA<br>Avg Loan Amount ($ USD): 13130.5951769<br>Number of rejected loans: 422871\", \"RI<br>Avg Loan Amount ($ USD): 12388.0727494<br>Number of rejected loans: 45210\", \"SC<br>Avg Loan Amount ($ USD): 12448.5373493<br>Number of rejected loans: 181412\", \"SD<br>Avg Loan Amount ($ USD): 13995.387872<br>Number of rejected loans: 23384\", \"TN<br>Avg Loan Amount ($ USD): 12207.4268377<br>Number of rejected loans: 219922\", \"TX<br>Avg Loan Amount ($ USD): 13364.2154292<br>Number of rejected loans: 980237\", \"UT<br>Avg Loan Amount ($ USD): 14482.2763151<br>Number of rejected loans: 71687\", \"VA<br>Avg Loan Amount ($ USD): 13145.2683687<br>Number of rejected loans: 309082\", \"VT<br>Avg Loan Amount ($ USD): 13997.9778735<br>Number of rejected loans: 21829\", \"WA<br>Avg Loan Amount ($ USD): 14096.5025398<br>Number of rejected loans: 197734\", \"WI<br>Avg Loan Amount ($ USD): 12643.3213325<br>Number of rejected loans: 147399\", \"WV<br>Avg Loan Amount ($ USD): 13522.3657722<br>Number of rejected loans: 46473\", \"WY<br>Avg Loan Amount ($ USD): 14998.3422283<br>Number of rejected loans: 21173\"], \"marker\": {\"line\": {\"color\": \"rgb(255,255,255)\", \"width\": 2}}, \"colorbar\": {\"title\": \"Number of loans\"}}], {\"title\": \"Total number of rejected loans by state <br> (Hover over state for other metrics)\", \"geo\": {\"scope\": \"usa\", \"projection\": {\"type\": \"albers usa\"}, \"showlakes\": true, \"lakecolor\": \"rgb(255, 255, 255)\"}}, {\"showLink\": true, \"linkText\": \"Export to plot.ly\"})});</script>"
      ]
     },
     "metadata": {},
     "output_type": "display_data"
    }
   ],
   "source": [
    "# from the tutorial, leaving in just for now\n",
    "for col in dfSummary.columns:\n",
    "    dfSummary[col] = dfSummary[col].astype(str)\n",
    "\n",
    "    scl = [[0.0, 'rgb(242,240,247)'],[0.2, 'rgb(218,218,235)'],[0.4, 'rgb(188,189,220)'],\\\n",
    "            [0.6, 'rgb(158,154,200)'],[0.8, 'rgb(117,107,177)'],[1.0, 'rgb(84,39,143)']]\n",
    "\n",
    "dfSummary['text'] = dfSummary['State'] + '<br>' +\\\n",
    "    'Avg Loan Amount ($ USD): '+dfSummary['Avg Amount Requested']+'<br>'+\\\n",
    "    'Number of rejected loans: '+dfSummary['Rejected Loans']\n",
    "\n",
    "data = [ dict(\n",
    "        type='choropleth',\n",
    "        colorscale = scl,\n",
    "        autocolorscale = True,\n",
    "        locations = dfSummary['State'],\n",
    "        z = dfSummary['Rejected Loans'], #.astype(int),\n",
    "        locationmode = 'USA-states',\n",
    "        text = dfSummary['text'],\n",
    "        marker = dict(\n",
    "            line = dict (\n",
    "                color = 'rgb(255,255,255)',\n",
    "                width = 2\n",
    "            ) ),\n",
    "        colorbar = dict(\n",
    "            title = \"Number of loans\")\n",
    "        ) ]\n",
    "\n",
    "layout = dict(\n",
    "        title = 'Total number of rejected loans by state <br> (Hover over state for other metrics)',\n",
    "        geo = dict(\n",
    "            scope='usa',\n",
    "            projection=dict( type='albers usa' ),\n",
    "            showlakes = True,\n",
    "            lakecolor = 'rgb(255, 255, 255)'),\n",
    "             )\n",
    "    \n",
    "fig = dict( data=data, layout=layout )\n",
    "iplot( fig, filename='d3-cloropleth-map' )"
   ]
  },
  {
   "cell_type": "markdown",
   "metadata": {},
   "source": [
    "# Time-Series analysis approved vs declined loans"
   ]
  },
  {
   "cell_type": "code",
   "execution_count": 67,
   "metadata": {
    "collapsed": true
   },
   "outputs": [],
   "source": [
    "#group the acceptd loans by year\n",
    "\n",
    "#by year and counting the total amount of accepted loans and Interest Rate\n",
    "seriesCount = dfLoanData['LoanAmt'].groupby(dfLoanData['IssuedYear']).count()\n",
    "\n",
    "#by year and Average of Loan Amt\n",
    "seriesLA = dfLoanData['LoanAmt'].groupby(dfLoanData['IssuedYear']).mean()\n",
    "\n",
    "#combining seriesCount and seriesTotAmt into summary Metrix data frame\n",
    "columns=['Year', 'Accepted Loans', 'Avg Loan Amount']\n",
    "dfAcceptedSummary = pd.DataFrame({'Year':seriesCount.index,'Accepted Loans': seriesCount/1000, \n",
    "                          'Avg Loan Amount':seriesLA})"
   ]
  },
  {
   "cell_type": "code",
   "execution_count": 68,
   "metadata": {
    "collapsed": false
   },
   "outputs": [],
   "source": [
    "#group the acceptd loans by year\n",
    "\n",
    "#by year and counting the total amount of accepted loans and Interest Rate\n",
    "seriesCount = dfDecLoanData['LoanAmt'].groupby(dfDecLoanData['IssuedYear']).count()\n",
    "\n",
    "#by year and Average of Loan Amt\n",
    "seriesLA = dfDecLoanData['LoanAmt'].groupby(dfDecLoanData['IssuedYear']).mean()\n",
    "\n",
    "#combining seriesCount and seriesTotAmt into summary Metrix data frame\n",
    "columns=['Year', 'Declined Loans', 'Avg Dec-Loan Amount']\n",
    "dfDeclinedSummary = pd.DataFrame({'Year':seriesCount.index,'Declined Loans': seriesCount/1000, \n",
    "                          'Avg Dec-Loan Amount':seriesLA})"
   ]
  },
  {
   "cell_type": "code",
   "execution_count": 43,
   "metadata": {
    "collapsed": false
   },
   "outputs": [],
   "source": [
    "#Merge two dataframes along the year value\n",
    "dfSummary = pd.merge(dfAcceptedSummary, dfDeclinedSummary, on='Year')"
   ]
  },
  {
   "cell_type": "code",
   "execution_count": 49,
   "metadata": {
    "collapsed": false
   },
   "outputs": [
    {
     "data": {
      "text/plain": [
       "<matplotlib.text.Text at 0x225800609b0>"
      ]
     },
     "execution_count": 49,
     "metadata": {},
     "output_type": "execute_result"
    },
    {
     "data": {
      "image/png": "[encoded data removed]",
      "text/plain": [
       "<matplotlib.figure.Figure at 0x225812afcf8>"
      ]
     },
     "metadata": {},
     "output_type": "display_data"
    }
   ],
   "source": [
    "fig, ax = plt.subplots()\n",
    "dfSummary.plot(ax=ax, kind='line', x='Year', y='Accepted Loans', c = '#8A2BE2')\n",
    "dfSummary.plot(ax=ax, kind='line', x='Year', y='Declined Loans', c = '#A52A2A')\n",
    "plt.ylabel('Number of Loans in k')\n",
    "ax.set_title(\"Yearly trend of Number of Loans accepted vs rejected\")"
   ]
  },
  {
   "cell_type": "code",
   "execution_count": 69,
   "metadata": {
    "collapsed": false
   },
   "outputs": [],
   "source": [
    "#Merge two dataframes along the year value\n",
    "columns = ['Number Of Loans', 'Avg Loan Amount', 'Year']\n",
    "dfAcceptedSummary.rename(columns={'Accepted Loans': 'Number Of Loans', 'Avg Loan Amount': 'Avg Loan Amount'}, inplace=True)\n",
    "dfDeclinedSummary.rename(columns={'Declined Loans': 'Number Of Loans', 'Avg Dec-Loan Amount': 'Avg Loan Amount'}, inplace=True)\n",
    "dfAcceptedSummary['Flag'] = 'Approved'\n",
    "dfDeclinedSummary['Flag'] = 'Declined'\n",
    "dfSummary = pd.concat([dfAcceptedSummary, dfDeclinedSummary])"
   ]
  },
  {
   "cell_type": "code",
   "execution_count": 74,
   "metadata": {
    "collapsed": false
   },
   "outputs": [
    {
     "data": {
      "image/png": "[encoded data removed]",
      "text/plain": [
       "<matplotlib.figure.Figure at 0x225804d7e48>"
      ]
     },
     "metadata": {},
     "output_type": "display_data"
    }
   ],
   "source": [
    "ax = sns.barplot(x=\"Year\", y=\"Avg Loan Amount\", hue=\"Flag\", data=dfSummary)"
   ]
  }
 ],
 "metadata": {
  "kernelspec": {
   "display_name": "Python 3",
   "language": "python",
   "name": "python3"
  },
  "language_info": {
   "codemirror_mode": {
    "name": "ipython",
    "version": 3
   },
   "file_extension": ".py",
   "mimetype": "text/x-python",
   "name": "python",
   "nbconvert_exporter": "python",
   "pygments_lexer": "ipython3",
   "version": "3.6.0"
  }
 },
 "nbformat": 4,
 "nbformat_minor": 2
}
