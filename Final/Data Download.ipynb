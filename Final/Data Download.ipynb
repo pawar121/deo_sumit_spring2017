{
 "cells": [
  {
   "cell_type": "code",
   "execution_count": 1,
   "metadata": {
    "collapsed": true
   },
   "outputs": [],
   "source": [
    "#improting all the required packages\n",
    "from __future__ import print_function\n",
    "import mechanicalsoup\n",
    "from bs4 import BeautifulSoup\n",
    "import urllib.response\n",
    "import urllib.request\n",
    "from urllib.request import urlopen\n",
    "import csv\n",
    "import os\n",
    "from zipfile import ZipFile\n",
    "from io import BytesIO\n",
    "import warnings\n",
    "warnings.filterwarnings('ignore')"
   ]
  },
  {
   "cell_type": "code",
   "execution_count": 2,
   "metadata": {
    "collapsed": true
   },
   "outputs": [],
   "source": [
    "#function to check is directory exists\n",
    "def funCheckDir(filepath):\n",
    "    directory = os.path.dirname(filepath) # defining directory path\n",
    "    if not os.path.exists(directory): # checking if directory already exists\n",
    "        os.makedirs(directory) # making a directory\n",
    "        return False\n",
    "    else :\n",
    "        return True"
   ]
  },
  {
   "cell_type": "code",
   "execution_count": 3,
   "metadata": {
    "collapsed": true
   },
   "outputs": [],
   "source": [
    "#defining the file-directory\n",
    "fileDir = os.path.dirname(os.path.realpath('__file__'))"
   ]
  },
  {
   "cell_type": "code",
   "execution_count": 4,
   "metadata": {
    "collapsed": true
   },
   "outputs": [],
   "source": [
    "#defining base ulrs\n",
    "loginURL = 'https://www.lendingclub.com/account/gotoLogin.action'"
   ]
  },
  {
   "cell_type": "code",
   "execution_count": 5,
   "metadata": {
    "collapsed": false
   },
   "outputs": [
    {
     "name": "stdout",
     "output_type": "stream",
     "text": [
      "Lending-club username : spawargautam@gmail.com\n",
      "Lending-club password : Pawar@121\n"
     ]
    }
   ],
   "source": [
    "#ask for login credentials\n",
    "username = input(\"Lending-club username : \")\n",
    "password = input(\"Lending-club password : \")"
   ]
  },
  {
   "cell_type": "code",
   "execution_count": 6,
   "metadata": {
    "collapsed": true
   },
   "outputs": [],
   "source": [
    "#trying to loging to the lending-club\n",
    "browser = mechanicalsoup.Browser()\n",
    "login_page = browser.get(loginURL)\n",
    "login_form = login_page.soup.find('form', {\"id\":\"member-login\"})\n",
    "login_form.find(\"input\", {\"name\" : \"login_email\"})[\"value\"] = username\n",
    "login_form.find(\"input\", {\"name\" : \"login_password\"})[\"value\"] = password\n",
    "response = browser.submit(login_form, login_page.url)"
   ]
  },
  {
   "cell_type": "code",
   "execution_count": 7,
   "metadata": {
    "collapsed": false
   },
   "outputs": [
    {
     "name": "stdout",
     "output_type": "stream",
     "text": [
      "spawargautam@gmail.com logged in successfully!\n",
      "Opening an url and creating a soup..\n",
      "Looking for loan-stats data..\n",
      "Total number of loan-stats data files : 8\n",
      "Downloading loan-stats data files...\n",
      "Downloading data file for 2007 - 2011\n",
      "Downloading data file for 2012 - 2013\n",
      "Downloading data file for 2014\n",
      "Downloading data file for 2015\n",
      "Downloading data file for 2016 Q1\n",
      "Downloading data file for 2016 Q2\n",
      "Downloading data file for 2016 Q3\n",
      "Downloading data file for 2016 Q4\n",
      "Loan data location - D:\\Masters\\Spring2017\\Python\\Final\\data/raw_data/loan_data/\n",
      "Looking for declined-loan-stats data..\n",
      "Total number of declined-loan-stats data files : 7\n",
      "Downloading declined-loan-stats data files...\n",
      "Declined-Loan data location - D:\\Masters\\Spring2017\\Python\\Final\\data/raw_data/declined_loan_data/\n"
     ]
    }
   ],
   "source": [
    "if (response.url == 'https://www.lendingclub.com/account/summary.action'):\n",
    "    print(username + \" logged in successfully!\")\n",
    "    url = 'https://www.lendingclub.com/info/download-data.action'\n",
    "    baseURL = 'https://resources.lendingclub.com/'\n",
    "\n",
    "    #opening an url and creating a soup\n",
    "    print(\"Opening an url and creating a soup..\")\n",
    "    html = browser.get(url)\n",
    "    soup = BeautifulSoup(html.text,\"html.parser\")\n",
    "\n",
    "    #working on Loan Stats Data\n",
    "    print(\"Looking for loan-stats data..\")\n",
    "    #getting file extentions\n",
    "    loanStatFileExtn = soup.find( 'div' , { 'id' : 'loanStatsFileNamesJS' }).text\n",
    "    loanStatFileExtn = loanStatFileExtn.split('|')\n",
    "    #getting file names\n",
    "    loanStatNames = [str(x.text) for x in soup.find(id=\"loanStatsDropdown\").find_all('option')]\n",
    "    #combining names and files\n",
    "    loanStats = list(zip(loanStatFileExtn, loanStatNames))\n",
    "    print(\"Total number of loan-stats data files : \" + str(len(loanStats)))\n",
    "\n",
    "\n",
    "    #downloading Loan Stats Data\n",
    "    print(\"Downloading loan-stats data files...\")\n",
    "    for (extn, name) in loanStats:\n",
    "        path = os.path.join(fileDir, 'data/raw_data/loan_data/'+str(name)+'/')\n",
    "        if funCheckDir(path):\n",
    "            continue\n",
    "        else:\n",
    "            print(\"Downloading data file for \" + str(name))\n",
    "            with urlopen(baseURL + extn) as zipresp:\n",
    "                with ZipFile(BytesIO(zipresp.read())) as zfile:\n",
    "                    zfile.extractall(path)\n",
    "\n",
    "    print(\"Loan data location - \" + os.path.join(fileDir, 'data/raw_data/loan_data/'))\n",
    "    \n",
    "    #working on Declined-Loan Stats Data\n",
    "    print(\"Looking for declined-loan-stats data..\")\n",
    "    #getting file extentions\n",
    "    loanStatFileExtn = soup.find( 'div' , { 'id' : 'rejectedLoanStatsFileNamesJS' }).text\n",
    "    loanStatFileExtn = loanStatFileExtn.split('|')\n",
    "    #getting file names\n",
    "    loanStatNames = [str(x.text) for x in soup.find(id=\"rejectStatsDropdown\").find_all('option')]\n",
    "    #combining names and files\n",
    "    loanStats = list(zip(loanStatFileExtn, loanStatNames))\n",
    "    print(\"Total number of declined-loan-stats data files : \" + str(len(loanStats)))\n",
    "\n",
    "\n",
    "    #downloading Declined-Loan Stats Data\n",
    "    print(\"Downloading declined-loan-stats data files...\")\n",
    "    for (extn, name) in loanStats:\n",
    "        path = os.path.join(fileDir, 'data/raw_data/declined_loan_data/'+str(name)+'/')\n",
    "        if funCheckDir(path):\n",
    "            continue\n",
    "        else:\n",
    "            print(\"Downloading data file for \" + str(name))\n",
    "            with urlopen(baseURL + extn) as zipresp:\n",
    "                with ZipFile(BytesIO(zipresp.read())) as zfile:\n",
    "                    zfile.extractall(path)\n",
    "    print(\"Declined-Loan data location - \" + os.path.join(fileDir, 'data/raw_data/declined_loan_data/'))\n",
    "else:\n",
    "    print(\"Either username or password or both are wrong..\")"
   ]
  }
 ],
 "metadata": {
  "kernelspec": {
   "display_name": "Python 3",
   "language": "python",
   "name": "python3"
  },
  "language_info": {
   "codemirror_mode": {
    "name": "ipython",
    "version": 3
   },
   "file_extension": ".py",
   "mimetype": "text/x-python",
   "name": "python",
   "nbconvert_exporter": "python",
   "pygments_lexer": "ipython3",
   "version": "3.6.0"
  }
 },
 "nbformat": 4,
 "nbformat_minor": 2
}
