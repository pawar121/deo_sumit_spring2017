{
 "cells": [
  {
   "cell_type": "markdown",
   "metadata": {},
   "source": [
    "# Question 2 Part 2\n",
    "- Read only the json files which contain the key called 'restaurants'\n",
    "- Read attribute called 'open' and fetch the data for all the days of a week\n",
    "- Store the timings for all the files in csv."
   ]
  },
  {
   "cell_type": "code",
   "execution_count": 1,
   "metadata": {
    "collapsed": true
   },
   "outputs": [],
   "source": [
    "import json # importing json library\n",
    "import glob # importing glob library\n",
    "import os # importing OS library\n",
    "import csv # importing csv\n",
    "import logging # import logging"
   ]
  },
  {
   "cell_type": "code",
   "execution_count": 2,
   "metadata": {
    "collapsed": true
   },
   "outputs": [],
   "source": [
    "def getLogger(dir):\n",
    "    logging.basicConfig(level=logging.INFO)\n",
    "    logger = logging.getLogger()\n",
    "    # create a file handler\n",
    "    handler = logging.FileHandler(fileDir+'/ques2part2.log')\n",
    "    handler.setLevel(logging.INFO)\n",
    "    # create a logging format\n",
    "    formatter = logging.Formatter('%(asctime)s - %(name)s - %(levelname)s - %(message)s')\n",
    "    handler.setFormatter(formatter)\n",
    "    # add the handlers to the logger\n",
    "    logger.addHandler(handler)\n",
    "    return logger"
   ]
  },
  {
   "cell_type": "code",
   "execution_count": 3,
   "metadata": {
    "collapsed": false
   },
   "outputs": [
    {
     "name": "stderr",
     "output_type": "stream",
     "text": [
      "INFO:root:Application started....\n",
      "INFO:root:Reading JSON files from data folder.\n",
      "INFO:root:11728 number of JSON files found in data folder\n"
     ]
    }
   ],
   "source": [
    "fileDir = os.path.dirname(os.path.realpath('__file__'))\n",
    "logger = getLogger(fileDir)\n",
    "logger.info(\"Application started....\")\n",
    "logger.info(\"Reading JSON files from data folder.\")\n",
    "filenames = sorted(glob.glob(fileDir+'/data/*.json')) # reading all the filenames in the data folder\n",
    "logger.info(str(len(filenames)) + \" number of JSON files found in data folder\")"
   ]
  },
  {
   "cell_type": "code",
   "execution_count": 4,
   "metadata": {
    "collapsed": false
   },
   "outputs": [
    {
     "name": "stderr",
     "output_type": "stream",
     "text": [
      "INFO:root:Iterating through all the JSON files.\n",
      "INFO:root:6372 number of restaurants JSON files found.\n"
     ]
    }
   ],
   "source": [
    "restaurants = []  # 6372\n",
    "logger.info(\"Iterating through all the JSON files.\")\n",
    "for file in filenames:  # iterating through all the files\n",
    "    with open(file) as data_file:    \n",
    "        data = json.load(data_file) # load JSON\n",
    "        if data['term'] == 'restaurants':\n",
    "            restaurants.append(data)\n",
    "logger.info(str(len(restaurants)) + \" number of restaurants JSON files found.\")"
   ]
  },
  {
   "cell_type": "code",
   "execution_count": 5,
   "metadata": {
    "collapsed": false
   },
   "outputs": [
    {
     "name": "stderr",
     "output_type": "stream",
     "text": [
      "INFO:root:Iterating through 6372 JSONs to locate the timings information.\n",
      "INFO:root:Out of 6372 restaurants, for 5652 restaurants we have timings information, and for 720 restaurants we dont have timings information\n"
     ]
    }
   ],
   "source": [
    "restaurantsWoTime = []  # 720\n",
    "restaurantsWTime = []  # 5652\n",
    "logger.info(\"Iterating through \"+str(len(restaurants))+\" JSONs to locate the timings information.\")\n",
    "for restaurant in restaurants:\n",
    "    if 'hours' in restaurant.keys() :\n",
    "        restaurantsWTime.append(restaurant)\n",
    "    else:\n",
    "        restaurantsWoTime.append(restaurant)\n",
    "logger.info(\"Out of \"+str(len(restaurants)) + \" restaurants, for \"+str(len(restaurantsWTime)) +\" restaurants we have timings information, and for \"+str(len(restaurantsWoTime)) +\" restaurants we dont have timings information\")"
   ]
  },
  {
   "cell_type": "code",
   "execution_count": 6,
   "metadata": {
    "collapsed": false
   },
   "outputs": [
    {
     "name": "stderr",
     "output_type": "stream",
     "text": [
      "INFO:root:Creating a result set for restaurants with timings information.\n",
      "INFO:root:Adding details of restaurants without timings information to the result set.\n"
     ]
    }
   ],
   "source": [
    "resultSet = []\n",
    "logger.info(\"Creating a result set for restaurants with timings information.\")\n",
    "for restaurant in restaurantsWTime:\n",
    "    days = restaurant['hours'][0]['open']\n",
    "    for day in days:\n",
    "        resultSet.append((restaurant['name'], restaurant['location']['city'], restaurant['location']['country'], day['day'], day['start'][:-2],day['start'][-2:], day['end'][:-2],day['end'][-2:]))\n",
    "\n",
    "logger.info(\"Adding details of restaurants without timings information to the result set.\")\n",
    "for restaurant in restaurantsWTime:\n",
    "    resultSet.append((restaurant['name'], restaurant['location']['city'], restaurant['location']['country'], 'NA', 'NA', 'NA', 'NA', 'NA'))"
   ]
  },
  {
   "cell_type": "code",
   "execution_count": 7,
   "metadata": {
    "collapsed": false
   },
   "outputs": [
    {
     "name": "stderr",
     "output_type": "stream",
     "text": [
      "INFO:root:Storing the result set in a CSV file\n",
      "INFO:root:Resultset.csv generated can be found on : D:\\NEU\\Spring2017\\Python\\deo_sumit_spring2017\\Assignment2\\Question2\\Part2resultSet.csv\n",
      "INFO:root:Application finished....\n"
     ]
    }
   ],
   "source": [
    "logger.info(\"Storing the result set in a CSV file\")\n",
    "with open(fileDir+'/resultSet.csv', 'a', encoding='utf-8') as outcsv:   \n",
    "    #configure writer to write standard csv file\n",
    "    writer = csv.writer(outcsv, delimiter=',', quotechar='|', quoting=csv.QUOTE_MINIMAL, lineterminator='\\n')\n",
    "    writer.writerow(['Name of restaurant', 'City', 'Country ode', 'Day of week', 'Start time hour', 'Start time minute', 'Start time hour', 'Start time minute'])\n",
    "    for item in resultSet:\n",
    "        #Write item to outcsv\n",
    "        writer.writerow([item[0], item[1], item[2], item[3], item[4], item[5], item[6], item[7]])\n",
    "logger.info(\"Resultset.csv generated can be found on : \"+fileDir+'resultSet.csv')\n",
    "logger.info(\"Application finished....\")\n",
    "logging.shutdown()"
   ]
  },
  {
   "cell_type": "markdown",
   "metadata": {},
   "source": [
    "# Sample result set"
   ]
  },
  {
   "cell_type": "markdown",
   "metadata": {},
   "source": [
    "<img src=\"screenshot.JPG\">"
   ]
  }
 ],
 "metadata": {
  "anaconda-cloud": {},
  "kernelspec": {
   "display_name": "Python [default]",
   "language": "python",
   "name": "python3"
  },
  "language_info": {
   "codemirror_mode": {
    "name": "ipython",
    "version": 3
   },
   "file_extension": ".py",
   "mimetype": "text/x-python",
   "name": "python",
   "nbconvert_exporter": "python",
   "pygments_lexer": "ipython3",
   "version": "3.5.2"
  }
 },
 "nbformat": 4,
 "nbformat_minor": 1
}
