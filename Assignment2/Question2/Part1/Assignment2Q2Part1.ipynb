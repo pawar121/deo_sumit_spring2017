{
 "cells": [
  {
   "cell_type": "markdown",
   "metadata": {},
   "source": [
    "# Question 2 Part 1\n",
    "- Read all the json files in the folder called Data.\n",
    "- Create a hierarchy of folder structure to read all these json files.\n",
    "- Store all the json files into these separate folders."
   ]
  },
  {
   "cell_type": "code",
   "execution_count": 1,
   "metadata": {
    "collapsed": true
   },
   "outputs": [],
   "source": [
    "import json # importing json library\n",
    "import glob # importing glob library\n",
    "import os # importing OS library\n",
    "import logging # importing logging\n",
    "import zipfile # importing zipfile"
   ]
  },
  {
   "cell_type": "code",
   "execution_count": 2,
   "metadata": {
    "collapsed": true
   },
   "outputs": [],
   "source": [
    "def funCreateDir(filepath):\n",
    "    directory = os.path.dirname(filepath) # defining directory path\n",
    "    if not os.path.exists(directory): # checking if directory already exists\n",
    "        os.makedirs(directory) # making a directory"
   ]
  },
  {
   "cell_type": "code",
   "execution_count": 3,
   "metadata": {
    "collapsed": true
   },
   "outputs": [],
   "source": [
    "def zipdir(path, ziph):\n",
    "    # ziph is zipfile handle\n",
    "    for root, dirs, files in os.walk(path):\n",
    "        for file in files:\n",
    "            ziph.write(os.path.join(root, file))"
   ]
  },
  {
   "cell_type": "code",
   "execution_count": 4,
   "metadata": {
    "collapsed": true
   },
   "outputs": [],
   "source": [
    "def getLogger(dir):\n",
    "    logging.basicConfig(level=logging.INFO)\n",
    "    logger = logging.getLogger()\n",
    "    # create a file handler\n",
    "    handler = logging.FileHandler(fileDir+'/ques2part1.log')\n",
    "    handler.setLevel(logging.INFO)\n",
    "    # create a logging format\n",
    "    formatter = logging.Formatter('%(asctime)s - %(name)s - %(levelname)s - %(message)s')\n",
    "    handler.setFormatter(formatter)\n",
    "    # add the handlers to the logger\n",
    "    logger.addHandler(handler)\n",
    "    return logger"
   ]
  },
  {
   "cell_type": "code",
   "execution_count": 5,
   "metadata": {
    "collapsed": true
   },
   "outputs": [],
   "source": [
    "# removing all the punctuation, numbers, whitespaces from the words\n",
    "funcRemPunc = lambda word: ''.join([ch for ch in word if ch.isalpha()])"
   ]
  },
  {
   "cell_type": "code",
   "execution_count": 6,
   "metadata": {
    "collapsed": true
   },
   "outputs": [],
   "source": [
    "def funStoreJSON(data, uuid):\n",
    "    term = data['term'] # fetching term from json data\n",
    "    name = funcRemPunc(data['name']) # fetching name from json data\n",
    "    country = data['location']['country'] # fetching country from json data\n",
    "    state = data['location']['state'] # fetching state from json data\n",
    "    city = data['location']['city'] # fetching city from json data\n",
    "    filename = name[:10]+'_'+city+'_'+state+'_'+country+'_'+str(uuid)+'.json' # creating a filepath\n",
    "    fileDir = os.path.dirname(os.path.realpath('__file__'))\n",
    "    filepath = fileDir+'/Data Processed/'+country+'/'+state+'/'+city+'/'+term+'/' # creating an unique filename\n",
    "    funCreateDir(filepath)\n",
    "    with open(filepath+filename, 'w', encoding='utf-8') as outfile:\n",
    "        json.dump(data, outfile, sort_keys = True, indent = 4, ensure_ascii = False)  # dumping data into JSON"
   ]
  },
  {
   "cell_type": "code",
   "execution_count": 7,
   "metadata": {
    "collapsed": false
   },
   "outputs": [
    {
     "name": "stderr",
     "output_type": "stream",
     "text": [
      "INFO:root:Application started....\n",
      "INFO:root:Reading JSON files from data folder.\n",
      "INFO:root:11728 number of JSON files found.\n"
     ]
    }
   ],
   "source": [
    "fileDir = os.path.dirname(os.path.realpath('__file__'))\n",
    "logger = getLogger(fileDir)\n",
    "logger.info(\"Application started....\")\n",
    "logger.info(\"Reading JSON files from data folder.\")\n",
    "filenames = sorted(glob.glob(fileDir+'/data/*.json')) # reading all the filenames in the data folder\n",
    "logger.info(str(len(filenames)) + \" number of JSON files found.\")"
   ]
  },
  {
   "cell_type": "code",
   "execution_count": null,
   "metadata": {
    "collapsed": false
   },
   "outputs": [],
   "source": [
    "uuid = 1 # unique ID for whole data base\n",
    "for file in filenames:  # iterating through all the files\n",
    "    with open(file) as data_file:    \n",
    "        data = json.load(data_file) # load JSON\n",
    "        data['uuid'] = str(uuid) # create another attribute called uuid\n",
    "        funStoreJSON(data, uuid)\n",
    "    uuid = uuid + 1"
   ]
  },
  {
   "cell_type": "markdown",
   "metadata": {},
   "source": [
    "# Generated folder structure"
   ]
  },
  {
   "cell_type": "markdown",
   "metadata": {},
   "source": [
    "<img src=\"folderStruct.JPG\">"
   ]
  },
  {
   "cell_type": "code",
   "execution_count": null,
   "metadata": {
    "collapsed": false
   },
   "outputs": [
    {
     "name": "stderr",
     "output_type": "stream",
     "text": [
      "INFO:root:Creating a zip file of data processed folder.\n"
     ]
    }
   ],
   "source": [
    "#creating a zip file of data processed folder\n",
    "logger.info(\"Creating a zip file of data processed folder.\")\n",
    "zipf = zipfile.ZipFile('Data_Processed.zip', 'w', zipfile.ZIP_DEFLATED)\n",
    "zipdir('/Data Processed', zipf)\n",
    "zipf.close()\n",
    "logger.info(\"Data processed zip file can be found on path : \"+ fileDir+'Data_Processed.zip')\n",
    "logger.info(\"Application finished....\")\n",
    "logging.shutdown()"
   ]
  }
 ],
 "metadata": {
  "anaconda-cloud": {},
  "kernelspec": {
   "display_name": "Python [default]",
   "language": "python",
   "name": "python3"
  },
  "language_info": {
   "codemirror_mode": {
    "name": "ipython",
    "version": 3
   },
   "file_extension": ".py",
   "mimetype": "text/x-python",
   "name": "python",
   "nbconvert_exporter": "python",
   "pygments_lexer": "ipython3",
   "version": "3.5.2"
  }
 },
 "nbformat": 4,
 "nbformat_minor": 1
}
