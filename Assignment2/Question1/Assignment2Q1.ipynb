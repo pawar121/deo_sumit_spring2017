{
 "cells": [
  {
   "cell_type": "markdown",
   "metadata": {},
   "source": [
    "# Question 1\n",
    "- Prove if Ziph's law works in Gutenberg books or not.\n",
    "- Read all the inaugural files using \"glob\".\n",
    "- Save the \"Word-Rank-Frequency\" data in the csv, in sorted order.\n",
    "- Generate log-log figure using the data in the csv.\n",
    "- Draw conclusion using the log-log figure."
   ]
  },
  {
   "cell_type": "code",
   "execution_count": 19,
   "metadata": {
    "collapsed": true
   },
   "outputs": [],
   "source": [
    "from collections import Counter # importing counter from collection"
   ]
  },
  {
   "cell_type": "code",
   "execution_count": 20,
   "metadata": {
    "collapsed": true
   },
   "outputs": [],
   "source": [
    "import pandas # importing pandas\n",
    "import glob # importing glob library\n",
    "import numpy # importing numpy \n",
    "import matplotlib.pyplot # importing matplotlib\n",
    "import string # importing string\n",
    "import csv # importing csv\n",
    "import operator # importing operator\n",
    "import matplotlib.pyplot as plt # importing matplotlib\n",
    "import os # importing OS\n",
    "import logging # importing logging"
   ]
  },
  {
   "cell_type": "markdown",
   "metadata": {},
   "source": [
    " -------- use of lambda function ---------"
   ]
  },
  {
   "cell_type": "code",
   "execution_count": 21,
   "metadata": {
    "collapsed": true
   },
   "outputs": [],
   "source": [
    "# removing all the punctuation, numbers, whitespaces from the words\n",
    "funcRemPunc = lambda word: ''.join([ch for ch in word if ch.isalpha()])"
   ]
  },
  {
   "cell_type": "markdown",
   "metadata": {},
   "source": [
    "-------- use of def function ---------"
   ]
  },
  {
   "cell_type": "code",
   "execution_count": 22,
   "metadata": {
    "collapsed": false
   },
   "outputs": [],
   "source": [
    "# function to read all the file and collect the words in the wordslist\n",
    "def funcReadFile(file, wordslist) :\n",
    "    with open(file) as file: # opening the file\n",
    "        # adding words in the wordslist\n",
    "        wordslist.extend([funcRemPunc(word).lower() for line in file for word in line.split() if funcRemPunc(word)])"
   ]
  },
  {
   "cell_type": "code",
   "execution_count": 23,
   "metadata": {
    "collapsed": true
   },
   "outputs": [],
   "source": [
    "# function to calculate rank as per given in the PDF\n",
    "def funcRankZiphs(count, totalCount) :\n",
    "    return 0.1 * totalCount/count"
   ]
  },
  {
   "cell_type": "code",
   "execution_count": 24,
   "metadata": {
    "collapsed": false
   },
   "outputs": [],
   "source": [
    "# function to calculate rank list\n",
    "def funcRankList(countList) :\n",
    "    rankList = []\n",
    "    counter = 1\n",
    "    for item in countList:\n",
    "        rankList.append(counter)\n",
    "        counter = counter + 1\n",
    "    return rankList"
   ]
  },
  {
   "cell_type": "code",
   "execution_count": 25,
   "metadata": {
    "collapsed": true
   },
   "outputs": [],
   "source": [
    "# function to generate the logger\n",
    "def getLogger(dir):\n",
    "    logging.basicConfig(level=logging.INFO)\n",
    "    logger = logging.getLogger()\n",
    "    # create a file handler\n",
    "    handler = logging.FileHandler(fileDir+'/ques1.log')\n",
    "    handler.setLevel(logging.INFO)\n",
    "    # create a logging format\n",
    "    formatter = logging.Formatter('%(asctime)s - %(name)s - %(levelname)s - %(message)s')\n",
    "    handler.setFormatter(formatter)\n",
    "    # add the handlers to the logger\n",
    "    logger.addHandler(handler)\n",
    "    return logger"
   ]
  },
  {
   "cell_type": "code",
   "execution_count": 26,
   "metadata": {
    "collapsed": false
   },
   "outputs": [
    {
     "name": "stderr",
     "output_type": "stream",
     "text": [
      "INFO:root:Application started....\n",
      "INFO:root:Reading all the text books from Gutenberg package..\n"
     ]
    }
   ],
   "source": [
    "fileDir = os.path.dirname(os.path.realpath('__file__'))\n",
    "logger = getLogger(fileDir)\n",
    "logger.info(\"Application started....\")\n",
    "logger.info(\"Reading all the text books from Gutenberg package..\")\n",
    "filenames = sorted(glob.glob(fileDir+'/gutenberg/*.txt')) # reading all the filenames in the gutenberg package"
   ]
  },
  {
   "cell_type": "code",
   "execution_count": 27,
   "metadata": {
    "collapsed": false
   },
   "outputs": [
    {
     "name": "stderr",
     "output_type": "stream",
     "text": [
      "INFO:root:Reading words from file : D:\\NEU\\Spring2017\\Python\\Assignment 2\\Question1/gutenberg\\austen-emma.txt\n",
      "INFO:root:Reading words from file : D:\\NEU\\Spring2017\\Python\\Assignment 2\\Question1/gutenberg\\austen-persuasion.txt\n",
      "INFO:root:Reading words from file : D:\\NEU\\Spring2017\\Python\\Assignment 2\\Question1/gutenberg\\austen-sense.txt\n",
      "INFO:root:Reading words from file : D:\\NEU\\Spring2017\\Python\\Assignment 2\\Question1/gutenberg\\bible-kjv.txt\n",
      "INFO:root:Reading words from file : D:\\NEU\\Spring2017\\Python\\Assignment 2\\Question1/gutenberg\\blake-poems.txt\n",
      "INFO:root:Reading words from file : D:\\NEU\\Spring2017\\Python\\Assignment 2\\Question1/gutenberg\\bryant-stories.txt\n",
      "INFO:root:Reading words from file : D:\\NEU\\Spring2017\\Python\\Assignment 2\\Question1/gutenberg\\burgess-busterbrown.txt\n",
      "INFO:root:Reading words from file : D:\\NEU\\Spring2017\\Python\\Assignment 2\\Question1/gutenberg\\carroll-alice.txt\n",
      "INFO:root:Reading words from file : D:\\NEU\\Spring2017\\Python\\Assignment 2\\Question1/gutenberg\\chesterton-ball.txt\n",
      "INFO:root:Reading words from file : D:\\NEU\\Spring2017\\Python\\Assignment 2\\Question1/gutenberg\\chesterton-brown.txt\n",
      "INFO:root:Reading words from file : D:\\NEU\\Spring2017\\Python\\Assignment 2\\Question1/gutenberg\\chesterton-thursday.txt\n",
      "INFO:root:Reading words from file : D:\\NEU\\Spring2017\\Python\\Assignment 2\\Question1/gutenberg\\edgeworth-parents.txt\n",
      "INFO:root:Reading words from file : D:\\NEU\\Spring2017\\Python\\Assignment 2\\Question1/gutenberg\\melville-moby_dick.txt\n",
      "INFO:root:Reading words from file : D:\\NEU\\Spring2017\\Python\\Assignment 2\\Question1/gutenberg\\milton-paradise.txt\n",
      "INFO:root:Reading words from file : D:\\NEU\\Spring2017\\Python\\Assignment 2\\Question1/gutenberg\\shakespeare-caesar.txt\n",
      "INFO:root:Reading words from file : D:\\NEU\\Spring2017\\Python\\Assignment 2\\Question1/gutenberg\\shakespeare-hamlet.txt\n",
      "INFO:root:Reading words from file : D:\\NEU\\Spring2017\\Python\\Assignment 2\\Question1/gutenberg\\shakespeare-macbeth.txt\n",
      "INFO:root:Reading words from file : D:\\NEU\\Spring2017\\Python\\Assignment 2\\Question1/gutenberg\\whitman-leaves.txt\n",
      "INFO:root:2102546 number of words found in the gutenberg package.\n"
     ]
    }
   ],
   "source": [
    "wordslist = []\n",
    "for file in filenames:  # iterating through all the files\n",
    "    logger.info(\"Reading words from file : \"+file)\n",
    "    funcReadFile(file, wordslist)\n",
    "logger.info(str(len(wordslist)) + \" number of words found in the gutenberg package.\")"
   ]
  },
  {
   "cell_type": "code",
   "execution_count": 28,
   "metadata": {
    "collapsed": false
   },
   "outputs": [
    {
     "name": "stderr",
     "output_type": "stream",
     "text": [
      "INFO:root:Creating a dictionary of words and its count.\n"
     ]
    }
   ],
   "source": [
    "logger.info(\"Creating a dictionary of words and its count.\")\n",
    "wordFreqDict = dict(Counter(wordslist))  # converting collection to dictionary"
   ]
  },
  {
   "cell_type": "code",
   "execution_count": 29,
   "metadata": {
    "collapsed": false
   },
   "outputs": [
    {
     "name": "stderr",
     "output_type": "stream",
     "text": [
      "INFO:root:Sorting wordlist dictionary by value.\n"
     ]
    }
   ],
   "source": [
    "logger.info(\"Sorting wordlist dictionary by value.\")\n",
    "sortedWordList = sorted(wordFreqDict.items(), key=operator.itemgetter(1), reverse = 1) # sorting wordlist dictionary by value"
   ]
  },
  {
   "cell_type": "code",
   "execution_count": 30,
   "metadata": {
    "collapsed": false
   },
   "outputs": [
    {
     "name": "stderr",
     "output_type": "stream",
     "text": [
      "INFO:root:Writing data into the CSV.\n"
     ]
    }
   ],
   "source": [
    "logger.info(\"Writing data into the CSV.\")\n",
    "with open('mycsvfile1.csv', 'a') as outcsv:   \n",
    "    #configure writer to write standard csv file\n",
    "    writer = csv.writer(outcsv, delimiter=',', quotechar='|', quoting=csv.QUOTE_MINIMAL, lineterminator='\\n')\n",
    "    writer.writerow(['Word', 'ZiphsRank','Rank' , 'Count'])\n",
    "    counter = 1\n",
    "    prevCount = 0\n",
    "    for item in sortedWordList:\n",
    "        #Write item to outcsv\n",
    "        writer.writerow([item[0], funcRankZiphs(item[1], len(wordslist)), counter, item[1]])\n",
    "        counter = counter + 1"
   ]
  },
  {
   "cell_type": "markdown",
   "metadata": {},
   "source": [
    "# Sample Records"
   ]
  },
  {
   "cell_type": "markdown",
   "metadata": {},
   "source": [
    "<img src=\"screenshot.JPG\">"
   ]
  },
  {
   "cell_type": "markdown",
   "metadata": {},
   "source": [
    "# Log Log Plot"
   ]
  },
  {
   "cell_type": "markdown",
   "metadata": {},
   "source": [
    "<img src=\"screenshot2.JPG\">"
   ]
  },
  {
   "cell_type": "code",
   "execution_count": 31,
   "metadata": {
    "collapsed": false
   },
   "outputs": [
    {
     "name": "stderr",
     "output_type": "stream",
     "text": [
      "INFO:root:Sorting the words-counts list\n",
      "INFO:root:Generating words-ranks list\n"
     ]
    }
   ],
   "source": [
    "logger.info(\"Sorting the words-counts list\")\n",
    "countList = sorted(wordFreqDict.values(), reverse= 1) # sorting the word count list\n",
    "\n",
    "logger.info(\"Generating words-ranks list\")\n",
    "rankList = funcRankList(countList) # creating words count rank list"
   ]
  },
  {
   "cell_type": "code",
   "execution_count": 33,
   "metadata": {
    "collapsed": false
   },
   "outputs": [
    {
     "name": "stderr",
     "output_type": "stream",
     "text": [
      "INFO:root:Drawing a plot-plot graph.\n"
     ]
    },
    {
     "data": {
      "image/png": "[encoded data removed]",
      "text/plain": [
       "<matplotlib.figure.Figure at 0x2c2a5dcac88>"
      ]
     },
     "metadata": {},
     "output_type": "display_data"
    },
    {
     "name": "stderr",
     "output_type": "stream",
     "text": [
      "INFO:root:Application finished....\n"
     ]
    }
   ],
   "source": [
    "fig = plt.figure()\n",
    "ax = fig.add_subplot(111)\n",
    "ax.set_xscale(\"log\") # converting to log scale\n",
    "ax.set_yscale(\"log\") # converting to log scale\n",
    "ax.set_ylim(1e2, 1e6) # setting limits\n",
    "ax.set_xlim(1e-0, 1e4) # setting limits\n",
    "ax.set_xlabel(\"Rank\")\n",
    "ax.set_ylabel(\"Frequency\")\n",
    "ax.set_title(\"plot-plot graph for word count\")\n",
    "logger.info(\"Drawing a plot-plot graph.\")\n",
    "ax.plot(rankList, countList,  \"o-\")\n",
    "plt.show()\n",
    "logger.info(\"Application finished....\")\n",
    "logging.shutdown()"
   ]
  },
  {
   "cell_type": "markdown",
   "metadata": {},
   "source": [
    "# Conclusion : \n",
    "- above log-log plot proves the Ziph's law"
   ]
  }
 ],
 "metadata": {
  "anaconda-cloud": {},
  "kernelspec": {
   "display_name": "Python [default]",
   "language": "python",
   "name": "python3"
  },
  "language_info": {
   "codemirror_mode": {
    "name": "ipython",
    "version": 3
   },
   "file_extension": ".py",
   "mimetype": "text/x-python",
   "name": "python",
   "nbconvert_exporter": "python",
   "pygments_lexer": "ipython3",
   "version": "3.5.2"
  }
 },
 "nbformat": 4,
 "nbformat_minor": 1
}
