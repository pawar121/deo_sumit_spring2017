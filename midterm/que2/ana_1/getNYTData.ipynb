{
 "cells": [
  {
   "cell_type": "code",
   "execution_count": 1,
   "metadata": {
    "collapsed": false
   },
   "outputs": [],
   "source": [
    "import json\n",
    "import datetime\n",
    "import time\n",
    "import sys\n",
    "import logging\n",
    "import urllib.error\n",
    "import urllib.request\n",
    "from urllib.error import HTTPError\n",
    "import os\n",
    "import requests"
   ]
  },
  {
   "cell_type": "code",
   "execution_count": 2,
   "metadata": {
    "collapsed": true
   },
   "outputs": [],
   "source": [
    "def getLogger(dir):\n",
    "    logging.basicConfig(level=logging.INFO)\n",
    "    logger = logging.getLogger()\n",
    "    # create a file handler\n",
    "    handler = logging.FileHandler(fileDir+'/getNYTData.log')\n",
    "    handler.setLevel(logging.INFO)\n",
    "    # create a logging format\n",
    "    formatter = logging.Formatter('%(asctime)s - %(name)s - %(levelname)s - %(message)s')\n",
    "    handler.setFormatter(formatter)\n",
    "    # add the handlers to the logger\n",
    "    logger.addHandler(handler)\n",
    "    return logger"
   ]
  },
  {
   "cell_type": "code",
   "execution_count": 3,
   "metadata": {
    "collapsed": true
   },
   "outputs": [],
   "source": [
    "#helpful function to figure out what to name individual JSON files        \n",
    "def getJSONName(date, json_file_path):\n",
    "    json_file_name = \".\".join([date,'json'])\n",
    "    json_file_name = \"\".join([json_file_path,json_file_name])\n",
    "    return json_file_name"
   ]
  },
  {
   "cell_type": "code",
   "execution_count": 4,
   "metadata": {
    "collapsed": true
   },
   "outputs": [],
   "source": [
    "# helper function to iterate through dates\n",
    "def getDays( start_date, end_date ):\n",
    "    if start_date <= end_date:\n",
    "        for n in range( ( end_date - start_date ).days + 1 ):\n",
    "            yield start_date + datetime.timedelta( n )\n",
    "    else:\n",
    "        for n in range( ( start_date - end_date ).days + 1 ):\n",
    "            yield start_date - datetime.timedelta( n )"
   ]
  },
  {
   "cell_type": "code",
   "execution_count": 5,
   "metadata": {
    "collapsed": false
   },
   "outputs": [],
   "source": [
    "def getArticles(date, api_key, json_file_path):\n",
    "    # LOOP THROUGH THE 101 PAGES NYTIMES ALLOWS FOR THAT DATE\n",
    "    try:\n",
    "        request_string = \"http://api.nytimes.com/svc/community/v3/user-content/by-date.json?date=\" + date + \"&api-key=\" + api_key\n",
    "        response = urllib.request.urlopen(request_string)\n",
    "        content = response.read().decode('utf-8')\n",
    "        if content:\n",
    "            articles = json.loads(content)\n",
    "            # if there are articles here\n",
    "            if len(articles[\"results\"][\"comments\"]) >= 1:\n",
    "                json_file_name = getJSONName(date, json_file_path)\n",
    "                json_file = open(json_file_name, 'w')\n",
    "                json_file.write(content)\n",
    "                json_file.close()\n",
    "            # if no more articles, go to next date\n",
    "            else:\n",
    "                time.sleep(3)\n",
    "                return\n",
    "        time.sleep(3)\n",
    "    except: \n",
    "        logger.error(\"Error on %s page %s: %s\", date, file_number, sys.exc_info()[0])"
   ]
  },
  {
   "cell_type": "code",
   "execution_count": 9,
   "metadata": {
    "collapsed": false
   },
   "outputs": [
    {
     "name": "stderr",
     "output_type": "stream",
     "text": [
      "INFO:root:Getting started.\n",
      "INFO:root:Working on 20161126.\n",
      "INFO:root:Working on 20161127.\n",
      "INFO:root:Working on 20161128.\n",
      "INFO:root:Working on 20161129.\n",
      "INFO:root:Working on 20161130.\n",
      "INFO:root:Working on 20161201.\n",
      "INFO:root:Working on 20161202.\n",
      "INFO:root:Working on 20161203.\n",
      "INFO:root:Working on 20161204.\n",
      "INFO:root:Working on 20161205.\n",
      "INFO:root:Working on 20161206.\n",
      "INFO:root:Working on 20161207.\n",
      "INFO:root:Working on 20161208.\n",
      "INFO:root:Working on 20161209.\n",
      "INFO:root:Working on 20161210.\n",
      "INFO:root:Working on 20161211.\n",
      "INFO:root:Working on 20161212.\n",
      "INFO:root:Working on 20161213.\n",
      "INFO:root:Working on 20161214.\n",
      "INFO:root:Working on 20161215.\n",
      "INFO:root:Working on 20161216.\n",
      "INFO:root:Working on 20161217.\n",
      "INFO:root:Working on 20161218.\n",
      "INFO:root:Working on 20161219.\n",
      "INFO:root:Working on 20161220.\n",
      "INFO:root:Working on 20161221.\n",
      "INFO:root:Working on 20161222.\n",
      "INFO:root:Working on 20161223.\n",
      "INFO:root:Working on 20161224.\n",
      "INFO:root:Working on 20161225.\n",
      "INFO:root:Working on 20161226.\n",
      "INFO:root:Working on 20161227.\n",
      "INFO:root:Working on 20161228.\n",
      "INFO:root:Working on 20161229.\n",
      "INFO:root:Working on 20161230.\n",
      "INFO:root:Working on 20161231.\n",
      "INFO:root:Finished.\n"
     ]
    }
   ],
   "source": [
    "# Main function where stuff gets done\n",
    "fileDir = os.path.dirname(os.path.realpath('__file__'))\n",
    "logger = getLogger(fileDir)\n",
    "json_file_path = fileDir+'\\\\data\\\\'\n",
    "api_key = os.environ['nyc_api_key']\n",
    "start = datetime.date( year = 2016, month = 11, day = 26 )\n",
    "end = datetime.date( year = 2016, month = 12, day = 31 )\n",
    "\n",
    "logging.info(\"Getting started.\") \n",
    "try:\n",
    "    # LOOP THROUGH THE SPECIFIED DATES\n",
    "    for date in getDays( start, end ):\n",
    "        date = date.strftime(\"%Y%m%d\")\n",
    "        logging.info(\"Working on %s.\" % date)\n",
    "        getArticles(date, api_key, json_file_path)\n",
    "except:\n",
    "    logging.error(\"Unexpected error: %s\", str(sys.exc_info()[0]))\n",
    "finally:\n",
    "    logging.info(\"Finished.\")"
   ]
  }
 ],
 "metadata": {
  "kernelspec": {
   "display_name": "Python 3",
   "language": "python",
   "name": "python3"
  },
  "language_info": {
   "codemirror_mode": {
    "name": "ipython",
    "version": 3
   },
   "file_extension": ".py",
   "mimetype": "text/x-python",
   "name": "python",
   "nbconvert_exporter": "python",
   "pygments_lexer": "ipython3",
   "version": "3.6.0"
  }
 },
 "nbformat": 4,
 "nbformat_minor": 1
}
