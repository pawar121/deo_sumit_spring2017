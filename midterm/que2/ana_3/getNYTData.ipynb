{
 "cells": [
  {
   "cell_type": "code",
   "execution_count": 1,
   "metadata": {
    "collapsed": false
   },
   "outputs": [],
   "source": [
    "import json\n",
    "import datetime\n",
    "import time\n",
    "import sys\n",
    "import logging\n",
    "import urllib.error\n",
    "import urllib.request\n",
    "from urllib.error import HTTPError\n",
    "import os"
   ]
  },
  {
   "cell_type": "code",
   "execution_count": 2,
   "metadata": {
    "collapsed": true
   },
   "outputs": [],
   "source": [
    "def getLogger(dir):\n",
    "    logging.basicConfig(level=logging.INFO)\n",
    "    logger = logging.getLogger()\n",
    "    # create a file handler\n",
    "    handler = logging.FileHandler(fileDir+'/ques1.log')\n",
    "    handler.setLevel(logging.INFO)\n",
    "    # create a logging format\n",
    "    formatter = logging.Formatter('%(asctime)s - %(name)s - %(levelname)s - %(message)s')\n",
    "    handler.setFormatter(formatter)\n",
    "    # add the handlers to the logger\n",
    "    logger.addHandler(handler)\n",
    "    return logger"
   ]
  },
  {
   "cell_type": "code",
   "execution_count": 3,
   "metadata": {
    "collapsed": true
   },
   "outputs": [],
   "source": [
    "#helpful function to figure out what to name individual JSON files        \n",
    "def getJSONName(date, page, json_file_path):\n",
    "    json_file_name = \".\".join([date,str(page),'json'])\n",
    "    json_file_name = \"\".join([json_file_path,json_file_name])\n",
    "    return json_file_name"
   ]
  },
  {
   "cell_type": "code",
   "execution_count": 4,
   "metadata": {
    "collapsed": true
   },
   "outputs": [],
   "source": [
    "# helper function to iterate through dates\n",
    "def getDays( start_date, end_date ):\n",
    "    if start_date <= end_date:\n",
    "        for n in range( ( end_date - start_date ).days + 1 ):\n",
    "            yield start_date + datetime.timedelta( n )\n",
    "    else:\n",
    "        for n in range( ( start_date - end_date ).days + 1 ):\n",
    "            yield start_date - datetime.timedelta( n )"
   ]
  },
  {
   "cell_type": "code",
   "execution_count": 5,
   "metadata": {
    "collapsed": false
   },
   "outputs": [],
   "source": [
    "def getArticles(date, api_key, json_file_path):\n",
    "    # LOOP THROUGH THE 101 PAGES NYTIMES ALLOWS FOR THAT DATE\n",
    "    for page in range(100):\n",
    "        try:\n",
    "            request_string = \"http://api.nytimes.com/svc/search/v2/articlesearch.json?begin_date=\" + date + \"&end_date=\" + date + \"&page=\" + str(page) + \"&api-key=\" + api_key\n",
    "            response = urllib.request.urlopen(request_string)\n",
    "            content = response.read().decode('utf-8')\n",
    "            if content:\n",
    "                articles = json.loads(content)\n",
    "                # if there are articles here\n",
    "                if len(articles[\"response\"][\"docs\"]) >= 1:\n",
    "                    json_file_name = getJSONName(date, page, json_file_path)\n",
    "                    json_file = open(json_file_name, 'w')\n",
    "                    json_file.write(content)\n",
    "                    json_file.close()\n",
    "                # if no more articles, go to next date\n",
    "                else:\n",
    "                    return\n",
    "            time.sleep(3)\n",
    "        except HTTPError as e:\n",
    "            logger.error(\"HTTPError on page %s on %s (err no. %s: %s) Here's the URL of the call: %s\", page, date, e.code, e.reason, request_string)\n",
    "        except: \n",
    "            logger.error(\"Error on %s page %s: %s\", date, file_number, sys.exc_info()[0])\n",
    "            continue"
   ]
  },
  {
   "cell_type": "code",
   "execution_count": 6,
   "metadata": {
    "collapsed": false
   },
   "outputs": [
    {
     "name": "stderr",
     "output_type": "stream",
     "text": [
      "INFO:root:Getting started.\n",
      "INFO:root:Working on 20170102.\n",
      "INFO:root:Working on 20170103.\n",
      "ERROR:root:HTTPError on page 0 on 20170103 (err no. 429: ) Here's the URL of the call: http://api.nytimes.com/svc/search/v2/articlesearch.json?begin_date=20170103&end_date=20170103&page=0&api-key=ad7cc4f2ca2d4c518eb2d88b3e768657\n",
      "ERROR:root:HTTPError on page 1 on 20170103 (err no. 429: ) Here's the URL of the call: http://api.nytimes.com/svc/search/v2/articlesearch.json?begin_date=20170103&end_date=20170103&page=1&api-key=ad7cc4f2ca2d4c518eb2d88b3e768657\n",
      "ERROR:root:HTTPError on page 2 on 20170103 (err no. 429: ) Here's the URL of the call: http://api.nytimes.com/svc/search/v2/articlesearch.json?begin_date=20170103&end_date=20170103&page=2&api-key=ad7cc4f2ca2d4c518eb2d88b3e768657\n",
      "ERROR:root:HTTPError on page 3 on 20170103 (err no. 429: ) Here's the URL of the call: http://api.nytimes.com/svc/search/v2/articlesearch.json?begin_date=20170103&end_date=20170103&page=3&api-key=ad7cc4f2ca2d4c518eb2d88b3e768657\n",
      "ERROR:root:HTTPError on page 4 on 20170103 (err no. 429: ) Here's the URL of the call: http://api.nytimes.com/svc/search/v2/articlesearch.json?begin_date=20170103&end_date=20170103&page=4&api-key=ad7cc4f2ca2d4c518eb2d88b3e768657\n",
      "ERROR:root:HTTPError on page 5 on 20170103 (err no. 429: ) Here's the URL of the call: http://api.nytimes.com/svc/search/v2/articlesearch.json?begin_date=20170103&end_date=20170103&page=5&api-key=ad7cc4f2ca2d4c518eb2d88b3e768657\n",
      "ERROR:root:HTTPError on page 6 on 20170103 (err no. 429: ) Here's the URL of the call: http://api.nytimes.com/svc/search/v2/articlesearch.json?begin_date=20170103&end_date=20170103&page=6&api-key=ad7cc4f2ca2d4c518eb2d88b3e768657\n",
      "ERROR:root:HTTPError on page 7 on 20170103 (err no. 429: ) Here's the URL of the call: http://api.nytimes.com/svc/search/v2/articlesearch.json?begin_date=20170103&end_date=20170103&page=7&api-key=ad7cc4f2ca2d4c518eb2d88b3e768657\n",
      "ERROR:root:HTTPError on page 8 on 20170103 (err no. 429: ) Here's the URL of the call: http://api.nytimes.com/svc/search/v2/articlesearch.json?begin_date=20170103&end_date=20170103&page=8&api-key=ad7cc4f2ca2d4c518eb2d88b3e768657\n",
      "ERROR:root:HTTPError on page 9 on 20170103 (err no. 429: ) Here's the URL of the call: http://api.nytimes.com/svc/search/v2/articlesearch.json?begin_date=20170103&end_date=20170103&page=9&api-key=ad7cc4f2ca2d4c518eb2d88b3e768657\n",
      "ERROR:root:HTTPError on page 10 on 20170103 (err no. 429: ) Here's the URL of the call: http://api.nytimes.com/svc/search/v2/articlesearch.json?begin_date=20170103&end_date=20170103&page=10&api-key=ad7cc4f2ca2d4c518eb2d88b3e768657\n",
      "INFO:root:Working on 20170104.\n",
      "ERROR:root:HTTPError on page 0 on 20170104 (err no. 429: ) Here's the URL of the call: http://api.nytimes.com/svc/search/v2/articlesearch.json?begin_date=20170104&end_date=20170104&page=0&api-key=ad7cc4f2ca2d4c518eb2d88b3e768657\n",
      "ERROR:root:HTTPError on page 1 on 20170104 (err no. 429: ) Here's the URL of the call: http://api.nytimes.com/svc/search/v2/articlesearch.json?begin_date=20170104&end_date=20170104&page=1&api-key=ad7cc4f2ca2d4c518eb2d88b3e768657\n",
      "ERROR:root:HTTPError on page 2 on 20170104 (err no. 429: ) Here's the URL of the call: http://api.nytimes.com/svc/search/v2/articlesearch.json?begin_date=20170104&end_date=20170104&page=2&api-key=ad7cc4f2ca2d4c518eb2d88b3e768657\n",
      "ERROR:root:HTTPError on page 3 on 20170104 (err no. 429: ) Here's the URL of the call: http://api.nytimes.com/svc/search/v2/articlesearch.json?begin_date=20170104&end_date=20170104&page=3&api-key=ad7cc4f2ca2d4c518eb2d88b3e768657\n",
      "INFO:root:Working on 20170105.\n",
      "ERROR:root:HTTPError on page 0 on 20170105 (err no. 429: ) Here's the URL of the call: http://api.nytimes.com/svc/search/v2/articlesearch.json?begin_date=20170105&end_date=20170105&page=0&api-key=ad7cc4f2ca2d4c518eb2d88b3e768657\n",
      "ERROR:root:HTTPError on page 1 on 20170105 (err no. 429: ) Here's the URL of the call: http://api.nytimes.com/svc/search/v2/articlesearch.json?begin_date=20170105&end_date=20170105&page=1&api-key=ad7cc4f2ca2d4c518eb2d88b3e768657\n",
      "ERROR:root:HTTPError on page 2 on 20170105 (err no. 429: ) Here's the URL of the call: http://api.nytimes.com/svc/search/v2/articlesearch.json?begin_date=20170105&end_date=20170105&page=2&api-key=ad7cc4f2ca2d4c518eb2d88b3e768657\n",
      "ERROR:root:HTTPError on page 3 on 20170105 (err no. 429: ) Here's the URL of the call: http://api.nytimes.com/svc/search/v2/articlesearch.json?begin_date=20170105&end_date=20170105&page=3&api-key=ad7cc4f2ca2d4c518eb2d88b3e768657\n",
      "ERROR:root:HTTPError on page 4 on 20170105 (err no. 429: ) Here's the URL of the call: http://api.nytimes.com/svc/search/v2/articlesearch.json?begin_date=20170105&end_date=20170105&page=4&api-key=ad7cc4f2ca2d4c518eb2d88b3e768657\n",
      "ERROR:root:HTTPError on page 5 on 20170105 (err no. 429: ) Here's the URL of the call: http://api.nytimes.com/svc/search/v2/articlesearch.json?begin_date=20170105&end_date=20170105&page=5&api-key=ad7cc4f2ca2d4c518eb2d88b3e768657\n",
      "ERROR:root:HTTPError on page 66 on 20170105 (err no. 504: GATEWAY_TIMEOUT) Here's the URL of the call: http://api.nytimes.com/svc/search/v2/articlesearch.json?begin_date=20170105&end_date=20170105&page=66&api-key=ad7cc4f2ca2d4c518eb2d88b3e768657\n",
      "ERROR:root:HTTPError on page 67 on 20170105 (err no. 429: ) Here's the URL of the call: http://api.nytimes.com/svc/search/v2/articlesearch.json?begin_date=20170105&end_date=20170105&page=67&api-key=ad7cc4f2ca2d4c518eb2d88b3e768657\n",
      "ERROR:root:HTTPError on page 68 on 20170105 (err no. 429: ) Here's the URL of the call: http://api.nytimes.com/svc/search/v2/articlesearch.json?begin_date=20170105&end_date=20170105&page=68&api-key=ad7cc4f2ca2d4c518eb2d88b3e768657\n",
      "ERROR:root:HTTPError on page 69 on 20170105 (err no. 429: ) Here's the URL of the call: http://api.nytimes.com/svc/search/v2/articlesearch.json?begin_date=20170105&end_date=20170105&page=69&api-key=ad7cc4f2ca2d4c518eb2d88b3e768657\n",
      "ERROR:root:HTTPError on page 70 on 20170105 (err no. 429: ) Here's the URL of the call: http://api.nytimes.com/svc/search/v2/articlesearch.json?begin_date=20170105&end_date=20170105&page=70&api-key=ad7cc4f2ca2d4c518eb2d88b3e768657\n",
      "INFO:root:Working on 20170106.\n",
      "ERROR:root:HTTPError on page 0 on 20170106 (err no. 429: ) Here's the URL of the call: http://api.nytimes.com/svc/search/v2/articlesearch.json?begin_date=20170106&end_date=20170106&page=0&api-key=ad7cc4f2ca2d4c518eb2d88b3e768657\n",
      "ERROR:root:HTTPError on page 1 on 20170106 (err no. 429: ) Here's the URL of the call: http://api.nytimes.com/svc/search/v2/articlesearch.json?begin_date=20170106&end_date=20170106&page=1&api-key=ad7cc4f2ca2d4c518eb2d88b3e768657\n",
      "ERROR:root:HTTPError on page 2 on 20170106 (err no. 429: ) Here's the URL of the call: http://api.nytimes.com/svc/search/v2/articlesearch.json?begin_date=20170106&end_date=20170106&page=2&api-key=ad7cc4f2ca2d4c518eb2d88b3e768657\n",
      "ERROR:root:HTTPError on page 3 on 20170106 (err no. 429: ) Here's the URL of the call: http://api.nytimes.com/svc/search/v2/articlesearch.json?begin_date=20170106&end_date=20170106&page=3&api-key=ad7cc4f2ca2d4c518eb2d88b3e768657\n",
      "ERROR:root:HTTPError on page 4 on 20170106 (err no. 429: ) Here's the URL of the call: http://api.nytimes.com/svc/search/v2/articlesearch.json?begin_date=20170106&end_date=20170106&page=4&api-key=ad7cc4f2ca2d4c518eb2d88b3e768657\n",
      "ERROR:root:HTTPError on page 5 on 20170106 (err no. 429: ) Here's the URL of the call: http://api.nytimes.com/svc/search/v2/articlesearch.json?begin_date=20170106&end_date=20170106&page=5&api-key=ad7cc4f2ca2d4c518eb2d88b3e768657\n",
      "ERROR:root:HTTPError on page 6 on 20170106 (err no. 429: ) Here's the URL of the call: http://api.nytimes.com/svc/search/v2/articlesearch.json?begin_date=20170106&end_date=20170106&page=6&api-key=ad7cc4f2ca2d4c518eb2d88b3e768657\n",
      "INFO:root:Working on 20170107.\n",
      "ERROR:root:HTTPError on page 0 on 20170107 (err no. 429: ) Here's the URL of the call: http://api.nytimes.com/svc/search/v2/articlesearch.json?begin_date=20170107&end_date=20170107&page=0&api-key=ad7cc4f2ca2d4c518eb2d88b3e768657\n",
      "ERROR:root:HTTPError on page 1 on 20170107 (err no. 429: ) Here's the URL of the call: http://api.nytimes.com/svc/search/v2/articlesearch.json?begin_date=20170107&end_date=20170107&page=1&api-key=ad7cc4f2ca2d4c518eb2d88b3e768657\n",
      "ERROR:root:HTTPError on page 2 on 20170107 (err no. 429: ) Here's the URL of the call: http://api.nytimes.com/svc/search/v2/articlesearch.json?begin_date=20170107&end_date=20170107&page=2&api-key=ad7cc4f2ca2d4c518eb2d88b3e768657\n",
      "ERROR:root:HTTPError on page 3 on 20170107 (err no. 429: ) Here's the URL of the call: http://api.nytimes.com/svc/search/v2/articlesearch.json?begin_date=20170107&end_date=20170107&page=3&api-key=ad7cc4f2ca2d4c518eb2d88b3e768657\n",
      "ERROR:root:HTTPError on page 4 on 20170107 (err no. 429: ) Here's the URL of the call: http://api.nytimes.com/svc/search/v2/articlesearch.json?begin_date=20170107&end_date=20170107&page=4&api-key=ad7cc4f2ca2d4c518eb2d88b3e768657\n",
      "ERROR:root:HTTPError on page 5 on 20170107 (err no. 429: ) Here's the URL of the call: http://api.nytimes.com/svc/search/v2/articlesearch.json?begin_date=20170107&end_date=20170107&page=5&api-key=ad7cc4f2ca2d4c518eb2d88b3e768657\n",
      "ERROR:root:HTTPError on page 6 on 20170107 (err no. 429: ) Here's the URL of the call: http://api.nytimes.com/svc/search/v2/articlesearch.json?begin_date=20170107&end_date=20170107&page=6&api-key=ad7cc4f2ca2d4c518eb2d88b3e768657\n",
      "ERROR:root:HTTPError on page 7 on 20170107 (err no. 429: ) Here's the URL of the call: http://api.nytimes.com/svc/search/v2/articlesearch.json?begin_date=20170107&end_date=20170107&page=7&api-key=ad7cc4f2ca2d4c518eb2d88b3e768657\n",
      "ERROR:root:HTTPError on page 8 on 20170107 (err no. 429: ) Here's the URL of the call: http://api.nytimes.com/svc/search/v2/articlesearch.json?begin_date=20170107&end_date=20170107&page=8&api-key=ad7cc4f2ca2d4c518eb2d88b3e768657\n",
      "ERROR:root:HTTPError on page 9 on 20170107 (err no. 429: ) Here's the URL of the call: http://api.nytimes.com/svc/search/v2/articlesearch.json?begin_date=20170107&end_date=20170107&page=9&api-key=ad7cc4f2ca2d4c518eb2d88b3e768657\n",
      "ERROR:root:HTTPError on page 33 on 20170107 (err no. 504: GATEWAY_TIMEOUT) Here's the URL of the call: http://api.nytimes.com/svc/search/v2/articlesearch.json?begin_date=20170107&end_date=20170107&page=33&api-key=ad7cc4f2ca2d4c518eb2d88b3e768657\n",
      "INFO:root:Working on 20170108.\n",
      "ERROR:root:HTTPError on page 0 on 20170108 (err no. 429: ) Here's the URL of the call: http://api.nytimes.com/svc/search/v2/articlesearch.json?begin_date=20170108&end_date=20170108&page=0&api-key=ad7cc4f2ca2d4c518eb2d88b3e768657\n",
      "ERROR:root:HTTPError on page 1 on 20170108 (err no. 429: ) Here's the URL of the call: http://api.nytimes.com/svc/search/v2/articlesearch.json?begin_date=20170108&end_date=20170108&page=1&api-key=ad7cc4f2ca2d4c518eb2d88b3e768657\n",
      "ERROR:root:HTTPError on page 2 on 20170108 (err no. 429: ) Here's the URL of the call: http://api.nytimes.com/svc/search/v2/articlesearch.json?begin_date=20170108&end_date=20170108&page=2&api-key=ad7cc4f2ca2d4c518eb2d88b3e768657\n",
      "ERROR:root:HTTPError on page 3 on 20170108 (err no. 429: ) Here's the URL of the call: http://api.nytimes.com/svc/search/v2/articlesearch.json?begin_date=20170108&end_date=20170108&page=3&api-key=ad7cc4f2ca2d4c518eb2d88b3e768657\n",
      "ERROR:root:HTTPError on page 4 on 20170108 (err no. 429: ) Here's the URL of the call: http://api.nytimes.com/svc/search/v2/articlesearch.json?begin_date=20170108&end_date=20170108&page=4&api-key=ad7cc4f2ca2d4c518eb2d88b3e768657\n",
      "ERROR:root:HTTPError on page 5 on 20170108 (err no. 429: ) Here's the URL of the call: http://api.nytimes.com/svc/search/v2/articlesearch.json?begin_date=20170108&end_date=20170108&page=5&api-key=ad7cc4f2ca2d4c518eb2d88b3e768657\n",
      "INFO:root:Working on 20170109.\n",
      "ERROR:root:HTTPError on page 0 on 20170109 (err no. 429: ) Here's the URL of the call: http://api.nytimes.com/svc/search/v2/articlesearch.json?begin_date=20170109&end_date=20170109&page=0&api-key=ad7cc4f2ca2d4c518eb2d88b3e768657\n",
      "ERROR:root:HTTPError on page 1 on 20170109 (err no. 429: ) Here's the URL of the call: http://api.nytimes.com/svc/search/v2/articlesearch.json?begin_date=20170109&end_date=20170109&page=1&api-key=ad7cc4f2ca2d4c518eb2d88b3e768657\n",
      "INFO:root:Working on 20170110.\n",
      "ERROR:root:HTTPError on page 0 on 20170110 (err no. 429: ) Here's the URL of the call: http://api.nytimes.com/svc/search/v2/articlesearch.json?begin_date=20170110&end_date=20170110&page=0&api-key=ad7cc4f2ca2d4c518eb2d88b3e768657\n",
      "ERROR:root:HTTPError on page 1 on 20170110 (err no. 429: ) Here's the URL of the call: http://api.nytimes.com/svc/search/v2/articlesearch.json?begin_date=20170110&end_date=20170110&page=1&api-key=ad7cc4f2ca2d4c518eb2d88b3e768657\n",
      "ERROR:root:HTTPError on page 2 on 20170110 (err no. 429: ) Here's the URL of the call: http://api.nytimes.com/svc/search/v2/articlesearch.json?begin_date=20170110&end_date=20170110&page=2&api-key=ad7cc4f2ca2d4c518eb2d88b3e768657\n",
      "ERROR:root:HTTPError on page 3 on 20170110 (err no. 429: ) Here's the URL of the call: http://api.nytimes.com/svc/search/v2/articlesearch.json?begin_date=20170110&end_date=20170110&page=3&api-key=ad7cc4f2ca2d4c518eb2d88b3e768657\n",
      "ERROR:root:HTTPError on page 4 on 20170110 (err no. 429: ) Here's the URL of the call: http://api.nytimes.com/svc/search/v2/articlesearch.json?begin_date=20170110&end_date=20170110&page=4&api-key=ad7cc4f2ca2d4c518eb2d88b3e768657\n",
      "ERROR:root:HTTPError on page 5 on 20170110 (err no. 429: ) Here's the URL of the call: http://api.nytimes.com/svc/search/v2/articlesearch.json?begin_date=20170110&end_date=20170110&page=5&api-key=ad7cc4f2ca2d4c518eb2d88b3e768657\n",
      "ERROR:root:HTTPError on page 6 on 20170110 (err no. 429: ) Here's the URL of the call: http://api.nytimes.com/svc/search/v2/articlesearch.json?begin_date=20170110&end_date=20170110&page=6&api-key=ad7cc4f2ca2d4c518eb2d88b3e768657\n",
      "ERROR:root:HTTPError on page 7 on 20170110 (err no. 429: ) Here's the URL of the call: http://api.nytimes.com/svc/search/v2/articlesearch.json?begin_date=20170110&end_date=20170110&page=7&api-key=ad7cc4f2ca2d4c518eb2d88b3e768657\n",
      "ERROR:root:HTTPError on page 8 on 20170110 (err no. 429: ) Here's the URL of the call: http://api.nytimes.com/svc/search/v2/articlesearch.json?begin_date=20170110&end_date=20170110&page=8&api-key=ad7cc4f2ca2d4c518eb2d88b3e768657\n",
      "INFO:root:Finished.\n"
     ]
    }
   ],
   "source": [
    "# Main function where stuff gets done\n",
    "fileDir = os.path.dirname(os.path.realpath('__file__'))\n",
    "logger = getLogger(fileDir)\n",
    "json_file_path = fileDir+'\\\\data\\\\'\n",
    "api_key = os.environ['nyc_api_key']\n",
    "start = datetime.date( year = 2017, month = 1, day = 2 )\n",
    "end = datetime.date( year = 2017, month = 1, day = 10 )\n",
    "\n",
    "logging.info(\"Getting started.\") \n",
    "try:\n",
    "    # LOOP THROUGH THE SPECIFIED DATES\n",
    "    for date in getDays( start, end ):\n",
    "        date = date.strftime(\"%Y%m%d\")\n",
    "        logging.info(\"Working on %s.\" % date)\n",
    "        getArticles(date, api_key, json_file_path)\n",
    "except:\n",
    "    logging.error(\"Unexpected error: %s\", str(sys.exc_info()[0]))\n",
    "finally:\n",
    "    logging.info(\"Finished.\")"
   ]
  }
 ],
 "metadata": {
  "kernelspec": {
   "display_name": "Python 3",
   "language": "python",
   "name": "python3"
  },
  "language_info": {
   "codemirror_mode": {
    "name": "ipython",
    "version": 3
   },
   "file_extension": ".py",
   "mimetype": "text/x-python",
   "name": "python",
   "nbconvert_exporter": "python",
   "pygments_lexer": "ipython3",
   "version": "3.6.0"
  }
 },
 "nbformat": 4,
 "nbformat_minor": 1
}
