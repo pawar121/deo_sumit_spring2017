{
 "cells": [
  {
   "cell_type": "code",
   "execution_count": 1,
   "metadata": {
    "collapsed": false
   },
   "outputs": [],
   "source": [
    "import os # importing OS library\n",
    "from email.parser import Parser\n",
    "import matplotlib.pyplot as plt\n",
    "import math\n",
    "from glob import glob\n",
    "import multiprocessing\n",
    "import matplotlib.pyplot as plt\n",
    "import itertools \n",
    "import operator # importing operator\n",
    "from collections import Counter  # importing counter\n",
    "import csv # importing csv"
   ]
  },
  {
   "cell_type": "code",
   "execution_count": 2,
   "metadata": {
    "collapsed": true
   },
   "outputs": [],
   "source": [
    "rootDir = os.path.dirname(os.path.realpath('__file__'))"
   ]
  },
  {
   "cell_type": "code",
   "execution_count": 3,
   "metadata": {
    "collapsed": true
   },
   "outputs": [],
   "source": [
    "## Helper functions\n",
    "def get_text_from_email(msg):\n",
    "    '''To get the content from email objects'''\n",
    "    parts = []\n",
    "    for part in msg.walk():\n",
    "        if part.get_content_type() == 'text/plain':\n",
    "            parts.append( part.get_payload() )\n",
    "    return ''.join(parts)\n",
    "\n",
    "def split_email_addresses(line):\n",
    "    '''To separate multiple email addresses'''\n",
    "    email_list = []\n",
    "    if line:\n",
    "        line = line.replace(\"\\n\", \"\")\n",
    "        line = line.replace(\"\\t\", \"\")\n",
    "        line = line.replace(\" \", \"\")\n",
    "\n",
    "        line = line.split(\",\")\n",
    "\n",
    "        for email_to_1 in line:\n",
    "            email_list.append(email_to_1)\n",
    "    else:\n",
    "        email_list = None\n",
    "    return email_list\n",
    "\n",
    "# def split_email_addresses(line):\n",
    "#     '''To separate multiple email addresses'''\n",
    "#     if line:\n",
    "#         addrs = line.split(',')\n",
    "#         addrs = frozenset(map(lambda x: x.strip(), addrs))\n",
    "#     else:\n",
    "#         addrs = None\n",
    "#     return addrs"
   ]
  },
  {
   "cell_type": "code",
   "execution_count": 4,
   "metadata": {
    "collapsed": false
   },
   "outputs": [],
   "source": [
    "def email_analyse(filename, listOfEmails):\n",
    "    with open(filename, \"r\") as f:\n",
    "        data = f.read()\n",
    "        email = Parser().parsestr(data)\n",
    "        email_header = {}\n",
    "        email_header['file'] =  filename.split('/')[-2:]\n",
    "        email_header['content'] = get_text_from_email(email)\n",
    "        for key in email.keys():\n",
    "            email_header[key] = email.get(key)\n",
    "        if email.get('To'):\n",
    "            email_header['To'] = split_email_addresses(email_header['To'])\n",
    "        if email.get('From'):\n",
    "            email_header['From'] = split_email_addresses(email_header['From'])\n",
    "        if email.get('Bcc'):\n",
    "            email_header['Bcc'] = split_email_addresses(email_header['Bcc'])\n",
    "        if email.get('Cc'):\n",
    "            email_header['Cc'] = split_email_addresses(email_header['Cc'])\n",
    "        if email.get('X-To'):\n",
    "            email_header['X-To'] = split_email_addresses(email_header['X-To'])\n",
    "        email_header['user'] =  filename.split('/')[-2]\n",
    "        listOfEmails.append(email_header)"
   ]
  },
  {
   "cell_type": "code",
   "execution_count": 5,
   "metadata": {
    "collapsed": true
   },
   "outputs": [],
   "source": [
    "def get_immediate_subdirectories(a_dir):\n",
    "    return [name for name in os.listdir(a_dir)\n",
    "            if os.path.isdir(os.path.join(a_dir, name))]"
   ]
  },
  {
   "cell_type": "code",
   "execution_count": 6,
   "metadata": {
    "collapsed": true
   },
   "outputs": [],
   "source": [
    "def get_listof_useremails(listOfEmails, path):\n",
    "    include = ['sent', 'sent_items']\n",
    "    [[email_analyse(os.path.join(directory, filename), listOfEmails) for filename in filenames] for directory, subdirectory, filenames in  os.walk(path) if directory.split('/')[-1] in include]"
   ]
  },
  {
   "cell_type": "code",
   "execution_count": 7,
   "metadata": {
    "collapsed": false
   },
   "outputs": [],
   "source": [
    "users = get_immediate_subdirectories(rootDir+'/data/enron/maildir/')"
   ]
  },
  {
   "cell_type": "code",
   "execution_count": 8,
   "metadata": {
    "collapsed": false
   },
   "outputs": [],
   "source": [
    "listOfEmails = []\n",
    "if __name__ == '__main__':\n",
    "    jobs = []\n",
    "    for user in users :\n",
    "        path = rootDir+'/data/enron/maildir/'+user+'/'\n",
    "        p = multiprocessing.Process(target=get_listof_useremails(listOfEmails, path))\n",
    "        jobs.append(p)\n",
    "        p.start()"
   ]
  },
  {
   "cell_type": "code",
   "execution_count": 9,
   "metadata": {
    "collapsed": false
   },
   "outputs": [],
   "source": [
    "listOf1To1Email = [(email.get('From')[0],email.get('To')[0]) for email in listOfEmails if email.get('To') and len(email.get('To')) == 1]"
   ]
  },
  {
   "cell_type": "code",
   "execution_count": 10,
   "metadata": {
    "collapsed": false
   },
   "outputs": [],
   "source": [
    "sortedDict = sorted(dict(Counter(listOf1To1Email)).items(), key=operator.itemgetter(1), reverse = 1) # sorting wordlist dictionary by value"
   ]
  },
  {
   "cell_type": "code",
   "execution_count": 11,
   "metadata": {
    "collapsed": false
   },
   "outputs": [],
   "source": [
    "with open(rootDir+'/ListOf1To1Emails.csv', 'a', encoding='utf-8') as outcsv:   \n",
    "    #configure writer to write standard csv file\n",
    "    writer = csv.writer(outcsv, delimiter=',', quotechar='|', quoting=csv.QUOTE_MINIMAL, lineterminator='\\n')\n",
    "    writer.writerow(['Sender', 'Receiver', 'Number of emails'])\n",
    "    for (efrom, eto), no in sortedDict:\n",
    "        #Write item to outcsv\n",
    "        writer.writerow([efrom, eto, no])"
   ]
  },
  {
   "cell_type": "code",
   "execution_count": 12,
   "metadata": {
    "collapsed": false
   },
   "outputs": [
    {
     "name": "stdout",
     "output_type": "stream",
     "text": [
      "\tSender\t\t\tReceiver\t\t\tNumber of emails exchanged\n",
      "------------------------------------------------------------------------------------------\n",
      "vince.kaminski@enron.com\t\tvkaminski@aol.com\t\t1133\n",
      "j.kaminski@enron.com\t\tvkaminski@aol.com\t\t440\n",
      "kay.mann@enron.com\t\tsuzanne.adams@enron.com\t\t439\n",
      "vince.kaminski@enron.com\t\tshirley.crenshaw@enron.com\t\t311\n",
      "matthew.lenhart@enron.com\t\terichardson@sarofim.com\t\t282\n",
      "kay.mann@enron.com\t\tnmann@erac.com\t\t275\n",
      "kay.mann@enron.com\t\tkathleen.carnahan@enron.com\t\t237\n",
      "robin.rodrigue@enron.com\t\tgabriel.monroy@enron.com\t\t229\n",
      "kate.symes@enron.com\t\tevelyn.metoyer@enron.com\t\t229\n",
      "jeffrey.shankman@enron.com\t\tjennifer.burns@enron.com\t\t227\n"
     ]
    }
   ],
   "source": [
    "print('\\t'+'Sender'+'\\t\\t\\t'+'Receiver'+'\\t\\t\\t'+'Number of emails exchanged')\n",
    "print('-'*90)\n",
    "for (efrom, eto), no in sortedDict[:10]:\n",
    "    print(efrom+'\\t\\t'+eto+'\\t\\t'+str(no))"
   ]
  },
  {
   "cell_type": "code",
   "execution_count": 13,
   "metadata": {
    "collapsed": false
   },
   "outputs": [],
   "source": [
    "listOf1To1OutOfEnronEmail = [(email.get('From')[0],email.get('To')[0]) for email in listOfEmails if email.get('To') and len(email.get('To')) == 1 and 'enron' not in (email.get('To')[0]).lower()]"
   ]
  },
  {
   "cell_type": "code",
   "execution_count": 14,
   "metadata": {
    "collapsed": true
   },
   "outputs": [],
   "source": [
    "sortedDict = sorted(dict(Counter(listOf1To1OutOfEnronEmail)).items(), key=operator.itemgetter(1), reverse = 1) # sorting wordlist dictionary by value"
   ]
  },
  {
   "cell_type": "code",
   "execution_count": 15,
   "metadata": {
    "collapsed": true
   },
   "outputs": [],
   "source": [
    "with open(rootDir+'/ListOf1To1OutOfEnronEmail.csv', 'a', encoding='utf-8') as outcsv:   \n",
    "    #configure writer to write standard csv file\n",
    "    writer = csv.writer(outcsv, delimiter=',', quotechar='|', quoting=csv.QUOTE_MINIMAL, lineterminator='\\n')\n",
    "    writer.writerow(['Sender', 'Receiver', 'Number of emails'])\n",
    "    for (efrom, eto), no in sortedDict:\n",
    "        #Write item to outcsv\n",
    "        writer.writerow([efrom, eto, no])"
   ]
  },
  {
   "cell_type": "code",
   "execution_count": 16,
   "metadata": {
    "collapsed": false
   },
   "outputs": [
    {
     "name": "stdout",
     "output_type": "stream",
     "text": [
      "\tSender\t\t\tReceiver\t\t\tNumber of emails exchanged\n",
      "------------------------------------------------------------------------------------------\n",
      "vince.kaminski@enron.com\t\tvkaminski@aol.com\t\t1133\n",
      "j.kaminski@enron.com\t\tvkaminski@aol.com\t\t440\n",
      "matthew.lenhart@enron.com\t\terichardson@sarofim.com\t\t282\n",
      "kay.mann@enron.com\t\tnmann@erac.com\t\t275\n",
      "matthew.lenhart@enron.com\t\tmmmarcantel@equiva.com\t\t209\n",
      "jeff.dasovich@enron.com\t\tnancy.sellers@robertmondavi.com\t\t185\n",
      "chris.germany@enron.com\t\tingrid.immer@williams.com\t\t161\n",
      "matthew.lenhart@enron.com\t\tshirley.s.elliott@citicorp.com\t\t160\n",
      "matthew.lenhart@enron.com\t\tshelliott@dttus.com\t\t130\n",
      "matthew.lenhart@enron.com\t\ttlenhart@corealty.com\t\t129\n"
     ]
    }
   ],
   "source": [
    "print('\\t'+'Sender'+'\\t\\t\\t'+'Receiver'+'\\t\\t\\t'+'Number of emails exchanged')\n",
    "print('-'*90)\n",
    "for (efrom, eto), no in sortedDict[:10]:\n",
    "    print(efrom+'\\t\\t'+eto+'\\t\\t'+str(no))"
   ]
  }
 ],
 "metadata": {
  "anaconda-cloud": {},
  "kernelspec": {
   "display_name": "Python 3",
   "language": "python",
   "name": "python3"
  },
  "language_info": {
   "codemirror_mode": {
    "name": "ipython",
    "version": 3
   },
   "file_extension": ".py",
   "mimetype": "text/x-python",
   "name": "python",
   "nbconvert_exporter": "python",
   "pygments_lexer": "ipython3",
   "version": "3.6.0"
  }
 },
 "nbformat": 4,
 "nbformat_minor": 1
}
